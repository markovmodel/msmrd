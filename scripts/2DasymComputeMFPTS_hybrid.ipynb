{
 "cells": [
  {
   "cell_type": "code",
   "execution_count": 1,
   "metadata": {
    "collapsed": true
   },
   "outputs": [],
   "source": [
    "import numpy as np\n",
    "import matplotlib.pyplot as plt\n",
    "import MSMRD as mrd\n",
    "import MSMRD.integrators as integrators\n",
    "import MSMRD.potentials as potentials\n",
    "import pickle\n",
    "%matplotlib inline"
   ]
  },
  {
   "cell_type": "code",
   "execution_count": 2,
   "metadata": {
    "collapsed": true
   },
   "outputs": [],
   "source": [
    "#define MSMmodel class to read in data\n",
    "class MSMmodel(object):    \n",
    "    def __init__(self, tmatrix, centers, parameters):\n",
    "        self.tmatrix = tmatrix\n",
    "        self.centers= centers\n",
    "        self.parameters = parameters"
   ]
  },
  {
   "cell_type": "code",
   "execution_count": 4,
   "metadata": {
    "collapsed": false
   },
   "outputs": [],
   "source": [
    "model = pickle.load(open('../data/models/asym2D/10radial48angular10lag.p'))"
   ]
  },
  {
   "cell_type": "code",
   "execution_count": 5,
   "metadata": {
    "collapsed": true
   },
   "outputs": [],
   "source": [
    "T = np.copy(model.tmatrix)\n",
    "for i in range(model.parameters['NCenters']):\n",
    "    for j in range(model.parameters['NangularPartitions']):\n",
    "        T[i,-j-1] = 0\n",
    "for i in range(len(T)):\n",
    "    T[i,:] /= np.sum(T[i,:])\n",
    "#print np.sum(T[:,-15:],axis=1)"
   ]
  },
  {
   "cell_type": "code",
   "execution_count": 6,
   "metadata": {
    "collapsed": true
   },
   "outputs": [],
   "source": [
    "MSMlag = 1\n",
    "msm = mrd.MSM(T, model.centers, lagtime=MSMlag)"
   ]
  },
  {
   "cell_type": "code",
   "execution_count": 7,
   "metadata": {
    "collapsed": true
   },
   "outputs": [],
   "source": [
    "#overwrite exit states, now there is only 1 state from which the MSM can be exited\n",
    "msm.exitStates = np.arange(model.parameters['NCenters'] + (model.parameters['entryRings']+model.parameters['exitRings'])*model.parameters['NangularPartitions'], model.parameters['NCenters'] + (model.parameters['entryRings']+model.parameters['exitRings']+1)*model.parameters['NangularPartitions'])"
   ]
  },
  {
   "cell_type": "code",
   "execution_count": 8,
   "metadata": {
    "collapsed": false
   },
   "outputs": [],
   "source": [
    "np.random.seed()\n",
    "p1 = mrd.particle(np.array([0.,0.]), 1.0)\n",
    "ringboundary = mrd.reflectiveRing(4.)\n",
    "integrator = integrators.MSMRDexitSampling(msm, 4.0, p1, 0.1, model.parameters)\n",
    "sim = mrd.simulation(integrator)"
   ]
  },
  {
   "cell_type": "code",
   "execution_count": 10,
   "metadata": {
    "collapsed": false
   },
   "outputs": [
    {
     "name": "stdout",
     "output_type": "stream",
     "text": [
      "0 to 1 done!\n",
      "0 to 2 done!\n",
      "0 to 3 done!\n",
      "0 to 4 done!\n",
      "0 to 5 done!\n",
      "0 to 6 done!\n",
      "0 to 7 done!\n",
      "0 to 8 done!\n",
      "1 to 0 done!\n",
      "1 to 2 done!\n",
      "1 to 3 done!\n",
      "1 to 4 done!\n",
      "1 to 5 done!\n",
      "1 to 6 done!\n",
      "1 to 7 done!\n",
      "1 to 8 done!\n",
      "2 to 0 done!\n",
      "2 to 1 done!\n",
      "2 to 3 done!\n",
      "2 to 4 done!\n",
      "2 to 5 done!\n",
      "2 to 6 done!\n",
      "2 to 7 done!\n",
      "2 to 8 done!\n",
      "3 to 0 done!\n",
      "3 to 1 done!\n",
      "3 to 2 done!\n",
      "3 to 4 done!\n",
      "3 to 5 done!\n",
      "3 to 6 done!\n",
      "3 to 7 done!\n",
      "3 to 8 done!\n",
      "4 to 0 done!\n",
      "4 to 1 done!\n",
      "4 to 2 done!\n",
      "4 to 3 done!\n",
      "4 to 5 done!\n",
      "4 to 6 done!\n",
      "4 to 7 done!\n",
      "4 to 8 done!\n",
      "5 to 0 done!\n",
      "5 to 1 done!\n",
      "5 to 2 done!\n",
      "5 to 3 done!\n",
      "5 to 4 done!\n",
      "5 to 6 done!\n",
      "5 to 7 done!\n",
      "5 to 8 done!\n",
      "6 to 0 done!\n",
      "6 to 1 done!\n",
      "6 to 2 done!\n",
      "6 to 3 done!\n",
      "6 to 4 done!\n",
      "6 to 5 done!\n",
      "6 to 7 done!\n",
      "6 to 8 done!\n",
      "7 to 0 done!\n",
      "7 to 1 done!\n",
      "7 to 2 done!\n",
      "7 to 3 done!\n",
      "7 to 4 done!\n",
      "7 to 5 done!\n",
      "7 to 6 done!\n",
      "7 to 8 done!\n",
      "8 to 0 done!\n",
      "8 to 1 done!\n",
      "8 to 2 done!\n",
      "8 to 3 done!\n",
      "8 to 4 done!\n",
      "8 to 5 done!\n",
      "8 to 6 done!\n",
      "8 to 7 done!\n"
     ]
    }
   ],
   "source": [
    "mfpts = np.zeros([9,9])\n",
    "for i in range(9):\n",
    "    for j  in range(9):\n",
    "        if i != j:\n",
    "            fpts = []\n",
    "            for runs in range(10000):           \n",
    "                integrator.p.position = np.array([0.,0.])\n",
    "                integrator.MSM.state = i\n",
    "                integrator.MSMactive = True\n",
    "                integrator.MSM.exit = False\n",
    "                fpts.append(sim.run_mfpt_state(j))\n",
    "            mfpts[i,j] = np.mean(fpts)\n",
    "            print str(i) + ' to ' + str(j) + ' done!' "
   ]
  },
  {
   "cell_type": "code",
   "execution_count": null,
   "metadata": {
    "collapsed": true
   },
   "outputs": [],
   "source": []
  }
 ],
 "metadata": {
  "kernelspec": {
   "display_name": "Python 2",
   "language": "python",
   "name": "python2"
  },
  "language_info": {
   "codemirror_mode": {
    "name": "ipython",
    "version": 2
   },
   "file_extension": ".py",
   "mimetype": "text/x-python",
   "name": "python",
   "nbconvert_exporter": "python",
   "pygments_lexer": "ipython2",
   "version": "2.7.12"
  }
 },
 "nbformat": 4,
 "nbformat_minor": 0
}

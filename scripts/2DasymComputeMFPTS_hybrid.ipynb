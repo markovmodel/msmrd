{
 "cells": [
  {
   "cell_type": "code",
   "execution_count": 1,
   "metadata": {
    "collapsed": true
   },
   "outputs": [],
   "source": [
    "import numpy as np\n",
    "import matplotlib.pyplot as plt\n",
    "import MSMRD as mrd\n",
    "import MSMRD.integrators as integrators\n",
    "import MSMRD.potentials as potentials\n",
    "import pickle\n",
    "%matplotlib inline"
   ]
  },
  {
   "cell_type": "code",
   "execution_count": 2,
   "metadata": {
    "collapsed": true
   },
   "outputs": [],
   "source": [
    "#define MSMmodel class to read in data\n",
    "class MSMmodel(object):    \n",
    "    def __init__(self, tmatrix, centers, parameters):\n",
    "        self.tmatrix = tmatrix\n",
    "        self.centers= centers\n",
    "        self.parameters = parameters"
   ]
  },
  {
   "cell_type": "code",
   "execution_count": 3,
   "metadata": {
    "collapsed": false
   },
   "outputs": [],
   "source": [
    "model = pickle.load(open('../data/asym2D_longTraj_lag5_Nangular12_50Trajs_10divisions.p'))"
   ]
  },
  {
   "cell_type": "code",
   "execution_count": 4,
   "metadata": {
    "collapsed": true
   },
   "outputs": [],
   "source": [
    "T = np.copy(model.tmatrix)\n",
    "for i in range(model.parameters['NCenters']):\n",
    "    for j in range(model.parameters['NangularPartitions']):\n",
    "        T[i,-j-1] = 0\n",
    "for i in range(len(T)):\n",
    "    T[i,:] /= np.sum(T[i,:])\n",
    "#print np.sum(T[:,-15:],axis=1)"
   ]
  },
  {
   "cell_type": "code",
   "execution_count": 5,
   "metadata": {
    "collapsed": true
   },
   "outputs": [],
   "source": [
    "MSMlag = 1\n",
    "msm = mrd.MSM(T, model.centers, lagtime=MSMlag)"
   ]
  },
  {
   "cell_type": "code",
   "execution_count": 6,
   "metadata": {
    "collapsed": true
   },
   "outputs": [],
   "source": [
    "#overwrite exit states, now there is only 1 state from which the MSM can be exited\n",
    "msm.exitStates = np.arange(model.parameters['NCenters'] + (model.parameters['entryRings']+model.parameters['exitRings'])*model.parameters['NangularPartitions'], model.parameters['NCenters'] + (model.parameters['entryRings']+model.parameters['exitRings']+1)*model.parameters['NangularPartitions'])"
   ]
  },
  {
   "cell_type": "code",
   "execution_count": 7,
   "metadata": {
    "collapsed": false
   },
   "outputs": [],
   "source": [
    "np.random.seed()\n",
    "p1 = mrd.particle(np.array([0.,0.]), 1.0)\n",
    "ringboundary = mrd.reflectiveRing(4.)\n",
    "integrator = integrators.MSMRDexitSampling(msm, 4.0, p1, 0.1, model.parameters)\n",
    "sim = mrd.simulation(integrator)"
   ]
  },
  {
   "cell_type": "code",
   "execution_count": 18,
   "metadata": {
    "collapsed": false
   },
   "outputs": [
    {
     "name": "stdout",
     "output_type": "stream",
     "text": [
      "0 to 1 done!\n",
      "0 to 2 done!\n",
      "0 to 3 done!\n",
      "0 to 4 done!\n",
      "0 to 5 done!\n",
      "0 to 6 done!\n",
      "0 to 7 done!\n",
      "0 to 8 done!\n",
      "1 to 0 done!\n",
      "1 to 2 done!\n",
      "1 to 3 done!\n",
      "1 to 4 done!\n",
      "1 to 5 done!\n",
      "1 to 6 done!\n",
      "1 to 7 done!\n",
      "1 to 8 done!\n",
      "2 to 0 done!\n",
      "2 to 1 done!\n",
      "2 to 3 done!\n",
      "2 to 4 done!\n",
      "2 to 5 done!\n",
      "2 to 6 done!\n",
      "2 to 7 done!\n",
      "2 to 8 done!\n",
      "3 to 0 done!\n",
      "3 to 1 done!\n",
      "3 to 2 done!\n",
      "3 to 4 done!\n",
      "3 to 5 done!\n",
      "3 to 6 done!\n",
      "3 to 7 done!\n",
      "3 to 8 done!\n",
      "4 to 0 done!\n",
      "4 to 1 done!\n",
      "4 to 2 done!\n",
      "4 to 3 done!\n",
      "4 to 5 done!\n",
      "4 to 6 done!\n",
      "4 to 7 done!\n",
      "4 to 8 done!\n",
      "5 to 0 done!\n",
      "5 to 1 done!\n",
      "5 to 2 done!\n",
      "5 to 3 done!\n",
      "5 to 4 done!\n",
      "5 to 6 done!\n",
      "5 to 7 done!\n",
      "5 to 8 done!\n",
      "6 to 0 done!\n",
      "6 to 1 done!\n",
      "6 to 2 done!\n",
      "6 to 3 done!\n",
      "6 to 4 done!\n",
      "6 to 5 done!\n",
      "6 to 7 done!\n",
      "6 to 8 done!\n",
      "7 to 0 done!\n",
      "7 to 1 done!\n",
      "7 to 2 done!\n",
      "7 to 3 done!\n",
      "7 to 4 done!\n",
      "7 to 5 done!\n",
      "7 to 6 done!\n",
      "7 to 8 done!\n",
      "8 to 0 done!\n",
      "8 to 1 done!\n",
      "8 to 2 done!\n",
      "8 to 3 done!\n",
      "8 to 4 done!\n",
      "8 to 5 done!\n",
      "8 to 6 done!\n",
      "8 to 7 done!\n"
     ]
    }
   ],
   "source": [
    "mfpts = np.zeros([9,9])\n",
    "for i in range(9):\n",
    "    for j  in range(9):\n",
    "        if i != j:\n",
    "            fpts = []\n",
    "            for runs in range(10000):           \n",
    "                integrator.p.position = np.array([0.,0.])\n",
    "                integrator.MSM.state = i\n",
    "                integrator.MSMactive = True\n",
    "                integrator.MSM.exit = False\n",
    "                fpts.append(sim.run_mfpt_state(j))\n",
    "            mfpts[i,j] = np.mean(fpts)\n",
    "            print str(i) + ' to ' + str(j) + ' done!' "
   ]
  },
  {
   "cell_type": "code",
   "execution_count": 19,
   "metadata": {
    "collapsed": false
   },
   "outputs": [
    {
     "data": {
      "text/plain": [
       "<matplotlib.colorbar.Colorbar at 0x7f2aa40469d0>"
      ]
     },
     "execution_count": 19,
     "metadata": {},
     "output_type": "execute_result"
    },
    {
     "data": {
      "image/png": "[encoded data removed]",
      "text/plain": [
       "<matplotlib.figure.Figure at 0x7f2aa4046990>"
      ]
     },
     "metadata": {},
     "output_type": "display_data"
    }
   ],
   "source": [
    "plt.matshow(mfpts)\n",
    "plt.colorbar()"
   ]
  },
  {
   "cell_type": "code",
   "execution_count": 25,
   "metadata": {
    "collapsed": false
   },
   "outputs": [],
   "source": [
    "#Prepare data to be extracted to file\n",
    "#For this we need the position of the cluster centers as well as the information about the angles of the exit states\n",
    "class MSMmodel(object):    \n",
    "    def __init__(self, tmatrix, centers, parameters):\n",
    "        self.tmatrix = tmatrix\n",
    "        self.centers= centers\n",
    "        self.parameters = parameters"
   ]
  },
  {
   "cell_type": "code",
   "execution_count": 26,
   "metadata": {
    "collapsed": true
   },
   "outputs": [],
   "source": [
    "import pickle\n",
    "MFPTs_reference = pickle.load(open('MTTs_convergence.p'))"
   ]
  },
  {
   "cell_type": "code",
   "execution_count": 27,
   "metadata": {
    "collapsed": false
   },
   "outputs": [
    {
     "name": "stderr",
     "output_type": "stream",
     "text": [
      "/srv/public/dibakma/miniconda2/lib/python2.7/site-packages/ipykernel/__main__.py:1: RuntimeWarning: invalid value encountered in divide\n",
      "  if __name__ == '__main__':\n"
     ]
    },
    {
     "data": {
      "text/plain": [
       "<matplotlib.colorbar.Colorbar at 0x7f2a9d3f78d0>"
      ]
     },
     "execution_count": 27,
     "metadata": {},
     "output_type": "execute_result"
    },
    {
     "data": {
      "image/png": "[encoded data removed]",
      "text/plain": [
       "<matplotlib.figure.Figure at 0x7f2a9d3f77d0>"
      ]
     },
     "metadata": {},
     "output_type": "display_data"
    }
   ],
   "source": [
    "plt.matshow((mfpts - MFPTs_reference[48][:9,:9])/mfpts)\n",
    "plt.colorbar()"
   ]
  },
  {
   "cell_type": "code",
   "execution_count": 28,
   "metadata": {
    "collapsed": false
   },
   "outputs": [],
   "source": [
    "import pyemma\n",
    "hybrid_model = pickle.load(open('../data/asym2D_longTraj_lag5_Nangular12_50Trajs_10divisions.p'))\n",
    "msm = pyemma.msm.markov_model(hybrid_model.tmatrix)\n",
    "mfpts_hybrid = np.zeros([9,9])\n",
    "for i in range(9):\n",
    "    for j in range(9):\n",
    "        if i != j:\n",
    "            mfpts_hybrid[i,j] = msm.mfpt(i,j)*0.1"
   ]
  },
  {
   "cell_type": "code",
   "execution_count": 33,
   "metadata": {
    "collapsed": false
   },
   "outputs": [
    {
     "name": "stderr",
     "output_type": "stream",
     "text": [
      "/srv/public/dibakma/miniconda2/lib/python2.7/site-packages/ipykernel/__main__.py:1: RuntimeWarning: invalid value encountered in divide\n",
      "  if __name__ == '__main__':\n"
     ]
    },
    {
     "data": {
      "text/plain": [
       "<matplotlib.colorbar.Colorbar at 0x7f2a9cde1110>"
      ]
     },
     "execution_count": 33,
     "metadata": {},
     "output_type": "execute_result"
    },
    {
     "data": {
      "image/png": "[encoded data removed]",
      "text/plain": [
       "<matplotlib.figure.Figure at 0x7f2a9cde1310>"
      ]
     },
     "metadata": {},
     "output_type": "display_data"
    }
   ],
   "source": [
    "plt.matshow((mfpts - mfpts_hybrid)/mfpts)\n",
    "plt.colorbar()"
   ]
  },
  {
   "cell_type": "code",
   "execution_count": 48,
   "metadata": {
    "collapsed": false
   },
   "outputs": [
    {
     "name": "stdout",
     "output_type": "stream",
     "text": [
      "[[  0.        13.357609  18.730289  13.69119   19.078176  14.448393\n",
      "   15.093966  15.098695  18.02212 ]\n",
      " [ 12.712444   0.        15.2159    16.277931  23.052502  19.125108\n",
      "   18.6095    12.030436  18.497734]\n",
      " [ 15.250106  12.510726   0.        14.793249  22.268041  20.447974\n",
      "   20.950086  17.475031  22.231019]\n",
      " [ 11.7506    15.828204  16.378577   0.        17.326401  16.511032\n",
      "   19.104767  18.490729  21.493304]\n",
      " [ 15.241202  19.790668  22.02675   14.945307   0.        13.189382\n",
      "   18.447262  21.126762  22.421584]\n",
      " [ 12.764985  18.029552  21.996483  16.30657   15.485547   0.        12.960403\n",
      "   18.735475  18.982384]\n",
      " [ 13.653378  17.677889  22.690255  19.05791   20.405679  12.711668   0.\n",
      "   16.751991  14.132404]\n",
      " [ 13.787091  11.342779  19.515337  18.817573  23.786176  18.889887\n",
      "   16.621495   0.        13.919056]\n",
      " [ 15.023811  16.862533  22.40346   20.306202  23.454469  17.503041\n",
      "   12.620242  13.259925   0.      ]]\n"
     ]
    }
   ],
   "source": [
    "mfpts_ran = pickle.load(open('mfpts_10000runs_01dt.p', 'r'))\n",
    "print mfpts_ran"
   ]
  },
  {
   "cell_type": "code",
   "execution_count": 51,
   "metadata": {
    "collapsed": false
   },
   "outputs": [
    {
     "name": "stderr",
     "output_type": "stream",
     "text": [
      "/srv/public/dibakma/miniconda2/lib/python2.7/site-packages/ipykernel/__main__.py:1: RuntimeWarning: invalid value encountered in divide\n",
      "  if __name__ == '__main__':\n"
     ]
    },
    {
     "data": {
      "text/plain": [
       "<matplotlib.colorbar.Colorbar at 0x7f2a9c271150>"
      ]
     },
     "execution_count": 51,
     "metadata": {},
     "output_type": "execute_result"
    },
    {
     "data": {
      "image/png": "[encoded data removed]",
      "text/plain": [
       "<matplotlib.figure.Figure at 0x7f2a9c2d6cd0>"
      ]
     },
     "metadata": {},
     "output_type": "display_data"
    }
   ],
   "source": [
    "plt.matshow((mfpts_ran-mfpts_hybrid)/mfpts_ran)\n",
    "plt.colorbar()"
   ]
  },
  {
   "cell_type": "code",
   "execution_count": 43,
   "metadata": {
    "collapsed": false
   },
   "outputs": [
    {
     "data": {
      "text/plain": [
       "<matplotlib.colorbar.Colorbar at 0x7f2a9c743ed0>"
      ]
     },
     "execution_count": 43,
     "metadata": {},
     "output_type": "execute_result"
    },
    {
     "data": {
      "image/png": "[encoded data removed]",
      "text/plain": [
       "<matplotlib.figure.Figure at 0x7f2a9c743a50>"
      ]
     },
     "metadata": {},
     "output_type": "display_data"
    }
   ],
   "source": [
    "plt.matshow(mfpts_ran)\n",
    "plt.colorbar()"
   ]
  },
  {
   "cell_type": "code",
   "execution_count": 41,
   "metadata": {
    "collapsed": false
   },
   "outputs": [
    {
     "name": "stdout",
     "output_type": "stream",
     "text": [
      "[[ 0.  0.  0.  0.  0.  0.  0.  0.  0.]\n",
      " [ 0.  0.  0.  0.  0.  0.  0.  0.  0.]\n",
      " [ 0.  0.  0.  0.  0.  0.  0.  0.  0.]\n",
      " [ 0.  0.  0.  0.  0.  0.  0.  0.  0.]\n",
      " [ 0.  0.  0.  0.  0.  0.  0.  0.  0.]\n",
      " [ 0.  0.  0.  0.  0.  0.  0.  0.  0.]\n",
      " [ 0.  0.  0.  0.  0.  0.  0.  0.  0.]\n",
      " [ 0.  0.  0.  0.  0.  0.  0.  0.  0.]\n",
      " [ 0.  0.  0.  0.  0.  0.  0.  0.  0.]]\n"
     ]
    }
   ],
   "source": [
    "print mfpts_ran"
   ]
  },
  {
   "cell_type": "code",
   "execution_count": null,
   "metadata": {
    "collapsed": true
   },
   "outputs": [],
   "source": []
  }
 ],
 "metadata": {
  "kernelspec": {
   "display_name": "Python 2",
   "language": "python",
   "name": "python2"
  },
  "language_info": {
   "codemirror_mode": {
    "name": "ipython",
    "version": 2
   },
   "file_extension": ".py",
   "mimetype": "text/x-python",
   "name": "python",
   "nbconvert_exporter": "python",
   "pygments_lexer": "ipython2",
   "version": "2.7.12"
  }
 },
 "nbformat": 4,
 "nbformat_minor": 0
}

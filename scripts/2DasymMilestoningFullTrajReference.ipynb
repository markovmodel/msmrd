{
 "cells": [
  {
   "cell_type": "code",
   "execution_count": 18,
   "metadata": {
    "collapsed": false
   },
   "outputs": [],
   "source": [
    "import numpy as np\n",
    "import matplotlib.pyplot as plt\n",
    "import MSMRD as mrd\n",
    "from MSMRD.trajectories import allTrajs\n",
    "import pickle\n",
    "import h5py\n",
    "import math\n",
    "%matplotlib inline"
   ]
  },
  {
   "cell_type": "code",
   "execution_count": 22,
   "metadata": {
    "collapsed": false
   },
   "outputs": [],
   "source": [
    "nFiles = 50\n",
    "fName = '../data/asym2D/2DasymTrajsLong_R4_RT1E7_dt001_SI10_'\n",
    "dimension = 2\n",
    "trajs = []\n",
    "for number in range(nFiles):\n",
    "    f = h5py.File(fName + str(number) + '.h5', 'r')\n",
    "    data = np.array(f['traj'][::10,...], dtype=float)\n",
    "    traj = data[:,1:dimension+1]\n",
    "    trajs.append(traj)\n",
    "    f.close()"
   ]
  },
  {
   "cell_type": "code",
   "execution_count": 5,
   "metadata": {
    "collapsed": true
   },
   "outputs": [],
   "source": [
    "# Create a child class from the main class in trajectories_class.py\n",
    "class asym2Dtraj(allTrajs):\n",
    "    def __init__(self, centers=None, Trajs=None):\n",
    "        super(asym2Dtraj, self).__init__(Trajs)\n",
    "        if centers == None:\n",
    "            centers = []\n",
    "        self.centers = centers\n",
    "        self.innerMSMrad = 2.0\n",
    "        self.bathRad = 3.0\n",
    "        self.Ncenters = len(self.centers)\n",
    "    \n",
    "    # Overwrite getState function in parent class\n",
    "    #discretize trajectory: use two additional rings of states for entry and exit states\n",
    "    #cluster volume should be on the same order of magnitute as for the internal states\n",
    "    def getState(self, coord, prevst):\n",
    "        radius = np.linalg.norm(coord)\n",
    "        # inner MSM\n",
    "        if radius < self.innerMSMrad:\n",
    "            cen2coord = self.centers - coord\n",
    "            norm = np.linalg.norm(cen2coord, axis = 1)\n",
    "            index = np.argmin(norm)\n",
    "            if (norm[index] <= 0.2 ):\n",
    "                return index\n",
    "            # if no new state found, return previous state\n",
    "            else:\n",
    "                return prevst\n",
    "        # Bath state\n",
    "        elif radius > self.bathRad:\n",
    "            return self.Ncenters\n",
    "        else:\n",
    "            return prevst\n",
    "    \n",
    "        \n",
    "    # Overwrite getMilestones function\n",
    "    def getMilestones(self):\n",
    "        int_th = 2*np.pi/self.angularPartitions\n",
    "        # inner MSM\n",
    "        for i in range(self.Ncenters):\n",
    "            self.milestones[i] = self.centers[i]\n",
    "        # entry states\n",
    "        for i in range(self.angularPartitions):\n",
    "            j = i + self.Ncenters;\n",
    "            r = 0.5*(self.innerMSMrad + self.entryRad)\n",
    "            th = i*int_th + 0.5*int_th\n",
    "            self.milestones[j] = [r*np.cos(th), r*np.sin(th)]\n",
    "        # exit states\n",
    "        for i in range(self.angularPartitions):\n",
    "            j = i + self.Ncenters + self.angularPartitions;\n",
    "            r = 0.5*(self.entryRad + self.bathRad)\n",
    "            th = i*int_th + 0.5*int_th\n",
    "            self.milestones[j] = [r*np.cos(th), r*np.sin(th)]\n",
    "                # entry states\n",
    "        for i in range(self.angularPartitions):\n",
    "            j = i + self.Ncenters + 2*self.angularPartitions;\n",
    "            r = 0.5*(self.bathRad + self.bathRadOut)\n",
    "            th = i*int_th + 0.5*int_th\n",
    "            self.milestones[j] = [r*np.cos(th), r*np.sin(th)]\n",
    "        \n",
    "    \n",
    "    # Overwrite getRegionMap function\n",
    "    def getRegionMap(self):\n",
    "        for i in range(self.Ncenters):\n",
    "            statename = 'Inner state ' + str(i)\n",
    "            self.regionMap[i] = statename\n",
    "        for i in range(self.angularPartitions):\n",
    "            statename = 'Entry state ' + str(i)\n",
    "            j = self.Ncenters + i\n",
    "            self.regionMap[j] = statename\n",
    "        for i in range(self.angularPartitions):\n",
    "            statename = 'Exit state ' + str(i)\n",
    "            j = self.Ncenters + self.angularPartitions + i\n",
    "            self.regionMap[j] = statename\n",
    "        for i in range(self.angularPartitions):\n",
    "            statename = 'Bath state ' + str(i)\n",
    "            j = self.Ncenters + 2*self.angularPartitions + i\n",
    "            self.regionMap[j] = statename\n"
   ]
  },
  {
   "cell_type": "code",
   "execution_count": 6,
   "metadata": {
    "collapsed": false
   },
   "outputs": [
    {
     "name": "stdout",
     "output_type": "stream",
     "text": [
      "0\n",
      "1\n",
      "2\n",
      "3\n",
      "4\n",
      "5\n",
      "6\n",
      "7\n",
      "8\n",
      "9\n",
      "10\n",
      "11\n",
      "12\n",
      "13\n",
      "14\n",
      "15\n",
      "16\n",
      "17\n",
      "18\n",
      "19\n",
      "20\n",
      "21\n",
      "22\n",
      "23\n",
      "24\n",
      "25\n",
      "26\n",
      "27\n",
      "28\n",
      "29\n",
      "30\n",
      "31\n",
      "32\n",
      "33\n",
      "34\n",
      "35\n",
      "36\n",
      "37\n",
      "38\n",
      "39\n",
      "40\n",
      "41\n",
      "42\n",
      "43\n",
      "44\n",
      "45\n",
      "46\n",
      "47\n",
      "48\n",
      "49\n"
     ]
    }
   ],
   "source": [
    "numfiles = 50\n",
    "# Extract trajectories from file using asym2Dtraj class\n",
    "fname = '../data/asym2D/2DasymTrajsLong_R4_RT1E7_dt001_SI10_'\n",
    "minima = [[0.0,0.0], [1.0,0.0] , [1.1, 1.0], [-0.1,0.9], [-1.3,0.8], \\\n",
    "                       [-1.0,-0.2], [-0.6,-1.0], [0.9,-0.8], [0.2,-1.5]]\n",
    "alltrajs = asym2Dtraj(minima, []) # define allTrajs object\n",
    "#alltrajs = allTrajs_inner([])\n",
    "dimension = 2\n",
    "for number in range(numfiles):\n",
    "    f = h5py.File(fname + str(number) + '.h5', 'r')\n",
    "    data = np.array(f['traj'], dtype=float)\n",
    "    f.close()\n",
    "    traj = data[:,1:dimension+1]\n",
    "    alltrajs.Trajs.append(traj)\n",
    "    print number"
   ]
  },
  {
   "cell_type": "code",
   "execution_count": 7,
   "metadata": {
    "collapsed": false
   },
   "outputs": [],
   "source": [
    "# Calculate discrete trajectories and make sure it is clean (no \"None\" elements)\n",
    "dtrajs = alltrajs.getdTrajsclean()"
   ]
  },
  {
   "cell_type": "code",
   "execution_count": null,
   "metadata": {
    "collapsed": true
   },
   "outputs": [],
   "source": [
    "bathregion = np.where(milestoning.)\n",
    "plt.hist"
   ]
  },
  {
   "cell_type": "code",
   "execution_count": 23,
   "metadata": {
    "collapsed": false
   },
   "outputs": [],
   "source": [
    "class asym2Dmilestoning(object):\n",
    "    def __init__(self, centers, bathRadius):\n",
    "        self.centers = centers\n",
    "        self.bathRadius = bathRadius\n",
    "        #the index of the bath state is given by the number of centers \n",
    "        self.bathIndex = len(centers)\n",
    "        #total number of states is Ncenters + bath state\n",
    "        self.Nstates = self.bathIndex + 1\n",
    "        self.innerMSMrad = np.max(np.linalg.norm(self.centers, axis=1))+0.2\n",
    "        self.transitionProbs = []\n",
    "        \n",
    "    #compute transition times from a list of trajectories\n",
    "    def computeMeanTransitionTimes(self, timestep, dTrajs):\n",
    "        sumTau = np.zeros((self.Nstates, self.Nstates))\n",
    "        counts = np.zeros((self.Nstates, self.Nstates))\n",
    "        for dTraj in self.dTrajs:\n",
    "            i = 0\n",
    "            tau = 0\n",
    "            statesVisited = [dTraj[0]]\n",
    "            while i<len(dTraj):\n",
    "                i += 1\n",
    "                if dTraj[i] == dTraj[i-1]:\n",
    "                    tau += 1\n",
    "                else:\n",
    "                    if not np.in1d(dTraj[i], statesVisited):\n",
    "                        sumTau[transitionFrom, dTraj[i]] += tau\n",
    "                        counts[transitionFrom, dTraj[i]] += 1\n",
    "                        if nextTransitionIndex < 0:\n",
    "                            nextTransitionIndex = i\n",
    "                        statesVisited.appen(dTraj[i])\n",
    "                        tau +=1\n",
    "                    else:\n",
    "                        statesVisited = [dTraj[nextTransitionIndex]]\n",
    "                        i = nextTransitionIndex\n",
    "                        nextTransitionIndex = -1\n",
    "                        tau = 0\n",
    "        for i in range(0, self.Nstates):\n",
    "            for j in range(0, self.Nstates):\n",
    "                if counts[i,j] != 0:\n",
    "                    self.meanTransitionTimes[i,j] = sumTau[i,j] / counts[i,j] * timestep\n",
    "        '''\n",
    "        for dTraj in self.dTrajs:\n",
    "            tau = 0\n",
    "            statesVisited = []\n",
    "            for i in range(len(dTraj)):\n",
    "                if dTraj[i] == dTraj[i-1]:\n",
    "                    tau += 1\n",
    "                else:\n",
    "                    sumTau[dTraj[i-1], dTraj[i]] += tau\n",
    "                    nextTransitionIndex = i\n",
    "                    counts[dTraj[i-1], dTraj[i]] += 1\n",
    "                    \n",
    "                    \n",
    "                    tau = 0\n",
    "        nonzeros = np.where(counts!=0)[0]\n",
    "        self.meanTransitionTimes = np.zeros_like(counts)\n",
    "        '''\n",
    "\n",
    "\n",
    "    def getState(self, coord, prevst):\n",
    "        radius = np.linalg.norm(coord)\n",
    "        # inner MSM\n",
    "        if radius < self.innerMSMrad:\n",
    "            cen2coord = self.centers - coord\n",
    "            norm = np.linalg.norm(cen2coord, axis = 1)\n",
    "            index = np.argmin(norm)\n",
    "            if (norm[index] <= 0.3 ):\n",
    "                return index\n",
    "            # if no new state found, return previous state\n",
    "            else:\n",
    "                return prevst\n",
    "        # bath state\n",
    "        elif radius > self.bathRadius:\n",
    "            return self.bathIndex\n",
    "        else: \n",
    "            return prevst\n",
    "        \n",
    "    def computeMilestoningTraj(self, trajs):\n",
    "        self.dTrajs = []\n",
    "        for traj in trajs:\n",
    "            dTraj = np.zeros(len(traj))\n",
    "            dTraj[0] = 0\n",
    "            for i in range(1, len(traj)):\n",
    "                dTraj[i] = self.getState(traj[i], dTraj[i-1])\n",
    "                if math.isnan(dTraj[i]):\n",
    "                    print dTraj[i-1]\n",
    "                    print traj[i]\n",
    "                    print self.centers - traj[i]\n",
    "                    print np.linalg.norm(self.centers - traj[i], axis = 1)\n",
    "                    print np.argmin( np.linalg.norm(self.centers - traj[i], axis = 1))\n",
    "            self.dTrajs.append(dTraj)"
   ]
  },
  {
   "cell_type": "code",
   "execution_count": 24,
   "metadata": {
    "collapsed": true
   },
   "outputs": [],
   "source": [
    "def computeMeanTransitionTimes(timestep, mobj, stride):\n",
    "    sumTau = np.zeros((mobj.Nstates, mobj.Nstates))\n",
    "    counts = np.zeros((mobj.Nstates, mobj.Nstates))\n",
    "    for traj in mobj.dTrajs:\n",
    "        dTraj = traj[::stride]\n",
    "        i = 1\n",
    "        tau = 1\n",
    "        statesVisited = [dTraj[0]]\n",
    "        transitionFrom = dTraj[0]\n",
    "        nextTransitionIndex = -1\n",
    "        while i<len(dTraj)-1:\n",
    "            i += 1\n",
    "            if dTraj[i] == dTraj[i-1]:\n",
    "                tau += 1\n",
    "            else:\n",
    "                if len(statesVisited) == mobj.Nstates:\n",
    "                    transitionFrom = dTraj[nextTransitionIndex]\n",
    "                    statesVisited = [transitionFrom]\n",
    "                    i = nextTransitionIndex\n",
    "                    nextTransitionIndex = -1\n",
    "                    tau = 1 \n",
    "                elif not np.in1d(dTraj[i], statesVisited):\n",
    "                    sumTau[transitionFrom, dTraj[i]] += tau\n",
    "                    counts[transitionFrom, dTraj[i]] += 1\n",
    "                    if nextTransitionIndex < 0:\n",
    "                        nextTransitionIndex = i\n",
    "                    statesVisited.append(dTraj[i])\n",
    "                    tau +=1\n",
    "                else:\n",
    "                    tau += 1\n",
    "    meanTransitionTimes = np.zeros((mobj.Nstates, mobj.Nstates))\n",
    "    for i in range(0, mobj.Nstates):\n",
    "        for j in range(0, mobj.Nstates):\n",
    "            if counts[i,j] != 0:\n",
    "                meanTransitionTimes[i,j] = sumTau[i,j] / counts[i,j] * timestep*stride\n",
    "    return meanTransitionTimes"
   ]
  },
  {
   "cell_type": "code",
   "execution_count": 25,
   "metadata": {
    "collapsed": true
   },
   "outputs": [],
   "source": [
    "def computeMeanTransitionTimesFromTrajs(dTrajs, timestep, Nstates, stride):\n",
    "    sumTau = np.zeros((Nstates, Nstates))\n",
    "    counts = np.zeros((Nstates, Nstates))\n",
    "    for traj in dTrajs:\n",
    "        dTraj = traj[::stride]\n",
    "        i = 0\n",
    "        tau = 0\n",
    "        statesVisited = [dTraj[0]]\n",
    "        transitionFrom = dTraj[0]\n",
    "        nextTransitionIndex = -1\n",
    "        while i<len(dTraj)-1:\n",
    "            i += 1\n",
    "            tau += 1\n",
    "            if dTraj[i] != dTraj[i-1]:\n",
    "                if len(statesVisited) == Nstates:\n",
    "                    transitionFrom = dTraj[nextTransitionIndex]\n",
    "                    statesVisited = [transitionFrom]\n",
    "                    i = nextTransitionIndex\n",
    "                    nextTransitionIndex = -1\n",
    "                    tau = 0\n",
    "                elif not np.in1d(dTraj[i], statesVisited):\n",
    "                    sumTau[transitionFrom, dTraj[i]] += tau\n",
    "                    counts[transitionFrom, dTraj[i]] += 1\n",
    "                    if nextTransitionIndex < 0:\n",
    "                        nextTransitionIndex = i\n",
    "                    statesVisited.append(dTraj[i])\n",
    "    meanTransitionTimes = np.zeros((Nstates, Nstates))\n",
    "    for i in range(0, Nstates):\n",
    "        for j in range(0, Nstates):\n",
    "            if counts[i,j] != 0:\n",
    "                meanTransitionTimes[i,j] = sumTau[i,j] / counts[i,j] * timestep * stride\n",
    "    return meanTransitionTimes"
   ]
  },
  {
   "cell_type": "code",
   "execution_count": 11,
   "metadata": {
    "collapsed": false
   },
   "outputs": [
    {
     "ename": "NameError",
     "evalue": "name 'trajs' is not defined",
     "output_type": "error",
     "traceback": [
      "\u001b[0;31m---------------------------------------------------------------------------\u001b[0m",
      "\u001b[0;31mNameError\u001b[0m                                 Traceback (most recent call last)",
      "\u001b[0;32m<ipython-input-11-df46bd2b68fe>\u001b[0m in \u001b[0;36m<module>\u001b[0;34m()\u001b[0m\n\u001b[1;32m      1\u001b[0m \u001b[0mminima\u001b[0m \u001b[0;34m=\u001b[0m \u001b[0;34m[\u001b[0m\u001b[0;34m[\u001b[0m\u001b[0;36m0.0\u001b[0m\u001b[0;34m,\u001b[0m\u001b[0;36m0.0\u001b[0m\u001b[0;34m]\u001b[0m\u001b[0;34m,\u001b[0m \u001b[0;34m[\u001b[0m\u001b[0;36m1.0\u001b[0m\u001b[0;34m,\u001b[0m\u001b[0;36m0.0\u001b[0m\u001b[0;34m]\u001b[0m \u001b[0;34m,\u001b[0m \u001b[0;34m[\u001b[0m\u001b[0;36m1.1\u001b[0m\u001b[0;34m,\u001b[0m \u001b[0;36m1.0\u001b[0m\u001b[0;34m]\u001b[0m\u001b[0;34m,\u001b[0m \u001b[0;34m[\u001b[0m\u001b[0;34m-\u001b[0m\u001b[0;36m0.1\u001b[0m\u001b[0;34m,\u001b[0m\u001b[0;36m0.9\u001b[0m\u001b[0;34m]\u001b[0m\u001b[0;34m,\u001b[0m \u001b[0;34m[\u001b[0m\u001b[0;34m-\u001b[0m\u001b[0;36m1.3\u001b[0m\u001b[0;34m,\u001b[0m\u001b[0;36m0.8\u001b[0m\u001b[0;34m]\u001b[0m\u001b[0;34m,\u001b[0m \u001b[0;34m[\u001b[0m\u001b[0;34m-\u001b[0m\u001b[0;36m1.0\u001b[0m\u001b[0;34m,\u001b[0m\u001b[0;34m-\u001b[0m\u001b[0;36m0.2\u001b[0m\u001b[0;34m]\u001b[0m\u001b[0;34m,\u001b[0m \u001b[0;34m[\u001b[0m\u001b[0;34m-\u001b[0m\u001b[0;36m0.6\u001b[0m\u001b[0;34m,\u001b[0m\u001b[0;34m-\u001b[0m\u001b[0;36m1.0\u001b[0m\u001b[0;34m]\u001b[0m\u001b[0;34m,\u001b[0m \u001b[0;34m[\u001b[0m\u001b[0;36m0.9\u001b[0m\u001b[0;34m,\u001b[0m\u001b[0;34m-\u001b[0m\u001b[0;36m0.8\u001b[0m\u001b[0;34m]\u001b[0m\u001b[0;34m,\u001b[0m \u001b[0;34m[\u001b[0m\u001b[0;36m0.2\u001b[0m\u001b[0;34m,\u001b[0m\u001b[0;34m-\u001b[0m\u001b[0;36m1.5\u001b[0m\u001b[0;34m]\u001b[0m\u001b[0;34m]\u001b[0m\u001b[0;34m\u001b[0m\u001b[0m\n\u001b[1;32m      2\u001b[0m \u001b[0mmilestoning\u001b[0m \u001b[0;34m=\u001b[0m \u001b[0masym2Dmilestoning\u001b[0m\u001b[0;34m(\u001b[0m\u001b[0mminima\u001b[0m\u001b[0;34m,\u001b[0m \u001b[0;36m3.0\u001b[0m\u001b[0;34m)\u001b[0m\u001b[0;34m\u001b[0m\u001b[0m\n\u001b[0;32m----> 3\u001b[0;31m \u001b[0mmilestoning\u001b[0m\u001b[0;34m.\u001b[0m\u001b[0mcomputeMilestoningTraj\u001b[0m\u001b[0;34m(\u001b[0m\u001b[0mtrajs\u001b[0m\u001b[0;34m)\u001b[0m\u001b[0;34m\u001b[0m\u001b[0m\n\u001b[0m",
      "\u001b[0;31mNameError\u001b[0m: name 'trajs' is not defined"
     ]
    }
   ],
   "source": [
    "minima = [[0.0,0.0], [1.0,0.0] , [1.1, 1.0], [-0.1,0.9], [-1.3,0.8], [-1.0,-0.2], [-0.6,-1.0], [0.9,-0.8], [0.2,-1.5]]\n",
    "milestoning = asym2Dmilestoning(minima, 3.0)\n",
    "milestoning.computeMilestoningTraj(trajs)"
   ]
  },
  {
   "cell_type": "code",
   "execution_count": 26,
   "metadata": {
    "collapsed": false
   },
   "outputs": [],
   "source": [
    "fullMTT1 = computeMeanTransitionTimesFromTrajs(dtrajs, 0.01, 10, 1)"
   ]
  },
  {
   "cell_type": "code",
   "execution_count": null,
   "metadata": {
    "collapsed": true
   },
   "outputs": [],
   "source": [
    "plt.mathshow(full)"
   ]
  },
  {
   "cell_type": "code",
   "execution_count": 9,
   "metadata": {
    "collapsed": true
   },
   "outputs": [],
   "source": [
    "fullMTT2 = computeMeanTransitionTimesFromTrajs(dtrajs[20:], 0.01, 10, 1)"
   ]
  },
  {
   "cell_type": "code",
   "execution_count": 28,
   "metadata": {
    "collapsed": false
   },
   "outputs": [
    {
     "data": {
      "text/plain": [
       "<matplotlib.colorbar.Colorbar at 0x7f7813539d50>"
      ]
     },
     "execution_count": 28,
     "metadata": {},
     "output_type": "execute_result"
    },
    {
     "data": {
      "image/png": "[encoded data removed]",
      "text/plain": [
       "<matplotlib.figure.Figure at 0x7f7813539dd0>"
      ]
     },
     "metadata": {},
     "output_type": "display_data"
    }
   ],
   "source": [
    "plt.matshow((fullMTT1))\n",
    "#plt.clim(-0.05,0.05)\n",
    "plt.colorbar()"
   ]
  },
  {
   "cell_type": "code",
   "execution_count": 29,
   "metadata": {
    "collapsed": true
   },
   "outputs": [],
   "source": [
    "import pickle\n",
    "pickle.dump(fullMTT1, open('fullMTTlag10_fromTraj.p', 'wb'))"
   ]
  },
  {
   "cell_type": "code",
   "execution_count": 20,
   "metadata": {
    "collapsed": false
   },
   "outputs": [
    {
     "data": {
      "text/plain": [
       "<matplotlib.image.AxesImage at 0x7f2adf372c50>"
      ]
     },
     "execution_count": 20,
     "metadata": {},
     "output_type": "execute_result"
    },
    {
     "data": {
      "image/png": "[encoded data removed]",
      "text/plain": [
       "<matplotlib.figure.Figure at 0x7f2ae0b9b410>"
      ]
     },
     "metadata": {},
     "output_type": "display_data"
    }
   ],
   "source": [
    "plt.matshow(fullMTT)"
   ]
  },
  {
   "cell_type": "code",
   "execution_count": 30,
   "metadata": {
    "collapsed": false
   },
   "outputs": [
    {
     "data": {
      "text/plain": [
       "<matplotlib.image.AxesImage at 0x7f2adef14550>"
      ]
     },
     "execution_count": 30,
     "metadata": {},
     "output_type": "execute_result"
    },
    {
     "data": {
      "image/png": "[encoded data removed]",
      "text/plain": [
       "<matplotlib.figure.Figure at 0x7f2adef81e10>"
      ]
     },
     "metadata": {},
     "output_type": "display_data"
    }
   ],
   "source": [
    "plt.matshow(fullMTT)"
   ]
  },
  {
   "cell_type": "code",
   "execution_count": 12,
   "metadata": {
    "collapsed": true
   },
   "outputs": [],
   "source": [
    "import pyemma\n",
    "import pyemma.plots as mplt"
   ]
  },
  {
   "cell_type": "code",
   "execution_count": 9,
   "metadata": {
    "collapsed": false
   },
   "outputs": [
    {
     "name": "stdout",
     "output_type": "stream",
     "text": [
      "estimating MaximumLikelihoodMSM: 100% (12/12) [####################] eta 00:01 /"
     ]
    }
   ],
   "source": [
    "# Obtained implied time scales using pyemma\n",
    "its = pyemma.msm.its(dtrajs, lags = 200)"
   ]
  },
  {
   "cell_type": "code",
   "execution_count": 10,
   "metadata": {
    "collapsed": false
   },
   "outputs": [
    {
     "data": {
      "text/plain": [
       "(array([ -25.,    0.,   25.,   50.,   75.,  100.,  125.,  150.,  175.]),\n",
       " <a list of 9 Text yticklabel objects>)"
      ]
     },
     "execution_count": 10,
     "metadata": {},
     "output_type": "execute_result"
    },
    {
     "data": {
      "image/png": "[encoded data removed]",
      "text/plain": [
       "<matplotlib.figure.Figure at 0x7fd550525810>"
      ]
     },
     "metadata": {},
     "output_type": "display_data"
    }
   ],
   "source": [
    "# Plot implied time scales\n",
    "mplt.plot_implied_timescales(its, ylog=False, units='steps', linewidth=2, dt=1)\n",
    "plt.ylabel(r\"timescale/steps\", fontsize = 24)\n",
    "plt.xlabel(r\"lag time/steps\", fontsize = 24)\n",
    "#plt.xlim(0,900)\n",
    "#plt.ylim(-100,1700)\n",
    "#plt.xlim(0,100)\n",
    "#plt.ylim(100,10000)\n",
    "plt.xticks(fontsize=20)\n",
    "plt.yticks(fontsize=20)"
   ]
  },
  {
   "cell_type": "code",
   "execution_count": 19,
   "metadata": {
    "collapsed": true
   },
   "outputs": [],
   "source": [
    "msm1 = pyemma.msm.estimate_markov_model(dtrajs, lag=10, reversible=True)"
   ]
  },
  {
   "cell_type": "code",
   "execution_count": 14,
   "metadata": {
    "collapsed": false
   },
   "outputs": [
    {
     "data": {
      "text/plain": [
       "array([ -7.87025896e-06,  -5.09017212e-05,  -1.27048134e-05,\n",
       "         3.19630729e-05,  -4.05150414e-05,  -5.88527695e-05,\n",
       "        -6.89034505e-05,  -2.83808584e-05,   2.92272872e-05,\n",
       "         2.06938553e-04])"
      ]
     },
     "execution_count": 14,
     "metadata": {},
     "output_type": "execute_result"
    }
   ],
   "source": [
    "msm1.stationary_distribution - np.array([ 0.02885661,  0.03404936,  0.04002925,  0.03715941,  0.03915249,  0.03511926, 0.03510042,  0.03580847,  0.03664384,  0.67808089])"
   ]
  },
  {
   "cell_type": "code",
   "execution_count": 20,
   "metadata": {
    "collapsed": true
   },
   "outputs": [],
   "source": [
    "MTT_msm1 = np.zeros((10,10))\n",
    "for i in range(10):\n",
    "    for j in range(10):\n",
    "        MTT_msm1[i,j] = msm1.mfpt(i,j)*0.01"
   ]
  },
  {
   "cell_type": "code",
   "execution_count": 21,
   "metadata": {
    "collapsed": false
   },
   "outputs": [],
   "source": [
    "pickle.dump(MTT_msm1, open('2Dasym_lag10_reference.p', 'wb'))"
   ]
  },
  {
   "cell_type": "code",
   "execution_count": 49,
   "metadata": {
    "collapsed": true
   },
   "outputs": [],
   "source": [
    "msm2 = pyemma.msm.estimate_markov_model(dtrajs[20:], lag=10, reversible=True)"
   ]
  },
  {
   "cell_type": "code",
   "execution_count": 60,
   "metadata": {
    "collapsed": true
   },
   "outputs": [],
   "source": [
    "MTT_msm2 = np.zeros((10,10))\n",
    "for i in range(10):\n",
    "    for j in range(10):\n",
    "        MTT_msm2[i,j] = msm2.mfpt(i,j)*0.01"
   ]
  },
  {
   "cell_type": "code",
   "execution_count": 59,
   "metadata": {
    "collapsed": false
   },
   "outputs": [],
   "source": [
    "MTT_msm2TPT = np.zeros((10,10))\n",
    "for i in range(10):\n",
    "    for j in range(10):\n",
    "        if i!=j:\n",
    "            tpt = pyemma.msm.tpt(msm2, [i], [j])\n",
    "            MTT_msm2TPT[i,j] = tpt.mfpt*0.01"
   ]
  },
  {
   "cell_type": "code",
   "execution_count": 63,
   "metadata": {
    "collapsed": false
   },
   "outputs": [
    {
     "data": {
      "text/plain": [
       "<matplotlib.colorbar.Colorbar at 0x7f8d828cb7d0>"
      ]
     },
     "execution_count": 63,
     "metadata": {},
     "output_type": "execute_result"
    },
    {
     "data": {
      "image/png": "[encoded data removed]",
      "text/plain": [
       "<matplotlib.figure.Figure at 0x7f8d828cba10>"
      ]
     },
     "metadata": {},
     "output_type": "display_data"
    }
   ],
   "source": [
    "plt.matshow((MTT_msm2 - MTT_msm2TPT))\n",
    "plt.colorbar()"
   ]
  },
  {
   "cell_type": "code",
   "execution_count": 51,
   "metadata": {
    "collapsed": false
   },
   "outputs": [
    {
     "name": "stderr",
     "output_type": "stream",
     "text": [
      "/srv/public/dibakma/miniconda2/lib/python2.7/site-packages/ipykernel/__main__.py:1: RuntimeWarning: invalid value encountered in divide\n",
      "  if __name__ == '__main__':\n"
     ]
    },
    {
     "data": {
      "text/plain": [
       "<matplotlib.colorbar.Colorbar at 0x7f8d82db7dd0>"
      ]
     },
     "execution_count": 51,
     "metadata": {},
     "output_type": "execute_result"
    },
    {
     "data": {
      "image/png": "[encoded data removed]",
      "text/plain": [
       "<matplotlib.figure.Figure at 0x7f8d82dc4110>"
      ]
     },
     "metadata": {},
     "output_type": "display_data"
    }
   ],
   "source": [
    "plt.matshow((MTT_msm1 - MTT_msm2)/MTT_msm1)\n",
    "plt.colorbar()"
   ]
  },
  {
   "cell_type": "code",
   "execution_count": 28,
   "metadata": {
    "collapsed": false
   },
   "outputs": [
    {
     "name": "stderr",
     "output_type": "stream",
     "text": [
      "/srv/public/dibakma/miniconda2/lib/python2.7/site-packages/ipykernel/__main__.py:1: RuntimeWarning: invalid value encountered in divide\n",
      "  if __name__ == '__main__':\n"
     ]
    },
    {
     "data": {
      "text/plain": [
       "<matplotlib.colorbar.Colorbar at 0x7f2adf2514d0>"
      ]
     },
     "execution_count": 28,
     "metadata": {},
     "output_type": "execute_result"
    },
    {
     "data": {
      "image/png": "[encoded data removed]",
      "text/plain": [
       "<matplotlib.figure.Figure at 0x7f2adf11d090>"
      ]
     },
     "metadata": {},
     "output_type": "display_data"
    }
   ],
   "source": [
    "plt.matshow((MTT_msm-fullMTT)/fullMTT)\n",
    "plt.colorbar()"
   ]
  },
  {
   "cell_type": "code",
   "execution_count": 31,
   "metadata": {
    "collapsed": false
   },
   "outputs": [
    {
     "name": "stderr",
     "output_type": "stream",
     "text": [
      "/srv/public/dibakma/miniconda2/lib/python2.7/site-packages/ipykernel/__main__.py:1: RuntimeWarning: invalid value encountered in divide\n",
      "  if __name__ == '__main__':\n"
     ]
    },
    {
     "data": {
      "text/plain": [
       "<matplotlib.colorbar.Colorbar at 0x7f2adef49210>"
      ]
     },
     "execution_count": 31,
     "metadata": {},
     "output_type": "execute_result"
    },
    {
     "data": {
      "image/png": "[encoded data removed]",
      "text/plain": [
       "<matplotlib.figure.Figure at 0x7f2adef49250>"
      ]
     },
     "metadata": {},
     "output_type": "display_data"
    }
   ],
   "source": [
    "plt.matshow((MTT_msm-fullMTT)/fullMTT)\n",
    "plt.colorbar()"
   ]
  },
  {
   "cell_type": "code",
   "execution_count": 40,
   "metadata": {
    "collapsed": false
   },
   "outputs": [
    {
     "name": "stdout",
     "output_type": "stream",
     "text": [
      "[ 2.6283207   2.40984812  2.10017927  2.4386878   2.04869655  2.38206354\n",
      "  2.30561073  2.30520525  2.08731879  0.        ]\n"
     ]
    }
   ],
   "source": [
    "print MTT_msm[:,9]"
   ]
  },
  {
   "cell_type": "code",
   "execution_count": 32,
   "metadata": {
    "collapsed": true
   },
   "outputs": [],
   "source": [
    "import pickle\n",
    "pickle.dump(MTT_msm, open('2DasymMTT_msm_new.p', 'wa'))\n",
    "pickle.dump(fullMTT, open('2DasymMTT_msm_full.p', 'wa'))"
   ]
  },
  {
   "cell_type": "code",
   "execution_count": 17,
   "metadata": {
    "collapsed": false
   },
   "outputs": [],
   "source": [
    "MTTs = []\n",
    "for dtraj in dtrajs:\n",
    "    MTTs.append(computeMeanTransitionTimesFromTrajs([dtraj], 0.01, 10, 1))"
   ]
  },
  {
   "cell_type": "code",
   "execution_count": 18,
   "metadata": {
    "collapsed": false
   },
   "outputs": [
    {
     "name": "stderr",
     "output_type": "stream",
     "text": [
      "/srv/public/dibakma/miniconda2/lib/python2.7/site-packages/ipykernel/__main__.py:2: RuntimeWarning: invalid value encountered in divide\n",
      "  from ipykernel import kernelapp as app\n"
     ]
    },
    {
     "data": {
      "image/png": "[encoded data removed]",
      "text/plain": [
       "<matplotlib.figure.Figure at 0x7f2ae0b9b650>"
      ]
     },
     "metadata": {},
     "output_type": "display_data"
    },
    {
     "data": {
      "image/png": "[encoded data removed]",
      "text/plain": [
       "<matplotlib.figure.Figure at 0x7f2aef082910>"
      ]
     },
     "metadata": {},
     "output_type": "display_data"
    },
    {
     "data": {
      "image/png": "[encoded data removed]",
      "text/plain": [
       "<matplotlib.figure.Figure at 0x7f2aeee36a10>"
      ]
     },
     "metadata": {},
     "output_type": "display_data"
    },
    {
     "data": {
      "image/png": "[encoded data removed]",
      "text/plain": [
       "<matplotlib.figure.Figure at 0x7f2aeeccd110>"
      ]
     },
     "metadata": {},
     "output_type": "display_data"
    },
    {
     "data": {
      "image/png": "[encoded data removed]",
      "text/plain": [
       "<matplotlib.figure.Figure at 0x7f2aeebe1590>"
      ]
     },
     "metadata": {},
     "output_type": "display_data"
    },
    {
     "data": {
      "image/png": "[encoded data removed]",
      "text/plain": [
       "<matplotlib.figure.Figure at 0x7f2aeeaf2510>"
      ]
     },
     "metadata": {},
     "output_type": "display_data"
    },
    {
     "data": {
      "image/png": "[encoded data removed]",
      "text/plain": [
       "<matplotlib.figure.Figure at 0x7f2aeea04750>"
      ]
     },
     "metadata": {},
     "output_type": "display_data"
    },
    {
     "data": {
      "image/png": "[encoded data removed]",
      "text/plain": [
       "<matplotlib.figure.Figure at 0x7f2aee8fca90>"
      ]
     },
     "metadata": {},
     "output_type": "display_data"
    },
    {
     "data": {
      "image/png": "[encoded data removed]",
      "text/plain": [
       "<matplotlib.figure.Figure at 0x7f2ae86e3cd0>"
      ]
     },
     "metadata": {},
     "output_type": "display_data"
    },
    {
     "data": {
      "image/png": "[encoded data removed]",
      "text/plain": [
       "<matplotlib.figure.Figure at 0x7f2ae8600710>"
      ]
     },
     "metadata": {},
     "output_type": "display_data"
    },
    {
     "data": {
      "image/png": "[encoded data removed]",
      "text/plain": [
       "<matplotlib.figure.Figure at 0x7f2adfe19690>"
      ]
     },
     "metadata": {},
     "output_type": "display_data"
    },
    {
     "data": {
      "image/png": "[encoded data removed]",
      "text/plain": [
       "<matplotlib.figure.Figure at 0x7f2adfcc2850>"
      ]
     },
     "metadata": {},
     "output_type": "display_data"
    },
    {
     "data": {
      "image/png": "[encoded data removed]",
      "text/plain": [
       "<matplotlib.figure.Figure at 0x7f2adfbe8e10>"
      ]
     },
     "metadata": {},
     "output_type": "display_data"
    },
    {
     "data": {
      "image/png": "[encoded data removed]",
      "text/plain": [
       "<matplotlib.figure.Figure at 0x7f2adfa8ef90>"
      ]
     },
     "metadata": {},
     "output_type": "display_data"
    },
    {
     "data": {
      "image/png": "[encoded data removed]",
      "text/plain": [
       "<matplotlib.figure.Figure at 0x7f2adf99be50>"
      ]
     },
     "metadata": {},
     "output_type": "display_data"
    },
    {
     "data": {
      "image/png": "[encoded data removed]",
      "text/plain": [
       "<matplotlib.figure.Figure at 0x7f2adf83a610>"
      ]
     },
     "metadata": {},
     "output_type": "display_data"
    }
   ],
   "source": [
    "for MTT in MTTs:\n",
    "    diff = (MTT - fullMTT)/fullMTT\n",
    "    plt.matshow(diff, cmap=plt.get_cmap('inferno'))\n",
    "    #plt.clim((-0.2,0.3))\n",
    "    plt.colorbar()"
   ]
  },
  {
   "cell_type": "code",
   "execution_count": 18,
   "metadata": {
    "collapsed": false,
    "scrolled": true
   },
   "outputs": [
    {
     "data": {
      "text/plain": [
       "<matplotlib.colorbar.Colorbar at 0x7f2014e3dc90>"
      ]
     },
     "execution_count": 18,
     "metadata": {},
     "output_type": "execute_result"
    },
    {
     "data": {
      "image/png": "[encoded data removed]",
      "text/plain": [
       "<matplotlib.figure.Figure at 0x7f201555db50>"
      ]
     },
     "metadata": {},
     "output_type": "display_data"
    }
   ],
   "source": [
    "plt.matshow(MTT)\n",
    "plt.colorbar()\n",
    "#plt.clim((0., 9.0))"
   ]
  },
  {
   "cell_type": "code",
   "execution_count": 11,
   "metadata": {
    "collapsed": false
   },
   "outputs": [
    {
     "data": {
      "text/plain": [
       "<matplotlib.colorbar.Colorbar at 0x7f85d1896890>"
      ]
     },
     "execution_count": 11,
     "metadata": {},
     "output_type": "execute_result"
    },
    {
     "data": {
      "image/png": "[encoded data removed]",
      "text/plain": [
       "<matplotlib.figure.Figure at 0x7f871b683d90>"
      ]
     },
     "metadata": {},
     "output_type": "display_data"
    }
   ],
   "source": [
    "plt.matshow(fullMTT)\n",
    "plt.colorbar()\n",
    "#plt.clim((0., 9.0))"
   ]
  },
  {
   "cell_type": "code",
   "execution_count": 10,
   "metadata": {
    "collapsed": false
   },
   "outputs": [
    {
     "data": {
      "text/plain": [
       "<matplotlib.colorbar.Colorbar at 0x7f2015cd6190>"
      ]
     },
     "execution_count": 10,
     "metadata": {},
     "output_type": "execute_result"
    },
    {
     "data": {
      "image/png": "[encoded data removed]",
      "text/plain": [
       "<matplotlib.figure.Figure at 0x7f203c2a8790>"
      ]
     },
     "metadata": {},
     "output_type": "display_data"
    }
   ],
   "source": [
    "plt.matshow(MTT)\n",
    "plt.colorbar()\n",
    "#plt.clim((0., 9.0))"
   ]
  },
  {
   "cell_type": "code",
   "execution_count": 15,
   "metadata": {
    "collapsed": false
   },
   "outputs": [],
   "source": [
    "import pickle\n",
    "pickle.dump(MTT, open('2DasymMTT_longTraj.p', 'wa'))"
   ]
  },
  {
   "cell_type": "code",
   "execution_count": 72,
   "metadata": {
    "collapsed": false
   },
   "outputs": [
    {
     "name": "stdout",
     "output_type": "stream",
     "text": [
      "[1.1, 1.0]\n",
      "[-0.6, -1.0]\n"
     ]
    }
   ],
   "source": [
    "print minima[2]\n",
    "print minima[6]"
   ]
  },
  {
   "cell_type": "code",
   "execution_count": 74,
   "metadata": {
    "collapsed": false
   },
   "outputs": [
    {
     "data": {
      "text/plain": [
       "0.0"
      ]
     },
     "execution_count": 74,
     "metadata": {},
     "output_type": "execute_result"
    }
   ],
   "source": [
    "milestoning.meanTransitionTimes[6,2]"
   ]
  },
  {
   "cell_type": "code",
   "execution_count": 12,
   "metadata": {
    "collapsed": true
   },
   "outputs": [],
   "source": [
    "import pickle"
   ]
  },
  {
   "cell_type": "code",
   "execution_count": 18,
   "metadata": {
    "collapsed": false
   },
   "outputs": [],
   "source": [
    "pickle.dump(MTTs, open('MTTs_longTrajs.p', 'wa'))\n",
    "pickle.dump(fullMTT, open('MTTs_longTrajs_mean.p', 'wa'))"
   ]
  },
  {
   "cell_type": "code",
   "execution_count": null,
   "metadata": {
    "collapsed": true
   },
   "outputs": [],
   "source": []
  }
 ],
 "metadata": {
  "kernelspec": {
   "display_name": "Python 2",
   "language": "python",
   "name": "python2"
  },
  "language_info": {
   "codemirror_mode": {
    "name": "ipython",
    "version": 2
   },
   "file_extension": ".py",
   "mimetype": "text/x-python",
   "name": "python",
   "nbconvert_exporter": "python",
   "pygments_lexer": "ipython2",
   "version": "2.7.12"
  }
 },
 "nbformat": 4,
 "nbformat_minor": 0
}

{
 "cells": [
  {
   "cell_type": "code",
   "execution_count": 1,
   "metadata": {
    "collapsed": false
   },
   "outputs": [],
   "source": [
    "import numpy as np\n",
    "import matplotlib.pyplot as plt\n",
    "import MSMRD as mrd\n",
    "from MSMRD.trajectories import allTrajs\n",
    "import pickle\n",
    "import h5py\n",
    "import math\n",
    "%matplotlib inline"
   ]
  },
  {
   "cell_type": "code",
   "execution_count": 2,
   "metadata": {
    "collapsed": false
   },
   "outputs": [],
   "source": [
    "nFiles = 16\n",
    "fName = '../data/asym2D/2DasymTrajsLong_smallR_bigT_'\n",
    "dimension = 2\n",
    "trajs = []\n",
    "for number in range(nFiles):\n",
    "    f = h5py.File(fName + str(number) + '.h5', 'r')\n",
    "    data = np.array(f['traj'][::10,...], dtype=float)\n",
    "    traj = data[::5,1:dimension+1]\n",
    "    trajs.append(traj)\n",
    "    f.close()"
   ]
  },
  {
   "cell_type": "code",
   "execution_count": 2,
   "metadata": {
    "collapsed": false
   },
   "outputs": [],
   "source": [
    "# Create a child class from the main class in trajectories_class.py\n",
    "class asym2Dtraj(allTrajs):\n",
    "    def __init__(self, centers=None, Trajs=None):\n",
    "        super(asym2Dtraj, self).__init__(Trajs)\n",
    "        if centers == None:\n",
    "            centers = []\n",
    "        self.centers = centers\n",
    "        self.bathRad = 3.0\n",
    "        self.innerMSMrad = 2.0\n",
    "        self.Ncenters = len(self.centers)\n",
    "    \n",
    "    # Overwrite getState function in parent class\n",
    "    #discretize trajectory: use two additional rings of states for entry and exit states\n",
    "    #cluster volume should be on the same order of magnitute as for the internal states\n",
    "    def getState(self, coord, prevst):\n",
    "        radius = np.linalg.norm(coord)\n",
    "        # inner MSM\n",
    "        if radius < self.innerMSMrad:\n",
    "            cen2coord = self.centers - coord\n",
    "            norm = np.linalg.norm(cen2coord, axis = 1)\n",
    "            index = np.argmin(norm)\n",
    "            if (norm[index] <= 0.2 ):\n",
    "                return index\n",
    "            # if no new state found, return previous state\n",
    "            return prevst\n",
    "        # Bath state\n",
    "        elif radius > self.bathRad:\n",
    "            return self.Ncenters\n",
    "        else:\n",
    "            return prevst\n",
    "    \n",
    "        \n",
    "    # Overwrite getMilestones function\n",
    "    def getMilestones(self):\n",
    "        int_th = 2*np.pi/self.angularPartitions\n",
    "        # inner MSM\n",
    "        for i in range(self.Ncenters):\n",
    "            self.milestones[i] = self.centers[i]\n",
    "        # entry states\n",
    "        for i in range(self.angularPartitions):\n",
    "            j = i + self.Ncenters;\n",
    "            r = 0.5*(self.innerMSMrad + self.entryRad)\n",
    "            th = i*int_th + 0.5*int_th\n",
    "            self.milestones[j] = [r*np.cos(th), r*np.sin(th)]\n",
    "        # exit states\n",
    "        for i in range(self.angularPartitions):\n",
    "            j = i + self.Ncenters + self.angularPartitions;\n",
    "            r = 0.5*(self.entryRad + self.bathRad)\n",
    "            th = i*int_th + 0.5*int_th\n",
    "            self.milestones[j] = [r*np.cos(th), r*np.sin(th)]\n",
    "                # entry states\n",
    "        for i in range(self.angularPartitions):\n",
    "            j = i + self.Ncenters + 2*self.angularPartitions;\n",
    "            r = 0.5*(self.bathRad + self.bathRadOut)\n",
    "            th = i*int_th + 0.5*int_th\n",
    "            self.milestones[j] = [r*np.cos(th), r*np.sin(th)]\n",
    "        \n",
    "    \n",
    "    # Overwrite getRegionMap function\n",
    "    def getRegionMap(self):\n",
    "        for i in range(self.Ncenters):\n",
    "            statename = 'Inner state ' + str(i)\n",
    "            self.regionMap[i] = statename\n",
    "        for i in range(self.angularPartitions):\n",
    "            statename = 'Entry state ' + str(i)\n",
    "            j = self.Ncenters + i\n",
    "            self.regionMap[j] = statename\n",
    "        for i in range(self.angularPartitions):\n",
    "            statename = 'Exit state ' + str(i)\n",
    "            j = self.Ncenters + self.angularPartitions + i\n",
    "            self.regionMap[j] = statename\n",
    "        for i in range(self.angularPartitions):\n",
    "            statename = 'Bath state ' + str(i)\n",
    "            j = self.Ncenters + 2*self.angularPartitions + i\n",
    "            self.regionMap[j] = statename\n"
   ]
  },
  {
   "cell_type": "code",
   "execution_count": 3,
   "metadata": {
    "collapsed": true
   },
   "outputs": [],
   "source": [
    "numfiles = 16\n",
    "# Extract trajectories from file using asym2Dtraj class\n",
    "fname = '../data/asym2D/2DasymTrajsLong_smallR_bigT_'\n",
    "minima = [[0.0,0.0], [1.0,0.0] , [1.1, 1.0], [-0.1,0.9], [-1.3,0.8], \\\n",
    "                       [-1.0,-0.2], [-0.6,-1.0], [0.9,-0.8], [0.2,-1.5]]\n",
    "alltrajs = asym2Dtraj(minima, []) # define allTrajs object\n",
    "#alltrajs = allTrajs_inner([])\n",
    "dimension = 2\n",
    "for number in range(numfiles):\n",
    "    f = h5py.File(fname + str(number) + '.h5', 'r')\n",
    "    data = np.array(f['traj'], dtype=float)\n",
    "    f.close()\n",
    "    traj = data[::5,1:dimension+1]\n",
    "    alltrajs.Trajs.append(traj)"
   ]
  },
  {
   "cell_type": "code",
   "execution_count": 4,
   "metadata": {
    "collapsed": false
   },
   "outputs": [],
   "source": [
    "# Calculate discrete trajectories and make sure it is clean (no \"None\" elements)\n",
    "dtrajs = alltrajs.getdTrajsclean()"
   ]
  },
  {
   "cell_type": "code",
   "execution_count": 9,
   "metadata": {
    "collapsed": false
   },
   "outputs": [],
   "source": [
    "class asym2Dmilestoning(object):\n",
    "    def __init__(self, centers, bathRadius):\n",
    "        self.centers = centers\n",
    "        self.bathRadius = bathRadius\n",
    "        #the index of the bath state is given by the number of centers \n",
    "        self.bathIndex = len(centers)\n",
    "        #total number of states is Ncenters (in this case there is no bath state)\n",
    "        self.Nstates = self.bathIndex\n",
    "        self.innerMSMrad = np.max(np.linalg.norm(self.centers, axis=1))+0.2\n",
    "        self.transitionProbs = []\n",
    "        \n",
    "    #compute transition times from a list of trajectories\n",
    "    def computeMeanTransitionTimes(self, timestep, dTrajs):\n",
    "        sumTau = np.zeros((self.Nstates, self.Nstates))\n",
    "        counts = np.zeros((self.Nstates, self.Nstates))\n",
    "        for dTraj in self.dTrajs:\n",
    "            i = 0\n",
    "            tau = 0\n",
    "            statesVisited = [dTraj[0]]\n",
    "            while i<len(dTraj):\n",
    "                i += 1\n",
    "                if dTraj[i] == dTraj[i-1]:\n",
    "                    tau += 1\n",
    "                else:\n",
    "                    if not np.in1d(dTraj[i], statesVisited):\n",
    "                        sumTau[transitionFrom, dTraj[i]] += tau\n",
    "                        counts[transitionFrom, dTraj[i]] += 1\n",
    "                        if nextTransitionIndex < 0:\n",
    "                            nextTransitionIndex = i\n",
    "                        statesVisited.appen(dTraj[i])\n",
    "                        tau +=1\n",
    "                    else:\n",
    "                        statesVisited = [dTraj[nextTransitionIndex]]\n",
    "                        i = nextTransitionIndex\n",
    "                        nextTransitionIndex = -1\n",
    "                        tau = 0\n",
    "        for i in range(0, self.Nstates):\n",
    "            for j in range(0, self.Nstates):\n",
    "                if counts[i,j] != 0:\n",
    "                    self.meanTransitionTimes[i,j] = sumTau[i,j] / counts[i,j] * timestep\n",
    "        '''\n",
    "        for dTraj in self.dTrajs:\n",
    "            tau = 0\n",
    "            statesVisited = []\n",
    "            for i in range(len(dTraj)):\n",
    "                if dTraj[i] == dTraj[i-1]:\n",
    "                    tau += 1\n",
    "                else:\n",
    "                    sumTau[dTraj[i-1], dTraj[i]] += tau\n",
    "                    nextTransitionIndex = i\n",
    "                    counts[dTraj[i-1], dTraj[i]] += 1\n",
    "                    \n",
    "                    \n",
    "                    tau = 0\n",
    "        nonzeros = np.where(counts!=0)[0]\n",
    "        self.meanTransitionTimes = np.zeros_like(counts)\n",
    "        '''\n",
    "\n",
    "\n",
    "    def getState(self, coord, prevst):\n",
    "        radius = np.linalg.norm(coord)\n",
    "        # inner MSM\n",
    "        if radius < self.innerMSMrad:\n",
    "            cen2coord = self.centers - coord\n",
    "            norm = np.linalg.norm(cen2coord, axis = 1)\n",
    "            index = np.argmin(norm)\n",
    "            if (norm[index] <= 0.2 ):\n",
    "                return index\n",
    "            # if no new state found, return previous state\n",
    "            else:\n",
    "                return prevst\n",
    "        # bath state\n",
    "        elif radius > self.bathRadius:\n",
    "            return self.bathIndex\n",
    "        else: \n",
    "            return prevst\n",
    "        \n",
    "    def computeMilestoningTraj(self, trajs):\n",
    "        self.dTrajs = []\n",
    "        for traj in trajs:\n",
    "            dTraj = np.zeros(len(traj))\n",
    "            dTraj[0] = 0\n",
    "            for i in range(1, len(traj)):\n",
    "                dTraj[i] = self.getState(traj[i], dTraj[i-1])\n",
    "                if math.isnan(dTraj[i]):\n",
    "                    print dTraj[i-1]\n",
    "                    print traj[i]\n",
    "                    print self.centers - traj[i]\n",
    "                    print np.linalg.norm(self.centers - traj[i], axis = 1)\n",
    "                    print np.argmin( np.linalg.norm(self.centers - traj[i], axis = 1))\n",
    "            self.dTrajs.append(dTraj)"
   ]
  },
  {
   "cell_type": "code",
   "execution_count": 10,
   "metadata": {
    "collapsed": true
   },
   "outputs": [],
   "source": [
    "def computeMeanTransitionTimes(timestep, mobj):\n",
    "    sumTau = np.zeros((mobj.Nstates, mobj.Nstates))\n",
    "    counts = np.zeros((mobj.Nstates, mobj.Nstates))\n",
    "    for dTraj in mobj.dTrajs:\n",
    "        i = 1\n",
    "        tau = 1\n",
    "        statesVisited = [dTraj[0]]\n",
    "        transitionFrom = dTraj[0]\n",
    "        nextTransitionIndex = -1\n",
    "        while i<len(dTraj)-1:\n",
    "            i += 1\n",
    "            if dTraj[i] == dTraj[i-1]:\n",
    "                tau += 1\n",
    "            else:\n",
    "                if len(statesVisited) == mobj.Nstates:\n",
    "                    transitionFrom = dTraj[nextTransitionIndex]\n",
    "                    statesVisited = [transitionFrom]\n",
    "                    i = nextTransitionIndex\n",
    "                    nextTransitionIndex = -1\n",
    "                    tau = 1 \n",
    "                elif not np.in1d(dTraj[i], statesVisited):\n",
    "                    sumTau[transitionFrom, dTraj[i]] += tau\n",
    "                    counts[transitionFrom, dTraj[i]] += 1\n",
    "                    if nextTransitionIndex < 0:\n",
    "                        nextTransitionIndex = i\n",
    "                    statesVisited.append(dTraj[i])\n",
    "                    tau +=1\n",
    "                else:\n",
    "                    tau += 1\n",
    "    meanTransitionTimes = np.zeros((mobj.Nstates, mobj.Nstates))\n",
    "    for i in range(0, mobj.Nstates):\n",
    "        for j in range(0, mobj.Nstates):\n",
    "            if counts[i,j] != 0:\n",
    "                meanTransitionTimes[i,j] = sumTau[i,j] / counts[i,j] * timestep\n",
    "    return meanTransitionTimes"
   ]
  },
  {
   "cell_type": "code",
   "execution_count": 11,
   "metadata": {
    "collapsed": false
   },
   "outputs": [],
   "source": [
    "minima = [[0.0,0.0], [1.0,0.0] , [1.1, 1.0], [-0.1,0.9], [-1.3,0.8], [-1.0,-0.2], [-0.6,-1.0], [0.9,-0.8], [0.2,-1.5]]\n",
    "milestoning = asym2Dmilestoning(minima, 3.0)\n",
    "milestoning.computeMilestoningTraj(trajs)"
   ]
  },
  {
   "cell_type": "code",
   "execution_count": 12,
   "metadata": {
    "collapsed": false
   },
   "outputs": [
    {
     "name": "stderr",
     "output_type": "stream",
     "text": [
      "/srv/public/dibakma/miniconda2/lib/python2.7/site-packages/ipykernel/__main__.py:22: VisibleDeprecationWarning: using a non-integer number instead of an integer will result in an error in the future\n",
      "/srv/public/dibakma/miniconda2/lib/python2.7/site-packages/ipykernel/__main__.py:23: VisibleDeprecationWarning: using a non-integer number instead of an integer will result in an error in the future\n"
     ]
    }
   ],
   "source": [
    "MTT = computeMeanTransitionTimes(0.01, milestoning)"
   ]
  },
  {
   "cell_type": "code",
   "execution_count": 13,
   "metadata": {
    "collapsed": false,
    "scrolled": true
   },
   "outputs": [
    {
     "data": {
      "text/plain": [
       "<matplotlib.colorbar.Colorbar at 0x7f8886ece610>"
      ]
     },
     "execution_count": 13,
     "metadata": {},
     "output_type": "execute_result"
    },
    {
     "data": {
      "image/png": "[encoded data removed]",
      "text/plain": [
       "<matplotlib.figure.Figure at 0x7f8886ece650>"
      ]
     },
     "metadata": {},
     "output_type": "display_data"
    }
   ],
   "source": [
    "plt.matshow(MTT)\n",
    "plt.colorbar()\n",
    "#plt.clim((0., 9.0))"
   ]
  },
  {
   "cell_type": "code",
   "execution_count": 14,
   "metadata": {
    "collapsed": false
   },
   "outputs": [],
   "source": [
    "import pickle\n",
    "pickle.dump(MTT, open('2DasymMTT_inner.p', 'wa'))"
   ]
  },
  {
   "cell_type": "code",
   "execution_count": 72,
   "metadata": {
    "collapsed": false
   },
   "outputs": [
    {
     "name": "stdout",
     "output_type": "stream",
     "text": [
      "[1.1, 1.0]\n",
      "[-0.6, -1.0]\n"
     ]
    }
   ],
   "source": [
    "print minima[2]\n",
    "print minima[6]"
   ]
  },
  {
   "cell_type": "code",
   "execution_count": 74,
   "metadata": {
    "collapsed": false
   },
   "outputs": [
    {
     "data": {
      "text/plain": [
       "0.0"
      ]
     },
     "execution_count": 74,
     "metadata": {},
     "output_type": "execute_result"
    }
   ],
   "source": [
    "milestoning.meanTransitionTimes[6,2]"
   ]
  },
  {
   "cell_type": "code",
   "execution_count": null,
   "metadata": {
    "collapsed": true
   },
   "outputs": [],
   "source": []
  }
 ],
 "metadata": {
  "kernelspec": {
   "display_name": "Python 2",
   "language": "python",
   "name": "python2"
  },
  "language_info": {
   "codemirror_mode": {
    "name": "ipython",
    "version": 2
   },
   "file_extension": ".py",
   "mimetype": "text/x-python",
   "name": "python",
   "nbconvert_exporter": "python",
   "pygments_lexer": "ipython2",
   "version": "2.7.12"
  }
 },
 "nbformat": 4,
 "nbformat_minor": 0
}

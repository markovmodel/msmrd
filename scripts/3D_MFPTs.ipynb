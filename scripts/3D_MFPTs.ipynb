{
 "cells": [
  {
   "cell_type": "code",
   "execution_count": 30,
   "metadata": {
    "collapsed": true,
    "deletable": true,
    "editable": true
   },
   "outputs": [],
   "source": [
    "import numpy as np\n",
    "import pickle\n",
    "import matplotlib.pyplot as plt\n",
    "%matplotlib inline\n",
    "plt.style.use('paperPlot')"
   ]
  },
  {
   "cell_type": "code",
   "execution_count": 31,
   "metadata": {
    "collapsed": true,
    "deletable": true,
    "editable": true
   },
   "outputs": [],
   "source": [
    "path = '/group/ag_cmb/scratch/dibakma/MSMRD/asym3D/MFPTS/'"
   ]
  },
  {
   "cell_type": "code",
   "execution_count": 52,
   "metadata": {
    "collapsed": false,
    "deletable": true,
    "editable": true
   },
   "outputs": [],
   "source": [
    "mfpts_benchmark = pickle.load(open(path + 'mfpts_reference_10000runs_dt1E-3_SF2.0.p', 'r'))\n",
    "mfpts_hybrid = pickle.load(open(path + '/hybrid/mfpts_10000_runs_lag0.05_R2.5_120files_240partitions.p'))"
   ]
  },
  {
   "cell_type": "code",
   "execution_count": 97,
   "metadata": {
    "collapsed": false,
    "deletable": true,
    "editable": true
   },
   "outputs": [
    {
     "name": "stderr",
     "output_type": "stream",
     "text": [
      "/home/mi/dibakma/miniconda2/lib/python2.7/site-packages/ipykernel/__main__.py:2: RuntimeWarning: invalid value encountered in divide\n",
      "  from ipykernel import kernelapp as app\n"
     ]
    },
    {
     "data": {
      "text/plain": [
       "<matplotlib.colorbar.Colorbar at 0x7fbbbf8ebbd0>"
      ]
     },
     "execution_count": 97,
     "metadata": {},
     "output_type": "execute_result"
    },
    {
     "data": {
      "image/png": "[encoded data removed]",
      "text/plain": [
       "<matplotlib.figure.Figure at 0x7fbbbf8ebb50>"
      ]
     },
     "metadata": {},
     "output_type": "display_data"
    }
   ],
   "source": [
    "# Plot MFPTs errors\n",
    "plt.matshow(((mfpts_hybrid - mfpts_benchmark)/mfpts_benchmark))\n",
    "plt.colorbar()\n",
    "#plt.clim([-0.1,0.075])\n",
    "#plt.savefig('../Report/figs/periodicModel/3Dasym_MFPTS_R2.5_lag1.pdf')"
   ]
  },
  {
   "cell_type": "code",
   "execution_count": 99,
   "metadata": {
    "collapsed": false
   },
   "outputs": [
    {
     "name": "stdout",
     "output_type": "stream",
     "text": [
      "[ 3.0765649  2.7985002  2.5446058  3.2178387  3.1463437  2.6328091\n",
      "  3.1944361  3.1346181  2.6919413  0.       ] [ 3.0033683  2.8507102  2.4745639  3.2194564  3.1789409  2.6389771\n",
      "  3.2218033  3.1410963  2.6987744  0.       ]\n"
     ]
    }
   ],
   "source": [
    "print mfpts_hybrid[:,9], mfpts_benchmark[:,9]"
   ]
  },
  {
   "cell_type": "code",
   "execution_count": null,
   "metadata": {
    "collapsed": true,
    "deletable": true,
    "editable": true
   },
   "outputs": [],
   "source": [
    "fname = '../data/asym3D/MFPTS/hybrid/0to6_1runs_hybrid_box_dt0.01_exitCompensation.p'\n",
    "MFPT = pickle.load( open( fname, \"rb\" ) )"
   ]
  },
  {
   "cell_type": "code",
   "execution_count": 91,
   "metadata": {
    "collapsed": false
   },
   "outputs": [],
   "source": [
    "fpts_benchmark = pickle.load(open(path + 'fpts_reference_10000runs_dt1E-3_SF2.0.p', 'r'))\n",
    "fpts_benchmark = pickle.load(open('/group/ag_cmb/scratch/dibakma/MSMRD/asym3D/MFPTS/deprecated/8_bath_10000runs_0.001dt_2.0sf.p', 'r'))\n",
    "fpts_hybrid = pickle.load(open(path + '/hybrid/fpts_10000_runs_lag0.05_R2.5_120files_240partitions.p'))"
   ]
  },
  {
   "cell_type": "code",
   "execution_count": 96,
   "metadata": {
    "collapsed": false
   },
   "outputs": [
    {
     "data": {
      "image/png": "[encoded data removed]",
      "text/plain": [
       "<matplotlib.figure.Figure at 0x7fbbbb4fca90>"
      ]
     },
     "metadata": {},
     "output_type": "display_data"
    }
   ],
   "source": [
    "hist1 = plt.hist(fpts_benchmark, bins = 200, alpha=0.5, normed=True, label='benchmark')\n",
    "hist2 = plt.hist(fpts_hybrid[8][9], bins = hist1[1], alpha=0.5, normed=True, label='$\\\\tau = 0.05$')\n",
    "plt.xlim(0, 20)\n",
    "plt.legend()\n",
    "plt.savefig('../Report/figs/periodicModel/8toBathHistogram.pdf')"
   ]
  },
  {
   "cell_type": "code",
   "execution_count": 72,
   "metadata": {
    "collapsed": false
   },
   "outputs": [
    {
     "data": {
      "text/plain": [
       "9"
      ]
     },
     "execution_count": 72,
     "metadata": {},
     "output_type": "execute_result"
    }
   ],
   "source": [
    "len(fpts_benchmark[0])"
   ]
  },
  {
   "cell_type": "code",
   "execution_count": 171,
   "metadata": {
    "collapsed": false,
    "deletable": true,
    "editable": true
   },
   "outputs": [],
   "source": [
    "zeroonetransition = pickle.load(open('../data/asym3D/MFPTS/hybrid/0to1_10000runs_hybrid_box_lag20_200files_dt0.01_exitCompensation.p', 'r'))"
   ]
  },
  {
   "cell_type": "code",
   "execution_count": 173,
   "metadata": {
    "collapsed": false,
    "deletable": true,
    "editable": true
   },
   "outputs": [
    {
     "data": {
      "text/plain": [
       "1.1786427902617518"
      ]
     },
     "execution_count": 173,
     "metadata": {},
     "output_type": "execute_result"
    }
   ],
   "source": [
    "np.mean(zeroonetransition)/17.738058700004842"
   ]
  },
  {
   "cell_type": "code",
   "execution_count": 74,
   "metadata": {
    "collapsed": false,
    "deletable": true,
    "editable": true
   },
   "outputs": [],
   "source": [
    "runs = 10000\n",
    "# Load benchmark MFPTs from computed data\n",
    "MFPTs_Benchmark = np.zeros((10,10))\n",
    "for i in range(9):\n",
    "    originState = str(i)\n",
    "    for j in range(9):\n",
    "        if (j != i):\n",
    "            finalState = str(j)\n",
    "            fname = '../data/asym3D/MFPTS/' + originState + 'to' + finalState + '_10000runs_0.001dt_2sf.p'\n",
    "            MFPT = pickle.load( open( fname, \"rb\" ) )\n",
    "            MFPTs_Benchmark[i,j] = np.mean(MFPT)\n",
    "    MFPTs_Benchmark[i, 9] = np.mean(pickle.load(open('/group/ag_cmb/scratch/dibakma/MSMRD/asym3D/MFPTS/deprecated/'+str(i)+'_bath_'+str(runs)+'runs_0.001dt_2.0sf.p', 'r')))\n",
    "    MFPTs_Benchmark[9,i] = np.mean(pickle.load(open('/group/ag_cmb/scratch/dibakma/MSMRD/asym3D/MFPTS/deprecated/bath_'+str(i)+'_'+str(runs)+'runs_0.001dt_2.0sf.p', 'r')))\n",
    "# Load hybrid model MFPTs \n",
    "MFPTs_Hybrid = np.zeros((10,10))\n",
    "for i in range(9):\n",
    "    originState = str(i)\n",
    "    for j in range(9):\n",
    "        if (j != i):\n",
    "            finalState = str(j)\n",
    "            fname = '../data/asym3D/MFPTS/hybrid/' + originState + 'to' + finalState + '_10000runs_hybrid_box_lag0.01_124files_240partitions_dt0.001_exitCompensation.p'\n",
    "            MFPT = pickle.load( open( fname, \"rb\" ) )\n",
    "            MFPTs_Hybrid[i,j] = np.mean(MFPT)\n",
    "    MFPTs_Hybrid[i, 9] = np.mean(pickle.load(open('../data/asym3D/MFPTS/hybrid/'+str(i)+'_to_bath_'+str(runs)+'runs_hybrid_box_dt0.001_lag0.01_124files_240partitions_exitCompensation.p', 'r')))\n",
    "    MFPTs_Hybrid[9,i] = np.mean(pickle.load(open('../data/asym3D/MFPTS/hybrid/bath_to_'+str(i)+'_'+str(runs)+'runs_hybrid_box_dt0.001_lag0.01_124files_240partitions_exitCompensation.p', 'r')))"
   ]
  },
  {
   "cell_type": "code",
   "execution_count": null,
   "metadata": {
    "collapsed": true
   },
   "outputs": [],
   "source": [
    "open('/group/ag_cmb/scratch/dibakma/MSMRD/asym3D/MFPTS/deprecated/')"
   ]
  },
  {
   "cell_type": "code",
   "execution_count": 103,
   "metadata": {
    "collapsed": false
   },
   "outputs": [],
   "source": [
    "fpts = []\n",
    "for i in range(9):\n",
    "    fromi = []\n",
    "    for j in range(9):\n",
    "        if i != j:\n",
    "            toj = pickle.load(open('/group/ag_cmb/scratch/dibakma/MSMRD/asym3D/MFPTS/deprecated/'+str(i)+'to'+str(j)+'_10000runs_0.001dt_2sf.p', 'r'))\n",
    "            fromi.append(toj)\n",
    "        else:\n",
    "            fromi.append([0])\n",
    "    tobath = pickle.load(open('/group/ag_cmb/scratch/dibakma/MSMRD/asym3D/MFPTS/deprecated/'+str(i)+'_bath_10000runs_0.001dt_2.0sf.p', 'r'))\n",
    "    fromi.append(tobath)\n",
    "    fpts.append(fromi)\n",
    "frombath = []\n",
    "for i in range(9):\n",
    "    frombath.append(pickle.load(open('/group/ag_cmb/scratch/dibakma/MSMRD/asym3D/MFPTS/deprecated/bath_'+str(i)+'_10000runs_0.001dt_2.0sf.p', 'r')))\n",
    "frombath.append([0])\n",
    "fpts.append(frombath)"
   ]
  },
  {
   "cell_type": "code",
   "execution_count": 109,
   "metadata": {
    "collapsed": false
   },
   "outputs": [],
   "source": [
    "pickle.dump(fpts, open('/group/ag_cmb/scratch/dibakma/MSMRD/asym3D/MFPTS/fpts_reference_10000runs_dt1E-3_SF2.0_all.p', 'wa'))"
   ]
  },
  {
   "cell_type": "code",
   "execution_count": null,
   "metadata": {
    "collapsed": true
   },
   "outputs": [],
   "source": []
  }
 ],
 "metadata": {
  "kernelspec": {
   "display_name": "Python 2",
   "language": "python",
   "name": "python2"
  },
  "language_info": {
   "codemirror_mode": {
    "name": "ipython",
    "version": 2
   },
   "file_extension": ".py",
   "mimetype": "text/x-python",
   "name": "python",
   "nbconvert_exporter": "python",
   "pygments_lexer": "ipython2",
   "version": "2.7.12"
  }
 },
 "nbformat": 4,
 "nbformat_minor": 2
}

{
 "cells": [
  {
   "cell_type": "code",
   "execution_count": 1,
   "metadata": {
    "collapsed": true
   },
   "outputs": [],
   "source": [
    "import numpy as np\n",
    "import pickle\n",
    "import matplotlib.pyplot as plt\n",
    "import os\n",
    "%matplotlib inline"
   ]
  },
  {
   "cell_type": "code",
   "execution_count": 2,
   "metadata": {
    "collapsed": false
   },
   "outputs": [],
   "source": [
    "# Load benchmark MFPTs from computed data\n",
    "MFPTs_Benchmark = np.zeros((9,9))\n",
    "for i in range(9):\n",
    "    originState = str(i)\n",
    "    for j in range(9):\n",
    "        if (j != i):\n",
    "            finalState = str(j)\n",
    "            fname = '../data/asym3D/MFPTS/' + originState + 'to' + finalState + '_10000runs_0.001dt_2sf.p'\n",
    "            MFPT = pickle.load( open( fname, \"rb\" ) )\n",
    "            MFPTs_Benchmark[i,j] = np.mean(MFPT)"
   ]
  },
  {
   "cell_type": "code",
   "execution_count": 9,
   "metadata": {
    "collapsed": false
   },
   "outputs": [
    {
     "data": {
      "text/plain": [
       "<matplotlib.colorbar.Colorbar at 0x7f77fa6d4650>"
      ]
     },
     "execution_count": 9,
     "metadata": {},
     "output_type": "execute_result"
    },
    {
     "data": {
      "image/png": "[encoded data removed]",
      "text/plain": [
       "<matplotlib.figure.Figure at 0x7f77fa6d4f50>"
      ]
     },
     "metadata": {},
     "output_type": "display_data"
    }
   ],
   "source": [
    "# Plot MFPTs for benchmark\n",
    "plt.matshow(MFPTs_Hybrid)\n",
    "plt.colorbar()"
   ]
  },
  {
   "cell_type": "code",
   "execution_count": 3,
   "metadata": {
    "collapsed": false
   },
   "outputs": [
    {
     "data": {
      "text/plain": [
       "<matplotlib.colorbar.Colorbar at 0x7f77fda33710>"
      ]
     },
     "execution_count": 3,
     "metadata": {},
     "output_type": "execute_result"
    },
    {
     "data": {
      "image/png": "[encoded data removed]",
      "text/plain": [
       "<matplotlib.figure.Figure at 0x7f77fda33650>"
      ]
     },
     "metadata": {},
     "output_type": "display_data"
    }
   ],
   "source": [
    "# Plot MFPTs for benchmark\n",
    "plt.matshow(MFPTs_Benchmark)\n",
    "plt.colorbar()"
   ]
  },
  {
   "cell_type": "code",
   "execution_count": 5,
   "metadata": {
    "collapsed": false
   },
   "outputs": [],
   "source": [
    "# Load hybrid model MFPTs \n",
    "MFPTs_Hybrid = np.zeros((9,9))\n",
    "for i in range(9):\n",
    "    originState = str(i)\n",
    "    for j in range(9):\n",
    "        if (j != i):\n",
    "            finalState = str(j)\n",
    "            fname = '../data/asym3D/MFPTS/hybrid/' + originState + 'to' + finalState + '_10000runs_hybrid_box_dt0.01_exitCompensation.p'\n",
    "            MFPT = pickle.load( open( fname, \"rb\" ) )\n",
    "            MFPTs_Hybrid[i,j] = np.mean(MFPT)"
   ]
  },
  {
   "cell_type": "code",
   "execution_count": 20,
   "metadata": {
    "collapsed": false
   },
   "outputs": [
    {
     "name": "stderr",
     "output_type": "stream",
     "text": [
      "/home/maojrs/miniconda2/lib/python2.7/site-packages/ipykernel/__main__.py:2: RuntimeWarning: invalid value encountered in divide\n",
      "  from ipykernel import kernelapp as app\n"
     ]
    },
    {
     "data": {
      "text/plain": [
       "<matplotlib.colorbar.Colorbar at 0x7f77f97b0e50>"
      ]
     },
     "execution_count": 20,
     "metadata": {},
     "output_type": "execute_result"
    },
    {
     "data": {
      "image/png": "[encoded data removed]",
      "text/plain": [
       "<matplotlib.figure.Figure at 0x7f77f97b0550>"
      ]
     },
     "metadata": {},
     "output_type": "display_data"
    }
   ],
   "source": [
    "# Plot MFPTs errors\n",
    "plt.matshow((MFPTs_Hybrid - MFPTs_Benchmark)/MFPTs_Benchmark)\n",
    "plt.colorbar()\n",
    "#plt.clim([0,0.3])"
   ]
  },
  {
   "cell_type": "code",
   "execution_count": null,
   "metadata": {
    "collapsed": true
   },
   "outputs": [],
   "source": [
    "fname = '../data/asym3D/MFPTS/hybrid/0to6_1runs_hybrid_box_dt0.01_exitCompensation.p'\n",
    "MFPT = pickle.load( open( fname, \"rb\" ) )\n"
   ]
  },
  {
   "cell_type": "code",
   "execution_count": null,
   "metadata": {
    "collapsed": false
   },
   "outputs": [],
   "source": [
    "MFPT"
   ]
  },
  {
   "cell_type": "code",
   "execution_count": null,
   "metadata": {
    "collapsed": true
   },
   "outputs": [],
   "source": []
  }
 ],
 "metadata": {
  "kernelspec": {
   "display_name": "Python 2",
   "language": "python",
   "name": "python2"
  },
  "language_info": {
   "codemirror_mode": {
    "name": "ipython",
    "version": 2
   },
   "file_extension": ".py",
   "mimetype": "text/x-python",
   "name": "python",
   "nbconvert_exporter": "python",
   "pygments_lexer": "ipython2",
   "version": "2.7.12"
  }
 },
 "nbformat": 4,
 "nbformat_minor": 2
}

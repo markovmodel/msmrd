{
 "cells": [
  {
   "cell_type": "code",
   "execution_count": 1,
   "metadata": {
    "collapsed": false
   },
   "outputs": [],
   "source": [
    "import numpy as np\n",
    "import MSMRD as mrd\n",
    "import MSMRD.integrators as integrators\n",
    "import pickle\n",
    "import matplotlib.pyplot as plt\n",
    "%matplotlib inline"
   ]
  },
  {
   "cell_type": "code",
   "execution_count": 2,
   "metadata": {
    "collapsed": true
   },
   "outputs": [],
   "source": [
    "#define MSMmodel class to read in data\n",
    "class MSMmodel(object):    \n",
    "    def __init__(self, tmatrix, centers, parameters):\n",
    "        self.tmatrix = tmatrix\n",
    "        self.centers= centers\n",
    "        self.parameters = parameters"
   ]
  },
  {
   "cell_type": "code",
   "execution_count": 3,
   "metadata": {
    "collapsed": true
   },
   "outputs": [],
   "source": [
    "def discreteHistogram(data):\n",
    "    d = np.diff(np.unique(data)).min()\n",
    "    left_of_first_bin = data.min() - float(d)/2\n",
    "    right_of_last_bin = data.max() + float(d)/2\n",
    "    hist = plt.hist(data, np.arange(left_of_first_bin, right_of_last_bin + d, d))\n",
    "    centers = (hist[1][1:] + hist[1][:-1])/2\n",
    "    return hist, centers"
   ]
  },
  {
   "cell_type": "code",
   "execution_count": 4,
   "metadata": {
    "collapsed": false
   },
   "outputs": [],
   "source": [
    "model = pickle.load(open('../data/asym2D_lag100.p'))"
   ]
  },
  {
   "cell_type": "code",
   "execution_count": 5,
   "metadata": {
    "collapsed": false
   },
   "outputs": [
    {
     "name": "stdout",
     "output_type": "stream",
     "text": [
      "[  2.95086895e-05   2.87292075e-04   7.17033613e-04   1.45258210e-04\n",
      "   8.00859538e-04   2.41782194e-04   3.70360519e-04   3.68724129e-04\n",
      "   7.00350008e-04   6.14710144e-02   6.00527124e-02   5.69846522e-02\n",
      "   5.77265647e-02   6.35010810e-02   6.41667453e-02   5.61384912e-02\n",
      "   5.48796104e-02   5.60654977e-02   6.17826312e-02   5.68306267e-02\n",
      "   5.78807923e-02   5.99774910e-02   6.09972123e-02   6.33174876e-02\n",
      "   3.60939482e-01   3.66606389e-01   3.64514221e-01   3.64404071e-01\n",
      "   3.62791830e-01   3.67991256e-01   3.64810506e-01   3.58930705e-01\n",
      "   3.58011751e-01   3.59462757e-01   3.60509612e-01   3.61186425e-01\n",
      "   3.62968341e-01   3.63773731e-01   3.63033473e-01   8.47894675e-01\n",
      "   8.46465682e-01   8.43782940e-01   8.48533813e-01   8.48018774e-01\n",
      "   8.48939358e-01   8.47376572e-01   8.44943292e-01   8.46664180e-01\n",
      "   8.45888011e-01   8.48111628e-01   8.44787478e-01   8.47146266e-01\n",
      "   8.46093178e-01   8.49122642e-01]\n"
     ]
    }
   ],
   "source": [
    "print np.sum(model.tmatrix[:,-15:],axis=1)"
   ]
  },
  {
   "cell_type": "code",
   "execution_count": 7,
   "metadata": {
    "collapsed": false
   },
   "outputs": [
    {
     "name": "stdout",
     "output_type": "stream",
     "text": [
      "[ 0.          0.          0.          0.          0.          0.          0.\n",
      "  0.          0.          0.06147101  0.06005271  0.05698465  0.05772656\n",
      "  0.06350108  0.06416675  0.05613849  0.05487961  0.0560655   0.06178263\n",
      "  0.05683063  0.05788079  0.05997749  0.06099721  0.06331749  0.36093948\n",
      "  0.36660639  0.36451422  0.36440407  0.36279183  0.36799126  0.36481051\n",
      "  0.3589307   0.35801175  0.35946276  0.36050961  0.36118643  0.36296834\n",
      "  0.36377373  0.36303347  0.84789467  0.84646568  0.84378294  0.84853381\n",
      "  0.84801877  0.84893936  0.84737657  0.84494329  0.84666418  0.84588801\n",
      "  0.84811163  0.84478748  0.84714627  0.84609318  0.84912264]\n"
     ]
    }
   ],
   "source": [
    "T = np.copy(model.tmatrix)\n",
    "for i in range(model.parameters['NCenters']):\n",
    "    for j in range(model.parameters['NangularPartitions']):\n",
    "        T[i,-j-1] = 0\n",
    "for i in range(len(T)):\n",
    "    T[i,:] /= np.sum(T[i,:])\n",
    "print np.sum(T[:,-15:],axis=1)"
   ]
  },
  {
   "cell_type": "code",
   "execution_count": 8,
   "metadata": {
    "collapsed": false
   },
   "outputs": [],
   "source": [
    "msm = mrd.MSM(T, model.centers)"
   ]
  },
  {
   "cell_type": "code",
   "execution_count": 9,
   "metadata": {
    "collapsed": false
   },
   "outputs": [],
   "source": [
    "#overwrite exit states, now there is only 1 state from which the MSM can be exited\n",
    "msm.exitStates = np.arange(model.parameters['NCenters'] + 2*model.parameters['NangularPartitions'], model.parameters['NCenters'] + 3*model.parameters['NangularPartitions'])"
   ]
  },
  {
   "cell_type": "code",
   "execution_count": 10,
   "metadata": {
    "collapsed": false
   },
   "outputs": [
    {
     "data": {
      "text/plain": [
       "[<matplotlib.lines.Line2D at 0x7f4f30bd0d90>]"
      ]
     },
     "execution_count": 10,
     "metadata": {},
     "output_type": "execute_result"
    },
    {
     "data": {
      "image/png": "[encoded data removed]",
      "text/plain": [
       "<matplotlib.figure.Figure at 0x7f4f61caabd0>"
      ]
     },
     "metadata": {},
     "output_type": "display_data"
    }
   ],
   "source": [
    "plt.plot((model.tmatrix - T)[0,:10], 'o')\n",
    "plt.plot(model.tmatrix[0,:10], 'x')\n",
    "plt.plot(T[0,:10])"
   ]
  },
  {
   "cell_type": "code",
   "execution_count": 11,
   "metadata": {
    "collapsed": false
   },
   "outputs": [
    {
     "name": "stdout",
     "output_type": "stream",
     "text": [
      "[39 40 41 42 43 44 45 46 47 48 49 50 51 52 53]\n",
      "[0]\n"
     ]
    }
   ],
   "source": [
    "#print just for checking\n",
    "print msm.exitStates\n",
    "print msm.entryStates"
   ]
  },
  {
   "cell_type": "code",
   "execution_count": 12,
   "metadata": {
    "collapsed": false
   },
   "outputs": [],
   "source": [
    "p = mrd.particle(np.array([-1.9, -1.9]), 1.)\n",
    "integrator = integrators.MSMRDexitSampling(msm, 4.0, p, 0.1, model.parameters)"
   ]
  },
  {
   "cell_type": "code",
   "execution_count": 13,
   "metadata": {
    "collapsed": false
   },
   "outputs": [
    {
     "name": "stdout",
     "output_type": "stream",
     "text": [
      "[  0.00000000e+00   0.00000000e+00   0.00000000e+00   0.00000000e+00\n",
      "   0.00000000e+00   0.00000000e+00   0.00000000e+00   0.00000000e+00\n",
      "   0.00000000e+00   8.78159281e-03   5.33146070e-05   0.00000000e+00\n",
      "   0.00000000e+00   0.00000000e+00   0.00000000e+00   0.00000000e+00\n",
      "   0.00000000e+00   0.00000000e+00   0.00000000e+00   0.00000000e+00\n",
      "   4.39764953e-06   4.42732572e-05   9.38294484e-03   4.36228627e-02\n",
      "   4.88514472e-02   7.66329886e-05   0.00000000e+00   0.00000000e+00\n",
      "   0.00000000e+00   0.00000000e+00   0.00000000e+00   0.00000000e+00\n",
      "   0.00000000e+00   0.00000000e+00   0.00000000e+00   0.00000000e+00\n",
      "   1.05691398e-04   5.00658068e-02   2.60443286e-01   1.00414865e-01\n",
      "   4.34023451e-05   0.00000000e+00   0.00000000e+00   0.00000000e+00\n",
      "   0.00000000e+00   0.00000000e+00   0.00000000e+00   0.00000000e+00\n",
      "   0.00000000e+00   0.00000000e+00   0.00000000e+00   6.05886724e-05\n",
      "   1.00911252e-01   6.42798230e-01]\n",
      "2.6\n"
     ]
    },
    {
     "data": {
      "image/png": "[encoded data removed]",
      "text/plain": [
       "<matplotlib.figure.Figure at 0x7f4f30b97550>"
      ]
     },
     "metadata": {},
     "output_type": "display_data"
    }
   ],
   "source": [
    "plt.plot(msm.T[:,-1])\n",
    "print msm.T[:,-1]\n",
    "print integrator.entryRadius"
   ]
  },
  {
   "cell_type": "code",
   "execution_count": 14,
   "metadata": {
    "collapsed": false
   },
   "outputs": [
    {
     "name": "stderr",
     "output_type": "stream",
     "text": [
      "/srv/public/dibakma/miniconda2/lib/python2.7/site-packages/MSMRD-0.1-py2.7.egg/MSMRD/simulation.py:12: VisibleDeprecationWarning: using a non-integer number instead of an integer will result in an error in the future\n",
      "/srv/public/dibakma/miniconda2/lib/python2.7/site-packages/MSMRD-0.1-py2.7.egg/MSMRD/MSM.py:24: VisibleDeprecationWarning: using a non-integer number instead of an integer will result in an error in the future\n"
     ]
    }
   ],
   "source": [
    "sim = mrd.simulation(integrator)\n",
    "sim.run(1000000, sample=True)"
   ]
  },
  {
   "cell_type": "code",
   "execution_count": 15,
   "metadata": {
    "collapsed": false
   },
   "outputs": [
    {
     "name": "stdout",
     "output_type": "stream",
     "text": [
      "[[  0.00000000e+00  -1.99296094e+00  -1.71596527e+00  -1.00000000e+00]\n",
      " [  1.00000000e-01  -1.90447323e+00  -1.84115710e+00  -1.00000000e+00]\n",
      " [  2.00000000e-01   0.00000000e+00   0.00000000e+00   1.00000000e+01]\n",
      " ..., \n",
      " [  9.99997000e+04   0.00000000e+00   0.00000000e+00   1.90000000e+01]\n",
      " [  9.99998000e+04   0.00000000e+00   0.00000000e+00   3.40000000e+01]\n",
      " [  9.99999000e+04  -1.74732939e+00  -2.99801750e+00  -1.00000000e+00]]\n"
     ]
    }
   ],
   "source": [
    "print sim.traj"
   ]
  },
  {
   "cell_type": "code",
   "execution_count": 16,
   "metadata": {
    "collapsed": false
   },
   "outputs": [
    {
     "data": {
      "text/plain": [
       "<matplotlib.colorbar.Colorbar at 0x7f4f2eaae2d0>"
      ]
     },
     "execution_count": 16,
     "metadata": {},
     "output_type": "execute_result"
    },
    {
     "data": {
      "image/png": "[encoded data removed]",
      "text/plain": [
       "<matplotlib.figure.Figure at 0x7f4f30b97350>"
      ]
     },
     "metadata": {},
     "output_type": "display_data"
    }
   ],
   "source": [
    "BDregion = np.where(sim.traj[:,3]==-1)[0]\n",
    "obj = plt.hist2d(sim.traj[BDregion,1], sim.traj[BDregion,2], bins=200)\n",
    "plt.colorbar()"
   ]
  },
  {
   "cell_type": "code",
   "execution_count": 17,
   "metadata": {
    "collapsed": false
   },
   "outputs": [],
   "source": [
    "class asym2DmilestoningMSMRD(object):\n",
    "    def __init__(self, bathRadius, Ncenters):\n",
    "        self.bathRadius = bathRadius\n",
    "        self.Ncenters = Ncenters\n",
    "        self.Nstates = Ncenters+1\n",
    "    \n",
    "    def getState(self, sample, prevstate):\n",
    "        #check BD region first\n",
    "        if sample[2] == -1:\n",
    "            if np.linalg.norm(sample[:2]) > self.bathRadius:\n",
    "                return self.Ncenters\n",
    "            else:\n",
    "                return prevstate\n",
    "        else:\n",
    "            if sample[2] < self.Ncenters:\n",
    "                return sample[2]\n",
    "            else:\n",
    "                return prevstate\n",
    "            \n",
    "    def computeMilestoningTraj(self, traj):\n",
    "        self.dTraj = np.zeros(len(traj))\n",
    "        self.dTraj[0] = 0\n",
    "        for i in range(1, len(traj)):\n",
    "            self.dTraj[i] = self.getState(traj[i], self.dTraj[i-1])\n",
    "            \n",
    "    def computeMeanTransitionTimes(self, timestep):\n",
    "        sumTau = np.zeros((self.Nstates, self.Nstates))\n",
    "        counts = np.zeros((self.Nstates, self.Nstates))\n",
    "        tau = 0\n",
    "        for i in range(len(self.dTraj)):\n",
    "            if self.dTraj[i] == self.dTraj[i-1]:\n",
    "                tau += 1\n",
    "            else:\n",
    "                sumTau[self.dTraj[i-1], self.dTraj[i]] += tau\n",
    "                counts[self.dTraj[i-1], self.dTraj[i]] += 1\n",
    "                tau = 0\n",
    "        nonzeros = np.where(counts!=0)[0]\n",
    "        self.meanTransitionTimes = np.zeros_like(counts)\n",
    "        for i in range(0, int(self.Nstates)):\n",
    "            for j in range(0, int(self.Nstates)):\n",
    "                if counts[i,j] != 0:\n",
    "                    self.meanTransitionTimes[i,j] = sumTau[i,j] / counts[i,j] * timestep\n",
    "        self.counts = counts"
   ]
  },
  {
   "cell_type": "code",
   "execution_count": 19,
   "metadata": {
    "collapsed": true
   },
   "outputs": [],
   "source": [
    "def computeMeanTransitionTimes(timestep, mobj):\n",
    "    sumTau = np.zeros((mobj.Nstates, mobj.Nstates))\n",
    "    counts = np.zeros((mobj.Nstates, mobj.Nstates))\n",
    "    for dTraj in [mobj.dTraj]:\n",
    "        i = 1\n",
    "        tau = 1\n",
    "        statesVisited = [dTraj[0]]\n",
    "        transitionFrom = dTraj[0]\n",
    "        nextTransitionIndex = -1\n",
    "        while i<len(dTraj)-1:\n",
    "            i += 1\n",
    "            if dTraj[i] == dTraj[i-1]:\n",
    "                tau += 1\n",
    "            else:\n",
    "                if not np.in1d(dTraj[i], statesVisited):\n",
    "                    sumTau[transitionFrom, dTraj[i]] += tau\n",
    "                    counts[transitionFrom, dTraj[i]] += 1\n",
    "                    if nextTransitionIndex < 0:\n",
    "                        nextTransitionIndex = i\n",
    "                    statesVisited.append(dTraj[i])\n",
    "                    tau +=1\n",
    "                else:\n",
    "                    transitionFrom = dTraj[nextTransitionIndex]\n",
    "                    statesVisited = [transitionFrom]\n",
    "                    i = nextTransitionIndex\n",
    "                    nextTransitionIndex = -1\n",
    "                    tau = 1\n",
    "    meanTransitionTimes = np.zeros((mobj.Nstates, mobj.Nstates))\n",
    "    for i in range(0, mobj.Nstates):\n",
    "        for j in range(0, mobj.Nstates):\n",
    "            if counts[i,j] != 0:\n",
    "                meanTransitionTimes[i,j] = sumTau[i,j] / counts[i,j] * timestep\n",
    "    return meanTransitionTimes"
   ]
  },
  {
   "cell_type": "code",
   "execution_count": 20,
   "metadata": {
    "collapsed": false
   },
   "outputs": [],
   "source": [
    "milestoning = asym2DmilestoningMSMRD(3.0, 9)\n",
    "milestoning.computeMilestoningTraj(sim.traj[:,1:4])"
   ]
  },
  {
   "cell_type": "code",
   "execution_count": 21,
   "metadata": {
    "collapsed": false
   },
   "outputs": [
    {
     "name": "stderr",
     "output_type": "stream",
     "text": [
      "/srv/public/dibakma/miniconda2/lib/python2.7/site-packages/ipykernel/__main__.py:34: VisibleDeprecationWarning: using a non-integer number instead of an integer will result in an error in the future\n",
      "/srv/public/dibakma/miniconda2/lib/python2.7/site-packages/ipykernel/__main__.py:35: VisibleDeprecationWarning: using a non-integer number instead of an integer will result in an error in the future\n"
     ]
    }
   ],
   "source": [
    "milestoning.computeMeanTransitionTimes(0.1)"
   ]
  },
  {
   "cell_type": "code",
   "execution_count": 22,
   "metadata": {
    "collapsed": false
   },
   "outputs": [
    {
     "name": "stderr",
     "output_type": "stream",
     "text": [
      "/srv/public/dibakma/miniconda2/lib/python2.7/site-packages/ipykernel/__main__.py:16: VisibleDeprecationWarning: using a non-integer number instead of an integer will result in an error in the future\n",
      "/srv/public/dibakma/miniconda2/lib/python2.7/site-packages/ipykernel/__main__.py:17: VisibleDeprecationWarning: using a non-integer number instead of an integer will result in an error in the future\n"
     ]
    }
   ],
   "source": [
    "MTT = computeMeanTransitionTimes(0.1, milestoning)"
   ]
  },
  {
   "cell_type": "code",
   "execution_count": 23,
   "metadata": {
    "collapsed": false
   },
   "outputs": [
    {
     "data": {
      "image/png": "[encoded data removed]",
      "text/plain": [
       "<matplotlib.figure.Figure at 0x7f4f30c0c410>"
      ]
     },
     "metadata": {},
     "output_type": "display_data"
    }
   ],
   "source": [
    "plt.matshow(MTT)\n",
    "plt.colorbar()\n",
    "plt.clim((0., 5.0))"
   ]
  },
  {
   "cell_type": "code",
   "execution_count": 29,
   "metadata": {
    "collapsed": false
   },
   "outputs": [
    {
     "data": {
      "image/png": "[encoded data removed]",
      "text/plain": [
       "<matplotlib.figure.Figure at 0x7f21b8278e50>"
      ]
     },
     "metadata": {},
     "output_type": "display_data"
    }
   ],
   "source": [
    "plt.matshow(milestoning.meanTransitionTimes)\n",
    "plt.colorbar()\n",
    "plt.clim((0., 5.0))"
   ]
  },
  {
   "cell_type": "code",
   "execution_count": 24,
   "metadata": {
    "collapsed": true
   },
   "outputs": [],
   "source": [
    "import pickle\n",
    "BDtransitionTimes = pickle.load(open('2DasymMTT_longTraj.p'))"
   ]
  },
  {
   "cell_type": "code",
   "execution_count": 29,
   "metadata": {
    "collapsed": false
   },
   "outputs": [
    {
     "name": "stderr",
     "output_type": "stream",
     "text": [
      "/srv/public/dibakma/miniconda2/lib/python2.7/site-packages/ipykernel/__main__.py:1: RuntimeWarning: invalid value encountered in divide\n",
      "  if __name__ == '__main__':\n"
     ]
    },
    {
     "data": {
      "text/plain": [
       "nan"
      ]
     },
     "execution_count": 29,
     "metadata": {},
     "output_type": "execute_result"
    },
    {
     "data": {
      "image/png": "[encoded data removed]",
      "text/plain": [
       "<matplotlib.figure.Figure at 0x7f4f2d058c90>"
      ]
     },
     "metadata": {},
     "output_type": "display_data"
    }
   ],
   "source": [
    "diff = (MTT - BDtransitionTimes)/BDtransitionTimes\n",
    "plt.matshow(diff, cmap=plt.get_cmap('inferno'))\n",
    "plt.clim((-0.2,0.3))\n",
    "plt.colorbar()\n",
    "np.amax(diff)"
   ]
  },
  {
   "cell_type": "code",
   "execution_count": 56,
   "metadata": {
    "collapsed": false
   },
   "outputs": [
    {
     "name": "stdout",
     "output_type": "stream",
     "text": [
      "15.0\n"
     ]
    }
   ],
   "source": [
    "print milestoning.counts[2][6]"
   ]
  },
  {
   "cell_type": "code",
   "execution_count": 49,
   "metadata": {
    "collapsed": false
   },
   "outputs": [
    {
     "data": {
      "text/plain": [
       "0.00021044323847520596"
      ]
     },
     "execution_count": 49,
     "metadata": {},
     "output_type": "execute_result"
    }
   ],
   "source": [
    "msm.T[2,6]"
   ]
  },
  {
   "cell_type": "code",
   "execution_count": 20,
   "metadata": {
    "collapsed": false
   },
   "outputs": [],
   "source": [
    "#compute milestoning trajectory\n",
    "#1 corresponds to the unbound, 0 to the bound state\n",
    "b = np.zeros(len(sim.traj))\n",
    "boundStates = np.where(np.linalg.norm(model.centers, axis=1) <= 1.0)[0]\n",
    "for i in range(len(sim.traj)):\n",
    "    if sim.traj[i, 3] == -1:\n",
    "        if np.linalg.norm(sim.traj[i,1:3]) >= 3.0:\n",
    "            b[i] = 1\n",
    "        else:\n",
    "            b[i] = b[i-1]\n",
    "    else:\n",
    "        if np.in1d(sim.traj[i,3], boundStates):\n",
    "            b[i] = 0\n",
    "        else:\n",
    "            b[i] = b[i-1]"
   ]
  },
  {
   "cell_type": "code",
   "execution_count": 21,
   "metadata": {
    "collapsed": false
   },
   "outputs": [
    {
     "name": "stdout",
     "output_type": "stream",
     "text": [
      "0.7962722\n"
     ]
    }
   ],
   "source": [
    "print np.sum(b)/len(b)"
   ]
  },
  {
   "cell_type": "code",
   "execution_count": 25,
   "metadata": {
    "collapsed": false
   },
   "outputs": [
    {
     "name": "stdout",
     "output_type": "stream",
     "text": [
      "case2\n"
     ]
    }
   ],
   "source": [
    "transitions = b[1:]-b[:-1]\n",
    "AtoB = np.where(transitions == 1)[0]\n",
    "BtoA = np.where(transitions == -1)[0]\n",
    "def transitionTimes(AtoB, BtoA):\n",
    "    if len(AtoB) == len(BtoA):\n",
    "        if AtoB[0] < BtoA[0]:\n",
    "            print \"case1\"\n",
    "            tauBtoA = BtoA - AtoB\n",
    "            tauAtoB = AtoB[1:] - BtoA[:-1]\n",
    "        else:\n",
    "            print \"case2\"\n",
    "            tauAtoB = AtoB - BtoA\n",
    "            tauBtoA = BtoA[1:] - AtoB[:-1]\n",
    "    elif len(AtoB)+1 == len(BtoA):\n",
    "        if AtoB[0] < BtoA[0]:\n",
    "            print \"case3\"\n",
    "            tauBtoA = BtoA[:-1] - AtoB\n",
    "            tauAtoB = AtoB[1:] - BtoA[:-2]\n",
    "        else:\n",
    "            print \"case4\"\n",
    "            tauAtoB = AtoB - BtoA[:-1]\n",
    "            tauBtoA = BtoA[1:] - AtoB\n",
    "    elif len(AtoB)-1 == len(BtoA):\n",
    "        if AtoB[0] < BtoA[0]:\n",
    "            print \"case5\"\n",
    "            tauBtoA = BtoA - AtoB[:-1]\n",
    "            tauAtoB = AtoB[1:] - BtoA\n",
    "        else:\n",
    "            print \"case6\"\n",
    "            tauAtoB = AtoB[:-1] - BtoA\n",
    "            tauBtoA = BtoA[1:-1] - AtoB[:-2]\n",
    "    else:\n",
    "        return None\n",
    "    return tauAtoB, tauBtoA\n",
    "tauAtoB, tauBtoA = transitionTimes(AtoB, BtoA)"
   ]
  },
  {
   "cell_type": "code",
   "execution_count": 27,
   "metadata": {
    "collapsed": false
   },
   "outputs": [
    {
     "name": "stdout",
     "output_type": "stream",
     "text": [
      "mean tauBtoA 6.8667661314\n",
      "mean tauAtoB 1.75694056366\n",
      "std tauBtoA 6.40886492939\n",
      "std tauAtoB 1.3277413142\n",
      "mean stationary distribution 0.7962722\n"
     ]
    }
   ],
   "source": [
    "timestep = 0.05\n",
    "print \"mean tauBtoA\", np.mean(timestep*tauBtoA)\n",
    "print \"mean tauAtoB\", np.mean(timestep*tauAtoB)\n",
    "print \"std tauBtoA\", np.std(timestep*tauBtoA)\n",
    "print \"std tauAtoB\", np.std(timestep*tauAtoB)\n",
    "print \"mean stationary distribution\", np.sum(b)/len(b)"
   ]
  },
  {
   "cell_type": "code",
   "execution_count": 28,
   "metadata": {
    "collapsed": false,
    "scrolled": true
   },
   "outputs": [
    {
     "data": {
      "text/plain": [
       "<matplotlib.collections.PathCollection at 0x7f59b2cae950>"
      ]
     },
     "execution_count": 28,
     "metadata": {},
     "output_type": "execute_result"
    },
    {
     "data": {
      "image/png": "[encoded data removed]",
      "text/plain": [
       "<matplotlib.figure.Figure at 0x7f59b2d74190>"
      ]
     },
     "metadata": {},
     "output_type": "display_data"
    }
   ],
   "source": [
    "plt.scatter(model.centers[:,0], model.centers[:,1])\n",
    "boundStates = np.where(np.linalg.norm(model.centers, axis=1) <= 1.0)[0]\n",
    "plt.scatter(model.centers[boundStates,0], model.centers[boundStates,1], c='r')"
   ]
  },
  {
   "cell_type": "code",
   "execution_count": 46,
   "metadata": {
    "collapsed": false
   },
   "outputs": [
    {
     "name": "stdout",
     "output_type": "stream",
     "text": [
      "[ 1  2  3  8  9 13 15 18 22]\n"
     ]
    }
   ],
   "source": [
    "print boundStates"
   ]
  },
  {
   "cell_type": "code",
   "execution_count": 69,
   "metadata": {
    "collapsed": false
   },
   "outputs": [
    {
     "name": "stdout",
     "output_type": "stream",
     "text": [
      "0.885895\n"
     ]
    }
   ],
   "source": [
    "print (len(np.where(np.logical_and(sim.traj[:,3]==-1, np.linalg.norm(sim.traj[:,1:3], axis=1)<3.0))[0])+len(np.where(sim.traj[:,3]!=-1)[0]))/float(len(sim.traj))"
   ]
  },
  {
   "cell_type": "code",
   "execution_count": null,
   "metadata": {
    "collapsed": true
   },
   "outputs": [],
   "source": []
  }
 ],
 "metadata": {
  "kernelspec": {
   "display_name": "Python 2",
   "language": "python",
   "name": "python2"
  },
  "language_info": {
   "codemirror_mode": {
    "name": "ipython",
    "version": 2
   },
   "file_extension": ".py",
   "mimetype": "text/x-python",
   "name": "python",
   "nbconvert_exporter": "python",
   "pygments_lexer": "ipython2",
   "version": "2.7.12"
  }
 },
 "nbformat": 4,
 "nbformat_minor": 0
}

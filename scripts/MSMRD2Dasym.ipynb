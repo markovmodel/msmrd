{
 "cells": [
  {
   "cell_type": "code",
   "execution_count": 1,
   "metadata": {
    "collapsed": false
   },
   "outputs": [],
   "source": [
    "import numpy as np\n",
    "import MSMRD as mrd\n",
    "import MSMRD.integrators as integrators\n",
    "import pickle\n",
    "import matplotlib.pyplot as plt\n",
    "%matplotlib inline"
   ]
  },
  {
   "cell_type": "code",
   "execution_count": 2,
   "metadata": {
    "collapsed": true
   },
   "outputs": [],
   "source": [
    "#define MSMmodel class to read in data\n",
    "class MSMmodel(object):    \n",
    "    def __init__(self, tmatrix, centers, parameters):\n",
    "        self.tmatrix = tmatrix\n",
    "        self.centers= centers\n",
    "        self.parameters = parameters"
   ]
  },
  {
   "cell_type": "code",
   "execution_count": 3,
   "metadata": {
    "collapsed": true
   },
   "outputs": [],
   "source": [
    "def discreteHistogram(data):\n",
    "    d = np.diff(np.unique(data)).min()\n",
    "    left_of_first_bin = data.min() - float(d)/2\n",
    "    right_of_last_bin = data.max() + float(d)/2\n",
    "    hist = plt.hist(data, np.arange(left_of_first_bin, right_of_last_bin + d, d))\n",
    "    centers = (hist[1][1:] + hist[1][:-1])/2\n",
    "    return hist, centers"
   ]
  },
  {
   "cell_type": "code",
   "execution_count": 5,
   "metadata": {
    "collapsed": false
   },
   "outputs": [],
   "source": [
    "model = pickle.load(open('../data/asym2D_longTraj_lag05.p'))"
   ]
  },
  {
   "cell_type": "code",
   "execution_count": 6,
   "metadata": {
    "collapsed": false
   },
   "outputs": [
    {
     "name": "stdout",
     "output_type": "stream",
     "text": [
      "{'NangularPartitions': 15, 'bathRadius': 3.0, 'NCenters': 9, 'entryRadius': 2.6, 'outerBathRadius': 4.0, 'interactionRadius': 2.0, 'lagtime': 5}\n"
     ]
    }
   ],
   "source": [
    "print model.parameters"
   ]
  },
  {
   "cell_type": "code",
   "execution_count": 6,
   "metadata": {
    "collapsed": false
   },
   "outputs": [
    {
     "name": "stdout",
     "output_type": "stream",
     "text": [
      "[  1.58658136e-07   1.45759787e-05   1.41782315e-05   1.07601608e-06\n",
      "   7.17944581e-06   1.34977976e-05   7.19318023e-06   7.48384658e-06\n",
      "   1.85848885e-05   2.16426803e-02   2.03235413e-02   1.95555385e-02\n",
      "   2.00225932e-02   2.20954198e-02   2.20087707e-02   1.92876578e-02\n",
      "   1.87186890e-02   1.90852004e-02   2.10654320e-02   1.97728690e-02\n",
      "   1.99568725e-02   2.04496074e-02   2.12221951e-02   2.16235261e-02\n",
      "   2.97798516e-01   3.01755197e-01   2.99847433e-01   2.98545119e-01\n",
      "   2.99721934e-01   3.00694624e-01   2.98732101e-01   2.95035887e-01\n",
      "   2.94926659e-01   2.95289430e-01   2.97530413e-01   2.98272848e-01\n",
      "   2.98074354e-01   3.00095014e-01   2.98884094e-01   8.91774668e-01\n",
      "   8.91155942e-01   8.89111041e-01   8.92399097e-01   8.92709239e-01\n",
      "   8.92866864e-01   8.92220043e-01   8.90127961e-01   8.91784887e-01\n",
      "   8.90756898e-01   8.91639277e-01   8.89925782e-01   8.91520924e-01\n",
      "   8.90662484e-01   8.93208050e-01]\n"
     ]
    }
   ],
   "source": [
    "print np.sum(model.tmatrix[:,-15:],axis=1)"
   ]
  },
  {
   "cell_type": "code",
   "execution_count": 8,
   "metadata": {
    "collapsed": false
   },
   "outputs": [
    {
     "name": "stdout",
     "output_type": "stream",
     "text": [
      "[ 0.          0.          0.          0.          0.          0.          0.\n",
      "  0.          0.          0.02031837  0.0200432   0.01948958  0.01962611\n",
      "  0.02093823  0.02069894  0.01873026  0.01850321  0.0191815   0.02087264\n",
      "  0.01931456  0.01920498  0.01951928  0.02008918  0.02080961  0.29764318\n",
      "  0.2987769   0.29954458  0.29946888  0.29826401  0.29988947  0.29899178\n",
      "  0.2991397   0.29845427  0.30002939  0.2993062   0.29818161  0.2981737\n",
      "  0.29794446  0.29772009  0.89247312  0.89138264  0.89248081  0.89187005\n",
      "  0.89123515  0.89180356  0.89252327  0.89170147  0.89198783  0.89208121\n",
      "  0.89199643  0.89172004  0.89236986  0.89240016  0.8921121 ]\n"
     ]
    }
   ],
   "source": [
    "T = np.copy(model.tmatrix)\n",
    "for i in range(model.parameters['NCenters']):\n",
    "    for j in range(model.parameters['NangularPartitions']):\n",
    "        T[i,-j-1] = 0\n",
    "for i in range(len(T)):\n",
    "    T[i,:] /= np.sum(T[i,:])\n",
    "print np.sum(T[:,-15:],axis=1)"
   ]
  },
  {
   "cell_type": "code",
   "execution_count": 9,
   "metadata": {
    "collapsed": false
   },
   "outputs": [],
   "source": [
    "msm = mrd.MSM(T, model.centers)"
   ]
  },
  {
   "cell_type": "code",
   "execution_count": 10,
   "metadata": {
    "collapsed": false
   },
   "outputs": [],
   "source": [
    "#overwrite exit states, now there is only 1 state from which the MSM can be exited\n",
    "msm.exitStates = np.arange(model.parameters['NCenters'] + 2*model.parameters['NangularPartitions'], model.parameters['NCenters'] + 3*model.parameters['NangularPartitions'])"
   ]
  },
  {
   "cell_type": "code",
   "execution_count": 11,
   "metadata": {
    "collapsed": false
   },
   "outputs": [
    {
     "data": {
      "text/plain": [
       "[<matplotlib.lines.Line2D at 0x7fbce04da250>]"
      ]
     },
     "execution_count": 11,
     "metadata": {},
     "output_type": "execute_result"
    },
    {
     "data": {
      "image/png": "[encoded data removed]",
      "text/plain": [
       "<matplotlib.figure.Figure at 0x7fbcaf10fcd0>"
      ]
     },
     "metadata": {},
     "output_type": "display_data"
    }
   ],
   "source": [
    "plt.plot((model.tmatrix - T)[0,:10], 'o')\n",
    "plt.plot(model.tmatrix[0,:10], 'x')\n",
    "plt.plot(T[0,:10])"
   ]
  },
  {
   "cell_type": "code",
   "execution_count": 12,
   "metadata": {
    "collapsed": false
   },
   "outputs": [
    {
     "name": "stdout",
     "output_type": "stream",
     "text": [
      "[39 40 41 42 43 44 45 46 47 48 49 50 51 52 53]\n",
      "[0]\n"
     ]
    }
   ],
   "source": [
    "#print just for checking\n",
    "print msm.exitStates\n",
    "print msm.entryStates"
   ]
  },
  {
   "cell_type": "code",
   "execution_count": 13,
   "metadata": {
    "collapsed": false
   },
   "outputs": [],
   "source": [
    "p = mrd.particle(np.array([-1.9, -1.9]), 1.)\n",
    "integrator = integrators.MSMRDexitSampling(msm, 4.0, p, 0.05, model.parameters)"
   ]
  },
  {
   "cell_type": "code",
   "execution_count": 14,
   "metadata": {
    "collapsed": false
   },
   "outputs": [
    {
     "name": "stdout",
     "output_type": "stream",
     "text": [
      "[  0.00000000e+00   0.00000000e+00   0.00000000e+00   0.00000000e+00\n",
      "   0.00000000e+00   0.00000000e+00   0.00000000e+00   0.00000000e+00\n",
      "   0.00000000e+00   2.22873773e-03   3.64982366e-07   1.80034461e-07\n",
      "   0.00000000e+00   0.00000000e+00   0.00000000e+00   0.00000000e+00\n",
      "   0.00000000e+00   0.00000000e+00   0.00000000e+00   0.00000000e+00\n",
      "   0.00000000e+00   5.50728523e-07   2.21380091e-03   1.62435691e-02\n",
      "   2.93638528e-02   3.52708031e-07   0.00000000e+00   0.00000000e+00\n",
      "   0.00000000e+00   0.00000000e+00   0.00000000e+00   0.00000000e+00\n",
      "   0.00000000e+00   0.00000000e+00   0.00000000e+00   0.00000000e+00\n",
      "   1.08464597e-06   2.98952775e-02   2.38125814e-01   7.51805791e-02\n",
      "   3.40085197e-07   0.00000000e+00   0.00000000e+00   0.00000000e+00\n",
      "   0.00000000e+00   0.00000000e+00   0.00000000e+00   0.00000000e+00\n",
      "   0.00000000e+00   0.00000000e+00   0.00000000e+00   2.31036396e-07\n",
      "   7.60631237e-02   7.39154645e-01]\n",
      "2.6\n"
     ]
    },
    {
     "data": {
      "image/png": "[encoded data removed]",
      "text/plain": [
       "<matplotlib.figure.Figure at 0x7fbcaf10f790>"
      ]
     },
     "metadata": {},
     "output_type": "display_data"
    }
   ],
   "source": [
    "plt.plot(msm.T[:,-1])\n",
    "print msm.T[:,-1]\n",
    "print integrator.entryRadius"
   ]
  },
  {
   "cell_type": "code",
   "execution_count": 15,
   "metadata": {
    "collapsed": false
   },
   "outputs": [
    {
     "name": "stderr",
     "output_type": "stream",
     "text": [
      "/srv/public/dibakma/miniconda2/lib/python2.7/site-packages/MSMRD-0.1-py2.7.egg/MSMRD/simulation.py:13: VisibleDeprecationWarning: using a non-integer number instead of an integer will result in an error in the future\n",
      "/srv/public/dibakma/miniconda2/lib/python2.7/site-packages/MSMRD-0.1-py2.7.egg/MSMRD/MSM.py:24: VisibleDeprecationWarning: using a non-integer number instead of an integer will result in an error in the future\n"
     ]
    }
   ],
   "source": [
    "sim = mrd.simulation(integrator)\n",
    "sim.run(10000000, sample=True)"
   ]
  },
  {
   "cell_type": "code",
   "execution_count": 16,
   "metadata": {
    "collapsed": false
   },
   "outputs": [
    {
     "name": "stdout",
     "output_type": "stream",
     "text": [
      "[[  0.00000000e+00   0.00000000e+00   0.00000000e+00   1.00000000e+01]\n",
      " [  5.00000000e-02   0.00000000e+00   0.00000000e+00   1.00000000e+01]\n",
      " [  1.00000000e-01   0.00000000e+00   0.00000000e+00   1.00000000e+01]\n",
      " ..., \n",
      " [  4.99999850e+05   0.00000000e+00   0.00000000e+00   0.00000000e+00]\n",
      " [  4.99999900e+05   0.00000000e+00   0.00000000e+00   0.00000000e+00]\n",
      " [  4.99999950e+05   0.00000000e+00   0.00000000e+00   0.00000000e+00]]\n"
     ]
    }
   ],
   "source": [
    "print sim.traj"
   ]
  },
  {
   "cell_type": "code",
   "execution_count": 17,
   "metadata": {
    "collapsed": false
   },
   "outputs": [
    {
     "data": {
      "text/plain": [
       "<matplotlib.colorbar.Colorbar at 0x7fbc98a608d0>"
      ]
     },
     "execution_count": 17,
     "metadata": {},
     "output_type": "execute_result"
    },
    {
     "data": {
      "image/png": "[encoded data removed]",
      "text/plain": [
       "<matplotlib.figure.Figure at 0x7fbcabcec5d0>"
      ]
     },
     "metadata": {},
     "output_type": "display_data"
    }
   ],
   "source": [
    "BDregion = np.where(sim.traj[:,3]==-1)[0]\n",
    "obj = plt.hist2d(sim.traj[BDregion,1], sim.traj[BDregion,2], bins=200)\n",
    "plt.colorbar()"
   ]
  },
  {
   "cell_type": "code",
   "execution_count": 18,
   "metadata": {
    "collapsed": false
   },
   "outputs": [],
   "source": [
    "class asym2DmilestoningMSMRD(object):\n",
    "    def __init__(self, bathRadius, Ncenters):\n",
    "        self.bathRadius = bathRadius\n",
    "        self.Ncenters = Ncenters\n",
    "        self.Nstates = Ncenters+1\n",
    "    \n",
    "    def getState(self, sample, prevstate):\n",
    "        #check BD region first\n",
    "        if sample[2] == -1:\n",
    "            if np.linalg.norm(sample[:2]) > self.bathRadius:\n",
    "                return self.Ncenters\n",
    "            else:\n",
    "                return prevstate\n",
    "        else:\n",
    "            if sample[2] < self.Ncenters:\n",
    "                return sample[2]\n",
    "            else:\n",
    "                return prevstate\n",
    "            \n",
    "    def computeMilestoningTraj(self, traj):\n",
    "        self.dTraj = np.zeros(len(traj))\n",
    "        self.dTraj[0] = 0\n",
    "        for i in range(1, len(traj)):\n",
    "            self.dTraj[i] = self.getState(traj[i], self.dTraj[i-1])\n",
    "            \n",
    "    def computeMeanTransitionTimes(self, timestep):\n",
    "        sumTau = np.zeros((self.Nstates, self.Nstates))\n",
    "        counts = np.zeros((self.Nstates, self.Nstates))\n",
    "        tau = 0\n",
    "        for i in range(len(self.dTraj)):\n",
    "            if self.dTraj[i] == self.dTraj[i-1]:\n",
    "                tau += 1\n",
    "            else:\n",
    "                sumTau[self.dTraj[i-1], self.dTraj[i]] += tau\n",
    "                counts[self.dTraj[i-1], self.dTraj[i]] += 1\n",
    "                tau = 0\n",
    "        nonzeros = np.where(counts!=0)[0]\n",
    "        self.meanTransitionTimes = np.zeros_like(counts)\n",
    "        for i in range(0, int(self.Nstates)):\n",
    "            for j in range(0, int(self.Nstates)):\n",
    "                if counts[i,j] != 0:\n",
    "                    self.meanTransitionTimes[i,j] = sumTau[i,j] / counts[i,j] * timestep\n",
    "        self.counts = counts"
   ]
  },
  {
   "cell_type": "code",
   "execution_count": 19,
   "metadata": {
    "collapsed": true
   },
   "outputs": [],
   "source": [
    "def computeMeanTransitionTimes(timestep, mobj):\n",
    "    sumTau = np.zeros((mobj.Nstates, mobj.Nstates))\n",
    "    counts = np.zeros((mobj.Nstates, mobj.Nstates))\n",
    "    i = 0\n",
    "    tau = 0\n",
    "    statesVisited = [mobj.dTraj[0]]\n",
    "    transitionFrom = mobj.dTraj[0]\n",
    "    nextTransitionIndex = -1\n",
    "    while i<len(mobj.dTraj)-1:\n",
    "        i += 1\n",
    "        tau += 1\n",
    "        if mobj.dTraj[i] != mobj.dTraj[i-1]:\n",
    "            if len(statesVisited) == mobj.Nstates:\n",
    "                transitionFrom = mobj.dTraj[nextTransitionIndex]\n",
    "                statesVisited = [transitionFrom]\n",
    "                i = nextTransitionIndex\n",
    "                nextTransitionIndex = -1\n",
    "                tau = 0\n",
    "            elif not np.in1d(mobj.dTraj[i], statesVisited):\n",
    "                sumTau[transitionFrom, mobj.dTraj[i]] += tau\n",
    "                counts[transitionFrom, mobj.dTraj[i]] += 1\n",
    "                if nextTransitionIndex < 0:\n",
    "                    nextTransitionIndex = i\n",
    "                statesVisited.append(mobj.dTraj[i])\n",
    "    meanTransitionTimes = np.zeros((mobj.Nstates, mobj.Nstates))\n",
    "    for i in range(0, mobj.Nstates):\n",
    "        for j in range(0, mobj.Nstates):\n",
    "            if counts[i,j] != 0:\n",
    "                meanTransitionTimes[i,j] = sumTau[i,j] / counts[i,j] * timestep\n",
    "    return meanTransitionTimes"
   ]
  },
  {
   "cell_type": "code",
   "execution_count": 20,
   "metadata": {
    "collapsed": false
   },
   "outputs": [],
   "source": [
    "milestoning = asym2DmilestoningMSMRD(3.0, 9)\n",
    "milestoning.computeMilestoningTraj(sim.traj[:,1:4])"
   ]
  },
  {
   "cell_type": "code",
   "execution_count": 29,
   "metadata": {
    "collapsed": false
   },
   "outputs": [
    {
     "name": "stderr",
     "output_type": "stream",
     "text": [
      "/srv/public/dibakma/miniconda2/lib/python2.7/site-packages/ipykernel/__main__.py:34: VisibleDeprecationWarning: using a non-integer number instead of an integer will result in an error in the future\n",
      "/srv/public/dibakma/miniconda2/lib/python2.7/site-packages/ipykernel/__main__.py:35: VisibleDeprecationWarning: using a non-integer number instead of an integer will result in an error in the future\n"
     ]
    }
   ],
   "source": [
    "milestoning.computeMeanTransitionTimes(0.1)"
   ]
  },
  {
   "cell_type": "code",
   "execution_count": 21,
   "metadata": {
    "collapsed": false
   },
   "outputs": [
    {
     "name": "stderr",
     "output_type": "stream",
     "text": [
      "/srv/public/dibakma/miniconda2/lib/python2.7/site-packages/ipykernel/__main__.py:20: VisibleDeprecationWarning: using a non-integer number instead of an integer will result in an error in the future\n",
      "/srv/public/dibakma/miniconda2/lib/python2.7/site-packages/ipykernel/__main__.py:21: VisibleDeprecationWarning: using a non-integer number instead of an integer will result in an error in the future\n"
     ]
    }
   ],
   "source": [
    "MTT = computeMeanTransitionTimes(0.05, milestoning)"
   ]
  },
  {
   "cell_type": "code",
   "execution_count": 22,
   "metadata": {
    "collapsed": false
   },
   "outputs": [
    {
     "data": {
      "text/plain": [
       "<matplotlib.colorbar.Colorbar at 0x7fbc98a121d0>"
      ]
     },
     "execution_count": 22,
     "metadata": {},
     "output_type": "execute_result"
    },
    {
     "data": {
      "image/png": "[encoded data removed]",
      "text/plain": [
       "<matplotlib.figure.Figure at 0x7fbc98a12050>"
      ]
     },
     "metadata": {},
     "output_type": "display_data"
    }
   ],
   "source": [
    "plt.matshow(MTT)\n",
    "plt.colorbar()\n",
    "#plt.clim((0., 5.0))"
   ]
  },
  {
   "cell_type": "code",
   "execution_count": 29,
   "metadata": {
    "collapsed": false
   },
   "outputs": [
    {
     "data": {
      "image/png": "[encoded data removed]",
      "text/plain": [
       "<matplotlib.figure.Figure at 0x7f21b8278e50>"
      ]
     },
     "metadata": {},
     "output_type": "display_data"
    }
   ],
   "source": [
    "plt.matshow(milestoning.meanTransitionTimes)\n",
    "plt.colorbar()\n",
    "plt.clim((0., 5.0))"
   ]
  },
  {
   "cell_type": "code",
   "execution_count": 23,
   "metadata": {
    "collapsed": false
   },
   "outputs": [],
   "source": [
    "import pickle\n",
    "BDtransitionTimes = pickle.load(open('MTTs_longTrajs_mean.p'))"
   ]
  },
  {
   "cell_type": "code",
   "execution_count": 24,
   "metadata": {
    "collapsed": false
   },
   "outputs": [
    {
     "name": "stderr",
     "output_type": "stream",
     "text": [
      "/srv/public/dibakma/miniconda2/lib/python2.7/site-packages/ipykernel/__main__.py:1: RuntimeWarning: invalid value encountered in divide\n",
      "  if __name__ == '__main__':\n"
     ]
    },
    {
     "data": {
      "text/plain": [
       "nan"
      ]
     },
     "execution_count": 24,
     "metadata": {},
     "output_type": "execute_result"
    },
    {
     "data": {
      "image/png": "[encoded data removed]",
      "text/plain": [
       "<matplotlib.figure.Figure at 0x7fbcabcac690>"
      ]
     },
     "metadata": {},
     "output_type": "display_data"
    }
   ],
   "source": [
    "diff = (MTT - BDtransitionTimes)/BDtransitionTimes\n",
    "plt.matshow(diff, cmap=plt.get_cmap('inferno'))\n",
    "#plt.clim((-0.2,0.3))\n",
    "plt.colorbar()\n",
    "np.amax(diff)"
   ]
  },
  {
   "cell_type": "code",
   "execution_count": 56,
   "metadata": {
    "collapsed": false
   },
   "outputs": [
    {
     "name": "stdout",
     "output_type": "stream",
     "text": [
      "15.0\n"
     ]
    }
   ],
   "source": [
    "print milestoning.counts[2][6]"
   ]
  },
  {
   "cell_type": "code",
   "execution_count": 49,
   "metadata": {
    "collapsed": false
   },
   "outputs": [
    {
     "data": {
      "text/plain": [
       "0.00021044323847520596"
      ]
     },
     "execution_count": 49,
     "metadata": {},
     "output_type": "execute_result"
    }
   ],
   "source": [
    "msm.T[2,6]"
   ]
  },
  {
   "cell_type": "code",
   "execution_count": 20,
   "metadata": {
    "collapsed": false
   },
   "outputs": [],
   "source": [
    "#compute milestoning trajectory\n",
    "#1 corresponds to the unbound, 0 to the bound state\n",
    "b = np.zeros(len(sim.traj))\n",
    "boundStates = np.where(np.linalg.norm(model.centers, axis=1) <= 1.0)[0]\n",
    "for i in range(len(sim.traj)):\n",
    "    if sim.traj[i, 3] == -1:\n",
    "        if np.linalg.norm(sim.traj[i,1:3]) >= 3.0:\n",
    "            b[i] = 1\n",
    "        else:\n",
    "            b[i] = b[i-1]\n",
    "    else:\n",
    "        if np.in1d(sim.traj[i,3], boundStates):\n",
    "            b[i] = 0\n",
    "        else:\n",
    "            b[i] = b[i-1]"
   ]
  },
  {
   "cell_type": "code",
   "execution_count": 21,
   "metadata": {
    "collapsed": false
   },
   "outputs": [
    {
     "name": "stdout",
     "output_type": "stream",
     "text": [
      "0.7962722\n"
     ]
    }
   ],
   "source": [
    "print np.sum(b)/len(b)"
   ]
  },
  {
   "cell_type": "code",
   "execution_count": 25,
   "metadata": {
    "collapsed": false
   },
   "outputs": [
    {
     "name": "stdout",
     "output_type": "stream",
     "text": [
      "case2\n"
     ]
    }
   ],
   "source": [
    "transitions = b[1:]-b[:-1]\n",
    "AtoB = np.where(transitions == 1)[0]\n",
    "BtoA = np.where(transitions == -1)[0]\n",
    "def transitionTimes(AtoB, BtoA):\n",
    "    if len(AtoB) == len(BtoA):\n",
    "        if AtoB[0] < BtoA[0]:\n",
    "            print \"case1\"\n",
    "            tauBtoA = BtoA - AtoB\n",
    "            tauAtoB = AtoB[1:] - BtoA[:-1]\n",
    "        else:\n",
    "            print \"case2\"\n",
    "            tauAtoB = AtoB - BtoA\n",
    "            tauBtoA = BtoA[1:] - AtoB[:-1]\n",
    "    elif len(AtoB)+1 == len(BtoA):\n",
    "        if AtoB[0] < BtoA[0]:\n",
    "            print \"case3\"\n",
    "            tauBtoA = BtoA[:-1] - AtoB\n",
    "            tauAtoB = AtoB[1:] - BtoA[:-2]\n",
    "        else:\n",
    "            print \"case4\"\n",
    "            tauAtoB = AtoB - BtoA[:-1]\n",
    "            tauBtoA = BtoA[1:] - AtoB\n",
    "    elif len(AtoB)-1 == len(BtoA):\n",
    "        if AtoB[0] < BtoA[0]:\n",
    "            print \"case5\"\n",
    "            tauBtoA = BtoA - AtoB[:-1]\n",
    "            tauAtoB = AtoB[1:] - BtoA\n",
    "        else:\n",
    "            print \"case6\"\n",
    "            tauAtoB = AtoB[:-1] - BtoA\n",
    "            tauBtoA = BtoA[1:-1] - AtoB[:-2]\n",
    "    else:\n",
    "        return None\n",
    "    return tauAtoB, tauBtoA\n",
    "tauAtoB, tauBtoA = transitionTimes(AtoB, BtoA)"
   ]
  },
  {
   "cell_type": "code",
   "execution_count": 27,
   "metadata": {
    "collapsed": false
   },
   "outputs": [
    {
     "name": "stdout",
     "output_type": "stream",
     "text": [
      "mean tauBtoA 6.8667661314\n",
      "mean tauAtoB 1.75694056366\n",
      "std tauBtoA 6.40886492939\n",
      "std tauAtoB 1.3277413142\n",
      "mean stationary distribution 0.7962722\n"
     ]
    }
   ],
   "source": [
    "timestep = 0.05\n",
    "print \"mean tauBtoA\", np.mean(timestep*tauBtoA)\n",
    "print \"mean tauAtoB\", np.mean(timestep*tauAtoB)\n",
    "print \"std tauBtoA\", np.std(timestep*tauBtoA)\n",
    "print \"std tauAtoB\", np.std(timestep*tauAtoB)\n",
    "print \"mean stationary distribution\", np.sum(b)/len(b)"
   ]
  },
  {
   "cell_type": "code",
   "execution_count": 28,
   "metadata": {
    "collapsed": false,
    "scrolled": true
   },
   "outputs": [
    {
     "data": {
      "text/plain": [
       "<matplotlib.collections.PathCollection at 0x7f59b2cae950>"
      ]
     },
     "execution_count": 28,
     "metadata": {},
     "output_type": "execute_result"
    },
    {
     "data": {
      "image/png": "[encoded data removed]",
      "text/plain": [
       "<matplotlib.figure.Figure at 0x7f59b2d74190>"
      ]
     },
     "metadata": {},
     "output_type": "display_data"
    }
   ],
   "source": [
    "plt.scatter(model.centers[:,0], model.centers[:,1])\n",
    "boundStates = np.where(np.linalg.norm(model.centers, axis=1) <= 1.0)[0]\n",
    "plt.scatter(model.centers[boundStates,0], model.centers[boundStates,1], c='r')"
   ]
  },
  {
   "cell_type": "code",
   "execution_count": 46,
   "metadata": {
    "collapsed": false
   },
   "outputs": [
    {
     "name": "stdout",
     "output_type": "stream",
     "text": [
      "[ 1  2  3  8  9 13 15 18 22]\n"
     ]
    }
   ],
   "source": [
    "print boundStates"
   ]
  },
  {
   "cell_type": "code",
   "execution_count": 69,
   "metadata": {
    "collapsed": false
   },
   "outputs": [
    {
     "name": "stdout",
     "output_type": "stream",
     "text": [
      "0.885895\n"
     ]
    }
   ],
   "source": [
    "print (len(np.where(np.logical_and(sim.traj[:,3]==-1, np.linalg.norm(sim.traj[:,1:3], axis=1)<3.0))[0])+len(np.where(sim.traj[:,3]!=-1)[0]))/float(len(sim.traj))"
   ]
  },
  {
   "cell_type": "code",
   "execution_count": null,
   "metadata": {
    "collapsed": true
   },
   "outputs": [],
   "source": []
  }
 ],
 "metadata": {
  "kernelspec": {
   "display_name": "Python 2",
   "language": "python",
   "name": "python2"
  },
  "language_info": {
   "codemirror_mode": {
    "name": "ipython",
    "version": 2
   },
   "file_extension": ".py",
   "mimetype": "text/x-python",
   "name": "python",
   "nbconvert_exporter": "python",
   "pygments_lexer": "ipython2",
   "version": "2.7.12"
  }
 },
 "nbformat": 4,
 "nbformat_minor": 0
}

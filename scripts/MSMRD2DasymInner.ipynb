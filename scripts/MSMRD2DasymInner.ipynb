{
 "cells": [
  {
   "cell_type": "code",
   "execution_count": 1,
   "metadata": {
    "collapsed": false,
    "deletable": true,
    "editable": true
   },
   "outputs": [],
   "source": [
    "import numpy as np\n",
    "import MSMRD as mrd\n",
    "import MSMRD.integrators as integrators\n",
    "import pickle\n",
    "import matplotlib.pyplot as plt\n",
    "%matplotlib inline"
   ]
  },
  {
   "cell_type": "code",
   "execution_count": 2,
   "metadata": {
    "collapsed": true,
    "deletable": true,
    "editable": true
   },
   "outputs": [],
   "source": [
    "#define MSMmodel class to read in data\n",
    "class MSMmodel(object):    \n",
    "    def __init__(self, tmatrix, centers, parameters):\n",
    "        self.tmatrix = tmatrix\n",
    "        self.centers= centers\n",
    "        self.parameters = parameters"
   ]
  },
  {
   "cell_type": "code",
   "execution_count": 3,
   "metadata": {
    "collapsed": true,
    "deletable": true,
    "editable": true
   },
   "outputs": [],
   "source": [
    "def discreteHistogram(data):\n",
    "    d = np.diff(np.unique(data)).min()\n",
    "    left_of_first_bin = data.min() - float(d)/2\n",
    "    right_of_last_bin = data.max() + float(d)/2\n",
    "    hist = plt.hist(data, np.arange(left_of_first_bin, right_of_last_bin + d, d), normed=True)\n",
    "    centers = (hist[1][1:] + hist[1][:-1])/2\n",
    "    return hist, centers"
   ]
  },
  {
   "cell_type": "code",
   "execution_count": 4,
   "metadata": {
    "collapsed": false,
    "deletable": true,
    "editable": true
   },
   "outputs": [],
   "source": [
    "model = pickle.load(open('../data/asym2D_inner_lag50.p'))"
   ]
  },
  {
   "cell_type": "code",
   "execution_count": 5,
   "metadata": {
    "collapsed": false,
    "deletable": true,
    "editable": true
   },
   "outputs": [
    {
     "name": "stdout",
     "output_type": "stream",
     "text": [
      "{'NangularPartitions': 15, 'bathRadius': 2.0, 'NCenters': 9, 'entryRadius': 2.0, 'outerBathRadius': 2.0, 'interactionRadius': 2.0, 'lagtime': 50}\n"
     ]
    }
   ],
   "source": [
    "print model.parameters"
   ]
  },
  {
   "cell_type": "code",
   "execution_count": 6,
   "metadata": {
    "collapsed": false,
    "deletable": true,
    "editable": true
   },
   "outputs": [],
   "source": [
    "msm = mrd.MSM(model.tmatrix, model.centers)"
   ]
  },
  {
   "cell_type": "code",
   "execution_count": 7,
   "metadata": {
    "collapsed": false,
    "deletable": true,
    "editable": true
   },
   "outputs": [],
   "source": [
    "#overwrite exit states, now there is only 1 state from which the MSM can be exited\n",
    "msm.exitStates = []"
   ]
  },
  {
   "cell_type": "code",
   "execution_count": 8,
   "metadata": {
    "collapsed": false,
    "deletable": true,
    "editable": true
   },
   "outputs": [
    {
     "name": "stdout",
     "output_type": "stream",
     "text": [
      "[]\n",
      "[0]\n"
     ]
    }
   ],
   "source": [
    "#print just for checking\n",
    "print msm.exitStates\n",
    "print msm.entryStates"
   ]
  },
  {
   "cell_type": "code",
   "execution_count": 9,
   "metadata": {
    "collapsed": false,
    "deletable": true,
    "editable": true
   },
   "outputs": [],
   "source": [
    "p = mrd.particle(np.array([1.0, 0.0]), 1.)\n",
    "integrator = integrators.MSMRDexitSampling(msm, 2.0, p, 0.05, model.parameters)"
   ]
  },
  {
   "cell_type": "code",
   "execution_count": 10,
   "metadata": {
    "collapsed": false,
    "deletable": true,
    "editable": true
   },
   "outputs": [],
   "source": [
    "sim = mrd.simulation(integrator)\n",
    "sim.run(10000000, sample=True)"
   ]
  },
  {
   "cell_type": "code",
   "execution_count": 12,
   "metadata": {
    "collapsed": false,
    "deletable": true,
    "editable": true
   },
   "outputs": [
    {
     "name": "stdout",
     "output_type": "stream",
     "text": [
      "[[  0.00000000e+00   0.00000000e+00   0.00000000e+00   1.00000000e+00]\n",
      " [  5.00000000e-02   0.00000000e+00   0.00000000e+00   1.00000000e+00]\n",
      " [  1.00000000e-01   0.00000000e+00   0.00000000e+00   1.00000000e+00]\n",
      " ..., \n",
      " [  4.99998500e+04   0.00000000e+00   0.00000000e+00   8.00000000e+00]\n",
      " [  4.99999000e+04   0.00000000e+00   0.00000000e+00   8.00000000e+00]\n",
      " [  4.99999500e+04   0.00000000e+00   0.00000000e+00   8.00000000e+00]]\n"
     ]
    }
   ],
   "source": [
    "print sim.traj"
   ]
  },
  {
   "cell_type": "code",
   "execution_count": 13,
   "metadata": {
    "collapsed": false,
    "deletable": true,
    "editable": true
   },
   "outputs": [
    {
     "data": {
      "text/plain": [
       "<matplotlib.colorbar.Colorbar at 0x7f20f38ded50>"
      ]
     },
     "execution_count": 13,
     "metadata": {},
     "output_type": "execute_result"
    },
    {
     "data": {
      "image/png": "[encoded data removed]",
      "text/plain": [
       "<matplotlib.figure.Figure at 0x7f20f5a6d9d0>"
      ]
     },
     "metadata": {},
     "output_type": "display_data"
    }
   ],
   "source": [
    "BDregion = np.where(sim.traj[:,3]==-1)[0]\n",
    "obj = plt.hist2d(sim.traj[BDregion,1], sim.traj[BDregion,2], bins=200)\n",
    "plt.colorbar()"
   ]
  },
  {
   "cell_type": "code",
   "execution_count": 11,
   "metadata": {
    "collapsed": false,
    "deletable": true,
    "editable": true
   },
   "outputs": [],
   "source": [
    "class asym2DmilestoningMSMRD(object):\n",
    "    def __init__(self, bathRadius, Ncenters):\n",
    "        self.bathRadius = bathRadius\n",
    "        self.Ncenters = Ncenters\n",
    "        self.Nstates = Ncenters\n",
    "    \n",
    "    def getState(self, sample, prevstate):\n",
    "        #check BD region first\n",
    "        if sample[2] == -1:\n",
    "            if np.linalg.norm(sample[:2]) > self.bathRadius:\n",
    "                return self.Ncenters\n",
    "            else:\n",
    "                return prevstate\n",
    "        else:\n",
    "            if sample[2] < self.Ncenters:\n",
    "                return sample[2]\n",
    "            else:\n",
    "                return prevstate\n",
    "            \n",
    "    def computeMilestoningTraj(self, traj):\n",
    "        self.dTraj = np.zeros(len(traj))\n",
    "        self.dTraj[0] = 0\n",
    "        for i in range(1, len(traj)):\n",
    "            self.dTraj[i] = self.getState(traj[i], self.dTraj[i-1])\n",
    "            \n",
    "    def computeMeanTransitionTimes(self, timestep):\n",
    "        sumTau = np.zeros((self.Nstates, self.Nstates))\n",
    "        counts = np.zeros((self.Nstates, self.Nstates))\n",
    "        tau = 0\n",
    "        for i in range(len(self.dTraj)):\n",
    "            if self.dTraj[i] == self.dTraj[i-1]:\n",
    "                tau += 1\n",
    "            else:\n",
    "                sumTau[self.dTraj[i-1], self.dTraj[i]] += tau\n",
    "                counts[self.dTraj[i-1], self.dTraj[i]] += 1\n",
    "                tau = 0\n",
    "        nonzeros = np.where(counts!=0)[0]\n",
    "        self.meanTransitionTimes = np.zeros_like(counts)\n",
    "        for i in range(0, int(self.Nstates)):\n",
    "            for j in range(0, int(self.Nstates)):\n",
    "                if counts[i,j] != 0:\n",
    "                    self.meanTransitionTimes[i,j] = sumTau[i,j] / counts[i,j] * timestep\n",
    "        self.counts = counts"
   ]
  },
  {
   "cell_type": "code",
   "execution_count": 12,
   "metadata": {
    "collapsed": true,
    "deletable": true,
    "editable": true
   },
   "outputs": [],
   "source": [
    "def computeMeanTransitionTimes(timestep, mobj):\n",
    "    sumTau = np.zeros((mobj.Nstates, mobj.Nstates))\n",
    "    counts = np.zeros((mobj.Nstates, mobj.Nstates))\n",
    "    for dTraj in [mobj.dTraj]:\n",
    "        i = 0\n",
    "        tau = 1\n",
    "        statesVisited = [dTraj[0]]\n",
    "        transitionFrom = dTraj[0]\n",
    "        nextTransitionIndex = -1\n",
    "        while i<len(dTraj)-1:\n",
    "            i += 1\n",
    "            if dTraj[i] == dTraj[i-1]:\n",
    "                tau += 1\n",
    "            else:\n",
    "                if len(statesVisited) == mobj.Nstates:\n",
    "                    transitionFrom = dTraj[nextTransitionIndex]\n",
    "                    statesVisited = [transitionFrom]\n",
    "                    i = nextTransitionIndex\n",
    "                    nextTransitionIndex = -1\n",
    "                    tau = 1 \n",
    "                elif not np.in1d(dTraj[i], statesVisited):\n",
    "                    sumTau[transitionFrom, dTraj[i]] += tau\n",
    "                    counts[transitionFrom, dTraj[i]] += 1\n",
    "                    if nextTransitionIndex < 0:\n",
    "                        nextTransitionIndex = i\n",
    "                    statesVisited.append(dTraj[i])\n",
    "                    tau +=1\n",
    "                else:\n",
    "                    tau += 1\n",
    "    meanTransitionTimes = np.zeros((mobj.Nstates, mobj.Nstates))\n",
    "    for i in range(0, mobj.Nstates):\n",
    "        for j in range(0, mobj.Nstates):\n",
    "            if counts[i,j] != 0:\n",
    "                meanTransitionTimes[i,j] = sumTau[i,j] / counts[i,j] * timestep\n",
    "    return meanTransitionTimes"
   ]
  },
  {
   "cell_type": "code",
   "execution_count": 13,
   "metadata": {
    "collapsed": false,
    "deletable": true,
    "editable": true
   },
   "outputs": [],
   "source": [
    "milestoning = asym2DmilestoningMSMRD(2.0, 9)\n",
    "milestoning.computeMilestoningTraj(sim.traj[:,1:4])"
   ]
  },
  {
   "cell_type": "code",
   "execution_count": 16,
   "metadata": {
    "collapsed": false,
    "deletable": true,
    "editable": true
   },
   "outputs": [
    {
     "name": "stderr",
     "output_type": "stream",
     "text": [
      "/srv/public/dibakma/miniconda2/lib/python2.7/site-packages/ipykernel/__main__.py:34: VisibleDeprecationWarning: using a non-integer number instead of an integer will result in an error in the future\n",
      "/srv/public/dibakma/miniconda2/lib/python2.7/site-packages/ipykernel/__main__.py:35: VisibleDeprecationWarning: using a non-integer number instead of an integer will result in an error in the future\n"
     ]
    }
   ],
   "source": [
    "milestoning.computeMeanTransitionTimes(0.05)"
   ]
  },
  {
   "cell_type": "code",
   "execution_count": 14,
   "metadata": {
    "collapsed": false,
    "deletable": true,
    "editable": true
   },
   "outputs": [
    {
     "name": "stderr",
     "output_type": "stream",
     "text": [
      "/srv/public/dibakma/miniconda2/lib/python2.7/site-packages/ipykernel/__main__.py:22: VisibleDeprecationWarning: using a non-integer number instead of an integer will result in an error in the future\n",
      "/srv/public/dibakma/miniconda2/lib/python2.7/site-packages/ipykernel/__main__.py:23: VisibleDeprecationWarning: using a non-integer number instead of an integer will result in an error in the future\n"
     ]
    }
   ],
   "source": [
    "MTT = computeMeanTransitionTimes(0.05, milestoning)"
   ]
  },
  {
   "cell_type": "code",
   "execution_count": 15,
   "metadata": {
    "collapsed": false,
    "deletable": true,
    "editable": true
   },
   "outputs": [
    {
     "data": {
      "text/plain": [
       "<matplotlib.colorbar.Colorbar at 0x7f2a72219510>"
      ]
     },
     "execution_count": 15,
     "metadata": {},
     "output_type": "execute_result"
    },
    {
     "data": {
      "image/png": "[encoded data removed]",
      "text/plain": [
       "<matplotlib.figure.Figure at 0x7f2a72219590>"
      ]
     },
     "metadata": {},
     "output_type": "display_data"
    }
   ],
   "source": [
    "plt.matshow(MTT)\n",
    "plt.colorbar()\n",
    "#plt.clim((0., 5.0))"
   ]
  },
  {
   "cell_type": "code",
   "execution_count": 21,
   "metadata": {
    "collapsed": true,
    "deletable": true,
    "editable": true
   },
   "outputs": [],
   "source": [
    "import pickle\n",
    "BDtransitionTimes = pickle.load(open('2DasymMTT_inner_fromT_lag1.p'))"
   ]
  },
  {
   "cell_type": "code",
   "execution_count": 22,
   "metadata": {
    "collapsed": false,
    "deletable": true,
    "editable": true
   },
   "outputs": [
    {
     "name": "stderr",
     "output_type": "stream",
     "text": [
      "/srv/public/dibakma/miniconda2/lib/python2.7/site-packages/ipykernel/__main__.py:1: RuntimeWarning: invalid value encountered in divide\n",
      "  if __name__ == '__main__':\n"
     ]
    },
    {
     "data": {
      "text/plain": [
       "nan"
      ]
     },
     "execution_count": 22,
     "metadata": {},
     "output_type": "execute_result"
    },
    {
     "data": {
      "image/png": "[encoded data removed]",
      "text/plain": [
       "<matplotlib.figure.Figure at 0x7f2a56f67890>"
      ]
     },
     "metadata": {},
     "output_type": "display_data"
    }
   ],
   "source": [
    "diff = (MTT - BDtransitionTimes)/BDtransitionTimes\n",
    "plt.matshow(diff, cmap=plt.get_cmap('inferno'))\n",
    "#plt.clim((-0.2,0.3))\n",
    "plt.colorbar()\n",
    "np.amax(diff)"
   ]
  },
  {
   "cell_type": "code",
   "execution_count": 18,
   "metadata": {
    "collapsed": false,
    "deletable": true,
    "editable": true
   },
   "outputs": [
    {
     "data": {
      "text/plain": [
       "<matplotlib.colorbar.Colorbar at 0x7f2a56e2f7d0>"
      ]
     },
     "execution_count": 18,
     "metadata": {},
     "output_type": "execute_result"
    },
    {
     "data": {
      "image/png": "[encoded data removed]",
      "text/plain": [
       "<matplotlib.figure.Figure at 0x7f2a56e6ead0>"
      ]
     },
     "metadata": {},
     "output_type": "display_data"
    }
   ],
   "source": [
    "plt.matshow(BDtransitionTimes)\n",
    "plt.clim(0,9)\n",
    "plt.colorbar()"
   ]
  },
  {
   "cell_type": "code",
   "execution_count": 29,
   "metadata": {
    "collapsed": false,
    "deletable": true,
    "editable": true
   },
   "outputs": [
    {
     "data": {
      "text/plain": [
       "<matplotlib.colorbar.Colorbar at 0x7f739afa44d0>"
      ]
     },
     "execution_count": 29,
     "metadata": {},
     "output_type": "execute_result"
    },
    {
     "data": {
      "image/png": "[encoded data removed]",
      "text/plain": [
       "<matplotlib.figure.Figure at 0x7f739af6d750>"
      ]
     },
     "metadata": {},
     "output_type": "display_data"
    }
   ],
   "source": [
    "plt.matshow(MTT)\n",
    "plt.clim(0,9)\n",
    "plt.colorbar()"
   ]
  },
  {
   "cell_type": "code",
   "execution_count": 20,
   "metadata": {
    "collapsed": false,
    "deletable": true,
    "editable": true
   },
   "outputs": [],
   "source": [
    "#compute milestoning trajectory\n",
    "#1 corresponds to the unbound, 0 to the bound state\n",
    "b = np.zeros(len(sim.traj))\n",
    "boundStates = np.where(np.linalg.norm(model.centers, axis=1) <= 1.0)[0]\n",
    "for i in range(len(sim.traj)):\n",
    "    if sim.traj[i, 3] == -1:\n",
    "        if np.linalg.norm(sim.traj[i,1:3]) >= 3.0:\n",
    "            b[i] = 1\n",
    "        else:\n",
    "            b[i] = b[i-1]\n",
    "    else:\n",
    "        if np.in1d(sim.traj[i,3], boundStates):\n",
    "            b[i] = 0\n",
    "        else:\n",
    "            b[i] = b[i-1]"
   ]
  },
  {
   "cell_type": "code",
   "execution_count": 21,
   "metadata": {
    "collapsed": false,
    "deletable": true,
    "editable": true
   },
   "outputs": [
    {
     "name": "stdout",
     "output_type": "stream",
     "text": [
      "0.7962722\n"
     ]
    }
   ],
   "source": [
    "print np.sum(b)/len(b)"
   ]
  },
  {
   "cell_type": "code",
   "execution_count": 25,
   "metadata": {
    "collapsed": false,
    "deletable": true,
    "editable": true
   },
   "outputs": [
    {
     "name": "stdout",
     "output_type": "stream",
     "text": [
      "case2\n"
     ]
    }
   ],
   "source": [
    "transitions = b[1:]-b[:-1]\n",
    "AtoB = np.where(transitions == 1)[0]\n",
    "BtoA = np.where(transitions == -1)[0]\n",
    "def transitionTimes(AtoB, BtoA):\n",
    "    if len(AtoB) == len(BtoA):\n",
    "        if AtoB[0] < BtoA[0]:\n",
    "            print \"case1\"\n",
    "            tauBtoA = BtoA - AtoB\n",
    "            tauAtoB = AtoB[1:] - BtoA[:-1]\n",
    "        else:\n",
    "            print \"case2\"\n",
    "            tauAtoB = AtoB - BtoA\n",
    "            tauBtoA = BtoA[1:] - AtoB[:-1]\n",
    "    elif len(AtoB)+1 == len(BtoA):\n",
    "        if AtoB[0] < BtoA[0]:\n",
    "            print \"case3\"\n",
    "            tauBtoA = BtoA[:-1] - AtoB\n",
    "            tauAtoB = AtoB[1:] - BtoA[:-2]\n",
    "        else:\n",
    "            print \"case4\"\n",
    "            tauAtoB = AtoB - BtoA[:-1]\n",
    "            tauBtoA = BtoA[1:] - AtoB\n",
    "    elif len(AtoB)-1 == len(BtoA):\n",
    "        if AtoB[0] < BtoA[0]:\n",
    "            print \"case5\"\n",
    "            tauBtoA = BtoA - AtoB[:-1]\n",
    "            tauAtoB = AtoB[1:] - BtoA\n",
    "        else:\n",
    "            print \"case6\"\n",
    "            tauAtoB = AtoB[:-1] - BtoA\n",
    "            tauBtoA = BtoA[1:-1] - AtoB[:-2]\n",
    "    else:\n",
    "        return None\n",
    "    return tauAtoB, tauBtoA\n",
    "tauAtoB, tauBtoA = transitionTimes(AtoB, BtoA)"
   ]
  },
  {
   "cell_type": "code",
   "execution_count": 27,
   "metadata": {
    "collapsed": false,
    "deletable": true,
    "editable": true
   },
   "outputs": [
    {
     "name": "stdout",
     "output_type": "stream",
     "text": [
      "mean tauBtoA 6.8667661314\n",
      "mean tauAtoB 1.75694056366\n",
      "std tauBtoA 6.40886492939\n",
      "std tauAtoB 1.3277413142\n",
      "mean stationary distribution 0.7962722\n"
     ]
    }
   ],
   "source": [
    "timestep = 0.05\n",
    "print \"mean tauBtoA\", np.mean(timestep*tauBtoA)\n",
    "print \"mean tauAtoB\", np.mean(timestep*tauAtoB)\n",
    "print \"std tauBtoA\", np.std(timestep*tauBtoA)\n",
    "print \"std tauAtoB\", np.std(timestep*tauAtoB)\n",
    "print \"mean stationary distribution\", np.sum(b)/len(b)"
   ]
  },
  {
   "cell_type": "code",
   "execution_count": 28,
   "metadata": {
    "collapsed": false,
    "deletable": true,
    "editable": true,
    "scrolled": true
   },
   "outputs": [
    {
     "data": {
      "text/plain": [
       "<matplotlib.collections.PathCollection at 0x7f59b2cae950>"
      ]
     },
     "execution_count": 28,
     "metadata": {},
     "output_type": "execute_result"
    },
    {
     "data": {
      "image/png": "[encoded data removed]",
      "text/plain": [
       "<matplotlib.figure.Figure at 0x7f59b2d74190>"
      ]
     },
     "metadata": {},
     "output_type": "display_data"
    }
   ],
   "source": [
    "plt.scatter(model.centers[:,0], model.centers[:,1])\n",
    "boundStates = np.where(np.linalg.norm(model.centers, axis=1) <= 1.0)[0]\n",
    "plt.scatter(model.centers[boundStates,0], model.centers[boundStates,1], c='r')"
   ]
  },
  {
   "cell_type": "code",
   "execution_count": 46,
   "metadata": {
    "collapsed": false,
    "deletable": true,
    "editable": true
   },
   "outputs": [
    {
     "name": "stdout",
     "output_type": "stream",
     "text": [
      "[ 1  2  3  8  9 13 15 18 22]\n"
     ]
    }
   ],
   "source": [
    "print boundStates"
   ]
  },
  {
   "cell_type": "code",
   "execution_count": 69,
   "metadata": {
    "collapsed": false,
    "deletable": true,
    "editable": true
   },
   "outputs": [
    {
     "name": "stdout",
     "output_type": "stream",
     "text": [
      "0.885895\n"
     ]
    }
   ],
   "source": [
    "print (len(np.where(np.logical_and(sim.traj[:,3]==-1, np.linalg.norm(sim.traj[:,1:3], axis=1)<3.0))[0])+len(np.where(sim.traj[:,3]!=-1)[0]))/float(len(sim.traj))"
   ]
  },
  {
   "cell_type": "code",
   "execution_count": 62,
   "metadata": {
    "collapsed": false,
    "deletable": true,
    "editable": true
   },
   "outputs": [
    {
     "data": {
      "image/png": "[encoded data removed]",
      "text/plain": [
       "<matplotlib.figure.Figure at 0x7f739ab6b910>"
      ]
     },
     "metadata": {},
     "output_type": "display_data"
    }
   ],
   "source": [
    "dhist = discreteHistogram(sim.traj[:,3])"
   ]
  },
  {
   "cell_type": "code",
   "execution_count": 64,
   "metadata": {
    "collapsed": false,
    "deletable": true,
    "editable": true
   },
   "outputs": [],
   "source": [
    "import pyemma\n",
    "M = pyemma.msm.markov_model(model.tmatrix)"
   ]
  },
  {
   "cell_type": "code",
   "execution_count": 65,
   "metadata": {
    "collapsed": true,
    "deletable": true,
    "editable": true
   },
   "outputs": [],
   "source": [
    "stat_distr = M.stationary_distribution"
   ]
  },
  {
   "cell_type": "code",
   "execution_count": 70,
   "metadata": {
    "collapsed": false,
    "deletable": true,
    "editable": true
   },
   "outputs": [
    {
     "data": {
      "text/plain": [
       "[<matplotlib.lines.Line2D at 0x7f7390ff8250>]"
      ]
     },
     "execution_count": 70,
     "metadata": {},
     "output_type": "execute_result"
    },
    {
     "data": {
      "image/png": "[encoded data removed]",
      "text/plain": [
       "<matplotlib.figure.Figure at 0x7f739a81f910>"
      ]
     },
     "metadata": {},
     "output_type": "display_data"
    }
   ],
   "source": [
    "plt.plot((dhist[0][0]-stat_distr)/stat_distr)"
   ]
  },
  {
   "cell_type": "code",
   "execution_count": 68,
   "metadata": {
    "collapsed": false,
    "deletable": true,
    "editable": true
   },
   "outputs": [
    {
     "data": {
      "text/plain": [
       "array([ 0.091426 ,  0.1098041,  0.1238055,  0.130026 ,  0.1133568,\n",
       "        0.1142068,  0.1140577,  0.1093922,  0.0939249])"
      ]
     },
     "execution_count": 68,
     "metadata": {},
     "output_type": "execute_result"
    }
   ],
   "source": [
    "dhist[0][0]"
   ]
  },
  {
   "cell_type": "code",
   "execution_count": 71,
   "metadata": {
    "collapsed": false,
    "deletable": true,
    "editable": true
   },
   "outputs": [
    {
     "data": {
      "text/plain": [
       "(9,)"
      ]
     },
     "execution_count": 71,
     "metadata": {},
     "output_type": "execute_result"
    }
   ],
   "source": [
    "dhist[0][0].shape"
   ]
  },
  {
   "cell_type": "code",
   "execution_count": 72,
   "metadata": {
    "collapsed": false,
    "deletable": true,
    "editable": true
   },
   "outputs": [
    {
     "data": {
      "text/plain": [
       "((array([ 0.091426 ,  0.1098041,  0.1238055,  0.130026 ,  0.1133568,\n",
       "          0.1142068,  0.1140577,  0.1093922,  0.0939249]),\n",
       "  array([-0.5,  0.5,  1.5,  2.5,  3.5,  4.5,  5.5,  6.5,  7.5,  8.5]),\n",
       "  <a list of 9 Patch objects>),\n",
       " array([ 0.,  1.,  2.,  3.,  4.,  5.,  6.,  7.,  8.]))"
      ]
     },
     "execution_count": 72,
     "metadata": {},
     "output_type": "execute_result"
    }
   ],
   "source": [
    "dhist"
   ]
  },
  {
   "cell_type": "code",
   "execution_count": 77,
   "metadata": {
    "collapsed": false,
    "deletable": true,
    "editable": true
   },
   "outputs": [
    {
     "data": {
      "text/plain": [
       "array([ 914260, 1098041, 1238055, 1300260,       0, 1133568, 1142068,\n",
       "       1140577, 1093922,  939249])"
      ]
     },
     "execution_count": 77,
     "metadata": {},
     "output_type": "execute_result"
    }
   ],
   "source": [
    "np.histogram(sim.traj[:,3])[0]"
   ]
  },
  {
   "cell_type": "code",
   "execution_count": null,
   "metadata": {
    "collapsed": true,
    "deletable": true,
    "editable": true
   },
   "outputs": [],
   "source": []
  }
 ],
 "metadata": {
  "kernelspec": {
   "display_name": "Python 2",
   "language": "python",
   "name": "python2"
  },
  "language_info": {
   "codemirror_mode": {
    "name": "ipython",
    "version": 2
   },
   "file_extension": ".py",
   "mimetype": "text/x-python",
   "name": "python",
   "nbconvert_exporter": "python",
   "pygments_lexer": "ipython2",
   "version": "2.7.13"
  }
 },
 "nbformat": 4,
 "nbformat_minor": 0
}

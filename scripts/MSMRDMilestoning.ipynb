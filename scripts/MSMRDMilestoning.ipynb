{
 "cells": [
  {
   "cell_type": "code",
   "execution_count": 1,
   "metadata": {
    "collapsed": false
   },
   "outputs": [],
   "source": [
    "import numpy as np\n",
    "import matplotlib.pyplot as plt\n",
    "import MSMRD as mrd\n",
    "import MSMRD.integrators as integrators\n",
    "import MSMRD.potentials as potentials\n",
    "import MSMRD.analysis as analysis\n",
    "import pickle\n",
    "%matplotlib inline"
   ]
  },
  {
   "cell_type": "code",
   "execution_count": 2,
   "metadata": {
    "collapsed": true
   },
   "outputs": [],
   "source": [
    "class MSMmodel(object):    \n",
    "    def __init__(self, tmatrix, centers, regionMap):\n",
    "        self.tmatrix = tmatrix\n",
    "        self.centers = centers\n",
    "        self.regionMap = regionMap"
   ]
  },
  {
   "cell_type": "code",
   "execution_count": 3,
   "metadata": {
    "collapsed": false
   },
   "outputs": [
    {
     "name": "stdout",
     "output_type": "stream",
     "text": [
      "[1.8, 2.0]\n",
      "[2.3, 2.5]\n"
     ]
    }
   ],
   "source": [
    "msmmodel = pickle.load(open(\"../data/msmmodel_lag500_rentry1.8-2.0_rexit2.3-2.5.p\", \"rb\"))\n",
    "print msmmodel.regionMap['rentry_int']\n",
    "print msmmodel.regionMap['rexit_int']"
   ]
  },
  {
   "cell_type": "code",
   "execution_count": 4,
   "metadata": {
    "collapsed": false
   },
   "outputs": [
    {
     "name": "stdout",
     "output_type": "stream",
     "text": [
      "True\n"
     ]
    }
   ],
   "source": [
    "#truncate transition matrix to omit bath state\n",
    "Ttrunc = msmmodel.tmatrix[:-1,:-1]\n",
    "for i in range(Ttrunc.shape[0]):\n",
    "    Ttrunc[i,:] /= np.sum(Ttrunc[i,:])\n",
    "print np.allclose(np.sum(Ttrunc, axis=1), 1.)"
   ]
  },
  {
   "cell_type": "code",
   "execution_count": 5,
   "metadata": {
    "collapsed": false
   },
   "outputs": [],
   "source": [
    "#create msm and integrator object to set up the simulation\n",
    "r0 = np.array([3.0, 0.])\n",
    "p = mrd.particle(r0, 1.)\n",
    "exitRadius = msmmodel.regionMap['rexit_int'][0]\n",
    "msm = mrd.MSM(Ttrunc, msmmodel.centers[:-1], exitR=exitRadius)\n",
    "integrator = integrators.MSMRDMilestoningReflective(msm, 4.0, p, 0.05, msmmodel.regionMap)"
   ]
  },
  {
   "cell_type": "code",
   "execution_count": 6,
   "metadata": {
    "collapsed": false
   },
   "outputs": [],
   "source": [
    "sim = mrd.simulation(integrator)\n",
    "sim.run(10000000, sample=True)"
   ]
  },
  {
   "cell_type": "code",
   "execution_count": 7,
   "metadata": {
    "collapsed": false
   },
   "outputs": [],
   "source": [
    "pickle.dump(sim.traj, open(\"/srv/data/dibakma/MSMRD/modifiedLJ2D/milestoning/reflectiveRing/hybridModel/traj_lag500_rentry1.6-2.0_rexit2.4-3.0.p\", \"wb\"))"
   ]
  },
  {
   "cell_type": "code",
   "execution_count": 7,
   "metadata": {
    "collapsed": false
   },
   "outputs": [],
   "source": [
    "sim.traj[0]\n",
    "unboundRadius = 2.3\n",
    "#1 corresponds to unbound state, 0 to bound\n",
    "b = np.zeros(len(sim.traj))\n",
    "b[0] = 1\n",
    "for i in range(1, len(sim.traj)):\n",
    "    if b[i-1] == 1:\n",
    "        if sim.traj[i,3] == 0:\n",
    "            b[i] = 0\n",
    "        else:\n",
    "            b[i] = 1\n",
    "    if b[i-1] == 0:\n",
    "        if (np.linalg.norm(sim.traj[i,1:3]) >= unboundRadius and sim.traj[i,3] == -1):\n",
    "            b[i] = 1\n",
    "        else:\n",
    "            b[i] = 0"
   ]
  },
  {
   "cell_type": "code",
   "execution_count": 8,
   "metadata": {
    "collapsed": false
   },
   "outputs": [
    {
     "name": "stdout",
     "output_type": "stream",
     "text": [
      "case2\n"
     ]
    }
   ],
   "source": [
    "transitions = b[1:]-b[:-1]\n",
    "AtoB = np.where(transitions == 1)[0]\n",
    "BtoA = np.where(transitions == -1)[0]\n",
    "def transitionTimes(AtoB, BtoA):\n",
    "    if len(AtoB) == len(BtoA):\n",
    "        if AtoB[0] < BtoA[0]:\n",
    "            print \"case1\"\n",
    "            tauBtoA = BtoA - AtoB\n",
    "            tauAtoB = AtoB[1:] - BtoA[:-1]\n",
    "        else:\n",
    "            print \"case2\"\n",
    "            tauAtoB = AtoB - BtoA\n",
    "            tauBtoA = BtoA[1:] - AtoB[:-1]\n",
    "    elif len(AtoB)+1 == len(BtoA):\n",
    "        if AtoB[0] < BtoA[0]:\n",
    "            print \"case3\"\n",
    "            tauBtoA = BtoA[:-1] - AtoB\n",
    "            tauAtoB = AtoB[1:] - BtoA[:-2]\n",
    "        else:\n",
    "            print \"case4\"\n",
    "            tauAtoB = AtoB - BtoA[:-1]\n",
    "            tauBtoA = BtoA[1:] - AtoB\n",
    "    elif len(AtoB)-1 == len(BtoA):\n",
    "        if AtoB[0] < BtoA[0]:\n",
    "            print \"case5\"\n",
    "            tauBtoA = BtoA - AtoB[:-1]\n",
    "            tauAtoB = AtoB[1:] - BtoA\n",
    "        else:\n",
    "            print \"case6\"\n",
    "            tauAtoB = AtoB[:-1] - BtoA\n",
    "            tauBtoA = BtoA[1:-1] - AtoB[:-2]\n",
    "    else:\n",
    "        return None\n",
    "    return tauAtoB, tauBtoA\n",
    "tauAtoB, tauBtoA = transitionTimes(AtoB, BtoA)"
   ]
  },
  {
   "cell_type": "code",
   "execution_count": 9,
   "metadata": {
    "collapsed": false
   },
   "outputs": [
    {
     "name": "stdout",
     "output_type": "stream",
     "text": [
      "mean tauBtoA 6.74166958431\n",
      "std tauBtoA 7.1094935975\n",
      "mean tauAtoB 1.21542801216\n",
      "std tauAtoB 0.997149372147\n",
      "mean stationary distribution 0.180285906474\n"
     ]
    }
   ],
   "source": [
    "timestep = 0.050\n",
    "print \"mean tauBtoA\", np.mean(timestep*tauBtoA)\n",
    "print \"std tauBtoA\", np.std(timestep*tauBtoA)\n",
    "print \"mean tauAtoB\", np.mean(timestep*tauAtoB)\n",
    "print \"std tauAtoB\", np.std(timestep*tauAtoB)\n",
    "print \"mean stationary distribution\", np.mean(tauAtoB)/np.mean(tauBtoA)"
   ]
  },
  {
   "cell_type": "code",
   "execution_count": 11,
   "metadata": {
    "collapsed": false
   },
   "outputs": [
    {
     "data": {
      "text/plain": [
       "0.88802630000000005"
      ]
     },
     "execution_count": 11,
     "metadata": {},
     "output_type": "execute_result"
    }
   ],
   "source": [
    "np.sum(b)/float(len(b))"
   ]
  },
  {
   "cell_type": "code",
   "execution_count": 14,
   "metadata": {
    "collapsed": false
   },
   "outputs": [
    {
     "data": {
      "text/plain": [
       "<matplotlib.colorbar.Colorbar at 0x7fc0ec6ea650>"
      ]
     },
     "execution_count": 14,
     "metadata": {},
     "output_type": "execute_result"
    },
    {
     "data": {
      "image/png": "[encoded data removed]",
      "text/plain": [
       "<matplotlib.figure.Figure at 0x7fc0e8bd5f90>"
      ]
     },
     "metadata": {},
     "output_type": "display_data"
    }
   ],
   "source": [
    "BDregion = np.where(sim.traj[:,3]==-1)[0]\n",
    "obj = plt.hist2d(sim.traj[BDregion,1], sim.traj[BDregion,2], bins=150)\n",
    "plt.colorbar()"
   ]
  },
  {
   "cell_type": "code",
   "execution_count": 13,
   "metadata": {
    "collapsed": false
   },
   "outputs": [
    {
     "name": "stdout",
     "output_type": "stream",
     "text": [
      "[ 0.          2.49193422 -0.06476743 -1.        ]\n"
     ]
    }
   ],
   "source": [
    "print sim.traj[0]"
   ]
  },
  {
   "cell_type": "code",
   "execution_count": 29,
   "metadata": {
    "collapsed": false
   },
   "outputs": [
    {
     "data": {
      "text/plain": [
       "2.0"
      ]
     },
     "execution_count": 29,
     "metadata": {},
     "output_type": "execute_result"
    }
   ],
   "source": [
    "integrator.Re"
   ]
  },
  {
   "cell_type": "code",
   "execution_count": null,
   "metadata": {
    "collapsed": true
   },
   "outputs": [],
   "source": []
  }
 ],
 "metadata": {
  "kernelspec": {
   "display_name": "Python 2",
   "language": "python",
   "name": "python2"
  },
  "language_info": {
   "codemirror_mode": {
    "name": "ipython",
    "version": 2
   },
   "file_extension": ".py",
   "mimetype": "text/x-python",
   "name": "python",
   "nbconvert_exporter": "python",
   "pygments_lexer": "ipython2",
   "version": "2.7.12"
  }
 },
 "nbformat": 4,
 "nbformat_minor": 0
}

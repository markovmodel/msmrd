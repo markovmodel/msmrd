{
 "cells": [
  {
   "cell_type": "code",
   "execution_count": 1,
   "metadata": {
    "collapsed": false
   },
   "outputs": [],
   "source": [
    "import numpy as np\n",
    "import matplotlib.pyplot as plt\n",
    "import MSMRD as mrd\n",
    "import MSMRD.integrators as integrators\n",
    "import MSMRD.potentials as potentials\n",
    "import pickle"
   ]
  },
  {
   "cell_type": "code",
   "execution_count": 2,
   "metadata": {
    "collapsed": true
   },
   "outputs": [],
   "source": [
    "class MSMmodel(object):    \n",
    "    def __init__(self, tmatrix, centers, regionMap):\n",
    "        self.tmatrix = tmatrix\n",
    "        self.centers= centers\n",
    "        self.regionMap = regionMap"
   ]
  },
  {
   "cell_type": "code",
   "execution_count": 3,
   "metadata": {
    "collapsed": false
   },
   "outputs": [],
   "source": [
    "msmmodel = pickle.load(open(\"../data/msmmodel.p\", \"rb\"))"
   ]
  },
  {
   "cell_type": "code",
   "execution_count": 4,
   "metadata": {
    "collapsed": false
   },
   "outputs": [
    {
     "name": "stdout",
     "output_type": "stream",
     "text": [
      "True\n"
     ]
    }
   ],
   "source": [
    "#truncate transition matrix to omit bath state\n",
    "Ttrunc = msmmodel.tmatrix[:-1,:-1]\n",
    "for i in range(Ttrunc.shape[0]):\n",
    "    Ttrunc[i,:] /= np.sum(Ttrunc[i,:])\n",
    "print np.allclose(np.sum(Ttrunc, axis=1), 1.)"
   ]
  },
  {
   "cell_type": "code",
   "execution_count": 5,
   "metadata": {
    "collapsed": false
   },
   "outputs": [
    {
     "name": "stdout",
     "output_type": "stream",
     "text": [
      "[ 3.  0.]\n"
     ]
    },
    {
     "data": {
      "text/plain": [
       "2"
      ]
     },
     "execution_count": 5,
     "metadata": {},
     "output_type": "execute_result"
    }
   ],
   "source": [
    "r0 = np.array([3.0, 0.])\n",
    "p = mrd.particle(r0, 1.)\n",
    "print p.position\n",
    "exitRadius = msmmodel.regionMap['rexit_int'][0]\n",
    "msm = mrd.MSM(Ttrunc, msmmodel.centers[:-1], exitR=exitRadius)\n",
    "integrator = integrators.MSMRDMilestoningReflective(msm, 4.0, p, 0.2, exitRadius, msmmodel.regionMap)\n",
    "integrator.dim"
   ]
  },
  {
   "cell_type": "code",
   "execution_count": 10,
   "metadata": {
    "collapsed": false
   },
   "outputs": [
    {
     "data": {
      "text/plain": [
       "2"
      ]
     },
     "execution_count": 10,
     "metadata": {},
     "output_type": "execute_result"
    }
   ],
   "source": [
    "sim = mrd.simulation(integrator)\n",
    "sim.run(1000000, sample=False)\n",
    "integrator.dim"
   ]
  },
  {
   "cell_type": "code",
   "execution_count": null,
   "metadata": {
    "collapsed": true
   },
   "outputs": [],
   "source": []
  }
 ],
 "metadata": {
  "kernelspec": {
   "display_name": "Python 2",
   "language": "python",
   "name": "python2"
  },
  "language_info": {
   "codemirror_mode": {
    "name": "ipython",
    "version": 2
   },
   "file_extension": ".py",
   "mimetype": "text/x-python",
   "name": "python",
   "nbconvert_exporter": "python",
   "pygments_lexer": "ipython2",
   "version": "2.7.12"
  }
 },
 "nbformat": 4,
 "nbformat_minor": 0
}

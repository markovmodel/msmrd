{
 "cells": [
  {
   "cell_type": "code",
   "execution_count": 1,
   "metadata": {
    "collapsed": true
   },
   "outputs": [],
   "source": [
    "import numpy as np\n",
    "import MSMRD as mrd\n",
    "import MSMRD.integrators as integrators\n",
    "import matplotlib.pyplot as plt\n",
    "import pickle\n",
    "%matplotlib inline"
   ]
  },
  {
   "cell_type": "code",
   "execution_count": 2,
   "metadata": {
    "collapsed": false
   },
   "outputs": [],
   "source": [
    "MFPTS = np.zeros([9,9])                                                                                                                                                                                        \n",
    "minima = np.array([[0.0,0.0], [1.0,0.0] , [1.1, 1.0], [-0.1,0.9], [-1.3,0.8], [-1.0,-0.2], [-0.6,-1.0], [0.9,-0.8], [0.2,-1.5]])                                                                               \n",
    "class truncTrajsModel(object):                                                                                                                                                                                 \n",
    "    def __init__(self, entryTrajsStart, entryTrajsEnd, entryTimes, exitTrajs, exitTimes, exitProbs, MSMtime, tmatrix):                                                                                         \n",
    "        self.entryTrajsStart = entryTrajsStart                                                                                                                                                                 \n",
    "        self.entryTrajsEnd = entryTrajsEnd                                                                                                                                                                     \n",
    "        self.entryTimes = entryTimes                                                                                                                                                                           \n",
    "        self.exitTrajs = exitTrajs                                                                                                                                                                             \n",
    "        self.exitTimes = exitTimes                                                                                                                                                                             \n",
    "        self.exitProbs = exitProbs                                                                                                                                                                             \n",
    "        self.tmatrix = tmatrix                                                                                                                                                                                 \n",
    "        self.MSMtimestep = MSMtime                                                                                                                                                                             \n",
    "                                                                                                                                                                                                               \n",
    "def sampleBathPosition():                                                                                                                                                                                      \n",
    "    theta = 2*np.pi * np.random.rand()                                                                                                                                                                         \n",
    "    r = np.sqrt(np.random.rand()*(4.0**2 - 3.0**2) + 3.0**2)                                                                                                                                                   \n",
    "    return r*np.array([np.sin(theta), np.cos(theta)])                                                                                                                                                          \n",
    "                                                                                                                                                                                                               \n",
    "model = pickle.load(open('../data/models/asym2D/periodicModel_lag10_60partitionsNew.p'))                                                                                                                           \n",
    "T = np.copy(model.tmatrix) "
   ]
  },
  {
   "cell_type": "code",
   "execution_count": 13,
   "metadata": {
    "collapsed": false
   },
   "outputs": [],
   "source": [
    "x0 = 2.0*np.random.rand() - 1.0                                                                                                                                                                            \n",
    "y0 = 2.0*np.random.rand() - 1.0                                                                                                                                                                            \n",
    "r1 = np.array([1.7, 1.7])                                                                                                                                                                                    \n",
    "p1 = mrd.particle(r1, 1.0)                                                                                                                                                                                 \n",
    "msm = mrd.MSM(model.tmatrix, minima)                                                                                                                                                                       \n",
    "msm.exitStates  = []                                                                                                                                                                                       \n",
    "integrator = integrators.MSMRDtruncTrajs(msm, 4.0, p1, 0.01, model, 2.5)                                                                                                                                   \n",
    "sim = mrd.simulation(integrator)                                                                                                                                                                           \n",
    "fpts = [] \n",
    "sim.run(1000000, sample=True)"
   ]
  },
  {
   "cell_type": "code",
   "execution_count": 14,
   "metadata": {
    "collapsed": true
   },
   "outputs": [],
   "source": [
    "traj = sim.traj"
   ]
  },
  {
   "cell_type": "code",
   "execution_count": 30,
   "metadata": {
    "collapsed": false
   },
   "outputs": [],
   "source": [
    "entries = []\n",
    "#for i in range(9):\n",
    "entries.append(np.where(np.logical_and(traj[:-1,4]==-1, traj[1:,4] == 0))[0])"
   ]
  },
  {
   "cell_type": "code",
   "execution_count": 31,
   "metadata": {
    "collapsed": false
   },
   "outputs": [
    {
     "name": "stdout",
     "output_type": "stream",
     "text": [
      "56\n"
     ]
    }
   ],
   "source": [
    "print len(entries[0])"
   ]
  },
  {
   "cell_type": "code",
   "execution_count": 6,
   "metadata": {
    "collapsed": false
   },
   "outputs": [
    {
     "data": {
      "text/plain": [
       "<matplotlib.collections.PathCollection at 0x7f1850beeb10>"
      ]
     },
     "execution_count": 6,
     "metadata": {},
     "output_type": "execute_result"
    },
    {
     "data": {
      "image/png": "[encoded data removed]",
      "text/plain": [
       "<matplotlib.figure.Figure at 0x7f185c3680d0>"
      ]
     },
     "metadata": {},
     "output_type": "display_data"
    }
   ],
   "source": [
    "state = 8\n",
    "plt.scatter(minima[:,0], minima[:,1])\n",
    "plt.scatter(minima[state,0], minima[state,1], marker='o')\n",
    "plt.scatter(traj[entries[state],2], traj[entries[state],3])"
   ]
  },
  {
   "cell_type": "code",
   "execution_count": 19,
   "metadata": {
    "collapsed": false
   },
   "outputs": [
    {
     "name": "stdout",
     "output_type": "stream",
     "text": [
      "3079\n"
     ]
    }
   ],
   "source": [
    "print integrator.exitCalls"
   ]
  },
  {
   "cell_type": "code",
   "execution_count": 20,
   "metadata": {
    "collapsed": false
   },
   "outputs": [
    {
     "name": "stdout",
     "output_type": "stream",
     "text": [
      "28274\n"
     ]
    }
   ],
   "source": [
    "print integrator.entryCalls"
   ]
  },
  {
   "cell_type": "code",
   "execution_count": 22,
   "metadata": {
    "collapsed": true
   },
   "outputs": [],
   "source": [
    "increments = traj[1:,1]-traj[:-1,1]"
   ]
  },
  {
   "cell_type": "code",
   "execution_count": 23,
   "metadata": {
    "collapsed": false
   },
   "outputs": [],
   "source": [
    "sortedTimes = np.argsort(increments)"
   ]
  },
  {
   "cell_type": "code",
   "execution_count": 24,
   "metadata": {
    "collapsed": false
   },
   "outputs": [
    {
     "data": {
      "text/plain": [
       "[<matplotlib.lines.Line2D at 0x7f185bb257d0>]"
      ]
     },
     "execution_count": 24,
     "metadata": {},
     "output_type": "execute_result"
    },
    {
     "data": {
      "image/png": "[encoded data removed]",
      "text/plain": [
       "<matplotlib.figure.Figure at 0x7f185f049ad0>"
      ]
     },
     "metadata": {},
     "output_type": "display_data"
    }
   ],
   "source": [
    "plt.plot(increments[sortedTimes], 'x')"
   ]
  },
  {
   "cell_type": "code",
   "execution_count": 37,
   "metadata": {
    "collapsed": false
   },
   "outputs": [
    {
     "data": {
      "image/png": "[encoded data removed]",
      "text/plain": [
       "<matplotlib.figure.Figure at 0x7f182e56d750>"
      ]
     },
     "metadata": {},
     "output_type": "display_data"
    }
   ],
   "source": [
    "hst = plt.hist(increments, bins = 100)"
   ]
  },
  {
   "cell_type": "code",
   "execution_count": 28,
   "metadata": {
    "collapsed": false
   },
   "outputs": [
    {
     "name": "stdout",
     "output_type": "stream",
     "text": [
      "2.176\n"
     ]
    }
   ],
   "source": [
    "print increments[sortedTimes[-1]]"
   ]
  },
  {
   "cell_type": "code",
   "execution_count": 29,
   "metadata": {
    "collapsed": false
   },
   "outputs": [
    {
     "name": "stdout",
     "output_type": "stream",
     "text": [
      "[[  4.97325000e+05   8.84228500e+03   0.00000000e+00   0.00000000e+00\n",
      "    7.00000000e+00]\n",
      " [  4.97326000e+05   8.84238500e+03   0.00000000e+00   0.00000000e+00\n",
      "    7.00000000e+00]\n",
      " [  4.97327000e+05   8.84248500e+03   0.00000000e+00   0.00000000e+00\n",
      "    7.00000000e+00]\n",
      " [  4.97328000e+05   8.84258500e+03   0.00000000e+00   0.00000000e+00\n",
      "    3.00000000e+00]\n",
      " [  4.97329000e+05   8.84476100e+03   1.08751016e+00   2.25217707e+00\n",
      "   -1.00000000e+00]]\n"
     ]
    }
   ],
   "source": [
    "print traj[sortedTimes[-1]-3:sortedTimes[-1]+2]"
   ]
  },
  {
   "cell_type": "code",
   "execution_count": 18,
   "metadata": {
    "collapsed": false
   },
   "outputs": [
    {
     "data": {
      "text/plain": [
       "[<matplotlib.lines.Line2D at 0x7f473d577750>]"
      ]
     },
     "execution_count": 18,
     "metadata": {},
     "output_type": "execute_result"
    },
    {
     "data": {
      "image/png": "[encoded data removed]",
      "text/plain": [
       "<matplotlib.figure.Figure at 0x7f4728560190>"
      ]
     },
     "metadata": {},
     "output_type": "display_data"
    }
   ],
   "source": [
    "plt.plot(traj[:,0]*0.01, traj[:,1] )"
   ]
  },
  {
   "cell_type": "code",
   "execution_count": 19,
   "metadata": {
    "collapsed": false
   },
   "outputs": [
    {
     "name": "stdout",
     "output_type": "stream",
     "text": [
      "5532\n"
     ]
    }
   ],
   "source": [
    "print len(np.where(traj[:,4] >= 0)[0])"
   ]
  },
  {
   "cell_type": "code",
   "execution_count": 24,
   "metadata": {
    "collapsed": false
   },
   "outputs": [
    {
     "data": {
      "text/plain": [
       "<matplotlib.collections.PathCollection at 0x7f472b32ca50>"
      ]
     },
     "execution_count": 24,
     "metadata": {},
     "output_type": "execute_result"
    },
    {
     "data": {
      "image/png": "[encoded data removed]",
      "text/plain": [
       "<matplotlib.figure.Figure at 0x7f473c86b210>"
      ]
     },
     "metadata": {},
     "output_type": "display_data"
    }
   ],
   "source": [
    "plt.scatter(traj[:,2], traj[:, 3])"
   ]
  },
  {
   "cell_type": "code",
   "execution_count": 30,
   "metadata": {
    "collapsed": false
   },
   "outputs": [
    {
     "data": {
      "text/plain": [
       "<matplotlib.collections.PathCollection at 0x7fee8449c150>"
      ]
     },
     "execution_count": 30,
     "metadata": {},
     "output_type": "execute_result"
    },
    {
     "data": {
      "image/png": "[encoded data removed]",
      "text/plain": [
       "<matplotlib.figure.Figure at 0x7feea2faf810>"
      ]
     },
     "metadata": {},
     "output_type": "display_data"
    }
   ],
   "source": [
    "plt.scatter(traj[sortedTimes[-50:]+1,2], traj[sortedTimes[-50:]+1,3])"
   ]
  },
  {
   "cell_type": "code",
   "execution_count": 17,
   "metadata": {
    "collapsed": false
   },
   "outputs": [
    {
     "data": {
      "text/plain": [
       "<matplotlib.collections.PathCollection at 0x7fee8444c690>"
      ]
     },
     "execution_count": 17,
     "metadata": {},
     "output_type": "execute_result"
    },
    {
     "data": {
      "image/png": "[encoded data removed]",
      "text/plain": [
       "<matplotlib.figure.Figure at 0x7fee87b60350>"
      ]
     },
     "metadata": {},
     "output_type": "display_data"
    }
   ],
   "source": [
    "plt.scatter(traj[29319+1,2], traj[29319+1,3])\n",
    "plt.scatter(minima[:,0], minima[:,1])"
   ]
  },
  {
   "cell_type": "code",
   "execution_count": 32,
   "metadata": {
    "collapsed": true
   },
   "outputs": [],
   "source": [
    "exits = []\n",
    "for i in range(9):\n",
    "    exits.append(np.where(np.logical_and(traj[1:,4]==-1, traj[:-1,4] == i))[0]+1)"
   ]
  },
  {
   "cell_type": "code",
   "execution_count": 33,
   "metadata": {
    "collapsed": false
   },
   "outputs": [
    {
     "data": {
      "text/plain": [
       "<matplotlib.collections.PathCollection at 0x7f185063ddd0>"
      ]
     },
     "execution_count": 33,
     "metadata": {},
     "output_type": "execute_result"
    },
    {
     "data": {
      "image/png": "[encoded data removed]",
      "text/plain": [
       "<matplotlib.figure.Figure at 0x7f18318dab90>"
      ]
     },
     "metadata": {},
     "output_type": "display_data"
    }
   ],
   "source": [
    "state = 0\n",
    "plt.scatter(minima[:,0], minima[:,1])\n",
    "plt.scatter(minima[state,0], minima[state,1], marker='o')\n",
    "plt.scatter(traj[exits[state],2], traj[exits[state],3])"
   ]
  },
  {
   "cell_type": "code",
   "execution_count": 35,
   "metadata": {
    "collapsed": false
   },
   "outputs": [
    {
     "name": "stdout",
     "output_type": "stream",
     "text": [
      "523\n"
     ]
    }
   ],
   "source": [
    "print len(exits[8])"
   ]
  },
  {
   "cell_type": "code",
   "execution_count": 54,
   "metadata": {
    "collapsed": false
   },
   "outputs": [
    {
     "name": "stdout",
     "output_type": "stream",
     "text": [
      "47\n"
     ]
    }
   ],
   "source": [
    "print len(exits[8])"
   ]
  },
  {
   "cell_type": "code",
   "execution_count": null,
   "metadata": {
    "collapsed": true
   },
   "outputs": [],
   "source": []
  }
 ],
 "metadata": {
  "kernelspec": {
   "display_name": "Python 2",
   "language": "python",
   "name": "python2"
  },
  "language_info": {
   "codemirror_mode": {
    "name": "ipython",
    "version": 2
   },
   "file_extension": ".py",
   "mimetype": "text/x-python",
   "name": "python",
   "nbconvert_exporter": "python",
   "pygments_lexer": "ipython2",
   "version": "2.7.12"
  }
 },
 "nbformat": 4,
 "nbformat_minor": 2
}

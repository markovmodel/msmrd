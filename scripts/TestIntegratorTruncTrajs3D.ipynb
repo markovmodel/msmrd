{
 "cells": [
  {
   "cell_type": "code",
   "execution_count": 1,
   "metadata": {
    "collapsed": false,
    "deletable": true,
    "editable": true
   },
   "outputs": [],
   "source": [
    "import numpy as np\n",
    "import MSMRD as mrd\n",
    "import MSMRD.integrators as integrators\n",
    "import matplotlib.pyplot as plt\n",
    "import pickle\n",
    "%matplotlib inline"
   ]
  },
  {
   "cell_type": "code",
   "execution_count": 2,
   "metadata": {
    "collapsed": false,
    "deletable": true,
    "editable": true
   },
   "outputs": [],
   "source": [
    "MFPTS = np.zeros([9,9])                                                                                                                                                                                        \n",
    "minima = np.array([[-0.9,0.7,0.3] , [-0.1,0.9,0.7],  [0.8,0.8,-0.8],  \\\n",
    "                  [-1.0,-0.3,-0.4], [0.0,0.0,0.0],   [0.9,-0.1,-0.9], \\\n",
    "                  [-0.7,-1.0,-0.3], [0.0,-0.9,0.1],  [0.8,-0.2,0.8]])\n",
    "class truncTrajsModel3D(object):    \n",
    "    def __init__(self, entryTrajsStart, entryTrajsEnd, entryTimes, exitTrajs, exitTimes, exitProbs, MSMtime, tmatrix, numPartitions):\n",
    "        self.entryTrajsStart = entryTrajsStart\n",
    "        self.entryTrajsEnd = entryTrajsEnd\n",
    "        self.entryTimes = entryTimes\n",
    "        self.exitTrajs = exitTrajs\n",
    "        self.exitTimes = exitTimes\n",
    "        self.exitProbs = exitProbs\n",
    "        self.tmatrix = tmatrix\n",
    "        self.MSMtimestep = MSMtime\n",
    "        self.numPartitions = numPartitions                                                                                                                                                                         \n",
    "\n",
    "# Sample random position i sphericall shell between rmin and rmax \n",
    "def sampleBathPosition(rmin,rmax):\n",
    "    outshell = True\n",
    "    while (outshell):\n",
    "        rr = np.random.rand()\n",
    "        rr = rmax*np.cbrt(rr)\n",
    "        if (rr >= rmin and rr <= rmax):\n",
    "            outshell = False\n",
    "    randcosth = 2.0*np.random.rand() - 1.0\n",
    "    randph = 2.0*np.pi*np.random.rand()\n",
    "    th = np.arccos(randcosth)\n",
    "    posx = rr*np.sin(th)*np.cos(randph)\n",
    "    posy = rr*np.sin(th)*np.sin(randph)\n",
    "    posz = rr*np.cos(th)\n",
    "    pos = np.array([posx, posy, posz])\n",
    "    return pos\n",
    "                                                                                                                                                                                                               \n",
    "model = pickle.load(open('../data/models/asym3D/periodicModel_lag10_6files_177partitions.p'))                                                                                                                           \n",
    "T = np.copy(model.tmatrix) "
   ]
  },
  {
   "cell_type": "code",
   "execution_count": 8,
   "metadata": {
    "collapsed": false,
    "deletable": true,
    "editable": true
   },
   "outputs": [],
   "source": [
    "r1 = np.zeros(3)                                                                                                                                                                                \n",
    "p1 = mrd.particle(r1, 1.0)                                                                                                                                                                                 \n",
    "msm = mrd.MSM(model.tmatrix, minima)                                                                                                                                                                       \n",
    "msm.exitStates  = []\n",
    "boundary = mrd.reflectiveSphere(4.)\n",
    "integrator = integrators.MSMRDtruncTrajs3D(msm, 4.0, p1, 0.01, 2.5, boundary, model)    \n",
    "integrator.MSM.state = 0\n",
    "integrator.lastState = 0\n",
    "integrator.transition = True\n",
    "integrator.MSMactive = True\n",
    "integrator.lastStateTime = 0\n",
    "sim = mrd.simulation(integrator)                                                                                                                                                                           \n",
    "fpts = [] \n",
    "sim.run(100000, sample=True)\n",
    "traj = sim.traj"
   ]
  },
  {
   "cell_type": "code",
   "execution_count": null,
   "metadata": {
    "collapsed": false,
    "deletable": true,
    "editable": true
   },
   "outputs": [],
   "source": [
    "integrator.enterMSM()"
   ]
  },
  {
   "cell_type": "code",
   "execution_count": 6,
   "metadata": {
    "collapsed": false
   },
   "outputs": [
    {
     "data": {
      "text/plain": [
       "array([[  0.00000000e+00,   1.00000000e-01,   0.00000000e+00,\n",
       "          0.00000000e+00,   0.00000000e+00,   0.00000000e+00],\n",
       "       [  1.00000000e+00,   2.00000000e-01,   0.00000000e+00,\n",
       "          0.00000000e+00,   0.00000000e+00,   0.00000000e+00],\n",
       "       [  2.00000000e+00,   3.00000000e-01,   0.00000000e+00,\n",
       "          0.00000000e+00,   0.00000000e+00,   4.00000000e+00],\n",
       "       [  3.00000000e+00,   4.00000000e-01,   0.00000000e+00,\n",
       "          0.00000000e+00,   0.00000000e+00,   4.00000000e+00],\n",
       "       [  4.00000000e+00,   5.00000000e-01,   0.00000000e+00,\n",
       "          0.00000000e+00,   0.00000000e+00,   4.00000000e+00],\n",
       "       [  5.00000000e+00,   6.00000000e-01,   0.00000000e+00,\n",
       "          0.00000000e+00,   0.00000000e+00,   4.00000000e+00],\n",
       "       [  6.00000000e+00,   7.00000000e-01,   0.00000000e+00,\n",
       "          0.00000000e+00,   0.00000000e+00,   8.00000000e+00],\n",
       "       [  7.00000000e+00,   8.00000000e-01,   0.00000000e+00,\n",
       "          0.00000000e+00,   0.00000000e+00,   8.00000000e+00],\n",
       "       [  8.00000000e+00,   9.00000000e-01,   0.00000000e+00,\n",
       "          0.00000000e+00,   0.00000000e+00,   8.00000000e+00],\n",
       "       [  9.00000000e+00,   1.00000000e+00,   0.00000000e+00,\n",
       "          0.00000000e+00,   0.00000000e+00,   0.00000000e+00],\n",
       "       [  1.00000000e+01,   2.31000000e+00,   7.53833503e-02,\n",
       "          6.76761031e-01,   2.49814701e+00,  -1.00000000e+00],\n",
       "       [  1.10000000e+01,   2.32000000e+00,   7.53833503e-02,\n",
       "          6.76761031e-01,   2.49814701e+00,  -1.00000000e+00],\n",
       "       [  1.20000000e+01,   2.33000000e+00,   7.53833503e-02,\n",
       "          6.76761031e-01,   2.49814701e+00,  -1.00000000e+00],\n",
       "       [  1.30000000e+01,   2.34000000e+00,   7.53833503e-02,\n",
       "          6.76761031e-01,   2.49814701e+00,  -1.00000000e+00],\n",
       "       [  1.40000000e+01,   2.35000000e+00,   7.53833503e-02,\n",
       "          6.76761031e-01,   2.49814701e+00,  -1.00000000e+00],\n",
       "       [  1.50000000e+01,   2.36000000e+00,   7.53833503e-02,\n",
       "          6.76761031e-01,   2.49814701e+00,  -1.00000000e+00],\n",
       "       [  1.60000000e+01,   2.37000000e+00,   7.53833503e-02,\n",
       "          6.76761031e-01,   2.49814701e+00,  -1.00000000e+00],\n",
       "       [  1.70000000e+01,   2.38000000e+00,   7.53833503e-02,\n",
       "          6.76761031e-01,   2.49814701e+00,  -1.00000000e+00],\n",
       "       [  1.80000000e+01,   2.39000000e+00,   7.53833503e-02,\n",
       "          6.76761031e-01,   2.49814701e+00,  -1.00000000e+00],\n",
       "       [  1.90000000e+01,   2.40000000e+00,   7.53833503e-02,\n",
       "          6.76761031e-01,   2.49814701e+00,  -1.00000000e+00],\n",
       "       [  2.00000000e+01,   2.41000000e+00,   7.53833503e-02,\n",
       "          6.76761031e-01,   2.49814701e+00,  -1.00000000e+00],\n",
       "       [  2.10000000e+01,   2.42000000e+00,   7.53833503e-02,\n",
       "          6.76761031e-01,   2.49814701e+00,  -1.00000000e+00],\n",
       "       [  2.20000000e+01,   2.43000000e+00,   7.53833503e-02,\n",
       "          6.76761031e-01,   2.49814701e+00,  -1.00000000e+00],\n",
       "       [  2.30000000e+01,   2.44000000e+00,   7.53833503e-02,\n",
       "          6.76761031e-01,   2.49814701e+00,  -1.00000000e+00],\n",
       "       [  2.40000000e+01,   2.45000000e+00,   7.53833503e-02,\n",
       "          6.76761031e-01,   2.49814701e+00,  -1.00000000e+00],\n",
       "       [  2.50000000e+01,   2.46000000e+00,   7.53833503e-02,\n",
       "          6.76761031e-01,   2.49814701e+00,  -1.00000000e+00],\n",
       "       [  2.60000000e+01,   2.47000000e+00,   7.53833503e-02,\n",
       "          6.76761031e-01,   2.49814701e+00,  -1.00000000e+00],\n",
       "       [  2.70000000e+01,   2.48000000e+00,   7.53833503e-02,\n",
       "          6.76761031e-01,   2.49814701e+00,  -1.00000000e+00],\n",
       "       [  2.80000000e+01,   2.49000000e+00,   7.53833503e-02,\n",
       "          6.76761031e-01,   2.49814701e+00,  -1.00000000e+00],\n",
       "       [  2.90000000e+01,   2.50000000e+00,   7.53833503e-02,\n",
       "          6.76761031e-01,   2.49814701e+00,  -1.00000000e+00],\n",
       "       [  3.00000000e+01,   2.51000000e+00,   7.53833503e-02,\n",
       "          6.76761031e-01,   2.49814701e+00,  -1.00000000e+00],\n",
       "       [  3.10000000e+01,   2.52000000e+00,   7.53833503e-02,\n",
       "          6.76761031e-01,   2.49814701e+00,  -1.00000000e+00],\n",
       "       [  3.20000000e+01,   2.53000000e+00,   7.53833503e-02,\n",
       "          6.76761031e-01,   2.49814701e+00,  -1.00000000e+00],\n",
       "       [  3.30000000e+01,   2.54000000e+00,   7.53833503e-02,\n",
       "          6.76761031e-01,   2.49814701e+00,  -1.00000000e+00],\n",
       "       [  3.40000000e+01,   2.55000000e+00,   7.53833503e-02,\n",
       "          6.76761031e-01,   2.49814701e+00,  -1.00000000e+00],\n",
       "       [  3.50000000e+01,   2.56000000e+00,   7.53833503e-02,\n",
       "          6.76761031e-01,   2.49814701e+00,  -1.00000000e+00],\n",
       "       [  3.60000000e+01,   2.57000000e+00,   7.53833503e-02,\n",
       "          6.76761031e-01,   2.49814701e+00,  -1.00000000e+00],\n",
       "       [  3.70000000e+01,   2.58000000e+00,   7.53833503e-02,\n",
       "          6.76761031e-01,   2.49814701e+00,  -1.00000000e+00],\n",
       "       [  3.80000000e+01,   2.59000000e+00,   7.53833503e-02,\n",
       "          6.76761031e-01,   2.49814701e+00,  -1.00000000e+00],\n",
       "       [  3.90000000e+01,   2.60000000e+00,   7.53833503e-02,\n",
       "          6.76761031e-01,   2.49814701e+00,  -1.00000000e+00],\n",
       "       [  4.00000000e+01,   2.61000000e+00,   7.53833503e-02,\n",
       "          6.76761031e-01,   2.49814701e+00,  -1.00000000e+00],\n",
       "       [  4.10000000e+01,   2.62000000e+00,   7.53833503e-02,\n",
       "          6.76761031e-01,   2.49814701e+00,  -1.00000000e+00],\n",
       "       [  4.20000000e+01,   2.63000000e+00,   7.53833503e-02,\n",
       "          6.76761031e-01,   2.49814701e+00,  -1.00000000e+00],\n",
       "       [  4.30000000e+01,   2.64000000e+00,   7.53833503e-02,\n",
       "          6.76761031e-01,   2.49814701e+00,  -1.00000000e+00],\n",
       "       [  4.40000000e+01,   2.65000000e+00,   7.53833503e-02,\n",
       "          6.76761031e-01,   2.49814701e+00,  -1.00000000e+00],\n",
       "       [  4.50000000e+01,   2.66000000e+00,   7.53833503e-02,\n",
       "          6.76761031e-01,   2.49814701e+00,  -1.00000000e+00],\n",
       "       [  4.60000000e+01,   2.67000000e+00,   7.53833503e-02,\n",
       "          6.76761031e-01,   2.49814701e+00,  -1.00000000e+00],\n",
       "       [  4.70000000e+01,   2.68000000e+00,   7.53833503e-02,\n",
       "          6.76761031e-01,   2.49814701e+00,  -1.00000000e+00],\n",
       "       [  4.80000000e+01,   2.69000000e+00,   7.53833503e-02,\n",
       "          6.76761031e-01,   2.49814701e+00,  -1.00000000e+00],\n",
       "       [  4.90000000e+01,   2.70000000e+00,   7.53833503e-02,\n",
       "          6.76761031e-01,   2.49814701e+00,  -1.00000000e+00],\n",
       "       [  5.00000000e+01,   2.71000000e+00,   7.53833503e-02,\n",
       "          6.76761031e-01,   2.49814701e+00,  -1.00000000e+00],\n",
       "       [  5.10000000e+01,   2.72000000e+00,   7.53833503e-02,\n",
       "          6.76761031e-01,   2.49814701e+00,  -1.00000000e+00],\n",
       "       [  5.20000000e+01,   2.73000000e+00,   7.53833503e-02,\n",
       "          6.76761031e-01,   2.49814701e+00,  -1.00000000e+00],\n",
       "       [  5.30000000e+01,   2.74000000e+00,   7.53833503e-02,\n",
       "          6.76761031e-01,   2.49814701e+00,  -1.00000000e+00],\n",
       "       [  5.40000000e+01,   2.75000000e+00,   7.53833503e-02,\n",
       "          6.76761031e-01,   2.49814701e+00,  -1.00000000e+00],\n",
       "       [  5.50000000e+01,   2.76000000e+00,   7.53833503e-02,\n",
       "          6.76761031e-01,   2.49814701e+00,  -1.00000000e+00],\n",
       "       [  5.60000000e+01,   2.77000000e+00,   7.53833503e-02,\n",
       "          6.76761031e-01,   2.49814701e+00,  -1.00000000e+00],\n",
       "       [  5.70000000e+01,   2.78000000e+00,   7.53833503e-02,\n",
       "          6.76761031e-01,   2.49814701e+00,  -1.00000000e+00],\n",
       "       [  5.80000000e+01,   2.79000000e+00,   7.53833503e-02,\n",
       "          6.76761031e-01,   2.49814701e+00,  -1.00000000e+00],\n",
       "       [  5.90000000e+01,   2.80000000e+00,   7.53833503e-02,\n",
       "          6.76761031e-01,   2.49814701e+00,  -1.00000000e+00],\n",
       "       [  6.00000000e+01,   2.81000000e+00,   7.53833503e-02,\n",
       "          6.76761031e-01,   2.49814701e+00,  -1.00000000e+00],\n",
       "       [  6.10000000e+01,   2.82000000e+00,   7.53833503e-02,\n",
       "          6.76761031e-01,   2.49814701e+00,  -1.00000000e+00],\n",
       "       [  6.20000000e+01,   2.83000000e+00,   7.53833503e-02,\n",
       "          6.76761031e-01,   2.49814701e+00,  -1.00000000e+00],\n",
       "       [  6.30000000e+01,   2.84000000e+00,   7.53833503e-02,\n",
       "          6.76761031e-01,   2.49814701e+00,  -1.00000000e+00],\n",
       "       [  6.40000000e+01,   2.85000000e+00,   7.53833503e-02,\n",
       "          6.76761031e-01,   2.49814701e+00,  -1.00000000e+00],\n",
       "       [  6.50000000e+01,   2.86000000e+00,   7.53833503e-02,\n",
       "          6.76761031e-01,   2.49814701e+00,  -1.00000000e+00],\n",
       "       [  6.60000000e+01,   2.87000000e+00,   7.53833503e-02,\n",
       "          6.76761031e-01,   2.49814701e+00,  -1.00000000e+00],\n",
       "       [  6.70000000e+01,   2.88000000e+00,   7.53833503e-02,\n",
       "          6.76761031e-01,   2.49814701e+00,  -1.00000000e+00],\n",
       "       [  6.80000000e+01,   2.89000000e+00,   7.53833503e-02,\n",
       "          6.76761031e-01,   2.49814701e+00,  -1.00000000e+00],\n",
       "       [  6.90000000e+01,   2.90000000e+00,   7.53833503e-02,\n",
       "          6.76761031e-01,   2.49814701e+00,  -1.00000000e+00],\n",
       "       [  7.00000000e+01,   2.91000000e+00,   7.53833503e-02,\n",
       "          6.76761031e-01,   2.49814701e+00,  -1.00000000e+00],\n",
       "       [  7.10000000e+01,   2.92000000e+00,   7.53833503e-02,\n",
       "          6.76761031e-01,   2.49814701e+00,  -1.00000000e+00],\n",
       "       [  7.20000000e+01,   2.93000000e+00,   7.53833503e-02,\n",
       "          6.76761031e-01,   2.49814701e+00,  -1.00000000e+00],\n",
       "       [  7.30000000e+01,   2.94000000e+00,   7.53833503e-02,\n",
       "          6.76761031e-01,   2.49814701e+00,  -1.00000000e+00],\n",
       "       [  7.40000000e+01,   2.95000000e+00,   7.53833503e-02,\n",
       "          6.76761031e-01,   2.49814701e+00,  -1.00000000e+00],\n",
       "       [  7.50000000e+01,   2.96000000e+00,   7.53833503e-02,\n",
       "          6.76761031e-01,   2.49814701e+00,  -1.00000000e+00],\n",
       "       [  7.60000000e+01,   2.97000000e+00,   7.53833503e-02,\n",
       "          6.76761031e-01,   2.49814701e+00,  -1.00000000e+00],\n",
       "       [  7.70000000e+01,   2.98000000e+00,   7.53833503e-02,\n",
       "          6.76761031e-01,   2.49814701e+00,  -1.00000000e+00],\n",
       "       [  7.80000000e+01,   2.99000000e+00,   7.53833503e-02,\n",
       "          6.76761031e-01,   2.49814701e+00,  -1.00000000e+00],\n",
       "       [  7.90000000e+01,   3.00000000e+00,   7.53833503e-02,\n",
       "          6.76761031e-01,   2.49814701e+00,  -1.00000000e+00],\n",
       "       [  8.00000000e+01,   3.01000000e+00,   7.53833503e-02,\n",
       "          6.76761031e-01,   2.49814701e+00,  -1.00000000e+00],\n",
       "       [  8.10000000e+01,   3.02000000e+00,   7.53833503e-02,\n",
       "          6.76761031e-01,   2.49814701e+00,  -1.00000000e+00],\n",
       "       [  8.20000000e+01,   3.03000000e+00,   7.53833503e-02,\n",
       "          6.76761031e-01,   2.49814701e+00,  -1.00000000e+00],\n",
       "       [  8.30000000e+01,   3.04000000e+00,   7.53833503e-02,\n",
       "          6.76761031e-01,   2.49814701e+00,  -1.00000000e+00],\n",
       "       [  8.40000000e+01,   3.05000000e+00,   7.53833503e-02,\n",
       "          6.76761031e-01,   2.49814701e+00,  -1.00000000e+00],\n",
       "       [  8.50000000e+01,   3.06000000e+00,   7.53833503e-02,\n",
       "          6.76761031e-01,   2.49814701e+00,  -1.00000000e+00],\n",
       "       [  8.60000000e+01,   3.07000000e+00,   7.53833503e-02,\n",
       "          6.76761031e-01,   2.49814701e+00,  -1.00000000e+00],\n",
       "       [  8.70000000e+01,   3.08000000e+00,   7.53833503e-02,\n",
       "          6.76761031e-01,   2.49814701e+00,  -1.00000000e+00],\n",
       "       [  8.80000000e+01,   3.09000000e+00,   7.53833503e-02,\n",
       "          6.76761031e-01,   2.49814701e+00,  -1.00000000e+00],\n",
       "       [  8.90000000e+01,   3.10000000e+00,   7.53833503e-02,\n",
       "          6.76761031e-01,   2.49814701e+00,  -1.00000000e+00],\n",
       "       [  9.00000000e+01,   3.11000000e+00,   7.53833503e-02,\n",
       "          6.76761031e-01,   2.49814701e+00,  -1.00000000e+00],\n",
       "       [  9.10000000e+01,   3.12000000e+00,   7.53833503e-02,\n",
       "          6.76761031e-01,   2.49814701e+00,  -1.00000000e+00],\n",
       "       [  9.20000000e+01,   3.13000000e+00,   7.53833503e-02,\n",
       "          6.76761031e-01,   2.49814701e+00,  -1.00000000e+00],\n",
       "       [  9.30000000e+01,   3.14000000e+00,   7.53833503e-02,\n",
       "          6.76761031e-01,   2.49814701e+00,  -1.00000000e+00],\n",
       "       [  9.40000000e+01,   3.15000000e+00,   7.53833503e-02,\n",
       "          6.76761031e-01,   2.49814701e+00,  -1.00000000e+00],\n",
       "       [  9.50000000e+01,   3.16000000e+00,   7.53833503e-02,\n",
       "          6.76761031e-01,   2.49814701e+00,  -1.00000000e+00],\n",
       "       [  9.60000000e+01,   3.17000000e+00,   7.53833503e-02,\n",
       "          6.76761031e-01,   2.49814701e+00,  -1.00000000e+00],\n",
       "       [  9.70000000e+01,   3.18000000e+00,   7.53833503e-02,\n",
       "          6.76761031e-01,   2.49814701e+00,  -1.00000000e+00],\n",
       "       [  9.80000000e+01,   3.19000000e+00,   7.53833503e-02,\n",
       "          6.76761031e-01,   2.49814701e+00,  -1.00000000e+00],\n",
       "       [  9.90000000e+01,   3.20000000e+00,   7.53833503e-02,\n",
       "          6.76761031e-01,   2.49814701e+00,  -1.00000000e+00]])"
      ]
     },
     "execution_count": 6,
     "metadata": {},
     "output_type": "execute_result"
    }
   ],
   "source": [
    "traj[0:100]"
   ]
  },
  {
   "cell_type": "code",
   "execution_count": 9,
   "metadata": {
    "collapsed": false,
    "deletable": true,
    "editable": true
   },
   "outputs": [
    {
     "name": "stdout",
     "output_type": "stream",
     "text": [
      "(array([], dtype=int64),)\n"
     ]
    }
   ],
   "source": [
    "print np.where(np.logical_and(traj[1:,5]>=0, traj[:-1,5]==-1))"
   ]
  },
  {
   "cell_type": "code",
   "execution_count": null,
   "metadata": {
    "collapsed": false,
    "deletable": true,
    "editable": true
   },
   "outputs": [],
   "source": [
    "entries = []\n",
    "#for i in range(9):\n",
    "entries.append(np.where(np.logical_and(traj[:-1,4]==-1, traj[1:,4] == 0))[0])"
   ]
  },
  {
   "cell_type": "code",
   "execution_count": null,
   "metadata": {
    "collapsed": false,
    "deletable": true,
    "editable": true
   },
   "outputs": [],
   "source": [
    "print len(entries[0])"
   ]
  },
  {
   "cell_type": "code",
   "execution_count": null,
   "metadata": {
    "collapsed": false,
    "deletable": true,
    "editable": true
   },
   "outputs": [],
   "source": [
    "state = 8\n",
    "plt.scatter(minima[:,0], minima[:,1])\n",
    "plt.scatter(minima[state,0], minima[state,1], marker='o')\n",
    "plt.scatter(traj[entries[state],2], traj[entries[state],3])"
   ]
  },
  {
   "cell_type": "code",
   "execution_count": null,
   "metadata": {
    "collapsed": false,
    "deletable": true,
    "editable": true
   },
   "outputs": [],
   "source": [
    "print integrator.exitCalls"
   ]
  },
  {
   "cell_type": "code",
   "execution_count": null,
   "metadata": {
    "collapsed": false,
    "deletable": true,
    "editable": true
   },
   "outputs": [],
   "source": [
    "print integrator.entryCalls"
   ]
  },
  {
   "cell_type": "code",
   "execution_count": null,
   "metadata": {
    "collapsed": true,
    "deletable": true,
    "editable": true
   },
   "outputs": [],
   "source": [
    "increments = traj[1:,1]-traj[:-1,1]"
   ]
  },
  {
   "cell_type": "code",
   "execution_count": null,
   "metadata": {
    "collapsed": false,
    "deletable": true,
    "editable": true
   },
   "outputs": [],
   "source": [
    "sortedTimes = np.argsort(increments)"
   ]
  },
  {
   "cell_type": "code",
   "execution_count": null,
   "metadata": {
    "collapsed": false,
    "deletable": true,
    "editable": true
   },
   "outputs": [],
   "source": [
    "plt.plot(increments[sortedTimes], 'x')"
   ]
  },
  {
   "cell_type": "code",
   "execution_count": null,
   "metadata": {
    "collapsed": false,
    "deletable": true,
    "editable": true
   },
   "outputs": [],
   "source": [
    "hst = plt.hist(increments, bins = 100)"
   ]
  },
  {
   "cell_type": "code",
   "execution_count": null,
   "metadata": {
    "collapsed": false,
    "deletable": true,
    "editable": true
   },
   "outputs": [],
   "source": [
    "print increments[sortedTimes[-1]]"
   ]
  },
  {
   "cell_type": "code",
   "execution_count": null,
   "metadata": {
    "collapsed": false,
    "deletable": true,
    "editable": true
   },
   "outputs": [],
   "source": [
    "print traj[sortedTimes[-1]-3:sortedTimes[-1]+2]"
   ]
  },
  {
   "cell_type": "code",
   "execution_count": null,
   "metadata": {
    "collapsed": false,
    "deletable": true,
    "editable": true
   },
   "outputs": [],
   "source": [
    "plt.plot(traj[:,0]*0.01, traj[:,1] )"
   ]
  },
  {
   "cell_type": "code",
   "execution_count": null,
   "metadata": {
    "collapsed": false,
    "deletable": true,
    "editable": true
   },
   "outputs": [],
   "source": [
    "print len(np.where(traj[:,4] >= 0)[0])"
   ]
  },
  {
   "cell_type": "code",
   "execution_count": null,
   "metadata": {
    "collapsed": false,
    "deletable": true,
    "editable": true
   },
   "outputs": [],
   "source": [
    "plt.scatter(traj[:,2], traj[:, 3])"
   ]
  },
  {
   "cell_type": "code",
   "execution_count": null,
   "metadata": {
    "collapsed": false,
    "deletable": true,
    "editable": true
   },
   "outputs": [],
   "source": [
    "plt.scatter(traj[sortedTimes[-50:]+1,2], traj[sortedTimes[-50:]+1,3])"
   ]
  },
  {
   "cell_type": "code",
   "execution_count": null,
   "metadata": {
    "collapsed": false,
    "deletable": true,
    "editable": true
   },
   "outputs": [],
   "source": [
    "plt.scatter(traj[29319+1,2], traj[29319+1,3])\n",
    "plt.scatter(minima[:,0], minima[:,1])"
   ]
  },
  {
   "cell_type": "code",
   "execution_count": null,
   "metadata": {
    "collapsed": true,
    "deletable": true,
    "editable": true
   },
   "outputs": [],
   "source": [
    "exits = []\n",
    "for i in range(9):\n",
    "    exits.append(np.where(np.logical_and(traj[1:,4]==-1, traj[:-1,4] == i))[0]+1)"
   ]
  },
  {
   "cell_type": "code",
   "execution_count": null,
   "metadata": {
    "collapsed": false,
    "deletable": true,
    "editable": true
   },
   "outputs": [],
   "source": [
    "state = 0\n",
    "plt.scatter(minima[:,0], minima[:,1])\n",
    "plt.scatter(minima[state,0], minima[state,1], marker='o')\n",
    "plt.scatter(traj[exits[state],2], traj[exits[state],3])"
   ]
  },
  {
   "cell_type": "code",
   "execution_count": null,
   "metadata": {
    "collapsed": false,
    "deletable": true,
    "editable": true
   },
   "outputs": [],
   "source": [
    "print len(exits[8])"
   ]
  },
  {
   "cell_type": "code",
   "execution_count": null,
   "metadata": {
    "collapsed": false,
    "deletable": true,
    "editable": true
   },
   "outputs": [],
   "source": [
    "print len(exits[8])"
   ]
  },
  {
   "cell_type": "code",
   "execution_count": null,
   "metadata": {
    "collapsed": true,
    "deletable": true,
    "editable": true
   },
   "outputs": [],
   "source": []
  }
 ],
 "metadata": {
  "kernelspec": {
   "display_name": "Python 2",
   "language": "python",
   "name": "python2"
  },
  "language_info": {
   "codemirror_mode": {
    "name": "ipython",
    "version": 2
   },
   "file_extension": ".py",
   "mimetype": "text/x-python",
   "name": "python",
   "nbconvert_exporter": "python",
   "pygments_lexer": "ipython2",
   "version": "2.7.12"
  }
 },
 "nbformat": 4,
 "nbformat_minor": 2
}

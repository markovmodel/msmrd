{
 "cells": [
  {
   "cell_type": "code",
   "execution_count": 74,
   "metadata": {
    "collapsed": true,
    "deletable": true,
    "editable": true
   },
   "outputs": [],
   "source": [
    "import numpy as np\n",
    "import pickle\n",
    "import matplotlib.pyplot as plt\n",
    "import scipy.stats as st\n",
    "%matplotlib inline\n",
    "plt.style.use('paperPlot')"
   ]
  },
  {
   "cell_type": "code",
   "execution_count": 3,
   "metadata": {
    "collapsed": true,
    "deletable": true,
    "editable": true
   },
   "outputs": [],
   "source": [
    "def bootstrapping_mean(sample, nsamples):\n",
    "    n = len(sample)\n",
    "    samples = []\n",
    "    for i in range(nsamples):\n",
    "        samples.append(np.random.choice(sample, n, replace=True))\n",
    "    sampleMeans = np.mean(samples, axis=0)\n",
    "    return np.std(sampleMeans)"
   ]
  },
  {
   "cell_type": "code",
   "execution_count": 73,
   "metadata": {
    "collapsed": false,
    "deletable": true,
    "editable": true
   },
   "outputs": [],
   "source": [
    "minBathRad = 43.26766777\n",
    "maxBathRad = 158.266943\n",
    "radii = np.linspace(minBathRad, maxBathRad, 10, endpoint=True)"
   ]
  },
  {
   "cell_type": "code",
   "execution_count": 99,
   "metadata": {
    "collapsed": false
   },
   "outputs": [],
   "source": [
    "midpoints = (radii[1:] + radii[:-1])/2.\n",
    "radii = np.sort(np.append(radii, midpoints))"
   ]
  },
  {
   "cell_type": "code",
   "execution_count": 100,
   "metadata": {
    "collapsed": false
   },
   "outputs": [
    {
     "name": "stdout",
     "output_type": "stream",
     "text": [
      "[  43.26766777   49.65651639   56.04536502   62.43421364   68.82306227\n",
      "   75.21191089   81.60075951   87.98960814   94.37845676  100.76730539\n",
      "  107.15615401  113.54500263  119.93385126  126.32269988  132.7115485\n",
      "  139.10039713  145.48924575  151.87809438  158.266943  ]\n"
     ]
    }
   ],
   "source": [
    "print radii"
   ]
  },
  {
   "cell_type": "code",
   "execution_count": 101,
   "metadata": {
    "collapsed": false,
    "deletable": true,
    "editable": true
   },
   "outputs": [],
   "source": [
    "path = '/group/ag_cmb/scratch/dibakma/MSMRD/myoglobin/rates/'\n",
    "mfpts = []\n",
    "stds = []\n",
    "fpts = []\n",
    "for rad in radii:\n",
    "    fpt = pickle.load(open(path+\"fpts_on_parallel_100runs_uniformStart_R%0.2f_eps0.33_lcs_lag150_240partitions.p\" % rad, 'r'))\n",
    "    fpt += pickle.load(open(path+\"fpts_on_parallel_100runs_uniformStart_R%0.2f_eps0.33_lcs_lag150_240partitions_2.p\" % rad, 'r'))\n",
    "    fpts.append(fpt)\n",
    "    mfpts.append(np.mean(fpt))\n",
    "    stds.append(np.std(fpt))\n",
    "mfpts = np.array(mfpts)\n",
    "stds = np.array(stds)"
   ]
  },
  {
   "cell_type": "code",
   "execution_count": 102,
   "metadata": {
    "collapsed": false,
    "deletable": true,
    "editable": true
   },
   "outputs": [
    {
     "name": "stdout",
     "output_type": "stream",
     "text": [
      "6587.80176354\n",
      "[  151016.43558001   214979.79782408   313198.7384205    447898.50105057\n",
      "   613644.68553226   718504.638841     790024.34532759  1411327.9509773\n",
      "  1756404.52449338  1890089.55407903  2441428.88011452  3029123.4430573\n",
      "  3009019.25365497  3750924.20658919  4635752.55271638  5463269.73786927\n",
      "  5073245.8974756   6207731.1627452   7866244.35293491]\n",
      "[  2.08424147e+06   3.10741312e+06   4.38116447e+06   6.70017495e+06\n",
      "   9.46305711e+06   1.04058664e+07   1.27451472e+07   1.86803006e+07\n",
      "   2.41885336e+07   2.91567983e+07   3.49116711e+07   4.19666576e+07\n",
      "   4.28075634e+07   5.40199691e+07   7.26922087e+07   7.17557247e+07\n",
      "   7.79479884e+07   9.62953274e+07   1.17021365e+08]\n"
     ]
    }
   ],
   "source": [
    "print bootstrapping_mean(fpts[0], 100000)\n",
    "print stds/np.sqrt(200)\n",
    "print mfpts"
   ]
  },
  {
   "cell_type": "code",
   "execution_count": 103,
   "metadata": {
    "collapsed": false,
    "deletable": true,
    "editable": true
   },
   "outputs": [],
   "source": [
    "kon = 1/mfpts\n",
    "kon_err = stds/(np.sqrt(200)*mfpts*mfpts)"
   ]
  },
  {
   "cell_type": "code",
   "execution_count": 104,
   "metadata": {
    "collapsed": false,
    "deletable": true,
    "editable": true
   },
   "outputs": [
    {
     "data": {
      "image/png": "[encoded data removed]",
      "text/plain": [
       "<matplotlib.figure.Figure at 0x7fce4543a5d0>"
      ]
     },
     "metadata": {},
     "output_type": "display_data"
    }
   ],
   "source": [
    "plt.errorbar(radii, mfpts, yerr=stds/np.sqrt(200))\n",
    "plt.yscale('log')"
   ]
  },
  {
   "cell_type": "code",
   "execution_count": 105,
   "metadata": {
    "collapsed": false,
    "deletable": true,
    "editable": true
   },
   "outputs": [
    {
     "data": {
      "image/png": "[encoded data removed]",
      "text/plain": [
       "<matplotlib.figure.Figure at 0x7fce452c0cd0>"
      ]
     },
     "metadata": {},
     "output_type": "display_data"
    }
   ],
   "source": [
    "plt.errorbar(radii, kon, yerr=kon_err)\n",
    "plt.yscale('log')"
   ]
  },
  {
   "cell_type": "code",
   "execution_count": 106,
   "metadata": {
    "collapsed": true,
    "deletable": true,
    "editable": true
   },
   "outputs": [],
   "source": [
    "vols = np.pi*np.power(radii,3)*4./3.\n",
    "Na = 6.022\n",
    "c = 1./(Na*vols) * 1e10"
   ]
  },
  {
   "cell_type": "code",
   "execution_count": 200,
   "metadata": {
    "collapsed": false
   },
   "outputs": [
    {
     "name": "stdout",
     "output_type": "stream",
     "text": [
      "4894.18273377\n",
      "13284.6230488\n"
     ]
    }
   ],
   "source": [
    "print 1/(np.pi*np.power(43.26766777, 3)*4./3.*Na)*1e10\n",
    "print 1/(np.power(50, 3)*Na)*1e10"
   ]
  },
  {
   "cell_type": "code",
   "execution_count": 197,
   "metadata": {
    "collapsed": false
   },
   "outputs": [
    {
     "data": {
      "text/plain": [
       "64"
      ]
     },
     "execution_count": 197,
     "metadata": {},
     "output_type": "execute_result"
    }
   ],
   "source": [
    "np.power(8,2)"
   ]
  },
  {
   "cell_type": "code",
   "execution_count": 195,
   "metadata": {
    "collapsed": false
   },
   "outputs": [
    {
     "name": "stdout",
     "output_type": "stream",
     "text": [
      "[ 4894.18273377  3237.73942237  2251.91261315  1628.93104753  1216.09824546\n",
      "   931.77439309   729.6053945    581.93769406   471.57635854   387.44646582\n",
      "   322.19536334   270.81116494   229.79750033   196.66471263   169.60728008\n",
      "   147.29416061   128.7294644    113.15798917    99.99999954]\n"
     ]
    }
   ],
   "source": [
    "print c"
   ]
  },
  {
   "cell_type": "code",
   "execution_count": 113,
   "metadata": {
    "collapsed": false,
    "deletable": true,
    "editable": true
   },
   "outputs": [
    {
     "data": {
      "image/png": "[encoded data removed]",
      "text/plain": [
       "<matplotlib.figure.Figure at 0x7fce45a66110>"
      ]
     },
     "metadata": {},
     "output_type": "display_data"
    }
   ],
   "source": [
    "# convert from 1/ps to 1/s\n",
    "plt.errorbar(c, kon*1e12, yerr=kon_err*1e12)\n",
    "plt.ylabel('$k^{*}_{on}~[1/s]$')\n",
    "plt.xlabel('$c~[\\mu M]$')\n",
    "plt.yscale('log')\n",
    "plt.xscale('log')\n",
    "#plt.savefig('../Paper/figs/myoglobin/onRateMyoglobin.pdf', bbox_inches='tight')"
   ]
  },
  {
   "cell_type": "code",
   "execution_count": 108,
   "metadata": {
    "collapsed": true,
    "deletable": true,
    "editable": true
   },
   "outputs": [],
   "source": [
    "rate = np.diff(kon)/np.diff(c)*1e12 #1/(mu M s)\n",
    "rate_err = (kon_err[1:] + kon_err[:-1])/np.diff(c)*1e12"
   ]
  },
  {
   "cell_type": "code",
   "execution_count": 109,
   "metadata": {
    "collapsed": false,
    "deletable": true,
    "editable": true
   },
   "outputs": [
    {
     "name": "stdout",
     "output_type": "stream",
     "text": [
      "[ -34.42779548  -39.13551569  -42.20701215  -40.76649887  -47.43910956\n",
      "  -56.87821608  -60.32448286  -63.8486373   -62.10976302  -64.77169644\n",
      "  -72.45458253  -81.97172083  -88.3540251   -79.92876024  -86.87049362\n",
      " -102.13143329  -96.61491147  -94.5347055 ]\n"
     ]
    }
   ],
   "source": [
    "print rate_err"
   ]
  },
  {
   "cell_type": "code",
   "execution_count": 110,
   "metadata": {
    "collapsed": false,
    "deletable": true,
    "editable": true
   },
   "outputs": [
    {
     "data": {
      "text/plain": [
       "<matplotlib.text.Text at 0x7fce45f38b90>"
      ]
     },
     "execution_count": 110,
     "metadata": {},
     "output_type": "execute_result"
    },
    {
     "data": {
      "image/png": "[encoded data removed]",
      "text/plain": [
       "<matplotlib.figure.Figure at 0x7fce45f28b10>"
      ]
     },
     "metadata": {},
     "output_type": "display_data"
    }
   ],
   "source": [
    "plt.errorbar((c[1:]+c[:-1])/2., rate, yerr=rate_err, fmt='x')\n",
    "plt.xscale('log')\n",
    "plt.xlabel('$c [\\mu M]$')\n",
    "plt.ylabel('$k_{on} [1/ \\mu M s]$')\n",
    "#plt.savefig('../Paper/figs/myoglobin/reactionRate.pdf', bbox_inches='tight')"
   ]
  },
  {
   "cell_type": "code",
   "execution_count": 111,
   "metadata": {
    "collapsed": false,
    "deletable": true,
    "editable": true
   },
   "outputs": [
    {
     "name": "stdout",
     "output_type": "stream",
     "text": [
      "98.2649623869\n"
     ]
    }
   ],
   "source": [
    "print np.mean(rate)"
   ]
  },
  {
   "cell_type": "code",
   "execution_count": 114,
   "metadata": {
    "collapsed": true,
    "deletable": true,
    "editable": true
   },
   "outputs": [],
   "source": [
    "slope = np.polyfit(c, kon*1e12, 1)"
   ]
  },
  {
   "cell_type": "code",
   "execution_count": 115,
   "metadata": {
    "collapsed": false
   },
   "outputs": [
    {
     "name": "stdout",
     "output_type": "stream",
     "text": [
      "[   98.75559795 -1906.88648987]\n"
     ]
    }
   ],
   "source": [
    "print slope"
   ]
  },
  {
   "cell_type": "code",
   "execution_count": 133,
   "metadata": {
    "collapsed": false
   },
   "outputs": [
    {
     "data": {
      "image/png": "[encoded data removed]",
      "text/plain": [
       "<matplotlib.figure.Figure at 0x7fce45dabad0>"
      ]
     },
     "metadata": {},
     "output_type": "display_data"
    }
   ],
   "source": [
    "plt.plot(c, (slope[0]*c+slope[1]), label='linear fit')\n",
    "plt.errorbar(c, kon*1e12, yerr=2*kon_err*1e12, label='datapoints')\n",
    "plt.ylabel('$k^{*}_{on}~[1/s]$')\n",
    "plt.xlabel('$c~[\\mu M]$')\n",
    "plt.yscale('log')\n",
    "plt.xscale('log')\n",
    "plt.legend(loc=4)\n",
    "plt.text(100, 4*1e5, '$k_{on} = %0.1f~1/\\mu M s$'%slope[0], fontsize=20)\n",
    "plt.savefig('../Paper/figs/myoglobin/reactionRateFit.pdf')"
   ]
  },
  {
   "cell_type": "code",
   "execution_count": 134,
   "metadata": {
    "collapsed": true
   },
   "outputs": [],
   "source": [
    "from scipy import optimize"
   ]
  },
  {
   "cell_type": "code",
   "execution_count": 203,
   "metadata": {
    "collapsed": false
   },
   "outputs": [],
   "source": [
    "fitfunc = lambda p, x: p[0] + p[1]*x\n",
    "errfunc = lambda p, x, y, err: (y-fitfunc(p, x))/err\n",
    "out = optimize.leastsq(errfunc, [-1906, 98], args=(c, kon*1e12, 2*kon_err*1e12), full_output=1)"
   ]
  },
  {
   "cell_type": "code",
   "execution_count": 239,
   "metadata": {
    "collapsed": false
   },
   "outputs": [
    {
     "name": "stdout",
     "output_type": "stream",
     "text": [
      "5\n",
      "[-721.43891454   95.36862553]\n",
      "[[  9.05480215e+05  -3.37240165e+03]\n",
      " [ -3.37240165e+03   2.10874673e+01]]\n",
      "nan\n"
     ]
    },
    {
     "name": "stderr",
     "output_type": "stream",
     "text": [
      "/home/mi/dibakma/miniconda2/lib/python2.7/site-packages/ipykernel/__main__.py:6: RuntimeWarning: invalid value encountered in sqrt\n"
     ]
    }
   ],
   "source": [
    "covar = out[1]\n",
    "params = out[0]\n",
    "print len(out)\n",
    "print out[0]\n",
    "print covar\n",
    "print np.sqrt(covar[1][0])"
   ]
  },
  {
   "cell_type": "code",
   "execution_count": 179,
   "metadata": {
    "collapsed": false
   },
   "outputs": [
    {
     "data": {
      "image/png": "[encoded data removed]",
      "text/plain": [
       "<matplotlib.figure.Figure at 0x7fce4692f810>"
      ]
     },
     "metadata": {},
     "output_type": "display_data"
    }
   ],
   "source": [
    "#plt.plot(c, (slope[0]*c+slope[1]), label='linear fit')\n",
    "#plt.plot(c, (out[0][1]*c+out[0][0]), label='linear error fit')\n",
    "plt.plot(c, params[1]*c + params[0], label='linear fit')\n",
    "plt.fill_between(c, (params[1]+2*np.sqrt(covar[1][1]))*c + (params[0]-2*np.sqrt(covar[0][0])), (params[1]-2*np.sqrt(covar[1][1]))*c + (params[0]+2*np.sqrt(covar[0][0])), alpha=0.4)\n",
    "plt.errorbar(c, kon*1e12, yerr=2*kon_err*1e12, label='datapoints', fmt='.', markersize=1)\n",
    "plt.ylabel('$k^{*}_{on}~[1/s]$')\n",
    "plt.xlabel('$c~[\\mu M]$')\n",
    "plt.yscale('log')\n",
    "plt.xscale('log')\n",
    "plt.legend(loc=4)\n",
    "plt.text(100, 4*1e5, '$k_{on} = %0.0f \\pm %0.0f \\\\frac{1}{\\mu M s}$'%(params[1], 2*np.sqrt(covar[1][1])), fontsize=20)\n",
    "#plt.savefig('../Paper/figs/myoglobin/reactionRateFit.pdf', bbox_inches='tight')"
   ]
  },
  {
   "cell_type": "code",
   "execution_count": 185,
   "metadata": {
    "collapsed": false
   },
   "outputs": [
    {
     "name": "stdout",
     "output_type": "stream",
     "text": [
      "[  98.03288569   99.39375827  101.35820459   91.62440265   86.89601837\n",
      "  103.13616607  107.5392763    91.98979487   87.66746207   88.52143883\n",
      "   88.90170226   87.98913587  101.65627479   94.12808568   81.10873824\n",
      "   94.61454723   99.65913791   91.77186648   85.45448158]\n"
     ]
    }
   ],
   "source": [
    "print kon*1e12/c"
   ]
  },
  {
   "cell_type": "markdown",
   "metadata": {},
   "source": [
    "# off rate"
   ]
  },
  {
   "cell_type": "code",
   "execution_count": 232,
   "metadata": {
    "collapsed": true
   },
   "outputs": [],
   "source": [
    "fpt_off = pickle.load(open(\"/group/ag_cmb/scratch/dibakma/MSMRD/myoglobin/rates/fpts_off10000_runs_lag150_eps0.33_240partitions_lcs.p\", 'r'))"
   ]
  },
  {
   "cell_type": "code",
   "execution_count": 233,
   "metadata": {
    "collapsed": false
   },
   "outputs": [
    {
     "name": "stdout",
     "output_type": "stream",
     "text": [
      "51438.78215\n",
      "1.94405846757e-05\n"
     ]
    }
   ],
   "source": [
    "print np.mean(fpt_off)\n",
    "print 1/np.mean(fpt_off)"
   ]
  },
  {
   "cell_type": "code",
   "execution_count": 187,
   "metadata": {
    "collapsed": false
   },
   "outputs": [
    {
     "name": "stdout",
     "output_type": "stream",
     "text": [
      "[ 4894.18273377  3237.73942237  2251.91261315  1628.93104753  1216.09824546\n",
      "   931.77439309   729.6053945    581.93769406   471.57635854   387.44646582\n",
      "   322.19536334   270.81116494   229.79750033   196.66471263   169.60728008\n",
      "   147.29416061   128.7294644    113.15798917    99.99999954]\n"
     ]
    }
   ],
   "source": [
    "print c"
   ]
  },
  {
   "cell_type": "code",
   "execution_count": 188,
   "metadata": {
    "collapsed": false
   },
   "outputs": [
    {
     "data": {
      "text/plain": [
       "5.600460000000001"
      ]
     },
     "execution_count": 188,
     "metadata": {},
     "output_type": "execute_result"
    }
   ],
   "source": [
    "0.93 * Na"
   ]
  },
  {
   "cell_type": "code",
   "execution_count": 207,
   "metadata": {
    "collapsed": false
   },
   "outputs": [
    {
     "data": {
      "text/plain": [
       "7.527500000000001"
      ]
     },
     "execution_count": 207,
     "metadata": {},
     "output_type": "execute_result"
    }
   ],
   "source": [
    "(50.*50.*50.*6.022)*1e-4/10"
   ]
  },
  {
   "cell_type": "code",
   "execution_count": 208,
   "metadata": {
    "collapsed": false
   },
   "outputs": [
    {
     "data": {
      "text/plain": [
       "4.896907216494846"
      ]
     },
     "execution_count": 208,
     "metadata": {},
     "output_type": "execute_result"
    }
   ],
   "source": [
    "95/19.4"
   ]
  },
  {
   "cell_type": "code",
   "execution_count": 236,
   "metadata": {
    "collapsed": false
   },
   "outputs": [],
   "source": [
    "means = []\n",
    "rates = []\n",
    "nsamples = 10000\n",
    "for i in range(nsamples):\n",
    "    sample = []\n",
    "    ics = np.random.choice(10000, 10000, replace=True)\n",
    "    for j in range(len(ics)):\n",
    "        sample.append(fpt_off[0][ics[j]])\n",
    "    means.append(np.mean(sample))\n",
    "    rates.append(1/np.mean(sample))"
   ]
  },
  {
   "cell_type": "code",
   "execution_count": 213,
   "metadata": {
    "collapsed": false
   },
   "outputs": [],
   "source": [
    "a = np.array([1,2,3,4,5])"
   ]
  },
  {
   "cell_type": "code",
   "execution_count": 219,
   "metadata": {
    "collapsed": false
   },
   "outputs": [
    {
     "data": {
      "text/plain": [
       "array([2, 4, 3])"
      ]
     },
     "execution_count": 219,
     "metadata": {},
     "output_type": "execute_result"
    }
   ],
   "source": [
    "a[np.array([1.,3,2]).astype(int)]"
   ]
  },
  {
   "cell_type": "code",
   "execution_count": 231,
   "metadata": {
    "collapsed": false
   },
   "outputs": [
    {
     "name": "stdout",
     "output_type": "stream",
     "text": [
      "1.8763215519e-05\n"
     ]
    }
   ],
   "source": [
    "print 1/np.mean(fpt_off[0])"
   ]
  },
  {
   "cell_type": "code",
   "execution_count": 237,
   "metadata": {
    "collapsed": false
   },
   "outputs": [
    {
     "name": "stdout",
     "output_type": "stream",
     "text": [
      "1.59745580414e-07\n"
     ]
    }
   ],
   "source": [
    "# use std as error estimate\n",
    "print np.std(rates)"
   ]
  },
  {
   "cell_type": "code",
   "execution_count": 238,
   "metadata": {
    "collapsed": false
   },
   "outputs": [
    {
     "data": {
      "text/plain": [
       "0.735"
      ]
     },
     "execution_count": 238,
     "metadata": {},
     "output_type": "execute_result"
    }
   ],
   "source": [
    "4.9*0.15"
   ]
  },
  {
   "cell_type": "code",
   "execution_count": null,
   "metadata": {
    "collapsed": true
   },
   "outputs": [],
   "source": []
  }
 ],
 "metadata": {
  "kernelspec": {
   "display_name": "Python 2",
   "language": "python",
   "name": "python2"
  },
  "language_info": {
   "codemirror_mode": {
    "name": "ipython",
    "version": 2
   },
   "file_extension": ".py",
   "mimetype": "text/x-python",
   "name": "python",
   "nbconvert_exporter": "python",
   "pygments_lexer": "ipython2",
   "version": "2.7.12"
  }
 },
 "nbformat": 4,
 "nbformat_minor": 1
}

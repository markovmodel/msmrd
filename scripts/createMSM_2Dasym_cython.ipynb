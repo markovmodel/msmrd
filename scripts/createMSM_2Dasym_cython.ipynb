{
 "cells": [
  {
   "cell_type": "code",
   "execution_count": 1,
   "metadata": {
    "collapsed": false,
    "deletable": true,
    "editable": true
   },
   "outputs": [],
   "source": [
    "%load_ext Cython"
   ]
  },
  {
   "cell_type": "code",
   "execution_count": 2,
   "metadata": {
    "collapsed": false,
    "deletable": true,
    "editable": true
   },
   "outputs": [],
   "source": [
    "import numpy as np\n",
    "#cimport numpy as np\n",
    "import h5py\n",
    "from MSMRD.trajectories import discretizer\n",
    "import matplotlib.pyplot as plt\n",
    "%matplotlib inline"
   ]
  },
  {
   "cell_type": "code",
   "execution_count": 15,
   "metadata": {
    "collapsed": false,
    "deletable": true,
    "editable": true
   },
   "outputs": [],
   "source": [
    "%%cython\n",
    "import numpy as np\n",
    "cimport numpy as np\n",
    "from multiprocessing import Pool\n",
    "cdef extern from \"math.h\":\n",
    "    double atan2(double y, double x)\n",
    "    \n",
    "cdef double PI = np.pi\n",
    "\n",
    "cdef class trajDiscretizationCython:\n",
    "    cdef object centers\n",
    "    cdef public double innerMSMrad, entryRad, bathRad, bathRadOut, radialIncrementEntry, radialIncrementExit\n",
    "    cdef public int angularPartitions, entryRings, exitRings, radialPartitions, Ncenters, bathIndex\n",
    "    def __init__(self, np.ndarray[double, ndim=2] centers):\n",
    "        self.centers = centers\n",
    "        self.innerMSMrad = 2.0\n",
    "        self.entryRad = 2.6\n",
    "        self.bathRad = 3.0\n",
    "        self.bathRadOut = 4.0\n",
    "        self.angularPartitions = 48\n",
    "        self.entryRings = 6\n",
    "        self.exitRings = 4\n",
    "        self.radialPartitions = self.entryRings + self.exitRings\n",
    "        self.radialIncrementEntry = (self.entryRad - self.innerMSMrad)/float(self.entryRings)\n",
    "        self.radialIncrementExit = (self.bathRad - self.entryRad)/float(self.exitRings)\n",
    "        self.Ncenters = len(self.centers)\n",
    "        self.bathIndex = self.Ncenters + self.radialPartitions*self.angularPartitions\n",
    "        #cpdef int self.lenCenters = len(self.centers)\n",
    "        \n",
    "    cdef int getAngularState(self, np.ndarray[double, ndim=1] coord):\n",
    "        cdef double theta = atan2(coord[1], coord[0]) + PI\n",
    "        cdef int angularState = int(theta*self.angularPartitions/(2*PI))\n",
    "        return angularState\n",
    "    \n",
    "    cdef int getRing(self, double radius, double increment, double lowerBound):\n",
    "        cdef int ring = 0\n",
    "        cdef double upperBound = lowerBound\n",
    "        while radius > upperBound:\n",
    "            upperBound += increment\n",
    "            ring += 1\n",
    "        return ring - 1\n",
    "    \n",
    "    cdef int getRing2(self,double radius,double increment,double lowerBound):\n",
    "        return int((radius-lowerBound)/increment)\n",
    "    \n",
    "    # Overwrite getState function in parent class\n",
    "    #discretize trajectory: use two additional rings of states for entry and exit states\n",
    "    #cluster volume should be on the same order of magnitute as for the internal states\n",
    "    cdef int getState(self, np.ndarray[double, ndim=1] coord, int prevst):\n",
    "        cdef double radius = np.linalg.norm(coord)\n",
    "        cdef np.ndarray[double, ndim=2] cen2coord\n",
    "        cdef np.ndarray[double, ndim=1] norm\n",
    "        cdef int index\n",
    "        # inner MSM\n",
    "        if radius < self.innerMSMrad:\n",
    "            for index in range(self.Ncenters):\n",
    "                if (self.centers[index][0] - coord[0])**2 + (self.centers[index][1] - coord[1])**2 < 0.04:\n",
    "                    return index\n",
    "            return prevst\n",
    "            '''\n",
    "            cen2coord = self.centers - coord\n",
    "            norm = np.linalg.norm(cen2coord, axis = 1)\n",
    "            index = np.argmin(norm)\n",
    "            if (norm[index] <= 0.2 ):\n",
    "                return index\n",
    "            # if no new state found, return previous state\n",
    "            return prevst\n",
    "        '''\n",
    "        # Entry states\n",
    "        elif radius < self.entryRad:\n",
    "            angularState = self.getAngularState(coord)\n",
    "            ringNumber = self.getRing(radius, self.radialIncrementEntry, self.innerMSMrad)\n",
    "            return self.Ncenters + ringNumber * self.angularPartitions + angularState\n",
    "        elif radius < self.bathRad:\n",
    "            angularState = self.getAngularState(coord)\n",
    "            ringNumber = self.getRing(radius, self.radialIncrementEntry, self.entryRad)\n",
    "            return self.Ncenters + (ringNumber + self.entryRings) * self.angularPartitions + angularState\n",
    "        elif radius > self.bathRad:\n",
    "            angularState = self.getAngularState(coord)\n",
    "            return self.Ncenters + self.radialPartitions*self.angularPartitions + angularState\n",
    "        else:\n",
    "            return prevst\n",
    "    \n",
    "    cpdef getdTraj(self, np.ndarray[double, ndim=2] traj):\n",
    "        cdef int k, checker,i \n",
    "        cdef np.ndarray[long, ndim=1] dTraj\n",
    "        # skip first elements, that might have udefined behavior.\n",
    "        k = 0\n",
    "        checker = self.getState(traj[0], -1)\n",
    "        while checker < 0:\n",
    "            k += 1\n",
    "            checker = self.getState(traj[k], -1)\n",
    "        dTraj = np.zeros(len(traj)-k, dtype=int)\n",
    "        dTraj[0] = checker\n",
    "        for i in range(1, len(traj)-k):\n",
    "            dTraj[i] = self.getState(traj[i+k], dTraj[i-1])\n",
    "        return dTraj\n",
    "    \n",
    "    cpdef getdTrajs(self, list trajs):\n",
    "        cdef np.ndarray[double, ndim=2] traj\n",
    "        cdef list dTrajs = []\n",
    "        cdef int k, checker,i \n",
    "        for traj in trajs:\n",
    "            dTrajs.append(self.getdTraj(traj))\n",
    "        return dTrajs"
   ]
  },
  {
   "cell_type": "code",
   "execution_count": 6,
   "metadata": {
    "collapsed": false,
    "deletable": true,
    "editable": true
   },
   "outputs": [],
   "source": [
    "numfiles = 50\n",
    "# Extract trajectories from file using asym2Dtraj class\n",
    "fname = '../data/asym2D/2DasymTrajsLong_R4_RT1E7_dt001_SI10_'\n",
    "dimension = 2\n",
    "trajs = []\n",
    "for number in range(numfiles):\n",
    "    f = h5py.File(fname + str(number) + '.h5', 'r')\n",
    "    data = np.array(f['traj'], dtype=float)\n",
    "    f.close()\n",
    "    if not np.allclose(data[1:,0]-data[:-1,0], 10):\n",
    "        print 'timestep not constant'\n",
    "    traj = data[:,1:dimension+1]\n",
    "    trajs.append(traj)"
   ]
  },
  {
   "cell_type": "code",
   "execution_count": 16,
   "metadata": {
    "collapsed": true
   },
   "outputs": [],
   "source": [
    "minima = [[0.0,0.0], [1.0,0.0] , [1.1, 1.0], [-0.1,0.9], [-1.3,0.8], \\\n",
    "                       [-1.0,-0.2], [-0.6,-1.0], [0.9,-0.8], [0.2,-1.5]]\n",
    "discretizer = trajDiscretizationCython(np.array(minima))"
   ]
  },
  {
   "cell_type": "code",
   "execution_count": 7,
   "metadata": {
    "collapsed": false,
    "deletable": true,
    "editable": true
   },
   "outputs": [
    {
     "name": "stdout",
     "output_type": "stream",
     "text": [
      "CPU times: user 4min 49s, sys: 124 ms, total: 4min 49s\n",
      "Wall time: 4min 50s\n"
     ]
    }
   ],
   "source": [
    "%%time\n",
    "dTrajs = discretizer.getdTrajs(trajs)"
   ]
  },
  {
   "cell_type": "code",
   "execution_count": 8,
   "metadata": {
    "collapsed": false,
    "deletable": true,
    "editable": true
   },
   "outputs": [
    {
     "name": "stdout",
     "output_type": "stream",
     "text": [
      "estimating MaximumLikelihoodMSM: 100% (11/11) [####################] eta 00:01 |"
     ]
    }
   ],
   "source": [
    "import pyemma\n",
    "import pyemma.plots as mplt\n",
    "its = pyemma.msm.its(dTrajs, lags = 100)"
   ]
  },
  {
   "cell_type": "code",
   "execution_count": 9,
   "metadata": {
    "collapsed": false
   },
   "outputs": [
    {
     "data": {
      "text/plain": [
       "(array([-100.,    0.,  100.,  200.,  300.,  400.,  500.]),\n",
       " <a list of 7 Text yticklabel objects>)"
      ]
     },
     "execution_count": 9,
     "metadata": {},
     "output_type": "execute_result"
    },
    {
     "data": {
      "image/png": "[encoded data removed]",
      "text/plain": [
       "<matplotlib.figure.Figure at 0x7f213b8d7790>"
      ]
     },
     "metadata": {},
     "output_type": "display_data"
    }
   ],
   "source": [
    "# Plot implied time scales\n",
    "mplt.plot_implied_timescales(its, ylog=False, units='steps', linewidth=2, dt=1)\n",
    "plt.ylabel(r\"timescale/steps\", fontsize = 24)\n",
    "plt.xlabel(r\"lag time/steps\", fontsize = 24)\n",
    "#plt.xlim(0,900)\n",
    "#plt.ylim(-100,1700)\n",
    "#plt.xlim(0,100)\n",
    "#plt.ylim(100,10000)\n",
    "plt.xticks(fontsize=20)\n",
    "plt.yticks(fontsize=20)"
   ]
  },
  {
   "cell_type": "code",
   "execution_count": 10,
   "metadata": {
    "collapsed": false
   },
   "outputs": [],
   "source": [
    "# Choose lag time and obtain MSM \"M\" for our milestones\n",
    "msm_lag = 10\n",
    "M = pyemma.msm.estimate_markov_model(dTrajs, msm_lag, reversible=True)"
   ]
  },
  {
   "cell_type": "code",
   "execution_count": 13,
   "metadata": {
    "collapsed": false
   },
   "outputs": [
    {
     "data": {
      "text/plain": [
       "[<matplotlib.lines.Line2D at 0x7f21279df610>]"
      ]
     },
     "execution_count": 13,
     "metadata": {},
     "output_type": "execute_result"
    },
    {
     "data": {
      "image/png": "[encoded data removed]",
      "text/plain": [
       "<matplotlib.figure.Figure at 0x7f212c702fd0>"
      ]
     },
     "metadata": {},
     "output_type": "display_data"
    }
   ],
   "source": [
    "# Plot transition probabilities to bath state\n",
    "T = M.transition_matrix\n",
    "plt.plot(np.sum(T[:9,-48:],axis=1), 'o')"
   ]
  },
  {
   "cell_type": "code",
   "execution_count": 18,
   "metadata": {
    "collapsed": false
   },
   "outputs": [],
   "source": [
    "#Prepare data to be extracted to file\n",
    "#For this we need the position of the cluster centers as well as the information about the angles of the exit states\n",
    "class MSMmodel(object):    \n",
    "    def __init__(self, tmatrix, centers, parameters):\n",
    "        self.tmatrix = tmatrix\n",
    "        self.centers= centers\n",
    "        self.parameters = parameters\n",
    "parameters = {}\n",
    "parameters['interactionRadius'] = discretizer.innerMSMrad\n",
    "parameters['entryRadius'] = discretizer.entryRad\n",
    "parameters['bathRadius'] = discretizer.bathRad\n",
    "parameters['outerBathRadius'] = discretizer.bathRadOut\n",
    "parameters['NCenters'] = discretizer.Ncenters\n",
    "parameters['NangularPartitions'] = discretizer.angularPartitions\n",
    "parameters['entryRings'] = discretizer.entryRings\n",
    "parameters['exitRings'] = discretizer.exitRings\n",
    "parameters['lagtime'] = msm_lag\n",
    "model = MSMmodel(T, minima, parameters)"
   ]
  },
  {
   "cell_type": "code",
   "execution_count": 19,
   "metadata": {
    "collapsed": true
   },
   "outputs": [],
   "source": [
    "import pickle\n",
    "pickle.dump(model, open('../data/models/asym2D/10radial48angular10lag.p', 'wa'))"
   ]
  }
 ],
 "metadata": {
  "kernelspec": {
   "display_name": "Python 2",
   "language": "python",
   "name": "python2"
  },
  "language_info": {
   "codemirror_mode": {
    "name": "ipython",
    "version": 2
   },
   "file_extension": ".py",
   "mimetype": "text/x-python",
   "name": "python",
   "nbconvert_exporter": "python",
   "pygments_lexer": "ipython2",
   "version": "2.7.12"
  }
 },
 "nbformat": 4,
 "nbformat_minor": 0
}

{
 "cells": [
  {
   "cell_type": "code",
   "execution_count": 1,
   "metadata": {
    "collapsed": false,
    "deletable": true,
    "editable": true
   },
   "outputs": [],
   "source": [
    "%load_ext cython"
   ]
  },
  {
   "cell_type": "code",
   "execution_count": 2,
   "metadata": {
    "collapsed": false,
    "deletable": true,
    "editable": true
   },
   "outputs": [],
   "source": [
    "import numpy as np\n",
    "import pyemma\n",
    "import matplotlib\n",
    "import matplotlib.pyplot as plt\n",
    "import pyemma.plots as mplt\n",
    "import math\n",
    "import h5py\n",
    "%matplotlib inline\n",
    "matplotlib.rcParams['figure.figsize'] = (7.0, 7.0)\n",
    "plt.rc('text', usetex='True')\n",
    "plt.rc('font', family='serif')"
   ]
  },
  {
   "cell_type": "code",
   "execution_count": 3,
   "metadata": {
    "collapsed": true,
    "deletable": true,
    "editable": true
   },
   "outputs": [],
   "source": [
    "def discreteHistogram(data):\n",
    "    d = np.diff(np.unique(data)).min()\n",
    "    left_of_first_bin = data.min() - float(d)/2\n",
    "    right_of_last_bin = data.max() + float(d)/2\n",
    "    hist = plt.hist(data, np.arange(left_of_first_bin, right_of_last_bin + d, d))\n",
    "    centers = (hist[1][1:] + hist[1][:-1])/2\n",
    "    return hist, centers"
   ]
  },
  {
   "cell_type": "code",
   "execution_count": 178,
   "metadata": {
    "collapsed": false,
    "deletable": true,
    "editable": true
   },
   "outputs": [],
   "source": [
    "%%cython\n",
    "import numpy as np\n",
    "cimport numpy as np\n",
    "from multiprocessing import Pool\n",
    "cdef extern from \"math.h\":\n",
    "    double atan2(double y, double x)\n",
    "    \n",
    "cdef double PI = np.pi\n",
    "\n",
    "cdef class trajDiscretizationCython:\n",
    "    cdef object centers\n",
    "    cdef public double innerMSMrad, bathRadOut, radialIncrementEntry, radialIncrementExit, radialIncrementBath\n",
    "    cdef public int angularPartitions, entryRings, exitRings, bathRings, radialPartitions, Ncenters, Nstates, bathIndex\n",
    "    def __init__(self, np.ndarray[double, ndim=2] centers):\n",
    "        self.centers = centers\n",
    "        self.innerMSMrad = 2.5\n",
    "        self.angularPartitions = 48\n",
    "        self.Ncenters = len(self.centers)\n",
    "        self.Nstates = self.Ncenters + self.angularPartitions + 1\n",
    "        \n",
    "    cpdef np.int32_t getAngularState(self, np.ndarray[double, ndim=1] coord):\n",
    "        cdef np.float64_t theta = atan2(coord[1], coord[0]) + PI\n",
    "        cdef np.int32_t angularState = int(theta*self.angularPartitions/(2*PI))\n",
    "        return angularState\n",
    "    \n",
    "    # Overwrite getState function in parent class\n",
    "    #discretize trajectory: use two additional rings of states for entry and exit states\n",
    "    #cluster volume should be on the same order of magnitute as for the internal states\n",
    "    \n",
    "    cdef np.int32_t getState(self, np.ndarray[np.float64_t, ndim=1] coord, np.int32_t prevst):\n",
    "        cdef np.float64_t radius = np.linalg.norm(coord)\n",
    "        cdef np.ndarray[np.float64_t, ndim=2] cen2coord\n",
    "        cdef np.ndarray[np.float64_t, ndim=1] norm\n",
    "        cdef np.int32_t index\n",
    "        # inner MSM\n",
    "        if radius < self.innerMSMrad:\n",
    "            for index in range(self.Ncenters):\n",
    "                if (self.centers[index][0] - coord[0])**2 + (self.centers[index][1] - coord[1])**2 < 0.04:\n",
    "                    return index\n",
    "            return prevst\n",
    "        else:\n",
    "        #    return prevst\n",
    "            angularState = self.getAngularState(coord)\n",
    "            return self.Ncenters + angularState\n",
    "        \n",
    "    # Compute the discrete trajectory from a trajectory\n",
    "    # given as np array\n",
    "\n",
    "    cpdef getdTraj(self, np.ndarray[np.float64_t, ndim=2] traj):\n",
    "        cdef np.int32_t k, checker, i \n",
    "        cdef np.ndarray[np.int32_t, ndim=1] dTraj\n",
    "        # Skip first elements, that might have udefined behavior.\n",
    "        k = 0\n",
    "        checker = self.getState(traj[0], -1)\n",
    "        while checker < 0 and k < len(traj)-2:\n",
    "            k += 1\n",
    "            checker = self.getState(traj[k], -1)\n",
    "        dTraj = np.empty(len(traj)-k, dtype=np.int32)\n",
    "        dTraj[0] = checker\n",
    "        # Get state for the remainder of the trajectory\n",
    "        for i in range(1, len(traj)-k):\n",
    "            dTraj[i] = self.getState(traj[i+k], dTraj[i-1])\n",
    "        return dTraj\n",
    "    \n",
    "    # Compute a list of discrete trajectories from a list of continuous trajectories\n",
    "    # This function calls the getdTraj for each element in the list\n",
    "    \n",
    "    cpdef getdTrajs(self, list trajs):\n",
    "        cdef np.ndarray[np.float64_t, ndim=2] traj\n",
    "        cdef np.ndarray[np.int32_t, ndim=1] dTraj, validIndices\n",
    "        cdef list dTrajs = []\n",
    "        cdef int k, checker,i \n",
    "        for traj in trajs:\n",
    "            dTrajs.append(self.getdTraj(traj))\n",
    "            '''\n",
    "            dTraj = self.getdTraj(traj)\n",
    "            validIndices = np.where(dTraj != -1)[0].astype(np.int32)\n",
    "            if validIndices.size > 0:\n",
    "                dTrajs.append(dTraj[validIndices])\n",
    "                '''\n",
    "        return dTrajs\n",
    "    \n",
    "    # Truncate trajectories at the radius give by self.innerMSMrad\n",
    "    # The first and last data points outside of the ring will be added to the trajectory \n",
    "    \n",
    "    cpdef getTruncatedTraj(self, np.ndarray[double, ndim=2] traj):\n",
    "        cdef list currentTraj\n",
    "        cdef list innerTrajs = []\n",
    "        cdef bint trajActive = False\n",
    "        cdef bint innerTrajActive = False\n",
    "        cdef np.ndarray[double, ndim=1] norm\n",
    "        cdef int length\n",
    "        norm = np.linalg.norm(traj, axis = 1)\n",
    "        trajActive = False\n",
    "        innerTrajActive = False\n",
    "        length = len(traj)\n",
    "        #Loop over trajectory\n",
    "        for i in range(0, length):\n",
    "            if not trajActive:\n",
    "                if norm[i]<self.innerMSMrad:\n",
    "                    #Start a new truncated trajectory. Maybe add previous state!\n",
    "                    trajActive = True\n",
    "                    if i > 0:\n",
    "                        currentTraj = [traj[i-1], traj[i]]\n",
    "                    else:\n",
    "                        currentTraj = [traj[i]]\n",
    "            else:\n",
    "                # There is already and active trajectory!\n",
    "                if norm[i] > self.innerMSMrad:\n",
    "                    # Trajectory exits domain. Finish it by appending the last data point\n",
    "                    # and adding it to the list of trajectories\n",
    "                    trajActive = False\n",
    "                    currentTraj.append(traj[i])\n",
    "                    innerTrajs.append(np.array(currentTraj))\n",
    "                else:\n",
    "                    # Data point is inside domain. Add it to the active trajectory\n",
    "                    currentTraj.append(traj[i])\n",
    "        return innerTrajs\n",
    "        \n",
    "    \n",
    "    cpdef getTruncatedTrajs(self, list trajs):\n",
    "        cdef list innerTrajs = []\n",
    "        for traj in trajs:\n",
    "            innerTrajs = innerTrajs + self.getTruncatedTraj(traj)\n",
    "        return innerTrajs\n",
    "    \n",
    "    # This function truncates the trajectories in the passed list when they enter a new state\n",
    "    # It returns a nested list of the format transitionTrajs[from state i][to state j][trajectory index]\n",
    "    \n",
    "    cpdef getTransitionTrajs(self, list dTruncTrajs):\n",
    "        cdef np.ndarray[np.int32_t, ndim=1] dTruncTraj\n",
    "        cdef list transitionTrajs = []\n",
    "        cdef list fromi = []\n",
    "        cdef list toj = []\n",
    "        #created nested list to store transition trajectories\n",
    "        for k in range(self.Ncenters+1):\n",
    "            fromi = []\n",
    "            for l in range(self.Ncenters+1):\n",
    "                toj = []\n",
    "                fromi.append(toj)\n",
    "            transitionTrajs.append(fromi)\n",
    "        cdef int i, initialState\n",
    "        for dTruncTraj in dTruncTrajs:\n",
    "            if np.any(dTruncTraj< 0):\n",
    "                #invalid trajectories are skipped\n",
    "                continue\n",
    "            initialState = dTruncTraj[0]\n",
    "            initialIndex = 0\n",
    "            #loop over trajectory\n",
    "            for i in range(1, len(dTruncTraj)):\n",
    "                #this indicates a transition. Trajectory leading to this transition is extracted and added to list.\n",
    "                if dTruncTraj[i] != initialState:\n",
    "                    finalState = min(dTruncTraj[i], self.Ncenters)\n",
    "                    initialState = min(initialState, self.Ncenters)\n",
    "                    transitionTrajs[initialState][finalState].append(initialState * np.ones(i-initialIndex, dtype=int))\n",
    "                    initialState = dTruncTraj[i]\n",
    "                    initialIndex = i\n",
    "        return transitionTrajs\n",
    "    \n",
    "    # This function generates a lookup table for trajectories which are entering the domain from the bath.\n",
    "    # It returns the starting coordinates, first state the respective trajectory hits as well as its length\n",
    "    \n",
    "    cpdef getLookupTableEntry(self, list dTrajs, list truncTrajs):\n",
    "        cdef np.ndarray[long, ndim=1] dTraj\n",
    "        cdef np.ndarray[double, ndim=1] entryCoord\n",
    "        cdef int j, i, currentState, entryState\n",
    "        cdef list entryCoords = []\n",
    "        cdef list firstStates = []\n",
    "        cdef list times = []\n",
    "        for i in range(len(truncTrajs)):\n",
    "            if np.any(dTrajs[i] < 0):\n",
    "                continue\n",
    "            if np.linalg.norm(truncTrajs[i][0]) < self.innerMSMrad:\n",
    "                continue\n",
    "            entryCoords.append(truncTrajs[i][1])\n",
    "            entryState = dTrajs[i][0]\n",
    "            j = 0\n",
    "            currentState = entryState\n",
    "            while currentState == entryState and j < len(dTrajs[i])-2:\n",
    "                j += 1\n",
    "                currentState = dTrajs[i][j]\n",
    "            times.append(j)\n",
    "            if currentState >= self.Ncenters:\n",
    "                firstStates.append(truncTrajs[i][-1])\n",
    "            else:\n",
    "                firstStates.append(currentState)\n",
    "        return np.array(entryCoords), firstStates, np.array(times)\n",
    "    \n",
    "    cpdef getLookupTableExit(self, list dTruncTrajs, list truncTrajs):\n",
    "        cdef int exitFrom, k, state, lastState\n",
    "        cdef np.ndarray[double, ndim=1] exitPosition\n",
    "        cdef list exitPositions = []\n",
    "        cdef list exitTimes = []\n",
    "        for i in range(self.Nstates):\n",
    "            exitFromi = []\n",
    "            timeFromi = []\n",
    "            exitPositions.append(exitFromi)\n",
    "            exitTimes.append(timeFromi)\n",
    "        for i in range(len(dTruncTrajs)):\n",
    "            if np.any(dTruncTrajs[i] < self.Ncenters):\n",
    "                if dTruncTrajs[i][-1] > self.Ncenters and len(dTruncTrajs[i]) > 2:\n",
    "                    lastState = dTruncTrajs[i][-2]\n",
    "                    exitPositions[lastState].append(truncTrajs[i][-1])\n",
    "                    exitTime = 0\n",
    "                    state = lastState\n",
    "                    while state == lastState:\n",
    "                        exitTime += 1\n",
    "                        state = dTruncTrajs[i][(-2-exitTime)]\n",
    "                    exitTimes[lastState].append(exitTime)\n",
    "        return exitPositions, exitTimes \n",
    "    \n",
    "    cpdef joinInnerTrajectories(self, transitionTrajs):\n",
    "        cdef np.ndarray[long, ndim=2] trajCount = np.zeros((self.Ncenters, self.Ncenters), dtype=int)\n",
    "        cdef int i,j\n",
    "        cdef np.ndarray[double, ndim=1] nextStepProbs\n",
    "        cdef int totalTrajs\n",
    "        cdef int nextState, trajNo, state\n",
    "        cdef list localTransitionTrajs = []\n",
    "        cdef list fromi = []\n",
    "        cdef list toj = []\n",
    "        for k in range(self.Ncenters):\n",
    "            fromi = []\n",
    "            for l in range(self.Ncenters):\n",
    "                toj = []\n",
    "                fromi.append(toj)\n",
    "            localTransitionTrajs.append(fromi)\n",
    "        for i in range(self.Ncenters):\n",
    "            for j in range(self.Ncenters):\n",
    "                trajCount[i,j] = len(transitionTrajs[i][j])\n",
    "                for k in range(trajCount[i,j]):\n",
    "                    localTransitionTrajs[i][j].append(np.copy(transitionTrajs[i][j][k]))\n",
    "        cdef list joinedTrajectory = []\n",
    "        cdef list joinedTrajs = []\n",
    "        while np.sum(trajCount) >= 100:\n",
    "            state = np.argmax(np.sum(trajCount, axis=1))\n",
    "            joinedTrajectory = []\n",
    "            totalTrajs = np.sum(trajCount)\n",
    "            while np.sum(trajCount[state,:]) != 0:\n",
    "                nextStepProbs = np.copy(trajCount[state,:]).astype(float)\n",
    "                nextStepProbs /= np.sum(nextStepProbs)\n",
    "                nextState = np.random.choice(self.Ncenters, p=nextStepProbs)\n",
    "                trajNo = np.random.choice(len(localTransitionTrajs[state][nextState]))\n",
    "                joinedTrajectory.append(localTransitionTrajs[state][nextState][trajNo])\n",
    "                localTransitionTrajs[state][nextState].pop(trajNo)\n",
    "                trajCount[state, nextState] -= 1\n",
    "                state = nextState\n",
    "            if len(joinedTrajectory) >= 2:\n",
    "                joinedTrajs.append(np.concatenate(joinedTrajectory))\n",
    "        return joinedTrajs\n",
    "    \n",
    "    def removeExternalTrajs(self, dTruncTrajs):\n",
    "        Ncenters = 9\n",
    "        cTrajs = []\n",
    "        for traj in dTruncTrajs:\n",
    "            innerIdcs = np.where(traj<Ncenters)[0]\n",
    "            if len(innerIdcs != 0):\n",
    "                innerTraj = traj[innerIdcs]\n",
    "                if np.any(innerTraj != innerTraj[0]):\n",
    "                    cTrajs.append(innerTraj)\n",
    "        return cTrajs"
   ]
  },
  {
   "cell_type": "code",
   "execution_count": 153,
   "metadata": {
    "collapsed": true
   },
   "outputs": [],
   "source": [
    "def getLookupTableExit(dTruncTrajs, truncTrajs):\n",
    "    exitPositions = []\n",
    "    exitTimes = []\n",
    "    Ncenters = 9\n",
    "    for i in range(Ncenters):\n",
    "        exitFromi = []\n",
    "        timeFromi = []\n",
    "        exitPositions.append(exitFromi)\n",
    "        exitTimes.append(timeFromi)\n",
    "    for i in range(len(dTruncTrajs)):\n",
    "        if np.any(dTruncTrajs[i] < Ncenters):\n",
    "            if dTruncTrajs[i][-1] >= Ncenters and len(dTruncTrajs[i]) > 2:\n",
    "                lastState = dTruncTrajs[i][-2]\n",
    "                exitPositions[lastState].append(truncTrajs[i][-1])\n",
    "                exitTime = 0\n",
    "                state = lastState\n",
    "                while state == lastState and exitTime < len(dTruncTrajs[i])-2:\n",
    "                    exitTime += 1\n",
    "                    state = dTruncTrajs[i][(-2-exitTime)]\n",
    "                exitTimes[lastState].append(exitTime)\n",
    "    return exitPositions, exitTimes "
   ]
  },
  {
   "cell_type": "code",
   "execution_count": 83,
   "metadata": {
    "collapsed": false,
    "deletable": true,
    "editable": true
   },
   "outputs": [
    {
     "name": "stdout",
     "output_type": "stream",
     "text": [
      "0.1% done\n",
      "0.2% done\n",
      "0.3% done\n",
      "0.4% done\n",
      "0.5% done\n",
      "0.6% done\n",
      "0.7% done\n",
      "0.8% done\n",
      "0.9% done\n",
      "1.0% done\n",
      "CPU times: user 9min 4s, sys: 16.5 s, total: 9min 20s\n",
      "Wall time: 10min\n"
     ]
    }
   ],
   "source": [
    "%%time\n",
    "numfiles = 100\n",
    "# Extract trajectories from file using asym2Dtraj class\n",
    "fname = '../data/asym2D/ring/rerun/2DasymTrajsLong_R4_RT1E7_dt001_SI1_'\n",
    "dimension = 2\n",
    "minima = np.array([[0.0,0.0], [1.0,0.0] , [1.1, 1.0], [-0.1,0.9], [-1.3,0.8], [-1.0,-0.2], [-0.6,-1.0], [0.9,-0.8], [0.2,-1.5]])\n",
    "discretizer = trajDiscretizationCython(minima)\n",
    "trajs = []\n",
    "truncTrajs = []\n",
    "dTruncTrajs = []\n",
    "i = 0\n",
    "for number in range(numfiles):\n",
    "    f = h5py.File(fname + str(number) + '.h5', 'r')\n",
    "    data = np.array(f['traj'], dtype=float)\n",
    "    f.close()\n",
    "    if not np.allclose(data[1:,0]-data[:-1,0], 1):\n",
    "        print 'timestep not constant'\n",
    "    traj = data[::10,1:dimension+1]\n",
    "    lastTruncTrajs = discretizer.getTruncatedTraj(traj)\n",
    "    truncTrajs += lastTruncTrajs\n",
    "    dTruncTrajs += discretizer.getdTrajs(lastTruncTrajs)\n",
    "    i+=1\n",
    "    if i % 10 == 0:\n",
    "        print str(i/float(numfiles) * 100)+'% done'\n",
    "    # delete memory to avoid overhead\n",
    "    del data\n",
    "    del traj"
   ]
  },
  {
   "cell_type": "code",
   "execution_count": 179,
   "metadata": {
    "collapsed": true
   },
   "outputs": [],
   "source": [
    "minima = np.array([[0.0,0.0], [1.0,0.0] , [1.1, 1.0], [-0.1,0.9], [-1.3,0.8], [-1.0,-0.2], [-0.6,-1.0], [0.9,-0.8], [0.2,-1.5]])\n",
    "discretizer = trajDiscretizationCython(minima)"
   ]
  },
  {
   "cell_type": "code",
   "execution_count": 186,
   "metadata": {
    "collapsed": false,
    "deletable": true,
    "editable": true
   },
   "outputs": [
    {
     "name": "stdout",
     "output_type": "stream",
     "text": [
      "CPU times: user 1.33 s, sys: 20 ms, total: 1.35 s\n",
      "Wall time: 1.34 s\n"
     ]
    }
   ],
   "source": [
    "%%time\n",
    "transitionTrajs = discretizer.getTransitionTrajs(dTrajs)"
   ]
  },
  {
   "cell_type": "code",
   "execution_count": 188,
   "metadata": {
    "collapsed": false,
    "deletable": true,
    "editable": true
   },
   "outputs": [
    {
     "name": "stdout",
     "output_type": "stream",
     "text": [
      "CPU times: user 1.47 s, sys: 0 ns, total: 1.47 s\n",
      "Wall time: 1.47 s\n"
     ]
    }
   ],
   "source": [
    "%%time\n",
    "joinedTrajs = discretizer.joinInnerTrajectories(transitionTrajs)"
   ]
  },
  {
   "cell_type": "code",
   "execution_count": 99,
   "metadata": {
    "collapsed": false,
    "deletable": true,
    "editable": true
   },
   "outputs": [
    {
     "name": "stdout",
     "output_type": "stream",
     "text": [
      "CPU times: user 17.4 s, sys: 44 ms, total: 17.4 s\n",
      "Wall time: 17.4 s\n"
     ]
    }
   ],
   "source": [
    "%%time\n",
    "entryTrajsStart, entryTrajsEnd, entryTimes = discretizer.getLookupTableEntry(dTruncTrajs, truncTrajs)"
   ]
  },
  {
   "cell_type": "code",
   "execution_count": 154,
   "metadata": {
    "collapsed": false
   },
   "outputs": [
    {
     "name": "stdout",
     "output_type": "stream",
     "text": [
      "CPU times: user 7.62 s, sys: 72 ms, total: 7.69 s\n",
      "Wall time: 7.67 s\n"
     ]
    }
   ],
   "source": [
    "%%time\n",
    "exitPositions, exitTimes = getLookupTableExit(dTruncTrajs, truncTrajs)"
   ]
  },
  {
   "cell_type": "code",
   "execution_count": 163,
   "metadata": {
    "collapsed": false
   },
   "outputs": [
    {
     "data": {
      "text/plain": [
       "<matplotlib.collections.PathCollection at 0x7f7ed92b85d0>"
      ]
     },
     "execution_count": 163,
     "metadata": {},
     "output_type": "execute_result"
    },
    {
     "data": {
      "image/png": "[encoded data removed]",
      "text/plain": [
       "<matplotlib.figure.Figure at 0x7f7ed932b4d0>"
      ]
     },
     "metadata": {},
     "output_type": "display_data"
    }
   ],
   "source": [
    "exitFrom = 1\n",
    "plt.scatter(np.array(exitPositions[exitFrom])[:,0], np.array(exitPositions[exitFrom])[:,1])"
   ]
  },
  {
   "cell_type": "code",
   "execution_count": 140,
   "metadata": {
    "collapsed": false
   },
   "outputs": [
    {
     "name": "stdout",
     "output_type": "stream",
     "text": [
      "[-2.55016041  2.46051526 -0.2368242  ..., -0.4917801   0.06636976\n",
      "  0.8576324 ]\n"
     ]
    }
   ],
   "source": [
    "print np.array(exitPositions[0])[:,0]"
   ]
  },
  {
   "cell_type": "code",
   "execution_count": 150,
   "metadata": {
    "collapsed": false,
    "deletable": true,
    "editable": true
   },
   "outputs": [
    {
     "data": {
      "text/plain": [
       "<matplotlib.collections.PathCollection at 0x7f7ee2da0bd0>"
      ]
     },
     "execution_count": 150,
     "metadata": {},
     "output_type": "execute_result"
    },
    {
     "data": {
      "image/png": "[encoded data removed]",
      "text/plain": [
       "<matplotlib.figure.Figure at 0x7f7ee3a65750>"
      ]
     },
     "metadata": {},
     "output_type": "display_data"
    }
   ],
   "source": [
    "plt.scatter(entryTrajsStart[:,0], entryTrajsStart[:,1])\n",
    "plt.scatter(minima[:,0], minima[:,1])"
   ]
  },
  {
   "cell_type": "code",
   "execution_count": 151,
   "metadata": {
    "collapsed": false,
    "deletable": true,
    "editable": true
   },
   "outputs": [],
   "source": [
    "coords = []\n",
    "for coord in entryTrajsEnd:\n",
    "    if not np.isscalar(coord):\n",
    "        coords.append(coord)"
   ]
  },
  {
   "cell_type": "code",
   "execution_count": 166,
   "metadata": {
    "collapsed": false,
    "deletable": true,
    "editable": true
   },
   "outputs": [
    {
     "name": "stdout",
     "output_type": "stream",
     "text": [
      "1468028\n"
     ]
    },
    {
     "data": {
      "image/png": "[encoded data removed]",
      "text/plain": [
       "<matplotlib.figure.Figure at 0x7f7ed91b8e50>"
      ]
     },
     "metadata": {},
     "output_type": "display_data"
    }
   ],
   "source": [
    "coords = np.array(coords)\n",
    "plt.scatter(coords[:,0], coords[:,1])\n",
    "theta = np.linspace(0, 2.*np.pi, 100)\n",
    "x = 2.5*np.cos(theta)\n",
    "y = 2.5*np.sin(theta)\n",
    "plt.plot(x,y, 'k')\n",
    "print len(coords)"
   ]
  },
  {
   "cell_type": "code",
   "execution_count": 149,
   "metadata": {
    "collapsed": true,
    "deletable": true,
    "editable": true
   },
   "outputs": [],
   "source": [
    "lcTrajs = []\n",
    "for cTraj in cTrajs:\n",
    "    if len(cTraj) >= 160:\n",
    "        lcTrajs.append(cTraj)"
   ]
  },
  {
   "cell_type": "code",
   "execution_count": 150,
   "metadata": {
    "collapsed": false,
    "deletable": true,
    "editable": true
   },
   "outputs": [
    {
     "name": "stdout",
     "output_type": "stream",
     "text": [
      "29286\n"
     ]
    }
   ],
   "source": [
    "print len(lcTrajs)"
   ]
  },
  {
   "cell_type": "code",
   "execution_count": 133,
   "metadata": {
    "collapsed": false,
    "deletable": true,
    "editable": true
   },
   "outputs": [],
   "source": [
    "import pyemma\n",
    "import pyemma.plots as mplt\n",
    "its = pyemma.msm.its(joinedTrajs, lags = 50, reversible=True)"
   ]
  },
  {
   "cell_type": "code",
   "execution_count": 134,
   "metadata": {
    "collapsed": false,
    "deletable": true,
    "editable": true
   },
   "outputs": [
    {
     "data": {
      "text/plain": [
       "(array([-10.,   0.,  10.,  20.,  30.,  40.,  50.,  60.,  70.,  80.,  90.]),\n",
       " <a list of 11 Text yticklabel objects>)"
      ]
     },
     "execution_count": 134,
     "metadata": {},
     "output_type": "execute_result"
    },
    {
     "data": {
      "image/png": "[encoded data removed]",
      "text/plain": [
       "<matplotlib.figure.Figure at 0x7f7ee3bbf210>"
      ]
     },
     "metadata": {},
     "output_type": "display_data"
    }
   ],
   "source": [
    "# Plot implied time scales\n",
    "mplt.plot_implied_timescales(its, ylog=False, units='steps', linewidth=2, dt=1)\n",
    "plt.ylabel(r\"timescale/steps\", fontsize = 24)\n",
    "plt.xlabel(r\"lag time/steps\", fontsize = 24)\n",
    "#plt.xlim(0,900)\n",
    "#plt.ylim(-100,1700)b\n",
    "#plt.xlim(0,20)\n",
    "#plt.ylim(100,10000)\n",
    "plt.xticks(fontsize=20)\n",
    "plt.yticks(fontsize=20)"
   ]
  },
  {
   "cell_type": "code",
   "execution_count": 249,
   "metadata": {
    "collapsed": true,
    "deletable": true,
    "editable": true
   },
   "outputs": [],
   "source": [
    "M = pyemma.msm.estimate_markov_model(joinedTrajs, lag=10)"
   ]
  },
  {
   "cell_type": "code",
   "execution_count": 113,
   "metadata": {
    "collapsed": false,
    "deletable": true,
    "editable": true
   },
   "outputs": [
    {
     "data": {
      "text/plain": [
       "<matplotlib.collections.PathCollection at 0x7f356fb5a610>"
      ]
     },
     "execution_count": 113,
     "metadata": {},
     "output_type": "execute_result"
    },
    {
     "data": {
      "image/png": "[encoded data removed]",
      "text/plain": [
       "<matplotlib.figure.Figure at 0x7f35753cd150>"
      ]
     },
     "metadata": {},
     "output_type": "display_data"
    }
   ],
   "source": [
    "eig = M.eigenvectors_left()[2]\n",
    "plt.scatter(minima[:,0], minima[:,1], c=eig)"
   ]
  },
  {
   "cell_type": "code",
   "execution_count": 250,
   "metadata": {
    "collapsed": false,
    "deletable": true,
    "editable": true
   },
   "outputs": [
    {
     "data": {
      "text/plain": [
       "<matplotlib.image.AxesImage at 0x7f356dfde750>"
      ]
     },
     "execution_count": 250,
     "metadata": {},
     "output_type": "execute_result"
    },
    {
     "data": {
      "image/png": "[encoded data removed]",
      "text/plain": [
       "<matplotlib.figure.Figure at 0x7f356e8634d0>"
      ]
     },
     "metadata": {},
     "output_type": "display_data"
    }
   ],
   "source": [
    "plt.matshow(M.transition_matrix)"
   ]
  },
  {
   "cell_type": "code",
   "execution_count": 129,
   "metadata": {
    "collapsed": false,
    "deletable": true,
    "editable": true
   },
   "outputs": [],
   "source": [
    "#Prepare data to be extracted to file\n",
    "#For this we need the position of the cluster centers as well as the information about the angles of the exit states\n",
    "class truncTrajsModel(object):    \n",
    "    def __init__(self, entryTrajsStart, entryTrajsEnd, entryTimes, exitTrajs, exitTimes, exitProbs, MSMtime, tmatrix):\n",
    "        self.entryTrajsStart = entryTrajsStart\n",
    "        self.entryTrajsEnd = entryTrajsEnd\n",
    "        self.entryTimes = entryTimes\n",
    "        self.exitTrajs = exitTrajs\n",
    "        self.exitTimes = exitTimes\n",
    "        self.exitProbs = exitProbs\n",
    "        self.tmatrix = tmatrix\n",
    "        self.MSMtimestep = MSMtime"
   ]
  },
  {
   "cell_type": "code",
   "execution_count": 130,
   "metadata": {
    "collapsed": true,
    "deletable": true,
    "editable": true
   },
   "outputs": [],
   "source": [
    "import pickle\n",
    "pickle.dump(model, open('../data/models/asym2D/1radial48angular10lag_entryToExit.p', 'wa'))"
   ]
  },
  {
   "cell_type": "code",
   "execution_count": 113,
   "metadata": {
    "collapsed": true,
    "deletable": true,
    "editable": true
   },
   "outputs": [],
   "source": [
    "modelRe = pickle.load(open('../data/models/asym2D/1radial48angular10lag_entryToExit.p', 'r'))"
   ]
  },
  {
   "cell_type": "code",
   "execution_count": 114,
   "metadata": {
    "collapsed": false,
    "deletable": true,
    "editable": true
   },
   "outputs": [
    {
     "data": {
      "text/plain": [
       "array([[  7.24589876e-01,   4.88762354e-02,   1.23538855e-02, ...,\n",
       "          0.00000000e+00,   6.27100788e-05,   0.00000000e+00],\n",
       "       [  4.86420172e-02,   6.93987288e-01,   5.17351640e-02, ...,\n",
       "          0.00000000e+00,   0.00000000e+00,   0.00000000e+00],\n",
       "       [  1.91158901e-02,   6.51214656e-02,   6.56853843e-01, ...,\n",
       "          0.00000000e+00,   0.00000000e+00,   0.00000000e+00],\n",
       "       ..., \n",
       "       [  0.00000000e+00,   0.00000000e+00,   0.00000000e+00, ...,\n",
       "          1.09560724e-01,   7.80361757e-02,   4.13436693e-02],\n",
       "       [  0.00000000e+00,   0.00000000e+00,   0.00000000e+00, ...,\n",
       "          8.50855746e-02,   1.08557457e-01,   5.03667482e-02],\n",
       "       [  0.00000000e+00,   0.00000000e+00,   0.00000000e+00, ...,\n",
       "          0.00000000e+00,   0.00000000e+00,   0.00000000e+00]])"
      ]
     },
     "execution_count": 114,
     "metadata": {},
     "output_type": "execute_result"
    }
   ],
   "source": [
    "modelRe.tmatrix"
   ]
  },
  {
   "cell_type": "code",
   "execution_count": 115,
   "metadata": {
    "collapsed": false,
    "deletable": true,
    "editable": true
   },
   "outputs": [
    {
     "data": {
      "text/plain": [
       "106"
      ]
     },
     "execution_count": 115,
     "metadata": {},
     "output_type": "execute_result"
    }
   ],
   "source": [
    "len(T)"
   ]
  },
  {
   "cell_type": "code",
   "execution_count": 117,
   "metadata": {
    "collapsed": false,
    "deletable": true,
    "editable": true
   },
   "outputs": [
    {
     "data": {
      "text/plain": [
       "106"
      ]
     },
     "execution_count": 117,
     "metadata": {},
     "output_type": "execute_result"
    }
   ],
   "source": [
    "9+2*48 +1 "
   ]
  },
  {
   "cell_type": "code",
   "execution_count": null,
   "metadata": {
    "collapsed": true,
    "deletable": true,
    "editable": true
   },
   "outputs": [],
   "source": [
    "class TruncTrajsModel:\n",
    "    __init__(self, entryPositions, firstStates, entryTimes, exitPositions, lastStates, exitTimes, Tmatrix):\n",
    "        self.entryPositions = entryPositions\n",
    "        self.firstStates = firstStates\n",
    "        self.entryTimes = entryTimes\n",
    "        self.exitPositions = exitPositions\n",
    "        self.lastStates = lastStates\n",
    "        self.exitTimes = exitTimes\n",
    "        self.Tmatrix = Tmatrix"
   ]
  }
 ],
 "metadata": {
  "kernelspec": {
   "display_name": "Python 2",
   "language": "python",
   "name": "python2"
  },
  "language_info": {
   "codemirror_mode": {
    "name": "ipython",
    "version": 2
   },
   "file_extension": ".py",
   "mimetype": "text/x-python",
   "name": "python",
   "nbconvert_exporter": "python",
   "pygments_lexer": "ipython2",
   "version": "2.7.13"
  }
 },
 "nbformat": 4,
 "nbformat_minor": 0
}

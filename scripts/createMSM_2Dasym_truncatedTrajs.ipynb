{
 "cells": [
  {
   "cell_type": "code",
   "execution_count": 1,
   "metadata": {
    "collapsed": true
   },
   "outputs": [],
   "source": [
    "%load_ext cython"
   ]
  },
  {
   "cell_type": "code",
   "execution_count": 2,
   "metadata": {
    "collapsed": false
   },
   "outputs": [],
   "source": [
    "import numpy as np\n",
    "import pyemma\n",
    "import matplotlib\n",
    "import matplotlib.pyplot as plt\n",
    "import pyemma.plots as mplt\n",
    "import math\n",
    "import h5py\n",
    "%matplotlib inline\n",
    "matplotlib.rcParams['figure.figsize'] = (7.0, 7.0)\n",
    "plt.rc('text', usetex='True')\n",
    "plt.rc('font', family='serif')"
   ]
  },
  {
   "cell_type": "code",
   "execution_count": 3,
   "metadata": {
    "collapsed": true
   },
   "outputs": [],
   "source": [
    "def discreteHistogram(data):\n",
    "    d = np.diff(np.unique(data)).min()\n",
    "    left_of_first_bin = data.min() - float(d)/2\n",
    "    right_of_last_bin = data.max() + float(d)/2\n",
    "    hist = plt.hist(data, np.arange(left_of_first_bin, right_of_last_bin + d, d))\n",
    "    centers = (hist[1][1:] + hist[1][:-1])/2\n",
    "    return hist, centers"
   ]
  },
  {
   "cell_type": "code",
   "execution_count": 4,
   "metadata": {
    "collapsed": false
   },
   "outputs": [],
   "source": [
    "%%cython\n",
    "import numpy as np\n",
    "cimport numpy as np\n",
    "from multiprocessing import Pool\n",
    "cdef extern from \"math.h\":\n",
    "    double atan2(double y, double x)\n",
    "    \n",
    "cdef double PI = np.pi\n",
    "\n",
    "cdef class trajDiscretizationCython:\n",
    "    cdef object centers\n",
    "    cdef public double innerMSMrad, bathRadOut, radialIncrementEntry, radialIncrementExit, radialIncrementBath\n",
    "    cdef public int angularPartitions, entryRings, exitRings, bathRings, radialPartitions, Ncenters, Nstates, bathIndex\n",
    "    def __init__(self, np.ndarray[double, ndim=2] centers):\n",
    "        self.centers = centers\n",
    "        self.innerMSMrad = 2.0\n",
    "        self.angularPartitions = 48\n",
    "        self.Ncenters = len(self.centers)\n",
    "        self.Nstates = self.Ncenters + self.angularPartitions + 1\n",
    "        \n",
    "    cpdef int getAngularState(self, np.ndarray[double, ndim=1] coord):\n",
    "        cdef double theta = atan2(coord[1], coord[0]) + PI\n",
    "        cdef int angularState = int(theta*self.angularPartitions/(2*PI))\n",
    "        return angularState\n",
    "    \n",
    "    # Overwrite getState function in parent class\n",
    "    #discretize trajectory: use two additional rings of states for entry and exit states\n",
    "    #cluster volume should be on the same order of magnitute as for the internal states\n",
    "    \n",
    "    cdef int getState(self, np.ndarray[double, ndim=1] coord, int prevst):\n",
    "        cdef double radius = np.linalg.norm(coord)\n",
    "        cdef np.ndarray[double, ndim=2] cen2coord\n",
    "        cdef np.ndarray[double, ndim=1] norm\n",
    "        cdef int index\n",
    "        # inner MSM\n",
    "        if radius < self.innerMSMrad:\n",
    "            for index in range(self.Ncenters):\n",
    "                if (self.centers[index][0] - coord[0])**2 + (self.centers[index][1] - coord[1])**2 < 0.04:\n",
    "                    return index\n",
    "            return prevst\n",
    "        else:\n",
    "            angularState = self.getAngularState(coord)\n",
    "            return self.Ncenters + angularState\n",
    "\n",
    "    cpdef getdTraj(self, np.ndarray[double, ndim=2] traj):\n",
    "        cdef int k, checker,i \n",
    "        cdef np.ndarray[long, ndim=1] dTraj\n",
    "        # skip first elements, that might have udefined behavior.\n",
    "        k = 0\n",
    "        checker = self.getState(traj[0], -1)\n",
    "        while checker < 0:\n",
    "            k += 1\n",
    "            checker = self.getState(traj[k], -1)\n",
    "        dTraj = np.zeros(len(traj)-k, dtype=int)\n",
    "        dTraj[0] = checker\n",
    "        for i in range(1, len(traj)-k):\n",
    "            dTraj[i] = self.getState(traj[i+k], dTraj[i-1])\n",
    "        return dTraj\n",
    "    \n",
    "    cpdef getdTrajs(self, list trajs):\n",
    "        cdef np.ndarray[double, ndim=2] traj\n",
    "        cdef list dTrajs = []\n",
    "        cdef int k, checker,i \n",
    "        for traj in trajs:\n",
    "            dTrajs.append(self.getdTraj(traj))\n",
    "        return dTrajs\n",
    "    \n",
    "    cpdef getTruncatedTrajs(self, list trajs):\n",
    "        cdef list innerTrajs = []\n",
    "        cdef list currentTraj\n",
    "        cdef bint trajActive = False\n",
    "        cdef bint innerTrajActive = False\n",
    "        cdef np.ndarray[double, ndim=1] norm\n",
    "        cdef int length\n",
    "        for traj in trajs:\n",
    "            norm = np.linalg.norm(traj, axis = 1)\n",
    "            trajActive = False\n",
    "            innerTrajActive = False\n",
    "            length = len(traj)\n",
    "            for i in range(0, length):\n",
    "                if not trajActive:\n",
    "                    if norm[i]<self.innerMSMrad:\n",
    "                        #Start a new truncated trajectory. Maybe add previous state!\n",
    "                        trajActive = True\n",
    "                        if i > 0:\n",
    "                            currentTraj = [traj[i-1], traj[i]]\n",
    "                        else:\n",
    "                            currentTraj = [traj[i]]\n",
    "                else:\n",
    "                    if norm[i] > self.innerMSMrad:\n",
    "                        trajActive = False\n",
    "                        currentTraj.append(traj[i])\n",
    "                        innerTrajs.append(np.array(currentTraj))\n",
    "                    else:\n",
    "                        currentTraj.append(traj[i])\n",
    "        return innerTrajs\n",
    "    \n",
    "    cpdef getCountMatrix(self, list dTrajs, int lagtime):\n",
    "        #compute Count matrix from truncated trajectories.\n",
    "        #if the lenght of a trajectory is shorter than the lagtime:\n",
    "        #count event\n",
    "        cdef np.ndarray[long, ndim=2] C = np.zeros([self.Nstates, self.Nstates], dtype=int)\n",
    "        cdef np.ndarray[long, ndim=1] dTraj\n",
    "        for dTraj in dTrajs:\n",
    "            if len(dTraj) < lagtime:\n",
    "                #C[dTraj[0], dTraj[-1]] += 1\n",
    "                continue\n",
    "            for i in range(len(dTraj) - lagtime):\n",
    "                C[dTraj[i], dTraj[i+lagtime]] += 1\n",
    "        return C\n",
    "    \n",
    "    cpdef getLookupTable(self, list dTrajs, list truncTrajs):\n",
    "        cdef np.ndarray[long, ndim=1] dTraj\n",
    "        cdef np.ndarray[double, ndim=1] truncTraj, entryCoord\n",
    "        cdef int j, i, currentState, entryState\n",
    "        cdef list entryCoords = []\n",
    "        cdef list firstStates = []\n",
    "        cdef list times = []\n",
    "        for i in range(len(truncTrajs)):\n",
    "            entryCoords.append(truncTrajs[i][1])\n",
    "            entryState = dTrajs[i][0]\n",
    "            j = 0\n",
    "            currentState = entryState\n",
    "            while currentState == entryState or j < len(dTrajs[i])-2:\n",
    "                j += 1\n",
    "                currentState = dTrajs[i][j]\n",
    "            times.append(j)\n",
    "            if currentState >= self.Ncenters:\n",
    "                firstStates.append(truncTrajs[i][-1])\n",
    "            else:\n",
    "                firstStates.append(currentState)\n",
    "        return entryCoords, firstStates, times"
   ]
  },
  {
   "cell_type": "code",
   "execution_count": 38,
   "metadata": {
    "collapsed": false
   },
   "outputs": [],
   "source": [
    "    def getLookupTable( dTrajs,  truncTrajs):\n",
    "        entryCoords = []\n",
    "        firstStates = []\n",
    "        times = []\n",
    "        Ncenters = 9\n",
    "        innerMSMrad = 2.0\n",
    "        for i in range(len(truncTrajs)):\n",
    "            if np.linalg.norm(truncTrajs[i][0]) < innerMSMrad:\n",
    "                continue\n",
    "            entryCoords.append(truncTrajs[i][1])\n",
    "            entryState = dTrajs[i][0]\n",
    "            j = 0\n",
    "            currentState = entryState\n",
    "            while currentState == entryState and j < len(dTrajs[i])-2:\n",
    "                j += 1\n",
    "                currentState = dTrajs[i][j]\n",
    "            times.append(j)\n",
    "            if currentState >= Ncenters:\n",
    "                firstStates.append(truncTrajs[i][-1])\n",
    "            else:\n",
    "                firstStates.append(currentState)\n",
    "        return np.array(entryCoords), firstStates, times"
   ]
  },
  {
   "cell_type": "code",
   "execution_count": 5,
   "metadata": {
    "collapsed": false
   },
   "outputs": [],
   "source": [
    "numfiles = 1\n",
    "# Extract trajectories from file using asym2Dtraj class\n",
    "fname = '../data/asym2D/ring/2DasymTrajsLong_R4_RT1E7_dt001_SI10_'\n",
    "dimension = 2\n",
    "trajs = []\n",
    "for number in range(numfiles):\n",
    "    f = h5py.File(fname + str(number) + '.h5', 'r')\n",
    "    data = np.array(f['traj'], dtype=float)\n",
    "    f.close()\n",
    "    if not np.allclose(data[1:,0]-data[:-1,0], 10):\n",
    "        print 'timestep not constant'\n",
    "    traj = data[:,1:dimension+1]\n",
    "    trajs.append(traj)"
   ]
  },
  {
   "cell_type": "code",
   "execution_count": 6,
   "metadata": {
    "collapsed": false
   },
   "outputs": [],
   "source": [
    "minima = [[0.0,0.0], [1.0,0.0] , [1.1, 1.0], [-0.1,0.9], [-1.3,0.8], \\\n",
    "                       [-1.0,-0.2], [-0.6,-1.0], [0.9,-0.8], [0.2,-1.5]]\n",
    "discretizer = trajDiscretizationCython(np.array(minima))"
   ]
  },
  {
   "cell_type": "code",
   "execution_count": 7,
   "metadata": {
    "collapsed": false
   },
   "outputs": [
    {
     "name": "stdout",
     "output_type": "stream",
     "text": [
      "CPU times: user 236 ms, sys: 0 ns, total: 236 ms\n",
      "Wall time: 233 ms\n"
     ]
    }
   ],
   "source": [
    "%%time\n",
    "truncTrajs = discretizer.getTruncatedTrajs(trajs)"
   ]
  },
  {
   "cell_type": "code",
   "execution_count": 8,
   "metadata": {
    "collapsed": false
   },
   "outputs": [],
   "source": [
    "dTrajs = discretizer.getdTrajs(truncTrajs)"
   ]
  },
  {
   "cell_type": "code",
   "execution_count": 39,
   "metadata": {
    "collapsed": false
   },
   "outputs": [],
   "source": [
    "entryCoords, firstStates, times = getLookupTable(dTrajs, truncTrajs)"
   ]
  },
  {
   "cell_type": "code",
   "execution_count": 40,
   "metadata": {
    "collapsed": false
   },
   "outputs": [
    {
     "name": "stdout",
     "output_type": "stream",
     "text": [
      "[[-1.62505603 -0.96856338]\n",
      " [-1.6248188  -1.16613698]\n",
      " [-1.97345984  0.10516591]\n",
      " ..., \n",
      " [-1.08757973 -1.50611436]\n",
      " [-1.42556381  1.35270929]\n",
      " [-1.42902875  1.18879092]]\n"
     ]
    }
   ],
   "source": [
    "print entryCoords[:]"
   ]
  },
  {
   "cell_type": "code",
   "execution_count": 42,
   "metadata": {
    "collapsed": false
   },
   "outputs": [
    {
     "data": {
      "text/plain": [
       "<matplotlib.collections.PathCollection at 0x7f34d688bd90>"
      ]
     },
     "execution_count": 42,
     "metadata": {},
     "output_type": "execute_result"
    },
    {
     "data": {
      "image/png": "[encoded data removed]",
      "text/plain": [
       "<matplotlib.figure.Figure at 0x7f34d5d2c210>"
      ]
     },
     "metadata": {},
     "output_type": "display_data"
    }
   ],
   "source": [
    "plt.scatter(entryCoords[:,0], entryCoords[:,1])"
   ]
  },
  {
   "cell_type": "code",
   "execution_count": 46,
   "metadata": {
    "collapsed": false
   },
   "outputs": [],
   "source": [
    "coords = []\n",
    "for coord in firstStates:\n",
    "    if not np.isscalar(coord):\n",
    "        coords.append(coord)"
   ]
  },
  {
   "cell_type": "code",
   "execution_count": 54,
   "metadata": {
    "collapsed": false
   },
   "outputs": [
    {
     "data": {
      "text/plain": [
       "[<matplotlib.lines.Line2D at 0x7f34c623ce10>]"
      ]
     },
     "execution_count": 54,
     "metadata": {},
     "output_type": "execute_result"
    },
    {
     "data": {
      "image/png": "[encoded data removed]",
      "text/plain": [
       "<matplotlib.figure.Figure at 0x7f34c5c02250>"
      ]
     },
     "metadata": {},
     "output_type": "display_data"
    }
   ],
   "source": [
    "coords = np.array(coords)\n",
    "plt.scatter(coords[:,0], coords[:,1])\n",
    "theta = np.linspace(0, 2*np.pi, 100)\n",
    "x = 2.*np.cos(theta)\n",
    "y = 2.*np.sin(theta)\n",
    "plt.plot(x,y, 'k')"
   ]
  },
  {
   "cell_type": "code",
   "execution_count": 57,
   "metadata": {
    "collapsed": true
   },
   "outputs": [],
   "source": [
    "states = []\n",
    "for state in firstStates:\n",
    "    if np.isscalar(state):\n",
    "        states.append(state)"
   ]
  },
  {
   "cell_type": "code",
   "execution_count": 58,
   "metadata": {
    "collapsed": false
   },
   "outputs": [
    {
     "data": {
      "text/plain": [
       "((array([  63.,  209.,  546.,  213.,  472.,  207.,  294.,  331.,  479.]),\n",
       "  array([-0.5,  0.5,  1.5,  2.5,  3.5,  4.5,  5.5,  6.5,  7.5,  8.5]),\n",
       "  <a list of 9 Patch objects>),\n",
       " array([ 0.,  1.,  2.,  3.,  4.,  5.,  6.,  7.,  8.]))"
      ]
     },
     "execution_count": 58,
     "metadata": {},
     "output_type": "execute_result"
    },
    {
     "data": {
      "image/png": "[encoded data removed]",
      "text/plain": [
       "<matplotlib.figure.Figure at 0x7f34c63f4e90>"
      ]
     },
     "metadata": {},
     "output_type": "display_data"
    }
   ],
   "source": [
    "discreteHistogram(np.array(states))"
   ]
  },
  {
   "cell_type": "code",
   "execution_count": 50,
   "metadata": {
    "collapsed": false
   },
   "outputs": [
    {
     "data": {
      "text/plain": [
       "(-2, 2)"
      ]
     },
     "execution_count": 50,
     "metadata": {},
     "output_type": "execute_result"
    },
    {
     "data": {
      "image/png": "[encoded data removed]",
      "text/plain": [
       "<matplotlib.figure.Figure at 0x7f86cf323950>"
      ]
     },
     "metadata": {},
     "output_type": "display_data"
    }
   ],
   "source": [
    "trajnr = 25\n",
    "theta = np.linspace(0, 2*np.pi, 100)\n",
    "x = 2.*np.cos(theta)\n",
    "y = 2.*np.sin(theta)\n",
    "plt.plot(x,y)\n",
    "plt.plot(truncTrajs[trajnr][:,0], truncTrajs[trajnr][:,1])\n",
    "plt.xlim(-2,2)\n",
    "plt.ylim(-2,2)"
   ]
  },
  {
   "cell_type": "code",
   "execution_count": 122,
   "metadata": {
    "collapsed": false
   },
   "outputs": [],
   "source": [
    "lengths = []\n",
    "for traj in truncTrajs:\n",
    "    lengths.append(len(traj))"
   ]
  },
  {
   "cell_type": "code",
   "execution_count": 123,
   "metadata": {
    "collapsed": false
   },
   "outputs": [
    {
     "data": {
      "text/plain": [
       "(0, 20)"
      ]
     },
     "execution_count": 123,
     "metadata": {},
     "output_type": "execute_result"
    },
    {
     "data": {
      "image/png": "[encoded data removed]",
      "text/plain": [
       "<matplotlib.figure.Figure at 0x7f15781934d0>"
      ]
     },
     "metadata": {},
     "output_type": "display_data"
    }
   ],
   "source": [
    "hist = discreteHistogram(np.array(lengths))\n",
    "plt.xlim((0,20))"
   ]
  },
  {
   "cell_type": "code",
   "execution_count": 124,
   "metadata": {
    "collapsed": false
   },
   "outputs": [
    {
     "name": "stdout",
     "output_type": "stream",
     "text": [
      "CPU times: user 3min 13s, sys: 208 ms, total: 3min 13s\n",
      "Wall time: 3min 13s\n"
     ]
    }
   ],
   "source": [
    "%%time\n",
    "truncDTrajs = discretizer.getdTrajs(truncTrajs)"
   ]
  },
  {
   "cell_type": "code",
   "execution_count": 125,
   "metadata": {
    "collapsed": false
   },
   "outputs": [
    {
     "data": {
      "text/plain": [
       "dtype('int64')"
      ]
     },
     "execution_count": 125,
     "metadata": {},
     "output_type": "execute_result"
    }
   ],
   "source": [
    "truncDTrajs[0].dtype"
   ]
  },
  {
   "cell_type": "code",
   "execution_count": 126,
   "metadata": {
    "collapsed": false
   },
   "outputs": [],
   "source": [
    "C = discretizer.getCountMatrix(truncDTrajs, 10)"
   ]
  },
  {
   "cell_type": "code",
   "execution_count": 127,
   "metadata": {
    "collapsed": true
   },
   "outputs": [],
   "source": [
    "T = C.astype(float)"
   ]
  },
  {
   "cell_type": "code",
   "execution_count": 128,
   "metadata": {
    "collapsed": false
   },
   "outputs": [],
   "source": [
    "#set direct transitions from inner states to bath to zero\n",
    "for i in range(9):\n",
    "    T[i,-1] = 0\n",
    "#normalize in order to get a stochastic matrix\n",
    "for i in range(T.shape[0]-1):\n",
    "    T[i,:] /= np.sum(T[i,:])"
   ]
  },
  {
   "cell_type": "code",
   "execution_count": 129,
   "metadata": {
    "collapsed": false
   },
   "outputs": [],
   "source": [
    "#Prepare data to be extracted to file\n",
    "#For this we need the position of the cluster centers as well as the information about the angles of the exit states\n",
    "class MSMmodel(object):    \n",
    "    def __init__(self, tmatrix, centers, parameters):\n",
    "        self.tmatrix = tmatrix\n",
    "        self.centers= centers\n",
    "        self.parameters = parameters\n",
    "parameters = {}\n",
    "parameters['interactionRadius'] = discretizer.innerMSMrad\n",
    "parameters['entryRadius'] = discretizer.entryRad\n",
    "parameters['bathRadius'] = discretizer.bathRad\n",
    "parameters['outerBathRadius'] = discretizer.bathRadOut\n",
    "parameters['NCenters'] = discretizer.Ncenters\n",
    "parameters['NangularPartitions'] = discretizer.angularPartitions\n",
    "parameters['entryRings'] = discretizer.entryRings\n",
    "parameters['exitRings'] = discretizer.exitRings\n",
    "parameters['lagtime'] = 10\n",
    "model = MSMmodel(T, minima, parameters)"
   ]
  },
  {
   "cell_type": "code",
   "execution_count": 130,
   "metadata": {
    "collapsed": true
   },
   "outputs": [],
   "source": [
    "import pickle\n",
    "pickle.dump(model, open('../data/models/asym2D/1radial48angular10lag_entryToExit.p', 'wa'))"
   ]
  },
  {
   "cell_type": "code",
   "execution_count": 113,
   "metadata": {
    "collapsed": true
   },
   "outputs": [],
   "source": [
    "modelRe = pickle.load(open('../data/models/asym2D/1radial48angular10lag_entryToExit.p', 'r'))"
   ]
  },
  {
   "cell_type": "code",
   "execution_count": 114,
   "metadata": {
    "collapsed": false
   },
   "outputs": [
    {
     "data": {
      "text/plain": [
       "array([[  7.24589876e-01,   4.88762354e-02,   1.23538855e-02, ...,\n",
       "          0.00000000e+00,   6.27100788e-05,   0.00000000e+00],\n",
       "       [  4.86420172e-02,   6.93987288e-01,   5.17351640e-02, ...,\n",
       "          0.00000000e+00,   0.00000000e+00,   0.00000000e+00],\n",
       "       [  1.91158901e-02,   6.51214656e-02,   6.56853843e-01, ...,\n",
       "          0.00000000e+00,   0.00000000e+00,   0.00000000e+00],\n",
       "       ..., \n",
       "       [  0.00000000e+00,   0.00000000e+00,   0.00000000e+00, ...,\n",
       "          1.09560724e-01,   7.80361757e-02,   4.13436693e-02],\n",
       "       [  0.00000000e+00,   0.00000000e+00,   0.00000000e+00, ...,\n",
       "          8.50855746e-02,   1.08557457e-01,   5.03667482e-02],\n",
       "       [  0.00000000e+00,   0.00000000e+00,   0.00000000e+00, ...,\n",
       "          0.00000000e+00,   0.00000000e+00,   0.00000000e+00]])"
      ]
     },
     "execution_count": 114,
     "metadata": {},
     "output_type": "execute_result"
    }
   ],
   "source": [
    "modelRe.tmatrix"
   ]
  },
  {
   "cell_type": "code",
   "execution_count": 115,
   "metadata": {
    "collapsed": false
   },
   "outputs": [
    {
     "data": {
      "text/plain": [
       "106"
      ]
     },
     "execution_count": 115,
     "metadata": {},
     "output_type": "execute_result"
    }
   ],
   "source": [
    "len(T)"
   ]
  },
  {
   "cell_type": "code",
   "execution_count": 117,
   "metadata": {
    "collapsed": false
   },
   "outputs": [
    {
     "data": {
      "text/plain": [
       "106"
      ]
     },
     "execution_count": 117,
     "metadata": {},
     "output_type": "execute_result"
    }
   ],
   "source": [
    "9+2*48 +1 "
   ]
  },
  {
   "cell_type": "code",
   "execution_count": null,
   "metadata": {
    "collapsed": true
   },
   "outputs": [],
   "source": []
  }
 ],
 "metadata": {
  "kernelspec": {
   "display_name": "Python 2",
   "language": "python",
   "name": "python2"
  },
  "language_info": {
   "codemirror_mode": {
    "name": "ipython",
    "version": 2
   },
   "file_extension": ".py",
   "mimetype": "text/x-python",
   "name": "python",
   "nbconvert_exporter": "python",
   "pygments_lexer": "ipython2",
   "version": "2.7.12"
  }
 },
 "nbformat": 4,
 "nbformat_minor": 0
}

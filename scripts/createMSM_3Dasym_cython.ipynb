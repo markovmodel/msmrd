{
 "cells": [
  {
   "cell_type": "code",
   "execution_count": 1,
   "metadata": {
    "collapsed": false,
    "deletable": true,
    "editable": true
   },
   "outputs": [],
   "source": [
    "%load_ext Cython"
   ]
  },
  {
   "cell_type": "code",
   "execution_count": 2,
   "metadata": {
    "collapsed": true,
    "deletable": true,
    "editable": true
   },
   "outputs": [],
   "source": [
    "import numpy as np\n",
    "import pyemma\n",
    "import matplotlib.pyplot as plt\n",
    "import pyemma.plots as mplt\n",
    "import h5py\n",
    "#from MSMRD.trajectories import all3DTrajs\n",
    "from MSMRD.discretization import partition_sphere\n",
    "%matplotlib inline"
   ]
  },
  {
   "cell_type": "code",
   "execution_count": 3,
   "metadata": {
    "collapsed": true,
    "deletable": true,
    "editable": true
   },
   "outputs": [],
   "source": [
    "%%cython\n",
    "import numpy as np\n",
    "cimport numpy as np\n",
    "from multiprocessing import Pool\n",
    "cdef extern from \"math.h\":\n",
    "    double atan2(double y, double x)\n",
    "    double acos(double x)\n",
    "    double sqrt(double x)\n",
    "    \n",
    "cdef double PI = np.pi\n",
    "\n",
    "cdef class trajDiscretization3DCython:\n",
    "    cdef public object centers, numRegionsCollar, phis\n",
    "    cdef public list thetas\n",
    "    cdef public double innerMSMrad, entryRad, bathRad, bathRadOut, radialIncrementEntry, radialIncrementExit, numPartitions\n",
    "    cdef public int angularPartitions, entryRings, exitRings, radialPartitions, Ncenters, bathIndex\n",
    "    def __init__(self, np.ndarray[double, ndim=2] centers):\n",
    "        self.centers = centers\n",
    "        self.innerMSMrad = 2.0\n",
    "        self.entryRad = 2.6\n",
    "        self.bathRad = 3.0\n",
    "        self.bathRadOut = 4.0\n",
    "        self.angularPartitions = 48\n",
    "        self.entryRings = 6\n",
    "        self.exitRings = 4\n",
    "        self.radialPartitions = self.entryRings + self.exitRings\n",
    "        self.radialIncrementEntry = (self.entryRad - self.innerMSMrad)/float(self.entryRings)\n",
    "        self.radialIncrementExit = (self.bathRad - self.entryRad)/float(self.exitRings)\n",
    "        self.Ncenters = len(self.centers)\n",
    "        self.bathIndex = self.Ncenters + self.radialPartitions*self.angularPartitions\n",
    "        self.numPartitions = 0\n",
    "        self.numRegionsCollar = None\n",
    "        self.phis = None\n",
    "        self.thetas = None\n",
    "    \n",
    "    cdef int getCollarNumber(self, np.ndarray[double, ndim=1] coord):\n",
    "        cdef double rr = sqrt(coord[0]*coord[0] + coord[1]*coord[1] + coord[2]*coord[2])\n",
    "        cdef double phi = acos(coord[2]/rr)\n",
    "        cdef int collarNumber = np.where(self.phis<=phi)[0][-1]\n",
    "        return collarNumber\n",
    "    \n",
    "    cdef int getAngularState(self, np.ndarray[double, ndim=1] coord, int collarNumber):\n",
    "        cdef double theta = atan2(coord[1], coord[0]) + PI\n",
    "        if collarNumber == 0:\n",
    "            return 0\n",
    "        if collarNumber == len(self.numRegionsCollar) - 1:\n",
    "            return 0\n",
    "        else:\n",
    "            angularState = np.where(self.thetas[collarNumber-1]<=theta)[0][-1]\n",
    "            return angularState\n",
    "    \n",
    "    cdef int getRing2(self,double radius,double increment,double lowerBound):\n",
    "        return int((radius-lowerBound)/increment)\n",
    "    \n",
    "    # Overwrite getState function in parent class\n",
    "    #discretize trajectory: use two additional rings of states for entry and exit states\n",
    "    #cluster volume should be on the same order of magnitute as for the internal states\n",
    "    cdef int getState(self, np.ndarray[double, ndim=1] coord, int prevst):\n",
    "        cdef double radius = np.linalg.norm(coord)\n",
    "        cdef np.ndarray[double, ndim=2] cen2coord\n",
    "        cdef np.ndarray[double, ndim=1] norm\n",
    "        cdef int index\n",
    "        cdef int collarNumber = self.getCollarNumber(coord)\n",
    "        cdef int angularState = self.getAngularState(coord, collarNumber)\n",
    "        cdef int prevStates\n",
    "        # inner MSM\n",
    "        if radius < self.innerMSMrad:\n",
    "            for index in range(self.Ncenters):\n",
    "                if (self.centers[index][0] - coord[0])**2 + (self.centers[index][1] - coord[1])**2 < 0.04:\n",
    "                    return index\n",
    "            return prevst\n",
    "        # Entry states\n",
    "        elif radius < self.entryRad:\n",
    "            prevStates = self.Ncenters + sum(self.numRegionsCollar[0:collarNumber])\n",
    "            return prevStates + (angularState + 1)\n",
    "        elif radius < self.bathRad:\n",
    "            prevStates = self.Ncenters + self.numPartitions + sum(self.numRegionsCollar[0:collarNumber])\n",
    "            return prevStates + (angularState + 1)\n",
    "        elif radius > self.bathRad:\n",
    "            prevStates = self.Ncenters + 2*self.numPartitions + sum(self.numRegionsCollar[0:collarNumber])\n",
    "            return prevStates + (angularState + 1)\n",
    "        else:\n",
    "            return prevst\n",
    "        \n",
    "    cpdef getdTraj(self, np.ndarray[double, ndim=2] traj):\n",
    "        cdef int k, checker,i \n",
    "        cdef np.ndarray[long, ndim=1] dTraj\n",
    "        # skip first elements, that might have udefined behavior.\n",
    "        k = 0\n",
    "        checker = self.getState(traj[0], -1)\n",
    "        while checker < 0:\n",
    "            k += 1\n",
    "            checker = self.getState(traj[k], -1)\n",
    "        dTraj = np.zeros(len(traj)-k, dtype=int)\n",
    "        dTraj[0] = checker\n",
    "        for i in range(1, len(traj)-k):\n",
    "            dTraj[i] = self.getState(traj[i+k], dTraj[i-1])\n",
    "        return dTraj\n",
    "    \n",
    "    cpdef getdTrajs(self, list trajs):\n",
    "        cdef np.ndarray[double, ndim=2] traj\n",
    "        cdef list dTrajs = []\n",
    "        cdef int k, checker,i \n",
    "        for traj in trajs:\n",
    "            dTrajs.append(self.getdTraj(traj))\n",
    "        return dTrajs\n",
    "    \n",
    "    cpdef loadPartition(self, double numPartitions, np.ndarray[double, ndim=1] numRegionsCollar, np.ndarray[double, ndim=1] phis, list thetas): \n",
    "        self.numPartitions = numPartitions\n",
    "        self.numRegionsCollar = numRegionsCollar\n",
    "        self.phis = phis\n",
    "        self.thetas = thetas"
   ]
  },
  {
   "cell_type": "code",
   "execution_count": 8,
   "metadata": {
    "collapsed": false,
    "deletable": true,
    "editable": true
   },
   "outputs": [],
   "source": [
    "numfiles = 15\n",
    "# Extract trajectories from file using asym2Dtraj class\n",
    "fname = '../data/asym3D/test3DasymTrajs_sf2_R4_RT1e7_dt001_si10_'\n",
    "dimension = 3\n",
    "trajs = []\n",
    "for number in range(numfiles):\n",
    "    f = h5py.File(fname + str(number) + '.h5', 'r')\n",
    "    data = np.array(f['traj'], dtype=float)\n",
    "    f.close()\n",
    "    if not np.allclose(data[1:,0]-data[:-1,0], 10):\n",
    "        print 'timestep not constant'\n",
    "    traj = data[:,1:dimension+1]\n",
    "    trajs.append(traj)"
   ]
  },
  {
   "cell_type": "code",
   "execution_count": 9,
   "metadata": {
    "collapsed": true,
    "deletable": true,
    "editable": true
   },
   "outputs": [],
   "source": [
    "minima = [[0.0,0.0,0.0],   [1.0,0.0,-0.5] ,  [0.8, 0.9, 0.8], [-0.1,0.9,0.2], \\\n",
    "          [-1.0,-0.2,0.8], [-0.6,-1.0,1.2],  [0.9,-0.8,-0.7], [0.2,-1.3,1.3], \\\n",
    "          [-1.3,0.8,-0.7], [-1.3, 1.0,1.4],  [1.2,0.3,-1.4],  [0.5,-0.5,0.8]]\n",
    "discretizer = trajDiscretization3DCython(np.array(minima))"
   ]
  },
  {
   "cell_type": "code",
   "execution_count": 10,
   "metadata": {
    "collapsed": false,
    "deletable": true,
    "editable": true
   },
   "outputs": [
    {
     "data": {
      "image/png": "[encoded data removed]",
      "text/plain": [
       "<matplotlib.figure.Figure at 0x7f8bc5344550>"
      ]
     },
     "metadata": {},
     "output_type": "display_data"
    }
   ],
   "source": [
    "#plt.rcParams['figure.figsize'] = [10, 10]\n",
    "MSMradius = 4.0\n",
    "dzp = 0.05\n",
    "dzm = 0.05\n",
    "zcut = -1.0\n",
    "X = np.arange(-MSMradius, MSMradius, 0.05)\n",
    "Y = np.arange(-MSMradius, MSMradius, 0.05)\n",
    "Zfull = np.zeros([X.shape[0]-1, X.shape[0]-1])\n",
    "# Loop over trajectories\n",
    "for traj in trajs:\n",
    "    # Use numpy to delete coordinates in traj where condition is not satisfied\n",
    "    trajproj = traj\n",
    "    condition = np.invert((zcut - dzm <= trajproj[:,2]) & (trajproj[:,2] < zcut + dzp))\n",
    "    indexes = np.extract(condition, np.array(range(len(traj))))\n",
    "    trajproj = np.delete(trajproj, (indexes), axis=0)\n",
    "    # Add result into histogram\n",
    "    hist = np.histogram2d(trajproj[:,1], trajproj[:,0], bins = [X, Y], normed=False)\n",
    "    Zfull += hist[0]\n",
    "extent = [X[0], X[-1], Y[0], Y[-1]]\n",
    "cp = plt.contourf(Zfull, 10, cmap=plt.cm.hot, extent=extent)\n",
    "plt.xticks(fontsize=20)\n",
    "plt.yticks(fontsize=20)\n",
    "plt.colorbar()\n",
    "#plt.clim(0,600)\n",
    "plt.axes().set_aspect('equal')"
   ]
  },
  {
   "cell_type": "code",
   "execution_count": 11,
   "metadata": {
    "collapsed": true,
    "deletable": true,
    "editable": true
   },
   "outputs": [],
   "source": [
    "numPartitions = 20\n",
    "numRegionsCollar, phis, thetas = partition_sphere(numPartitions)\n",
    "discretizer.loadPartition(numPartitions,numRegionsCollar,phis,thetas)"
   ]
  },
  {
   "cell_type": "code",
   "execution_count": 12,
   "metadata": {
    "collapsed": false,
    "deletable": true,
    "editable": true
   },
   "outputs": [
    {
     "name": "stdout",
     "output_type": "stream",
     "text": [
      "CPU times: user 13.7 s, sys: 4.49 ms, total: 13.7 s\n",
      "Wall time: 13.7 s\n"
     ]
    }
   ],
   "source": [
    "%%time\n",
    "dTrajs = discretizer.getdTrajs(trajs)"
   ]
  },
  {
   "cell_type": "code",
   "execution_count": null,
   "metadata": {
    "collapsed": true,
    "deletable": true,
    "editable": true
   },
   "outputs": [],
   "source": [
    "its = pyemma.msm.its(dTrajs, lags = 100)"
   ]
  },
  {
   "cell_type": "code",
   "execution_count": null,
   "metadata": {
    "collapsed": true,
    "deletable": true,
    "editable": true
   },
   "outputs": [],
   "source": [
    "# Plot implied time scales\n",
    "mplt.plot_implied_timescales(its, ylog=False, units='steps', linewidth=2, dt=1)\n",
    "plt.ylabel(r\"timescale/steps\", fontsize = 24)\n",
    "plt.xlabel(r\"lag time/steps\", fontsize = 24)\n",
    "#plt.xlim(0,900)\n",
    "#plt.ylim(-100,1700)\n",
    "#plt.xlim(0,100)\n",
    "#plt.ylim(100,10000)\n",
    "plt.xticks(fontsize=20)\n",
    "plt.yticks(fontsize=20)"
   ]
  },
  {
   "cell_type": "code",
   "execution_count": null,
   "metadata": {
    "collapsed": true,
    "deletable": true,
    "editable": true
   },
   "outputs": [],
   "source": [
    "phis"
   ]
  },
  {
   "cell_type": "code",
   "execution_count": null,
   "metadata": {
    "collapsed": true,
    "deletable": true,
    "editable": true
   },
   "outputs": [],
   "source": [
    "max(np.where(phis<1.5)[0])+1"
   ]
  },
  {
   "cell_type": "code",
   "execution_count": null,
   "metadata": {
    "collapsed": true,
    "deletable": true,
    "editable": true
   },
   "outputs": [],
   "source": [
    "ph"
   ]
  },
  {
   "cell_type": "code",
   "execution_count": null,
   "metadata": {
    "collapsed": true,
    "deletable": true,
    "editable": true
   },
   "outputs": [],
   "source": [
    "numRegionsCollar"
   ]
  },
  {
   "cell_type": "code",
   "execution_count": null,
   "metadata": {
    "collapsed": true,
    "deletable": true,
    "editable": true
   },
   "outputs": [],
   "source": [
    "thetas[1]"
   ]
  },
  {
   "cell_type": "code",
   "execution_count": null,
   "metadata": {
    "collapsed": true,
    "deletable": true,
    "editable": true
   },
   "outputs": [],
   "source": [
    "numcollar = 2\n",
    "th = 1.4\n",
    "max(np.where(thetas[numcollar-1]<th)[0])"
   ]
  },
  {
   "cell_type": "code",
   "execution_count": null,
   "metadata": {
    "collapsed": true,
    "deletable": true,
    "editable": true
   },
   "outputs": [],
   "source": [
    "thetas[numcollar-1]"
   ]
  },
  {
   "cell_type": "code",
   "execution_count": null,
   "metadata": {
    "collapsed": true,
    "deletable": true,
    "editable": true
   },
   "outputs": [],
   "source": [
    "sum(numRegionsCollar[0:2])"
   ]
  },
  {
   "cell_type": "code",
   "execution_count": null,
   "metadata": {
    "collapsed": true,
    "deletable": true,
    "editable": true
   },
   "outputs": [],
   "source": [
    "numRegionsCollar"
   ]
  },
  {
   "cell_type": "code",
   "execution_count": null,
   "metadata": {
    "collapsed": true,
    "deletable": true,
    "editable": true
   },
   "outputs": [],
   "source": [
    "discretizer.numRegionsCollar"
   ]
  },
  {
   "cell_type": "code",
   "execution_count": null,
   "metadata": {
    "collapsed": true,
    "deletable": true,
    "editable": true
   },
   "outputs": [],
   "source": [
    "len(discretizer.numRegionsCollar)"
   ]
  },
  {
   "cell_type": "code",
   "execution_count": null,
   "metadata": {
    "collapsed": true,
    "deletable": true,
    "editable": true
   },
   "outputs": [],
   "source": [
    "discretizer.thetas"
   ]
  },
  {
   "cell_type": "code",
   "execution_count": null,
   "metadata": {
    "collapsed": true,
    "deletable": true,
    "editable": true
   },
   "outputs": [],
   "source": [
    "max(np.where(discretizer.phis<1.4)[0])+1"
   ]
  },
  {
   "cell_type": "code",
   "execution_count": null,
   "metadata": {
    "collapsed": true,
    "deletable": true,
    "editable": true
   },
   "outputs": [],
   "source": [
    "print discretizer.phis"
   ]
  },
  {
   "cell_type": "code",
   "execution_count": null,
   "metadata": {
    "collapsed": true,
    "deletable": true,
    "editable": true
   },
   "outputs": [],
   "source": [
    "np.where(discretizer.phis<0.5)[0]"
   ]
  },
  {
   "cell_type": "code",
   "execution_count": null,
   "metadata": {
    "collapsed": true,
    "deletable": true,
    "editable": true
   },
   "outputs": [],
   "source": [
    "np.where(discretizer.phis<=-1)[0][-1]"
   ]
  },
  {
   "cell_type": "code",
   "execution_count": null,
   "metadata": {
    "collapsed": true,
    "deletable": true,
    "editable": true
   },
   "outputs": [],
   "source": [
    "discretizer.phis"
   ]
  },
  {
   "cell_type": "code",
   "execution_count": null,
   "metadata": {
    "collapsed": true,
    "deletable": true,
    "editable": true
   },
   "outputs": [],
   "source": [
    "np.pi"
   ]
  },
  {
   "cell_type": "code",
   "execution_count": null,
   "metadata": {
    "collapsed": true,
    "deletable": true,
    "editable": true
   },
   "outputs": [],
   "source": []
  }
 ],
 "metadata": {
  "kernelspec": {
   "display_name": "Python 2",
   "language": "python",
   "name": "python2"
  },
  "language_info": {
   "codemirror_mode": {
    "name": "ipython",
    "version": 2
   },
   "file_extension": ".py",
   "mimetype": "text/x-python",
   "name": "python",
   "nbconvert_exporter": "python",
   "pygments_lexer": "ipython2",
   "version": "2.7.13"
  }
 },
 "nbformat": 4,
 "nbformat_minor": 2
}

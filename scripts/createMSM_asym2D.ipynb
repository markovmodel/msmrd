{
 "cells": [
  {
   "cell_type": "code",
   "execution_count": 7,
   "metadata": {
    "collapsed": true
   },
   "outputs": [],
   "source": [
    "import numpy as np\n",
    "import pyemma\n",
    "import matplotlib.pyplot as plt\n",
    "import pyemma.plots as mplt\n",
    "from MSMRD.trajectories import allTrajs_inner\n",
    "%matplotlib inline\n"
   ]
  },
  {
   "cell_type": "code",
   "execution_count": 8,
   "metadata": {
    "collapsed": true
   },
   "outputs": [],
   "source": [
    "def filter(f, stride):\n",
    "    for i, line in enumerate(f):\n",
    "        if (not i%stride):\n",
    "            yield line"
   ]
  },
  {
   "cell_type": "code",
   "execution_count": 9,
   "metadata": {
    "collapsed": false
   },
   "outputs": [],
   "source": [
    "# Create a child class from the main class in trajectories_class.py\n",
    "class asym2Dtraj(allTrajs_inner):\n",
    "    def __init__(self, centers=None, Trajs=None):\n",
    "        super(asym2Dtraj, self).__init__(Trajs)\n",
    "        if centers == None:\n",
    "            centers = []\n",
    "        self.centers = centers\n",
    "    \n",
    "    # Overwrite getState function in parent class\n",
    "    def getState(self, coord, prevst):\n",
    "        for i in range(len(self.centers)):\n",
    "            cen = np.asarray(self.centers[i])\n",
    "            dist = np.linalg.norm(coord - cen)\n",
    "            if dist <= 0.2:\n",
    "                state = i\n",
    "                return state\n",
    "        # if no new state found, return previous state\n",
    "        state = prevst\n",
    "        return state\n",
    "    \n",
    "    # Overwrite getMilestones function\n",
    "    def getMilestones(self):\n",
    "        self.milestones = self.centers\n",
    "    \n",
    "    # Overwrite getRegionMap function\n",
    "    def getRegionMap(self):\n",
    "        for i in range(len(self.centers)):\n",
    "            statename = 'State 1 ' + str(i)\n",
    "            self.refionMap[i] = statename"
   ]
  },
  {
   "cell_type": "code",
   "execution_count": 10,
   "metadata": {
    "collapsed": false
   },
   "outputs": [],
   "source": [
    "numfiles = 16\n",
    "# Extract trajectories from file using asym2Dtraj class\n",
    "fname = '../data/asym2D/2DasymTrajsLong_'\n",
    "minima = [[0.0,0.0], [1.0,0.0] , [1.1, 1.0], [-0.1,0.9], [-1.3,0.8], \\\n",
    "                       [-1.0,-0.2], [-0.6,-1.0], [0.9,-0.8], [0.2,-1.5]]\n",
    "alltrajs = asym2Dtraj(minima, []) # define allTrajs object\n",
    "#alltrajs = allTrajs_inner([])\n",
    "dimension = 2\n",
    "for number in range(numfiles):\n",
    "    with open(fname + str(number)+'.txt') as f:\n",
    "        data = np.genfromtxt(filter(f, 1))\n",
    "        traj = data[:,1:dimension+1]\n",
    "        alltrajs.Trajs.append(traj)"
   ]
  },
  {
   "cell_type": "code",
   "execution_count": null,
   "metadata": {
    "collapsed": true
   },
   "outputs": [],
   "source": [
    "# Calculate discrete trajectories and make sure it is clean (no \"None\" elements)\n",
    "dtrajs = alltrajs.getdTrajsclean()\n",
    "# Obtain centers of each state and save\n",
    "centersdict = alltrajs.getMilestones()\n",
    "centers = alltrajs.getMilestonesArray()"
   ]
  },
  {
   "cell_type": "code",
   "execution_count": null,
   "metadata": {
    "collapsed": false
   },
   "outputs": [],
   "source": [
    "# Obtained implied time scales using pyemma\n",
    "its = pyemma.msm.its(dtrajs, lags = 1000)"
   ]
  },
  {
   "cell_type": "code",
   "execution_count": null,
   "metadata": {
    "collapsed": false
   },
   "outputs": [],
   "source": [
    "# Plot implied time scales\n",
    "mplt.plot_implied_timescales(its, ylog=False, units='steps', linewidth=2, dt=1)\n",
    "plt.ylabel(r\"timescale/steps\", fontsize = 24)\n",
    "plt.xlabel(r\"lag time/steps\", fontsize = 24)\n",
    "#plt.xlim(0,900)\n",
    "#plt.ylim(0,900)\n",
    "plt.xticks(fontsize=20)\n",
    "plt.yticks(fontsize=20)"
   ]
  },
  {
   "cell_type": "code",
   "execution_count": null,
   "metadata": {
    "collapsed": false
   },
   "outputs": [],
   "source": [
    "MSMradius = 2.0\n",
    "X = np.arange(-MSMradius, MSMradius, 0.01)\n",
    "Y = np.arange(-MSMradius, MSMradius, 0.01)\n",
    "Zfull = np.zeros([X.shape[0]-1, X.shape[0]-1])\n",
    "for traj in alltrajs.Trajs:\n",
    "    hist = np.histogram2d(traj[:,0], traj[:,1], bins = [X, Y], normed=False)\n",
    "    Zfull += hist[0]\n",
    "extent = [X[0], X[-1], Y[0], Y[-1]]\n",
    "cp = plt.contourf(Zfull, 10, cmap=plt.cm.hot, extent=extent)\n",
    "plt.xticks(fontsize=20)\n",
    "plt.yticks(fontsize=20)\n",
    "plt.colorbar()"
   ]
  },
  {
   "cell_type": "code",
   "execution_count": null,
   "metadata": {
    "collapsed": true
   },
   "outputs": [],
   "source": [
    "# Choose lag time and obtain MSM \"M\" for our milestones\n",
    "msm_lag = 200\n",
    "M = pyemma.msm.estimate_markov_model(dtrajs, msm_lag, reversible=True)"
   ]
  },
  {
   "cell_type": "code",
   "execution_count": null,
   "metadata": {
    "collapsed": false
   },
   "outputs": [],
   "source": [
    "# Plot states and color them according to their weight in a given eigenmode\n",
    "eigenmode = 0 # 0 = stationary distribution\n",
    "vectors = M.eigenvectors_left()\n",
    "value = M.eigenvalues()\n",
    "#print M.timescales()[:10] \n",
    "#print -msm_lag/np.log(value[1])\n",
    "plt.xticks(fontsize=20)\n",
    "plt.yticks(fontsize=20)\n",
    "sc = plt.scatter(centers[:,0], centers[:,1], c=vectors[eigenmode][:], cmap=plt.cm.inferno, linewidths = 0, s=100)\n",
    "plt.colorbar()"
   ]
  },
  {
   "cell_type": "code",
   "execution_count": null,
   "metadata": {
    "collapsed": true
   },
   "outputs": [],
   "source": []
  },
  {
   "cell_type": "code",
   "execution_count": null,
   "metadata": {
    "collapsed": true
   },
   "outputs": [],
   "source": []
  }
 ],
 "metadata": {
  "kernelspec": {
   "display_name": "Python 2",
   "language": "python",
   "name": "python2"
  },
  "language_info": {
   "codemirror_mode": {
    "name": "ipython",
    "version": 2
   },
   "file_extension": ".py",
   "mimetype": "text/x-python",
   "name": "python",
   "nbconvert_exporter": "python",
   "pygments_lexer": "ipython2",
   "version": "2.7.12"
  }
 },
 "nbformat": 4,
 "nbformat_minor": 2
}

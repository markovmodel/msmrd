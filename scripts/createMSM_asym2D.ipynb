{
 "cells": [
  {
   "cell_type": "code",
   "execution_count": 2,
   "metadata": {
    "collapsed": true
   },
   "outputs": [],
   "source": [
    "import numpy as np\n",
    "import pyemma\n",
    "import matplotlib.pyplot as plt\n",
    "import pyemma.plots as mplt\n",
    "import h5py\n",
    "from MSMRD.trajectories import allTrajs_inner\n",
    "%matplotlib inline"
   ]
  },
  {
   "cell_type": "code",
   "execution_count": 3,
   "metadata": {
    "collapsed": true
   },
   "outputs": [],
   "source": [
    "def filter(f, stride):\n",
    "    for i, line in enumerate(f):\n",
    "        if (not i%stride):\n",
    "            yield line"
   ]
  },
  {
   "cell_type": "code",
   "execution_count": 4,
   "metadata": {
    "collapsed": false
   },
   "outputs": [],
   "source": [
    "# Create a child class from the main class in trajectories_class.py\n",
    "class asym2Dtraj(allTrajs_inner):\n",
    "    def __init__(self, centers=None, Trajs=None):\n",
    "        super(asym2Dtraj, self).__init__(Trajs)\n",
    "        if centers == None:\n",
    "            centers = []\n",
    "        self.centers = centers\n",
    "        self.innerMSMrad = 2.0\n",
    "        self.entryRad = 2.6\n",
    "        self.bathRad = 3.0\n",
    "        self.bathRadOut = 4.0\n",
    "        self.angularPartitions = 15\n",
    "        self.Ncenters = len(self.centers)\n",
    "    \n",
    "    # Overwrite getState function in parent class\n",
    "    #discretize trajectory: use two additional rings of states for entry and exit states\n",
    "    #cluster volume should be on the same order of magnitute as for the internal states\n",
    "    def getState(self, coord, prevst):\n",
    "        radius = np.linalg.norm(coord)\n",
    "        # inner MSM\n",
    "        if radius < self.innerMSMrad:\n",
    "            cen2coord = self.centers - coord\n",
    "            norm = np.linalg.norm(cen2coord, axis = 1)\n",
    "            index = np.argmin(norm)\n",
    "            if (norm[index] <= 0.2 ):\n",
    "                return index\n",
    "            # if no new state found, return previous state\n",
    "            return prevst\n",
    "        # Entry states \n",
    "        elif radius < self.entryRad:\n",
    "            theta = np.arctan2(coord[0], coord[1]) + np.pi #add pi s.t. angle lies in interval [0, 2pi]\n",
    "            angularState = np.floor(theta/(2*np.pi)*self.angularPartitions)\n",
    "            assert(angularState < self.angularPartitions)\n",
    "            return self.Ncenters + angularState\n",
    "        # Exit states \n",
    "        elif radius < self.bathRad:\n",
    "            theta = np.arctan2(coord[0], coord[1]) + np.pi #add pi s.t. angle lies in interval [0, 2pi]\n",
    "            angularState = np.floor(theta/(2*np.pi)*self.angularPartitions)\n",
    "            assert(angularState < self.angularPartitions)\n",
    "            return self.Ncenters + self.angularPartitions + angularState\n",
    "        # Bath state\n",
    "        elif radius < self.bathRadOut:\n",
    "            theta = np.arctan2(coord[0], coord[1]) + np.pi #add pi s.t. angle lies in interval [0, 2pi]\n",
    "            angularState = np.floor(theta/(2*np.pi)*self.angularPartitions)\n",
    "            assert(angularState < self.angularPartitions)\n",
    "            return self.Ncenters + 2*self.angularPartitions + angularState\n",
    "    \n",
    "        \n",
    "    # Overwrite getMilestones function\n",
    "    def getMilestones(self):\n",
    "        self.milestones = self.centers\n",
    "    \n",
    "    # Overwrite getRegionMap function\n",
    "    def getRegionMap(self):\n",
    "        for i in range(len(self.centers)):\n",
    "            statename = 'State 1 ' + str(i)\n",
    "            self.refionMap[i] = statename"
   ]
  },
  {
   "cell_type": "code",
   "execution_count": null,
   "metadata": {
    "collapsed": false
   },
   "outputs": [],
   "source": [
    "numfiles = 12\n",
    "# Extract trajectories from file using asym2Dtraj class\n",
    "fname = '../data/asym2D/2DasymTrajsLong_bigR_bigT_'\n",
    "minima = [[0.0,0.0], [1.0,0.0] , [1.1, 1.0], [-0.1,0.9], [-1.3,0.8], \\\n",
    "                       [-1.0,-0.2], [-0.6,-1.0], [0.9,-0.8], [0.2,-1.5]]\n",
    "alltrajs = asym2Dtraj(minima, []) # define allTrajs object\n",
    "#alltrajs = allTrajs_inner([])\n",
    "dimension = 2\n",
    "for number in range(numfiles):\n",
    "    f = h5py.File(fname + str(number)+'.h5', 'r')\n",
    "    data = np.array(f['traj'], dtype=float)\n",
    "    f.close()\n",
    "    traj = data[:,1:dimension+1]\n",
    "    alltrajs.Trajs.append(traj)"
   ]
  },
  {
   "cell_type": "code",
   "execution_count": null,
   "metadata": {
    "collapsed": false
   },
   "outputs": [],
   "source": [
    "# Calculate discrete trajectories and make sure it is clean (no \"None\" elements)\n",
    "dtrajs = alltrajs.getdTrajsclean()\n",
    "# Obtain centers of each state and save\n",
    "centersdict = alltrajs.getMilestones()\n",
    "centers = alltrajs.getMilestonesArray()"
   ]
  },
  {
   "cell_type": "code",
   "execution_count": null,
   "metadata": {
    "collapsed": false
   },
   "outputs": [],
   "source": [
    "# Obtained implied time scales using pyemma\n",
    "its = pyemma.msm.its(dtrajs, lags = 1000)"
   ]
  },
  {
   "cell_type": "code",
   "execution_count": null,
   "metadata": {
    "collapsed": false
   },
   "outputs": [],
   "source": [
    "# Plot implied time scales\n",
    "mplt.plot_implied_timescales(its, ylog=False, units='steps', linewidth=2, dt=1)\n",
    "plt.ylabel(r\"timescale/steps\", fontsize = 24)\n",
    "plt.xlabel(r\"lag time/steps\", fontsize = 24)\n",
    "#plt.xlim(0,900)\n",
    "#plt.ylim(0,900)\n",
    "plt.xticks(fontsize=20)\n",
    "plt.yticks(fontsize=20)"
   ]
  },
  {
   "cell_type": "code",
   "execution_count": null,
   "metadata": {
    "collapsed": false
   },
   "outputs": [],
   "source": [
    "MSMradius = 4.0\n",
    "X = np.arange(-MSMradius, MSMradius, 0.01)\n",
    "Y = np.arange(-MSMradius, MSMradius, 0.01)\n",
    "Zfull = np.zeros([X.shape[0]-1, X.shape[0]-1])\n",
    "for traj in alltrajs.Trajs:\n",
    "    hist = np.histogram2d(traj[:,0], traj[:,1], bins = [X, Y], normed=False)\n",
    "    Zfull += hist[0]\n",
    "extent = [X[0], X[-1], Y[0], Y[-1]]\n",
    "cp = plt.contourf(Zfull, 10, cmap=plt.cm.hot, extent=extent)\n",
    "plt.xticks(fontsize=20)\n",
    "plt.yticks(fontsize=20)\n",
    "plt.colorbar()"
   ]
  },
  {
   "cell_type": "code",
   "execution_count": 1,
   "metadata": {
    "collapsed": false
   },
   "outputs": [
    {
     "ename": "NameError",
     "evalue": "name 'pyemma' is not defined",
     "output_type": "error",
     "traceback": [
      "\u001b[0;31m---------------------------------------------------------------------------\u001b[0m",
      "\u001b[0;31mNameError\u001b[0m                                 Traceback (most recent call last)",
      "\u001b[0;32m<ipython-input-1-6ec3892346d7>\u001b[0m in \u001b[0;36m<module>\u001b[0;34m()\u001b[0m\n\u001b[1;32m      1\u001b[0m \u001b[0;31m# Choose lag time and obtain MSM \"M\" for our milestones\u001b[0m\u001b[0;34m\u001b[0m\u001b[0;34m\u001b[0m\u001b[0m\n\u001b[1;32m      2\u001b[0m \u001b[0mmsm_lag\u001b[0m \u001b[0;34m=\u001b[0m \u001b[0;36m200\u001b[0m\u001b[0;34m\u001b[0m\u001b[0m\n\u001b[0;32m----> 3\u001b[0;31m \u001b[0mM\u001b[0m \u001b[0;34m=\u001b[0m \u001b[0mpyemma\u001b[0m\u001b[0;34m.\u001b[0m\u001b[0mmsm\u001b[0m\u001b[0;34m.\u001b[0m\u001b[0mestimate_markov_model\u001b[0m\u001b[0;34m(\u001b[0m\u001b[0mdtrajs\u001b[0m\u001b[0;34m,\u001b[0m \u001b[0mmsm_lag\u001b[0m\u001b[0;34m,\u001b[0m \u001b[0mreversible\u001b[0m\u001b[0;34m=\u001b[0m\u001b[0mTrue\u001b[0m\u001b[0;34m)\u001b[0m\u001b[0;34m\u001b[0m\u001b[0m\n\u001b[0m",
      "\u001b[0;31mNameError\u001b[0m: name 'pyemma' is not defined"
     ]
    }
   ],
   "source": [
    "# Choose lag time and obtain MSM \"M\" for our milestones\n",
    "msm_lag = 200\n",
    "M = pyemma.msm.estimate_markov_model(dtrajs, msm_lag, reversible=True)"
   ]
  },
  {
   "cell_type": "code",
   "execution_count": null,
   "metadata": {
    "collapsed": false
   },
   "outputs": [],
   "source": [
    "# Plot states and color them according to their weight in a given eigenmode\n",
    "eigenmode = 0 # 0 = stationary distribution\n",
    "vectors = M.eigenvectors_left()\n",
    "value = M.eigenvalues()\n",
    "#print M.timescales()[:10] \n",
    "#print -msm_lag/np.log(value[1])\n",
    "plt.xticks(fontsize=20)\n",
    "plt.yticks(fontsize=20)\n",
    "sc = plt.scatter(centers[:,0], centers[:,1], c=vectors[eigenmode][:], cmap=plt.cm.inferno, linewidths = 0, s=100)\n",
    "plt.colorbar()"
   ]
  },
  {
   "cell_type": "code",
   "execution_count": null,
   "metadata": {
    "collapsed": true
   },
   "outputs": [],
   "source": []
  }
 ],
 "metadata": {
  "kernelspec": {
   "display_name": "Python 2",
   "language": "python",
   "name": "python2"
  },
  "language_info": {
   "codemirror_mode": {
    "name": "ipython",
    "version": 2
   },
   "file_extension": ".py",
   "mimetype": "text/x-python",
   "name": "python",
   "nbconvert_exporter": "python",
   "pygments_lexer": "ipython2",
   "version": "2.7.12"
  }
 },
 "nbformat": 4,
 "nbformat_minor": 2
}

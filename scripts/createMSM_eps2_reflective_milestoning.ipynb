{
 "cells": [
  {
   "cell_type": "code",
   "execution_count": 1,
   "metadata": {
    "collapsed": true
   },
   "outputs": [],
   "source": [
    "import numpy as np\n",
    "import pyemma\n",
    "import matplotlib.pyplot as plt\n",
    "%matplotlib inline"
   ]
  },
  {
   "cell_type": "code",
   "execution_count": 2,
   "metadata": {
    "collapsed": true
   },
   "outputs": [],
   "source": [
    "def filter(f, stride):\n",
    "    for i, line in enumerate(f):\n",
    "        if (not i%stride):\n",
    "            yield line"
   ]
  },
  {
   "cell_type": "code",
   "execution_count": 97,
   "metadata": {
    "collapsed": false
   },
   "outputs": [],
   "source": [
    "# Define class to store trajectories and their state for milestoning\n",
    "class allTrajs(object):\n",
    "    th_divisions = 4\n",
    "    \n",
    "    def __init__(self, truncTrajs, dTrajs=None, milestones=None, dTrajsclean=None):\n",
    "        if dTrajs == None:\n",
    "            dTrajs = []\n",
    "        if milestones == None:\n",
    "            milestones = {}\n",
    "        if dTrajsclean == None:\n",
    "            dTrajsclean = []\n",
    "        self.truncTrajs = truncTrajs\n",
    "        self.dTrajs = dTrajs\n",
    "        self.milestones = milestones\n",
    "        self.dTrajsclean = dTrajsclean\n",
    "    \n",
    "    # Get discretized trajectories (dTrajs) in chosen milestones \n",
    "    # from continue truncated trajectories (truncTrajs)\n",
    "    def getdTrajs(self):\n",
    "        # Resize dTrajs array \n",
    "        self.dTrajs = [None] * len(self.truncTrajs)\n",
    "        # Loop over each trajectory\n",
    "        for i in range(len(self.truncTrajs)):\n",
    "            # Create empty list of consistent size for ith discrete trajectory\n",
    "            trajlen = len(self.truncTrajs[i])\n",
    "            self.dTrajs[i] = [None] * trajlen\n",
    "            # Loop over each time iteration to set corresponding discrete state\n",
    "            for j in range(trajlen):\n",
    "                if j > 0:\n",
    "                    prevstate = self.dTrajs[i][j-1]\n",
    "                else:\n",
    "                    prevstate = None\n",
    "                self.dTrajs[i][j] = self.getState(self.truncTrajs[i][j],prevstate)\n",
    "        return self.dTrajs\n",
    "    \n",
    "    # Same a getdTrajs but ensuring there are no \"None\" states,\n",
    "    # since they can appear if the initial condition is in a \"None\" state region\n",
    "    def getdTrajsclean(self):\n",
    "        # If dTrajs haven't been yet calculated, do so\n",
    "        if self.dTrajs == []:\n",
    "            self.getdTrajs()\n",
    "        self.dTrajsclean = list(self.dTrajs)\n",
    "        # Eliminate \"None\" entries in reverse order to avoid misindexing\n",
    "        for i in reversed(range(len(self.dTrajs))):\n",
    "            if self.dTrajs[i] == None:\n",
    "                self.dTrajsclean.pop(i)\n",
    "            else:\n",
    "                for j in reversed(range(len(self.dTrajs[i]))):\n",
    "                    if self.dTrajs[i][j] == None:\n",
    "                        self.dTrajsclean[i].pop(j)\n",
    "            if self.dTrajsclean[i] == []:\n",
    "                self.dTrajsclean.pop(i)\n",
    "        return self.dTrajsclean\n",
    "                        \n",
    "    \n",
    "    # Given coordinates, assigns a state which corresponds to an area\n",
    "    # in space. The state is assigned with an integer value. The center of the\n",
    "    # state region is given by getMilestones() function\n",
    "    def getState(self, coord, prevst):\n",
    "        x = coord[0]\n",
    "        y = coord[1]\n",
    "        r = np.sqrt(x*x + y*y)\n",
    "        th = np.arctan2(y, x)\n",
    "        ndiv = allTrajs.th_divisions\n",
    "        angint = 2*np.pi/ndiv \n",
    "        if r <= 1:\n",
    "            state = 0\n",
    "            return state\n",
    "        elif (r >= 3 and r <= 3.5):\n",
    "            for k in range(ndiv):\n",
    "                llim = -np.pi + k*angint\n",
    "                rlim = -np.pi + (k+1)*angint\n",
    "                if (th >= llim and th < rlim):\n",
    "                    state = k + 1\n",
    "                    return state\n",
    "        else:\n",
    "            state = prevst\n",
    "            return state\n",
    "    \n",
    "    # Get x,y centers of milestones in a dictionary: milestones[state] = [x,y]    \n",
    "    def getMilestones(self):\n",
    "        # Bound state is 0 and assigned origin as center\n",
    "        self.milestones[0] = [0,0]\n",
    "        ndiv = allTrajs.th_divisions\n",
    "        angint = 2*np.pi/ndiv\n",
    "        r = 2.5\n",
    "        for k in range(ndiv):\n",
    "            llim = -np.pi + k*angint\n",
    "            rlim = -np.pi + (k+1)*angint\n",
    "            th = (rlim + llim)/2.0\n",
    "            x = r*np.cos(th)\n",
    "            y = r*np.sin(th)\n",
    "            self.milestones[k+1] = [x,y]\n",
    "        return self.milestones\n",
    "                \n",
    "            "
   ]
  },
  {
   "cell_type": "code",
   "execution_count": 98,
   "metadata": {
    "collapsed": true
   },
   "outputs": [],
   "source": [
    "# Extract truncated trajectries as before, but using now allTrajs class\n",
    "fname = '../data/2DmodifiedLJmultipleTrajsLongR4.txt'\n",
    "alltrajs = allTrajs([]) # define allTrajs object\n",
    "trajs = []\n",
    "bathtoMSMs = []\n",
    "MSMtobaths = []\n",
    "trajAssignment = []\n",
    "fileIndex = []\n",
    "dimension = 2\n",
    "with open(fname) as f:\n",
    "    data = np.genfromtxt(filter(f, 1))\n",
    "    ntrajs = data.shape[1]/dimension\n",
    "    for i in range(0, ntrajs):\n",
    "        traj = data[:,2*i:2*i+dimension]\n",
    "        trajs.append(traj)\n",
    "        abs = np.linalg.norm(traj, axis = 1)\n",
    "        MSMdomain = (abs < 3.)\n",
    "        bathtoMSM = np.where(np.logical_and(~MSMdomain[:-1], MSMdomain[1:]) )[0]+1\n",
    "        MSMtobath = np.where(np.logical_and(MSMdomain[:-1], ~MSMdomain[1:]) )[0]+1\n",
    "        #make sure both arrays have the same lenght\n",
    "        if MSMdomain[0]:\n",
    "            bathtoMSM = np.insert(bathtoMSM, 0, 0)\n",
    "        if MSMdomain[-1]:\n",
    "            MSMtobath = np.append(MSMtobath, len(MSMdomain))\n",
    "        bathtoMSMs.append(bathtoMSM)\n",
    "        MSMtobaths.append(MSMtobath)\n",
    "        for i in range(0, len(bathtoMSM)):\n",
    "            trajAssignment.append(fileIndex)\n",
    "            alltrajs.truncTrajs.append(traj[bathtoMSM[i]:MSMtobath[i],:])"
   ]
  },
  {
   "cell_type": "code",
   "execution_count": 99,
   "metadata": {
    "collapsed": false
   },
   "outputs": [],
   "source": [
    "# Calculate discrete trajectories and save them into alltrajs.dtrajs\n",
    "trajs = alltrajs.getdTrajs()"
   ]
  },
  {
   "cell_type": "code",
   "execution_count": 101,
   "metadata": {
    "collapsed": false
   },
   "outputs": [],
   "source": [
    "trajsclean = alltrajs.getdTrajsclean()"
   ]
  },
  {
   "cell_type": "code",
   "execution_count": 104,
   "metadata": {
    "collapsed": false
   },
   "outputs": [],
   "source": [
    "centers = alltrajs.getMilestones()"
   ]
  },
  {
   "cell_type": "code",
   "execution_count": null,
   "metadata": {
    "collapsed": true
   },
   "outputs": [],
   "source": []
  }
 ],
 "metadata": {
  "kernelspec": {
   "display_name": "Python 2",
   "language": "python",
   "name": "python2"
  },
  "language_info": {
   "codemirror_mode": {
    "name": "ipython",
    "version": 2
   },
   "file_extension": ".py",
   "mimetype": "text/x-python",
   "name": "python",
   "nbconvert_exporter": "python",
   "pygments_lexer": "ipython2",
   "version": "2.7.6"
  }
 },
 "nbformat": 4,
 "nbformat_minor": 0
}

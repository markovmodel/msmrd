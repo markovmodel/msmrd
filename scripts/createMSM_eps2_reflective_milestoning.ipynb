{
 "cells": [
  {
   "cell_type": "code",
   "execution_count": 1,
   "metadata": {
    "collapsed": true
   },
   "outputs": [],
   "source": [
    "import numpy as np\n",
    "import pyemma\n",
    "import matplotlib.pyplot as plt\n",
    "%matplotlib inline"
   ]
  },
  {
   "cell_type": "code",
   "execution_count": 2,
   "metadata": {
    "collapsed": true
   },
   "outputs": [],
   "source": [
    "def filter(f, stride):\n",
    "    for i, line in enumerate(f):\n",
    "        if (not i%stride):\n",
    "            yield line"
   ]
  },
  {
   "cell_type": "code",
   "execution_count": 139,
   "metadata": {
    "collapsed": false
   },
   "outputs": [],
   "source": [
    "# Define class to store trajectories and their state for milestoning\n",
    "class allTrajs(object):\n",
    "    th_divisions = 4\n",
    "    \n",
    "    def __init__(self, truncTrajs, dTrajs=None, milestones=None):\n",
    "        if dTrajs == None:\n",
    "            dTrajs = []\n",
    "        if milestones == None:\n",
    "            milestones = {}\n",
    "        self.truncTrajs = truncTrajs\n",
    "        self.dTrajs = dTrajs\n",
    "        self.milestones = milestones\n",
    "    \n",
    "    # Get discretized trajectories (dTrajs) in chosen milestones \n",
    "    # from continue truncated trajectories (truncTrajs)\n",
    "    def getdTrajs(self):\n",
    "        # Resize dTrajs array \n",
    "        self.dTrajs = [None] * len(self.truncTrajs)\n",
    "        # Loop over each trajectory\n",
    "        for i in range(len(self.truncTrajs)):\n",
    "            # Create empty list of consistent size for ith discrete trajectory\n",
    "            trajlen = len(self.truncTrajs[i])\n",
    "            self.dTrajs[i] = [None] * trajlen\n",
    "            # Loop over each time iteration to set corresponding discrete state\n",
    "            for j in range(trajlen):\n",
    "                if j > 0:\n",
    "                    prevstate = self.dTrajs[i][j-1]\n",
    "                else:\n",
    "                    prevstate = None\n",
    "                self.dTrajs[i][j] = self.getState(self.truncTrajs[i][j],prevstate)\n",
    "        return self.dTrajs\n",
    "    \n",
    "    # Given coordinates, assigns a state which corresponds to an area\n",
    "    # in space. The state is assigned with an integer value. The center of the\n",
    "    # state region is given by getMilestones() function\n",
    "    def getState(self, coord, prevst):\n",
    "        x = coord[0]\n",
    "        y = coord[1]\n",
    "        r = np.sqrt(x*x + y*y)\n",
    "        th = np.arctan2(y, x)\n",
    "        ndiv = allTrajs.th_divisions\n",
    "        angint = 2*np.pi/ndiv \n",
    "        if r <= 1:\n",
    "            state = 0\n",
    "            return state\n",
    "        elif (r >= 2 and r <= 3):\n",
    "            for k in range(ndiv):\n",
    "                llim = -np.pi + k*angint\n",
    "                rlim = -np.pi + (k+1)*angint\n",
    "                if (th >= llim and th < rlim):\n",
    "                    state = k + 1\n",
    "                    return state\n",
    "        else:\n",
    "            state = prevst\n",
    "            return state\n",
    "    \n",
    "    # Get x,y centers of milestones in a dictionary: milestones[state] = [x,y]    \n",
    "    def getMilestones(self):\n",
    "        # Bound state is 0 and assigned origin as center\n",
    "        self.milestones[0] = [0,0]\n",
    "        ndiv = allTrajs.th_divisions\n",
    "        angint = 2*np.pi/ndiv\n",
    "        r = 2.5\n",
    "        for k in range(ndiv):\n",
    "            llim = -np.pi + k*angint\n",
    "            rlim = -np.pi + (k+1)*angint\n",
    "            th = (rlim + llim)/2.0\n",
    "            x = r*np.cos(th)\n",
    "            y = r*np.sin(th)\n",
    "            self.milestones[k+1] = [x,y]\n",
    "        return self.milestones\n",
    "                \n",
    "            "
   ]
  },
  {
   "cell_type": "code",
   "execution_count": 140,
   "metadata": {
    "collapsed": true
   },
   "outputs": [],
   "source": [
    "# Extract truncated trajectries as before, but using now allTrajs class\n",
    "fname = '../data/2DmodifiedLJmultipleTrajsLongR4.txt'\n",
    "alltrajs = allTrajs([]) # define allTrajs object\n",
    "trajs = []\n",
    "bathtoMSMs = []\n",
    "MSMtobaths = []\n",
    "trajAssignment = []\n",
    "fileIndex = []\n",
    "dimension = 2\n",
    "with open(fname) as f:\n",
    "    data = np.genfromtxt(filter(f, 1))\n",
    "    ntrajs = data.shape[1]/dimension\n",
    "    for i in range(0, ntrajs):\n",
    "        traj = data[:,2*i:2*i+dimension]\n",
    "        trajs.append(traj)\n",
    "        abs = np.linalg.norm(traj, axis = 1)\n",
    "        MSMdomain = (abs < 3.)\n",
    "        bathtoMSM = np.where(np.logical_and(~MSMdomain[:-1], MSMdomain[1:]) )[0]+1\n",
    "        MSMtobath = np.where(np.logical_and(MSMdomain[:-1], ~MSMdomain[1:]) )[0]+1\n",
    "        #make sure both arrays have the same lenght\n",
    "        if MSMdomain[0]:\n",
    "            bathtoMSM = np.insert(bathtoMSM, 0, 0)\n",
    "        if MSMdomain[-1]:\n",
    "            MSMtobath = np.append(MSMtobath, len(MSMdomain))\n",
    "        bathtoMSMs.append(bathtoMSM)\n",
    "        MSMtobaths.append(MSMtobath)\n",
    "        for i in range(0, len(bathtoMSM)):\n",
    "            trajAssignment.append(fileIndex)\n",
    "            alltrajs.truncTrajs.append(traj[bathtoMSM[i]:MSMtobath[i],:])"
   ]
  },
  {
   "cell_type": "code",
   "execution_count": 80,
   "metadata": {
    "collapsed": false
   },
   "outputs": [],
   "source": [
    "# Calculate discrete trajectories and save them into alltrajs.dtrajs\n",
    "alltrajs.getdTrajs()"
   ]
  },
  {
   "cell_type": "code",
   "execution_count": 81,
   "metadata": {
    "collapsed": false
   },
   "outputs": [
    {
     "data": {
      "text/plain": [
       "223080"
      ]
     },
     "execution_count": 81,
     "metadata": {},
     "output_type": "execute_result"
    }
   ],
   "source": [
    "len(alltrajs.dTrajs)"
   ]
  },
  {
   "cell_type": "code",
   "execution_count": 82,
   "metadata": {
    "collapsed": false
   },
   "outputs": [
    {
     "data": {
      "text/plain": [
       "223080"
      ]
     },
     "execution_count": 82,
     "metadata": {},
     "output_type": "execute_result"
    }
   ],
   "source": [
    "len(alltrajs.truncTrajs)"
   ]
  },
  {
   "cell_type": "code",
   "execution_count": 103,
   "metadata": {
    "collapsed": false
   },
   "outputs": [
    {
     "data": {
      "text/plain": [
       "[3, 3, 3, 3, 3, 3, 3]"
      ]
     },
     "execution_count": 103,
     "metadata": {},
     "output_type": "execute_result"
    }
   ],
   "source": [
    "alltrajs.dTrajs[0]"
   ]
  },
  {
   "cell_type": "code",
   "execution_count": 104,
   "metadata": {
    "collapsed": false
   },
   "outputs": [
    {
     "data": {
      "text/plain": [
       "array([[-0.11318649,  2.460619  ],\n",
       "       [-0.228444  ,  2.48857247],\n",
       "       [-0.20297694,  2.37455592],\n",
       "       [-0.23480105,  2.60129679],\n",
       "       [-0.12868021,  2.69948628],\n",
       "       [-0.12764051,  2.78087705],\n",
       "       [-0.36861899,  2.94587384]])"
      ]
     },
     "execution_count": 104,
     "metadata": {},
     "output_type": "execute_result"
    }
   ],
   "source": [
    "alltrajs.truncTrajs[0]"
   ]
  },
  {
   "cell_type": "code",
   "execution_count": 142,
   "metadata": {
    "collapsed": false
   },
   "outputs": [],
   "source": [
    "dd = alltrajs.getMilestones()"
   ]
  },
  {
   "cell_type": "code",
   "execution_count": 152,
   "metadata": {
    "collapsed": false
   },
   "outputs": [
    {
     "data": {
      "text/plain": [
       "{0: [0, 0],\n",
       " 1: [-1.7677669529663687, -1.7677669529663689],\n",
       " 2: [1.7677669529663689, -1.7677669529663687],\n",
       " 3: [1.7677669529663689, 1.7677669529663687],\n",
       " 4: [-1.7677669529663687, 1.7677669529663689]}"
      ]
     },
     "execution_count": 152,
     "metadata": {},
     "output_type": "execute_result"
    }
   ],
   "source": [
    "dd"
   ]
  },
  {
   "cell_type": "code",
   "execution_count": null,
   "metadata": {
    "collapsed": true
   },
   "outputs": [],
   "source": []
  }
 ],
 "metadata": {
  "kernelspec": {
   "display_name": "Python 2",
   "language": "python",
   "name": "python2"
  },
  "language_info": {
   "codemirror_mode": {
    "name": "ipython",
    "version": 2
   },
   "file_extension": ".py",
   "mimetype": "text/x-python",
   "name": "python",
   "nbconvert_exporter": "python",
   "pygments_lexer": "ipython2",
   "version": "2.7.6"
  }
 },
 "nbformat": 4,
 "nbformat_minor": 0
}

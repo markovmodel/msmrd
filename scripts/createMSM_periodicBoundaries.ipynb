{
 "cells": [
  {
   "cell_type": "code",
   "execution_count": 1,
   "metadata": {
    "collapsed": false,
    "deletable": true,
    "editable": true
   },
   "outputs": [],
   "source": [
    "import numpy as np\n",
    "#cimport numpy as np\n",
    "import h5py\n",
    "import matplotlib.pyplot as plt\n",
    "import MSMRD.trajectories.trajectoryTools as trajTools\n",
    "import pickle\n",
    "%matplotlib inline"
   ]
  },
  {
   "cell_type": "code",
   "execution_count": 2,
   "metadata": {
    "collapsed": true,
    "deletable": true,
    "editable": true
   },
   "outputs": [],
   "source": [
    "def discreteHistogram(data):\n",
    "    d = np.diff(np.unique(data)).min()\n",
    "    left_of_first_bin = data.min() - float(d)/2\n",
    "    right_of_last_bin = data.max() + float(d)/2\n",
    "    hist = plt.hist(data, np.arange(left_of_first_bin, right_of_last_bin + d, d))\n",
    "    centers = (hist[1][1:] + hist[1][:-1])/2\n",
    "    return hist, centers"
   ]
  },
  {
   "cell_type": "code",
   "execution_count": 104,
   "metadata": {
    "collapsed": false,
    "deletable": true,
    "editable": true
   },
   "outputs": [
    {
     "name": "stdout",
     "output_type": "stream",
     "text": [
      "CPU times: user 1min 49s, sys: 224 ms, total: 1min 49s\n",
      "Wall time: 1min 49s\n"
     ]
    }
   ],
   "source": [
    "%%time\n",
    "numfiles = 6\n",
    "# Extract trajectories from file using asym2Dtraj class\n",
    "fname = '../data/asym2D/box/2Dasym_B6_RT1E7_dt1E-4_SI10_SF2_'\n",
    "samplingInterval = 10\n",
    "dimension = 2\n",
    "minima = np.array([[0.0,0.0], [1.0,0.0] , [1.1, 1.0], [-0.1,0.9], [-1.3,0.8], [-1.0,-0.2], [-0.6,-1.0], [0.9,-0.8], [0.2,-1.5]])\n",
    "discretizer = trajTools.trajDiscretizationCython(minima, 2.5)\n",
    "trajs = []\n",
    "fullDTrajs = []\n",
    "truncTrajs = []\n",
    "dTruncTrajs = []\n",
    "i = 0\n",
    "for number in range(numfiles):\n",
    "    f = h5py.File(fname + str(number) + '.h5', 'r')\n",
    "    data = np.array(f['traj'], dtype=float)\n",
    "    f.close()\n",
    "    if not np.allclose(data[1:,0]-data[:-1,0], samplingInterval):\n",
    "        print 'timestep not constant'\n",
    "    traj = data[::1,1:dimension+1]\n",
    "    fullDTrajs.append(discretizer.getdTrajs([traj]))\n",
    "    lastTruncTrajs = discretizer.getTruncatedTraj(traj, prepend=True)\n",
    "    truncTrajs += lastTruncTrajs\n",
    "    dTruncTrajs += discretizer.getdTrajs(lastTruncTrajs)\n",
    "    i+=1\n",
    "    if i % 10 == 0:\n",
    "        print str(i/float(numfiles) * 100)+'% done'\n",
    "    # delete memory to avoid overhead\n",
    "    del data\n",
    "    del traj"
   ]
  },
  {
   "cell_type": "code",
   "execution_count": 105,
   "metadata": {
    "collapsed": false,
    "deletable": true,
    "editable": true
   },
   "outputs": [
    {
     "name": "stdout",
     "output_type": "stream",
     "text": [
      "CPU times: user 196 ms, sys: 0 ns, total: 196 ms\n",
      "Wall time: 199 ms\n"
     ]
    }
   ],
   "source": [
    "%%time\n",
    "entryTrajsStart, entryTrajsEnd, entryTimes = discretizer.getLookupTableEntry(dTruncTrajs, truncTrajs)"
   ]
  },
  {
   "cell_type": "code",
   "execution_count": 106,
   "metadata": {
    "collapsed": false,
    "deletable": true,
    "editable": true
   },
   "outputs": [
    {
     "name": "stdout",
     "output_type": "stream",
     "text": [
      "CPU times: user 140 ms, sys: 0 ns, total: 140 ms\n",
      "Wall time: 149 ms\n"
     ]
    }
   ],
   "source": [
    "%%time\n",
    "exitPositions, exitTimes = discretizer.getLookupTableExit(dTruncTrajs, truncTrajs)"
   ]
  },
  {
   "cell_type": "code",
   "execution_count": 107,
   "metadata": {
    "collapsed": false,
    "deletable": true,
    "editable": true
   },
   "outputs": [
    {
     "name": "stdout",
     "output_type": "stream",
     "text": [
      "CPU times: user 168 ms, sys: 4 ms, total: 172 ms\n",
      "Wall time: 180 ms\n"
     ]
    }
   ],
   "source": [
    "%%time\n",
    "transitionTrajs = discretizer.getTransitionTrajs(dTruncTrajs)"
   ]
  },
  {
   "cell_type": "code",
   "execution_count": 94,
   "metadata": {
    "collapsed": false,
    "deletable": true,
    "editable": true
   },
   "outputs": [
    {
     "name": "stdout",
     "output_type": "stream",
     "text": [
      "593\n",
      "1394\n",
      "3242\n",
      "2113\n",
      "2866\n",
      "2057\n",
      "1732\n",
      "1788\n",
      "2868\n"
     ]
    },
    {
     "data": {
      "image/png": "[encoded data removed]",
      "text/plain": [
       "<matplotlib.figure.Figure at 0x7f0526783090>"
      ]
     },
     "metadata": {},
     "output_type": "display_data"
    }
   ],
   "source": [
    "for i in range(9):\n",
    "    plt.scatter(np.array(exitPositions[i])[:,0], np.array(exitPositions[i])[:,1])\n",
    "for i in range(9):\n",
    "    print np.amax(exitTimes[i])"
   ]
  },
  {
   "cell_type": "code",
   "execution_count": 15,
   "metadata": {
    "collapsed": false
   },
   "outputs": [
    {
     "data": {
      "text/plain": [
       "[array([-1.65488195, -1.88684022]), array([ 0.3368195 ,  2.51937914])]"
      ]
     },
     "execution_count": 15,
     "metadata": {},
     "output_type": "execute_result"
    }
   ],
   "source": [
    "exitPositions[0]"
   ]
  },
  {
   "cell_type": "markdown",
   "metadata": {
    "collapsed": false,
    "deletable": true,
    "editable": true
   },
   "source": [
    "qqqaplt.scatter(entryTrajsStart[:,0], entryTrajsStart[:,1])\n",
    "plt.scatter(minima[:,0], minima[:,1])"
   ]
  },
  {
   "cell_type": "code",
   "execution_count": 66,
   "metadata": {
    "collapsed": false,
    "deletable": true,
    "editable": true
   },
   "outputs": [],
   "source": [
    "angles = np.arctan2(entryTrajsStart[:,1], entryTrajsStart[:,0]) + np.pi\n",
    "NangularPartitions = 60\n",
    "angularMap = []\n",
    "sortedEntryTrajsStart = []\n",
    "sortedEntryTrajsEnd = []\n",
    "sortedEntryTimes = []\n",
    "for i in range(NangularPartitions):\n",
    "    angularIncrement = 2*np.pi/NangularPartitions\n",
    "    idcs = np.where(np.logical_and(angles>i*angularIncrement, angles<= (i+1)*angularIncrement))[0]\n",
    "    sortedEntryTrajsStart.append(entryTrajsStart[idcs])\n",
    "    sortedEntryTimes.append(entryTimes[idcs])\n",
    "    sortedEnds = []\n",
    "    for j in idcs:\n",
    "        sortedEnds.append(entryTrajsEnd[j])\n",
    "    sortedEntryTrajsEnd.append(sortedEnds)"
   ]
  },
  {
   "cell_type": "code",
   "execution_count": 67,
   "metadata": {
    "collapsed": false,
    "deletable": true,
    "editable": true
   },
   "outputs": [
    {
     "name": "stdout",
     "output_type": "stream",
     "text": [
      "[ 0.00264901  0.04594595  0.24009901  0.0695825   0.23244552  0.05154639\n",
      "  0.07917889  0.067659    0.16984127]\n"
     ]
    }
   ],
   "source": [
    "exitProbs = np.zeros(9)\n",
    "for i in range(9):\n",
    "    outgoingTrajs = 0\n",
    "    for j in range(10):\n",
    "        outgoingTrajs += len(transitionTrajs[i][j])   \n",
    "    exitProbs[i] = len(transitionTrajs[i][9])/float(outgoingTrajs)\n",
    "print exitProbs"
   ]
  },
  {
   "cell_type": "code",
   "execution_count": 48,
   "metadata": {
    "collapsed": false
   },
   "outputs": [],
   "source": [
    "exitProbs[0] = 0."
   ]
  },
  {
   "cell_type": "code",
   "execution_count": 49,
   "metadata": {
    "collapsed": false
   },
   "outputs": [
    {
     "name": "stdout",
     "output_type": "stream",
     "text": [
      "[ 0.          0.0498008   0.24041812  0.06395349  0.23928571  0.05777778\n",
      "  0.07142857  0.06365503  0.17486339]\n"
     ]
    }
   ],
   "source": [
    "print exitProbs"
   ]
  },
  {
   "cell_type": "code",
   "execution_count": 50,
   "metadata": {
    "collapsed": false,
    "deletable": true,
    "editable": true
   },
   "outputs": [],
   "source": [
    "#resolve problem that fullDTrajs is a list of lists\n",
    "trajectories = []\n",
    "for traj in fullDTrajs:\n",
    "    trajectories.append(traj[0])"
   ]
  },
  {
   "cell_type": "code",
   "execution_count": 51,
   "metadata": {
    "collapsed": false,
    "deletable": true,
    "editable": true
   },
   "outputs": [],
   "source": [
    "#put all exit trajs into one list, from the list sorted by state\n",
    "exitTrajs = []\n",
    "for i in range(9):\n",
    "    exitTrajs += (transitionTrajs[i][9])"
   ]
  },
  {
   "cell_type": "code",
   "execution_count": 68,
   "metadata": {
    "collapsed": false,
    "deletable": true,
    "editable": true
   },
   "outputs": [],
   "source": [
    "import pyemma\n",
    "import pyemma.plots as mplt\n",
    "import pyemma.msm\n",
    "import msmtools.estimation as est\n",
    "#its = pyemma.msm.its(trajectories,  lags = 500, reversible=True)"
   ]
  },
  {
   "cell_type": "code",
   "execution_count": 80,
   "metadata": {
    "collapsed": false,
    "deletable": true,
    "editable": true
   },
   "outputs": [],
   "source": [
    "def implied_timescales(lag):\n",
    "    fullCount = est.count_matrix(trajectories, lag)\n",
    "    exitCounts = est.count_matrix(exitTrajs, lag)\n",
    "    finalCountMatrix = 1. * fullCount\n",
    "    for i in range(9):\n",
    "        finalCountMatrix[i,i] -= exitCounts[i,i]\n",
    "    tmatrixFull = est.transition_matrix(fullCount)\n",
    "    tmatrix = est.transition_matrix(finalCountMatrix).todense()\n",
    "    treduced = np.copy(tmatrix[:9,:9])\n",
    "    for i in range(9):\n",
    "        treduced[i,:] /= np.sum(treduced[i,:])\n",
    "    MSM = pyemma.msm.markov_model(treduced)\n",
    "    return MSM.timescales()"
   ]
  },
  {
   "cell_type": "code",
   "execution_count": 82,
   "metadata": {
    "collapsed": false,
    "deletable": true,
    "editable": true
   },
   "outputs": [
    {
     "data": {
      "image/png": "[encoded data removed]",
      "text/plain": [
       "<matplotlib.figure.Figure at 0x7fedc9dbc0d0>"
      ]
     },
     "metadata": {},
     "output_type": "display_data"
    }
   ],
   "source": [
    "for lag in range(1, 10):\n",
    "    timescales = implied_timescales(lag)\n",
    "    plt.plot([lag]*len(timescales), lag*timescales, 'x')"
   ]
  },
  {
   "cell_type": "code",
   "execution_count": 73,
   "metadata": {
    "collapsed": false,
    "deletable": true,
    "editable": true
   },
   "outputs": [
    {
     "data": {
      "text/plain": [
       "array([ 11.42341551,  10.17707013,   8.88320009,   6.53354375,\n",
       "         4.99762789,   4.67724187,   4.24471682,   3.94548728,   3.59413123])"
      ]
     },
     "execution_count": 73,
     "metadata": {},
     "output_type": "execute_result"
    }
   ],
   "source": [
    "MSM()"
   ]
  },
  {
   "cell_type": "code",
   "execution_count": 95,
   "metadata": {
    "collapsed": false,
    "deletable": true,
    "editable": true
   },
   "outputs": [],
   "source": [
    "fullCount = est.count_matrix(trajectories, 50)"
   ]
  },
  {
   "cell_type": "code",
   "execution_count": 96,
   "metadata": {
    "collapsed": false,
    "deletable": true,
    "editable": true
   },
   "outputs": [],
   "source": [
    "exitCounts = est.count_matrix(exitTrajs, 50)"
   ]
  },
  {
   "cell_type": "code",
   "execution_count": 97,
   "metadata": {
    "collapsed": false,
    "deletable": true,
    "editable": true
   },
   "outputs": [
    {
     "name": "stdout",
     "output_type": "stream",
     "text": [
      "0.00598912252253\n",
      "0.0925332232479\n",
      "0.266913532439\n",
      "0.109432286796\n",
      "0.223187687697\n",
      "0.0804390611689\n",
      "0.0978062552422\n",
      "0.0735241517564\n",
      "0.171015719188\n"
     ]
    }
   ],
   "source": [
    "for i in range(9):\n",
    "    print exitCounts[i,i]/fullCount[i,i]"
   ]
  },
  {
   "cell_type": "code",
   "execution_count": 98,
   "metadata": {
    "collapsed": false,
    "deletable": true,
    "editable": true
   },
   "outputs": [],
   "source": [
    "finalCountMatrix = 1. * fullCount\n",
    "for i in range(9):\n",
    "    finalCountMatrix[i,i] -= exitCounts[i,i]"
   ]
  },
  {
   "cell_type": "code",
   "execution_count": 99,
   "metadata": {
    "collapsed": false,
    "deletable": true,
    "editable": true
   },
   "outputs": [
    {
     "name": "stdout",
     "output_type": "stream",
     "text": [
      "0.873591137232\n",
      "0.816340075853\n",
      "0.893456565557\n",
      "0.892326565828\n",
      "0.9232233138\n",
      "0.898567642303\n",
      "0.8418742385\n",
      "0.832922032276\n",
      "0.903938769577\n"
     ]
    }
   ],
   "source": [
    "tmatrix = est.transition_matrix(finalCountMatrix).todense()\n",
    "treduced = np.copy(tmatrix[:9,:9])\n",
    "for i in range(9):\n",
    "    treduced[i,:] /= np.sum(treduced[i,:])\n",
    "for i in range(9):\n",
    "    print (treduced[i,i])"
   ]
  },
  {
   "cell_type": "code",
   "execution_count": 100,
   "metadata": {
    "collapsed": false,
    "deletable": true,
    "editable": true
   },
   "outputs": [
    {
     "name": "stdout",
     "output_type": "stream",
     "text": [
      "0.874253015103\n",
      "0.830453335278\n",
      "0.919608279546\n",
      "0.902966171191\n",
      "0.939319120919\n",
      "0.905959477681\n",
      "0.8550989323\n",
      "0.843281121765\n",
      "0.919036686252\n"
     ]
    }
   ],
   "source": [
    "tmatrixFull = est.transition_matrix(fullCount).todense()\n",
    "treducedFull = np.copy(tmatrixFull[:9,:9])\n",
    "for i in range(9):\n",
    "    treducedFull[i,:] /= np.sum(treducedFull[i,:])\n",
    "for i in range(9):\n",
    "    print (treducedFull[i,i])"
   ]
  },
  {
   "cell_type": "code",
   "execution_count": 37,
   "metadata": {
    "collapsed": false,
    "deletable": true,
    "editable": true
   },
   "outputs": [
    {
     "data": {
      "text/plain": [
       "<matplotlib.colorbar.Colorbar at 0x7f0527039e10>"
      ]
     },
     "execution_count": 37,
     "metadata": {},
     "output_type": "execute_result"
    },
    {
     "data": {
      "image/png": "[encoded data removed]",
      "text/plain": [
       "<matplotlib.figure.Figure at 0x7f0527039d50>"
      ]
     },
     "metadata": {},
     "output_type": "display_data"
    }
   ],
   "source": [
    "plt.matshow(treducedFull - treduced)\n",
    "plt.colorbar()"
   ]
  },
  {
   "cell_type": "code",
   "execution_count": 15,
   "metadata": {
    "collapsed": false,
    "deletable": true,
    "editable": true
   },
   "outputs": [
    {
     "data": {
      "text/plain": [
       "(array([ -200.,     0.,   200.,   400.,   600.,   800.,  1000.,  1200.,\n",
       "         1400.]), <a list of 9 Text yticklabel objects>)"
      ]
     },
     "execution_count": 15,
     "metadata": {},
     "output_type": "execute_result"
    },
    {
     "data": {
      "image/png": "[encoded data removed]",
      "text/plain": [
       "<matplotlib.figure.Figure at 0x7f396008ce50>"
      ]
     },
     "metadata": {},
     "output_type": "display_data"
    }
   ],
   "source": [
    "# Plot implied time scales\n",
    "mplt.plot_implied_timescales(its, ylog=False, units='steps', linewidth=2, dt=1)\n",
    "plt.ylabel(r\"timescale/steps\", fontsize = 24)\n",
    "plt.xlabel(r\"lag time/steps\", fontsize = 24)\n",
    "#plt.xlim(0,900)\n",
    "#plt.ylim(-100,1700)\n",
    "plt.xlim(0,500)\n",
    "#plt.ylim(100,10000)\n",
    "plt.xticks(fontsize=20)\n",
    "plt.yticks(fontsize=20)"
   ]
  },
  {
   "cell_type": "code",
   "execution_count": 59,
   "metadata": {
    "collapsed": false,
    "deletable": true,
    "editable": true
   },
   "outputs": [],
   "source": [
    "MSMlag = 5\n",
    "M = pyemma.msm.estimate_markov_model(trajectories, lag=MSMlag)"
   ]
  },
  {
   "cell_type": "code",
   "execution_count": 60,
   "metadata": {
    "collapsed": false,
    "deletable": true,
    "editable": true
   },
   "outputs": [
    {
     "name": "stdout",
     "output_type": "stream",
     "text": [
      "0.863827210685\n",
      "0.872027106752\n",
      "0.893216625959\n",
      "0.897019711975\n",
      "0.891811246805\n",
      "0.883133662158\n",
      "0.877794600941\n",
      "0.874683419402\n",
      "0.874752038021\n"
     ]
    }
   ],
   "source": [
    "for i in range(9):\n",
    "    print np.sum(M.transition_matrix[i,i])"
   ]
  },
  {
   "cell_type": "code",
   "execution_count": 32,
   "metadata": {
    "collapsed": false,
    "deletable": true,
    "editable": true
   },
   "outputs": [
    {
     "name": "stdout",
     "output_type": "stream",
     "text": [
      "[ 0.0083739   0.09462091  0.36266294  0.1334709   0.39065798  0.12092372\n",
      "  0.15430996  0.15595945  0.30740886]\n"
     ]
    }
   ],
   "source": [
    "print exitProbs"
   ]
  },
  {
   "cell_type": "code",
   "execution_count": 61,
   "metadata": {
    "collapsed": false,
    "deletable": true,
    "editable": true
   },
   "outputs": [
    {
     "name": "stdout",
     "output_type": "stream",
     "text": [
      "0.869488711922\n",
      "0.895468792834\n",
      "0.943177051203\n",
      "0.920511397019\n",
      "0.944797075291\n",
      "0.908065748468\n",
      "0.908460330621\n",
      "0.906657155534\n",
      "0.924231556116\n"
     ]
    }
   ],
   "source": [
    "# truncate transition matrix such that only transitions withing the inner states are allowed\n",
    "Tmatrix= np.copy(M.transition_matrix[:9,:9])\n",
    "for i in range(9):\n",
    "    Tmatrix[i,:] /= np.sum(Tmatrix[i,:])\n",
    "for i in range(9):\n",
    "    print Tmatrix[i,i]"
   ]
  },
  {
   "cell_type": "code",
   "execution_count": 101,
   "metadata": {
    "collapsed": false,
    "deletable": true,
    "editable": true
   },
   "outputs": [],
   "source": [
    "#Prepare data to be extracted to file\n",
    "#For this we need the position of the cluster centers as well as the information about the angles of the exit states\n",
    "class truncTrajsModel(object):    \n",
    "    def __init__(self, entryTrajsStart, entryTrajsEnd, entryTimes, exitTrajs, exitTimes, exitProbs, MSMtime, tmatrix, NangularBins):\n",
    "        self.entryTrajsStart = entryTrajsStart\n",
    "        self.entryTrajsEnd = entryTrajsEnd\n",
    "        self.entryTimes = entryTimes\n",
    "        self.exitTrajs = exitTrajs\n",
    "        self.exitTimes = exitTimes\n",
    "        self.exitProbs = exitProbs\n",
    "        self.tmatrix = tmatrix\n",
    "        self.MSMtimestep = MSMtime\n",
    "        self.NangularBins = NangularBins"
   ]
  },
  {
   "cell_type": "code",
   "execution_count": 102,
   "metadata": {
    "collapsed": false,
    "deletable": true,
    "editable": true
   },
   "outputs": [],
   "source": [
    "model = truncTrajsModel(sortedEntryTrajsStart, sortedEntryTrajsEnd, sortedEntryTimes, exitPositions, exitTimes, exitProbs, 0.05, treduced, NangularPartitions)"
   ]
  },
  {
   "cell_type": "code",
   "execution_count": 103,
   "metadata": {
    "collapsed": false,
    "deletable": true,
    "editable": true
   },
   "outputs": [],
   "source": [
    "pickle.dump(model, open('../data/models/asym2D/periodicModel_lag50_60partitions_SF2_exitCompensation_5files.p', 'wa'))"
   ]
  },
  {
   "cell_type": "code",
   "execution_count": null,
   "metadata": {
    "collapsed": true,
    "deletable": true,
    "editable": true
   },
   "outputs": [],
   "source": []
  }
 ],
 "metadata": {
  "kernelspec": {
   "display_name": "Python 2",
   "language": "python",
   "name": "python2"
  },
  "language_info": {
   "codemirror_mode": {
    "name": "ipython",
    "version": 2
   },
   "file_extension": ".py",
   "mimetype": "text/x-python",
   "name": "python",
   "nbconvert_exporter": "python",
   "pygments_lexer": "ipython2",
   "version": "2.7.12"
  }
 },
 "nbformat": 4,
 "nbformat_minor": 0
}

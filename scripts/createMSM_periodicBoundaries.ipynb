{
 "cells": [
  {
   "cell_type": "code",
   "execution_count": 2,
   "metadata": {
    "collapsed": false,
    "deletable": true,
    "editable": true
   },
   "outputs": [],
   "source": [
    "import numpy as np\n",
    "#cimport numpy as np\n",
    "import h5py\n",
    "import matplotlib.pyplot as plt\n",
    "import MSMRD.trajectories.trajectoryTools as trajTools\n",
    "%matplotlib inline"
   ]
  },
  {
   "cell_type": "code",
   "execution_count": 1,
   "metadata": {
    "collapsed": true
   },
   "outputs": [],
   "source": [
    "def discreteHistogram(data):\n",
    "    d = np.diff(np.unique(data)).min()\n",
    "    left_of_first_bin = data.min() - float(d)/2\n",
    "    right_of_last_bin = data.max() + float(d)/2\n",
    "    hist = plt.hist(data, np.arange(left_of_first_bin, right_of_last_bin + d, d))\n",
    "    centers = (hist[1][1:] + hist[1][:-1])/2\n",
    "    return hist, centers"
   ]
  },
  {
   "cell_type": "code",
   "execution_count": 3,
   "metadata": {
    "collapsed": false,
    "deletable": true,
    "editable": true
   },
   "outputs": [
    {
     "name": "stdout",
     "output_type": "stream",
     "text": [
      "19.2307692308% done\n",
      "38.4615384615% done\n",
      "57.6923076923% done\n",
      "76.9230769231% done\n",
      "96.1538461538% done\n",
      "CPU times: user 19min 18s, sys: 1.5 s, total: 19min 19s\n",
      "Wall time: 19min 40s\n"
     ]
    }
   ],
   "source": [
    "%%time\n",
    "numfiles = 52\n",
    "# Extract trajectories from file using asym2Dtraj class\n",
    "fname = '../data/asym2D/box/2DasymTrajsLong_B6_RT1E7_dt001_SI10'\n",
    "samplingInterval = 10\n",
    "dimension = 2\n",
    "minima = np.array([[0.0,0.0], [1.0,0.0] , [1.1, 1.0], [-0.1,0.9], [-1.3,0.8], [-1.0,-0.2], [-0.6,-1.0], [0.9,-0.8], [0.2,-1.5]])\n",
    "discretizer = trajTools.trajDiscretizationCython(minima, 2.5)\n",
    "trajs = []\n",
    "fullDTrajs = []\n",
    "truncTrajs = []\n",
    "dTruncTrajs = []\n",
    "i = 0\n",
    "for number in range(numfiles):\n",
    "    f = h5py.File(fname + str(number) + '.h5', 'r')\n",
    "    data = np.array(f['traj'], dtype=float)\n",
    "    f.close()\n",
    "    if not np.allclose(data[1:,0]-data[:-1,0], samplingInterval):\n",
    "        print 'timestep not constant'\n",
    "    traj = data[::1,1:dimension+1]\n",
    "    fullDTrajs.append(discretizer.getdTrajs([traj]))\n",
    "    lastTruncTrajs = discretizer.getTruncatedTraj(traj, prepend=True)\n",
    "    truncTrajs += lastTruncTrajs\n",
    "    dTruncTrajs += discretizer.getdTrajs(lastTruncTrajs)\n",
    "    i+=1\n",
    "    if i % 10 == 0:\n",
    "        print str(i/float(numfiles) * 100)+'% done'\n",
    "    # delete memory to avoid overhead\n",
    "    del data\n",
    "    del traj"
   ]
  },
  {
   "cell_type": "code",
   "execution_count": 4,
   "metadata": {
    "collapsed": false,
    "deletable": true,
    "editable": true
   },
   "outputs": [
    {
     "name": "stdout",
     "output_type": "stream",
     "text": [
      "CPU times: user 16.1 s, sys: 104 ms, total: 16.2 s\n",
      "Wall time: 16.2 s\n"
     ]
    }
   ],
   "source": [
    "%%time\n",
    "entryTrajsStart, entryTrajsEnd, entryTimes = discretizer.getLookupTableEntry(dTruncTrajs, truncTrajs)"
   ]
  },
  {
   "cell_type": "code",
   "execution_count": 5,
   "metadata": {
    "collapsed": false,
    "deletable": true,
    "editable": true
   },
   "outputs": [
    {
     "name": "stdout",
     "output_type": "stream",
     "text": [
      "CPU times: user 8.96 s, sys: 8 ms, total: 8.96 s\n",
      "Wall time: 9 s\n"
     ]
    }
   ],
   "source": [
    "%%time\n",
    "exitPositions, exitTimes = discretizer.getLookupTableExit(dTruncTrajs, truncTrajs)"
   ]
  },
  {
   "cell_type": "code",
   "execution_count": 160,
   "metadata": {
    "collapsed": false,
    "deletable": true,
    "editable": true
   },
   "outputs": [],
   "source": [
    "exitTimesBenchmark = np.array(pickle.load(open('exitTimes_state4.p', 'r')))\n",
    "exitTimesArray = np.array(exitTimes[4], dtype=float)*0.01"
   ]
  },
  {
   "cell_type": "code",
   "execution_count": 161,
   "metadata": {
    "collapsed": false,
    "deletable": true,
    "editable": true
   },
   "outputs": [
    {
     "data": {
      "image/png": "[encoded data removed]",
      "text/plain": [
       "<matplotlib.figure.Figure at 0x7f8abf4d2e50>"
      ]
     },
     "metadata": {},
     "output_type": "display_data"
    }
   ],
   "source": [
    "hist1 = plt.hist(exitTimesBenchmark, bins=100, alpha=0.5, normed=True)\n",
    "hist2 = plt.hist(exitTimesArray, bins=hist1[1], alpha=0.5, normed=True)"
   ]
  },
  {
   "cell_type": "code",
   "execution_count": 162,
   "metadata": {
    "collapsed": false,
    "deletable": true,
    "editable": true
   },
   "outputs": [
    {
     "name": "stdout",
     "output_type": "stream",
     "text": [
      "0.417155453822\n",
      "0.464015616775\n"
     ]
    }
   ],
   "source": [
    "print np.mean(exitTimesBenchmark)\n",
    "print np.mean(exitTimesArray)"
   ]
  },
  {
   "cell_type": "code",
   "execution_count": 73,
   "metadata": {
    "collapsed": false,
    "deletable": true,
    "editable": true
   },
   "outputs": [
    {
     "name": "stdout",
     "output_type": "stream",
     "text": [
      "CPU times: user 9.17 s, sys: 108 ms, total: 9.28 s\n",
      "Wall time: 9.28 s\n"
     ]
    }
   ],
   "source": [
    "%%time\n",
    "transitionTrajs = discretizer.getTransitionTrajs(dTruncTrajs)"
   ]
  },
  {
   "cell_type": "code",
   "execution_count": 93,
   "metadata": {
    "collapsed": false,
    "deletable": true,
    "editable": true
   },
   "outputs": [
    {
     "name": "stdout",
     "output_type": "stream",
     "text": [
      "247\n",
      "281\n",
      "335\n",
      "319\n",
      "326\n",
      "278\n",
      "304\n",
      "299\n",
      "358\n"
     ]
    },
    {
     "data": {
      "image/png": "[encoded data removed]",
      "text/plain": [
       "<matplotlib.figure.Figure at 0x7f8aac1d4290>"
      ]
     },
     "metadata": {},
     "output_type": "display_data"
    }
   ],
   "source": [
    "for i in range(9):\n",
    "    plt.scatter(np.array(exitPositions[i])[:,0], np.array(exitPositions[i])[:,1])\n",
    "for i in range(9):\n",
    "    print np.amax(exitTimes[i])"
   ]
  },
  {
   "cell_type": "code",
   "execution_count": 7,
   "metadata": {
    "collapsed": false,
    "deletable": true,
    "editable": true
   },
   "outputs": [
    {
     "data": {
      "text/plain": [
       "<matplotlib.collections.PathCollection at 0x7f0d1bb6f810>"
      ]
     },
     "execution_count": 7,
     "metadata": {},
     "output_type": "execute_result"
    },
    {
     "data": {
      "image/png": "[encoded data removed]",
      "text/plain": [
       "<matplotlib.figure.Figure at 0x7f0d4620ef90>"
      ]
     },
     "metadata": {},
     "output_type": "display_data"
    }
   ],
   "source": [
    "plt.scatter(entryTrajsStart[:,0], entryTrajsStart[:,1])\n",
    "plt.scatter(minima[:,0], minima[:,1])"
   ]
  },
  {
   "cell_type": "code",
   "execution_count": 74,
   "metadata": {
    "collapsed": false,
    "deletable": true,
    "editable": true
   },
   "outputs": [],
   "source": [
    "angles = np.arctan2(entryTrajsStart[:,1], entryTrajsStart[:,0]) + np.pi\n",
    "NangularPartitions = 60\n",
    "angularMap = []\n",
    "sortedEntryTrajsStart = []\n",
    "sortedEntryTrajsEnd = []\n",
    "sortedEntryTimes = []\n",
    "for i in range(NangularPartitions):\n",
    "    angularIncrement = 2*np.pi/NangularPartitions\n",
    "    idcs = np.where(np.logical_and(angles>i*angularIncrement, angles<= (i+1)*angularIncrement))[0]\n",
    "    sortedEntryTrajsStart.append(entryTrajsStart[idcs])\n",
    "    sortedEntryTimes.append(entryTimes[idcs])\n",
    "    sortedEnds = []\n",
    "    for j in idcs:\n",
    "        sortedEnds.append(entryTrajsEnd[j])\n",
    "    sortedEntryTrajsEnd.append(sortedEnds)"
   ]
  },
  {
   "cell_type": "code",
   "execution_count": 75,
   "metadata": {
    "collapsed": false,
    "deletable": true,
    "editable": true
   },
   "outputs": [
    {
     "name": "stdout",
     "output_type": "stream",
     "text": [
      "[ 0.04703026  0.20052795  0.49541873  0.25005325  0.51548383  0.23576148\n",
      "  0.27634675  0.28177217  0.42580063]\n"
     ]
    }
   ],
   "source": [
    "exitProbs = np.zeros(9)\n",
    "for i in range(9):\n",
    "    outgoingTrajs = 0\n",
    "    for j in range(10):\n",
    "        outgoingTrajs += len(transitionTrajs[i][j])   \n",
    "    exitProbs[i] = len(transitionTrajs[i][9])/float(outgoingTrajs)\n",
    "print exitProbs"
   ]
  },
  {
   "cell_type": "code",
   "execution_count": 14,
   "metadata": {
    "collapsed": false,
    "deletable": true,
    "editable": true
   },
   "outputs": [],
   "source": [
    "#resolve problem that fullDTrajs is a list of lists\n",
    "trajectories = []\n",
    "for traj in fullDTrajs:\n",
    "    trajectories.append(traj[0])"
   ]
  },
  {
   "cell_type": "code",
   "execution_count": 31,
   "metadata": {
    "collapsed": false
   },
   "outputs": [],
   "source": [
    "#put all exit trajs into one list, from the list sorted by state\n",
    "exitTrajs = []\n",
    "for i in range(9):\n",
    "    exitTrajs += (transitionTrajs[i][9])"
   ]
  },
  {
   "cell_type": "code",
   "execution_count": 10,
   "metadata": {
    "collapsed": false,
    "deletable": true,
    "editable": true
   },
   "outputs": [],
   "source": [
    "import pyemma\n",
    "import pyemma.plots as mplt\n",
    "import pyemma.msm\n",
    "import msmtools.estimation as est\n",
    "#its = pyemma.msm.its(trajectories,  lags = 50, reversible=True)"
   ]
  },
  {
   "cell_type": "code",
   "execution_count": 81,
   "metadata": {
    "collapsed": false
   },
   "outputs": [],
   "source": [
    "fullCount = est.count_matrix(trajectories, 10)"
   ]
  },
  {
   "cell_type": "code",
   "execution_count": 82,
   "metadata": {
    "collapsed": false
   },
   "outputs": [],
   "source": [
    "exitCounts = est.count_matrix(exitTrajs, 10)"
   ]
  },
  {
   "cell_type": "code",
   "execution_count": 83,
   "metadata": {
    "collapsed": false
   },
   "outputs": [
    {
     "name": "stdout",
     "output_type": "stream",
     "text": [
      "0.10353637714\n",
      "0.299283112514\n",
      "0.505377820029\n",
      "0.338086415195\n",
      "0.518382687774\n",
      "0.327049423283\n",
      "0.359264763374\n",
      "0.366071347232\n",
      "0.45164417244\n"
     ]
    }
   ],
   "source": [
    "for i in range(9):\n",
    "    print exitCounts[i,i]/fullCount[i,i]"
   ]
  },
  {
   "cell_type": "code",
   "execution_count": 84,
   "metadata": {
    "collapsed": false
   },
   "outputs": [],
   "source": [
    "finalCountMatrix = 1. * fullCount\n",
    "for i in range(9):\n",
    "    finalCountMatrix[i,i] -= exitCounts[i,i]"
   ]
  },
  {
   "cell_type": "code",
   "execution_count": 85,
   "metadata": {
    "collapsed": false
   },
   "outputs": [
    {
     "name": "stdout",
     "output_type": "stream",
     "text": [
      "0.723123970172\n",
      "0.730353687072\n",
      "0.786541968063\n",
      "0.777789290317\n",
      "0.785682092395\n",
      "0.750674970739\n",
      "0.741549937787\n",
      "0.7367738803\n",
      "0.748094009638\n"
     ]
    }
   ],
   "source": [
    "tmatrix = est.transition_matrix(finalCountMatrix).todense()\n",
    "treduced = np.copy(tmatrix[:9,:9])\n",
    "for i in range(9):\n",
    "    treduced[i,:] /= np.sum(treduced[i,:])\n",
    "for i in range(9):\n",
    "    print (treduced[i,i])"
   ]
  },
  {
   "cell_type": "code",
   "execution_count": 86,
   "metadata": {
    "collapsed": false
   },
   "outputs": [
    {
     "name": "stdout",
     "output_type": "stream",
     "text": [
      "0.744465366037\n",
      "0.794467697236\n",
      "0.881651889095\n",
      "0.840968224233\n",
      "0.883880005792\n",
      "0.817320606448\n",
      "0.81745199036\n",
      "0.815339632442\n",
      "0.8441325506\n"
     ]
    }
   ],
   "source": [
    "tmatrixFull = est.transition_matrix(fullCount).todense()\n",
    "treducedFull = np.copy(tmatrixFull[:9,:9])\n",
    "for i in range(9):\n",
    "    treducedFull[i,:] /= np.sum(treducedFull[i,:])\n",
    "for i in range(9):\n",
    "    print (treducedFull[i,i])"
   ]
  },
  {
   "cell_type": "code",
   "execution_count": 87,
   "metadata": {
    "collapsed": false
   },
   "outputs": [
    {
     "data": {
      "text/plain": [
       "<matplotlib.colorbar.Colorbar at 0x7f7d4397c7d0>"
      ]
     },
     "execution_count": 87,
     "metadata": {},
     "output_type": "execute_result"
    },
    {
     "data": {
      "image/png": "[encoded data removed]",
      "text/plain": [
       "<matplotlib.figure.Figure at 0x7f7d6fd9c210>"
      ]
     },
     "metadata": {},
     "output_type": "display_data"
    }
   ],
   "source": [
    "plt.matshow(treducedFull - treduced)\n",
    "plt.colorbar()"
   ]
  },
  {
   "cell_type": "code",
   "execution_count": 26,
   "metadata": {
    "collapsed": false,
    "deletable": true,
    "editable": true
   },
   "outputs": [
    {
     "data": {
      "text/plain": [
       "(array([ -20.,    0.,   20.,   40.,   60.,   80.,  100.,  120.]),\n",
       " <a list of 8 Text yticklabel objects>)"
      ]
     },
     "execution_count": 26,
     "metadata": {},
     "output_type": "execute_result"
    },
    {
     "data": {
      "image/png": "[encoded data removed]",
      "text/plain": [
       "<matplotlib.figure.Figure at 0x7f8aea95e850>"
      ]
     },
     "metadata": {},
     "output_type": "display_data"
    }
   ],
   "source": [
    "# Plot implied time scales\n",
    "mplt.plot_implied_timescales(its, ylog=False, units='steps', linewidth=2, dt=1)\n",
    "plt.ylabel(r\"timescale/steps\", fontsize = 24)\n",
    "plt.xlabel(r\"lag time/steps\", fontsize = 24)\n",
    "#plt.xlim(0,900)\n",
    "#plt.ylim(-100,1700)\n",
    "#plt.xlim(0,100)\n",
    "#plt.ylim(100,10000)\n",
    "plt.xticks(fontsize=20)\n",
    "plt.yticks(fontsize=20)"
   ]
  },
  {
   "cell_type": "code",
   "execution_count": 59,
   "metadata": {
    "collapsed": false,
    "deletable": true,
    "editable": true
   },
   "outputs": [],
   "source": [
    "MSMlag = 5\n",
    "M = pyemma.msm.estimate_markov_model(trajectories, lag=MSMlag)"
   ]
  },
  {
   "cell_type": "code",
   "execution_count": 60,
   "metadata": {
    "collapsed": false
   },
   "outputs": [
    {
     "name": "stdout",
     "output_type": "stream",
     "text": [
      "0.863827210685\n",
      "0.872027106752\n",
      "0.893216625959\n",
      "0.897019711975\n",
      "0.891811246805\n",
      "0.883133662158\n",
      "0.877794600941\n",
      "0.874683419402\n",
      "0.874752038021\n"
     ]
    }
   ],
   "source": [
    "for i in range(9):\n",
    "    print np.sum(M.transition_matrix[i,i])"
   ]
  },
  {
   "cell_type": "code",
   "execution_count": 219,
   "metadata": {
    "collapsed": false
   },
   "outputs": [
    {
     "name": "stdout",
     "output_type": "stream",
     "text": [
      "[ 0.04707718  0.20058453  0.4954896   0.25011928  0.51546322  0.23568394\n",
      "  0.27641693  0.28140222  0.42587279]\n"
     ]
    }
   ],
   "source": [
    "print exitProbs"
   ]
  },
  {
   "cell_type": "code",
   "execution_count": 61,
   "metadata": {
    "collapsed": false,
    "deletable": true,
    "editable": true
   },
   "outputs": [
    {
     "name": "stdout",
     "output_type": "stream",
     "text": [
      "0.869488711922\n",
      "0.895468792834\n",
      "0.943177051203\n",
      "0.920511397019\n",
      "0.944797075291\n",
      "0.908065748468\n",
      "0.908460330621\n",
      "0.906657155534\n",
      "0.924231556116\n"
     ]
    }
   ],
   "source": [
    "# truncate transition matrix such that only transitions withing the inner states are allowed\n",
    "Tmatrix= np.copy(M.transition_matrix[:9,:9])\n",
    "for i in range(9):\n",
    "    Tmatrix[i,:] /= np.sum(Tmatrix[i,:])\n",
    "for i in range(9):\n",
    "    print Tmatrix[i,i]"
   ]
  },
  {
   "cell_type": "code",
   "execution_count": 76,
   "metadata": {
    "collapsed": false,
    "deletable": true,
    "editable": true
   },
   "outputs": [],
   "source": [
    "#Prepare data to be extracted to file\n",
    "#For this we need the position of the cluster centers as well as the information about the angles of the exit states\n",
    "class truncTrajsModel(object):    \n",
    "    def __init__(self, entryTrajsStart, entryTrajsEnd, entryTimes, exitTrajs, exitTimes, exitProbs, MSMtime, tmatrix, NangularBins):\n",
    "        self.entryTrajsStart = entryTrajsStart\n",
    "        self.entryTrajsEnd = entryTrajsEnd\n",
    "        self.entryTimes = entryTimes\n",
    "        self.exitTrajs = exitTrajs\n",
    "        self.exitTimes = exitTimes\n",
    "        self.exitProbs = exitProbs\n",
    "        self.tmatrix = tmatrix\n",
    "        self.MSMtimestep = MSMtime\n",
    "        self.NangularBins = NangularBins"
   ]
  },
  {
   "cell_type": "code",
   "execution_count": 88,
   "metadata": {
    "collapsed": false,
    "deletable": true,
    "editable": true
   },
   "outputs": [],
   "source": [
    "model = truncTrajsModel(sortedEntryTrajsStart, sortedEntryTrajsEnd, sortedEntryTimes, exitPositions, exitTimes, exitProbs, 0.1, treduced, NangularPartitions)"
   ]
  }
 ],
 "metadata": {
  "kernelspec": {
   "display_name": "Python 2",
   "language": "python",
   "name": "python2"
  },
  "language_info": {
   "codemirror_mode": {
    "name": "ipython",
    "version": 2
   },
   "file_extension": ".py",
   "mimetype": "text/x-python",
   "name": "python",
   "nbconvert_exporter": "python",
   "pygments_lexer": "ipython2",
   "version": "2.7.12"
  }
 },
 "nbformat": 4,
 "nbformat_minor": 0
}

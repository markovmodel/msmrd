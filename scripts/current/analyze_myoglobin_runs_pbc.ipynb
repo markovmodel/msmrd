{
 "cells": [
  {
   "cell_type": "code",
   "execution_count": 3,
   "metadata": {
    "collapsed": true,
    "deletable": true,
    "editable": true
   },
   "outputs": [],
   "source": [
    "import numpy as np\n",
    "import pickle\n",
    "import matplotlib.pyplot as plt\n",
    "import scipy.stats as st\n",
    "%matplotlib inline\n",
    "plt.style.use('paperPlot')"
   ]
  },
  {
   "cell_type": "code",
   "execution_count": 4,
   "metadata": {
    "collapsed": true,
    "deletable": true,
    "editable": true
   },
   "outputs": [],
   "source": [
    "def bootstrapping_mean(sample, nsamples):\n",
    "    n = len(sample)\n",
    "    samples = []\n",
    "    for i in range(nsamples):\n",
    "        samples.append(np.random.choice(sample, n, replace=True))\n",
    "    sampleMeans = np.mean(samples, axis=0)\n",
    "    return np.std(sampleMeans)"
   ]
  },
  {
   "cell_type": "code",
   "execution_count": 5,
   "metadata": {
    "collapsed": false,
    "deletable": true,
    "editable": true
   },
   "outputs": [],
   "source": [
    "minBathRad1 = 31.0175245\n",
    "maxBathRad1 = 50.\n",
    "minBathRad2 = 50.\n",
    "maxBathRad2 = 75.\n",
    "minBathRad3 = 75.\n",
    "maxBathRad3 = 110.\n",
    "minBathRad4 = 110.\n",
    "maxBathRad4 = 158.266943\n",
    "radii1 = np.linspace(minBathRad1, maxBathRad1, 5, endpoint=True)\n",
    "radii2 = np.linspace(minBathRad2, maxBathRad2, 5, endpoint=True)\n",
    "radii3 = np.linspace(minBathRad3, maxBathRad3, 5, endpoint=True)\n",
    "radii4 = np.linspace(minBathRad4, maxBathRad4, 5, endpoint=True)"
   ]
  },
  {
   "cell_type": "code",
   "execution_count": 6,
   "metadata": {
    "collapsed": false,
    "deletable": true,
    "editable": true
   },
   "outputs": [],
   "source": [
    "path = '/group/ag_cmb/scratch/dibakma/MSMRD/myoglobin/rates/'\n",
    "mfpts = []\n",
    "fpts = []\n",
    "radii = np.append(radii1, radii2[1:])\n",
    "errs = []\n",
    "for rad in radii:\n",
    "    fpt = pickle.load(open(path+\"fpts_on_parallel_200runs_uniformStart_R%0.2f_eps0.33_lcs_lag150_240partitions_rad25_fixed.p\" % rad, 'r'))\n",
    "    fpts.append(np.array(fpt))\n",
    "    mfpts.append(np.mean(fpt))\n",
    "    errs.append(np.std(fpt)/np.sqrt(200))\n",
    "for rad in radii3[1:]:\n",
    "    fpt = pickle.load(open(path+\"fpts_on_parallel_100runs_uniformStart_R%0.2f_eps0.33_lcs_lag150_240partitions_rad25_fixed1.p\" % rad, 'r'))\n",
    "    fpt += pickle.load(open(path+\"fpts_on_parallel_100runs_uniformStart_R%0.2f_eps0.33_lcs_lag150_240partitions_rad25_fixed2.p\" % rad, 'r'))\n",
    "    fpts.append(np.array(fpt))\n",
    "    mfpts.append(np.mean(fpt))\n",
    "    errs.append(np.std(fpt)/np.sqrt(200))\n",
    "for rad in radii4[1:]:\n",
    "    fpt = pickle.load(open(path+\"fpts_on_parallel_50runs_uniformStart_R%0.2f_eps0.33_lcs_lag150_240partitions_rad25_fixed1.p\" % rad, 'r'))\n",
    "    fpt += pickle.load(open(path+\"fpts_on_parallel_50runs_uniformStart_R%0.2f_eps0.33_lcs_lag150_240partitions_rad25_fixed2.p\" % rad, 'r'))\n",
    "    fpt += pickle.load(open(path+\"fpts_on_parallel_50runs_uniformStart_R%0.2f_eps0.33_lcs_lag150_240partitions_rad25_fixed3.p\" % rad, 'r'))\n",
    "    fpt += pickle.load(open(path+\"fpts_on_parallel_25runs_uniformStart_R%0.2f_eps0.33_lcs_lag150_240partitions_rad25_fixed4.p\" % rad, 'r'))\n",
    "    fpt += pickle.load(open(path+\"fpts_on_parallel_25runs_uniformStart_R%0.2f_eps0.33_lcs_lag150_240partitions_rad25_fixed5.p\" % rad, 'r'))\n",
    "    fpts.append(np.array(fpt))\n",
    "    mfpts.append(np.mean(fpt))\n",
    "    errs.append(np.std(fpt)/np.sqrt(200))\n",
    "radii = np.append(radii, radii3[1:])\n",
    "radii = np.append(radii, radii4[1:])"
   ]
  },
  {
   "cell_type": "code",
   "execution_count": 7,
   "metadata": {
    "collapsed": false,
    "deletable": true,
    "editable": true
   },
   "outputs": [
    {
     "name": "stdout",
     "output_type": "stream",
     "text": [
      "[  31.0175245    35.76314337   40.50876225   45.25438113   50.           56.25\n",
      "   62.5          68.75         75.           83.75         92.5         101.25\n",
      "  110.          122.06673575  134.1334715   146.20020725  158.266943  ]\n"
     ]
    }
   ],
   "source": [
    "print radii"
   ]
  },
  {
   "cell_type": "code",
   "execution_count": 8,
   "metadata": {
    "collapsed": false,
    "deletable": true,
    "editable": true
   },
   "outputs": [],
   "source": [
    "mfpts = np.array(mfpts)\n",
    "errors =  np.array(errs)\n",
    "kon = 1./mfpts\n",
    "vols = np.pi*np.power(radii,3)*4./3.\n",
    "Na = 6.022\n",
    "c = 1./(Na*vols) * 1e10"
   ]
  },
  {
   "cell_type": "code",
   "execution_count": 9,
   "metadata": {
    "collapsed": false,
    "deletable": true,
    "editable": true
   },
   "outputs": [
    {
     "name": "stdout",
     "output_type": "stream",
     "text": [
      "[  7.69958967e-11   6.49705843e-11   5.62563674e-11   5.75574094e-11\n",
      "   5.60025516e-11   5.46583345e-11   5.18091983e-11   5.18792361e-11\n",
      "   5.84744542e-11   4.76786485e-11   5.41545149e-11   5.51480393e-11\n",
      "   5.20454033e-11   5.52317165e-11   5.47644190e-11   5.44842891e-11\n",
      "   5.49638670e-11]\n"
     ]
    }
   ],
   "source": [
    "print kon/c #approximately the rate"
   ]
  },
  {
   "cell_type": "code",
   "execution_count": 10,
   "metadata": {
    "collapsed": false,
    "deletable": true,
    "editable": true
   },
   "outputs": [],
   "source": [
    "kon_err = errors/(mfpts*mfpts)"
   ]
  },
  {
   "cell_type": "code",
   "execution_count": 11,
   "metadata": {
    "collapsed": false,
    "deletable": true,
    "editable": true
   },
   "outputs": [
    {
     "data": {
      "image/png": "[encoded data removed]",
      "text/plain": [
       "<matplotlib.figure.Figure at 0x7fea3c4cf290>"
      ]
     },
     "metadata": {},
     "output_type": "display_data"
    }
   ],
   "source": [
    "plt.errorbar(radii, mfpts, yerr=errors)\n",
    "plt.yscale('log')"
   ]
  },
  {
   "cell_type": "code",
   "execution_count": 12,
   "metadata": {
    "collapsed": false,
    "deletable": true,
    "editable": true
   },
   "outputs": [
    {
     "data": {
      "image/png": "[encoded data removed]",
      "text/plain": [
       "<matplotlib.figure.Figure at 0x7fea38f9af90>"
      ]
     },
     "metadata": {},
     "output_type": "display_data"
    }
   ],
   "source": [
    "plt.errorbar(radii, kon, yerr=kon_err)\n",
    "plt.yscale('log')"
   ]
  },
  {
   "cell_type": "code",
   "execution_count": 26,
   "metadata": {
    "collapsed": false,
    "deletable": true,
    "editable": true
   },
   "outputs": [
    {
     "data": {
      "image/png": "[encoded data removed]",
      "text/plain": [
       "<matplotlib.figure.Figure at 0x7fea389e9110>"
      ]
     },
     "metadata": {},
     "output_type": "display_data"
    }
   ],
   "source": [
    "# convert from 1/ps to 1/s\n",
    "plt.errorbar(c, kon*1e12, yerr=kon_err*1e12)\n",
    "plt.ylabel('$k^{*}_{on}~[1/s]$')\n",
    "plt.xlabel('$c~[\\mu M]$')\n",
    "plt.yscale('log')\n",
    "plt.xscale('log')\n",
    "#plt.savefig('../Paper/figs/myoglobin/onRateMyoglobin.pdf', bbox_inches='tight')"
   ]
  },
  {
   "cell_type": "markdown",
   "metadata": {
    "deletable": true,
    "editable": true
   },
   "source": [
    "# Check rate from finite differences"
   ]
  },
  {
   "cell_type": "code",
   "execution_count": 16,
   "metadata": {
    "collapsed": true,
    "deletable": true,
    "editable": true
   },
   "outputs": [],
   "source": [
    "rate = np.diff(kon)/np.diff(c)*1e12 #1/(mu M s)\n",
    "rate_err = (kon_err[1:] + kon_err[:-1])/np.diff(c)*1e12"
   ]
  },
  {
   "cell_type": "code",
   "execution_count": 17,
   "metadata": {
    "collapsed": false,
    "deletable": true,
    "editable": true
   },
   "outputs": [
    {
     "name": "stdout",
     "output_type": "stream",
     "text": [
      "[-21.66899885 -22.40511014 -24.4101177  -28.64859843 -21.55648536\n",
      " -21.82292807 -24.54720283 -32.62828442 -25.51273323 -23.69455472\n",
      " -27.92038534 -29.87045622 -25.11839975 -27.63451025 -29.08184464\n",
      " -33.52486257] [ 99.56590379  84.19672134  52.9561716   62.01591536  59.17416078\n",
      "  62.322616    51.59760365  29.76781224  85.98520789  29.03340288\n",
      "  50.96477066  66.13822128  43.35182752  56.66144803  55.71436994\n",
      "  52.69885468]\n"
     ]
    }
   ],
   "source": [
    "print rate_err, rate"
   ]
  },
  {
   "cell_type": "code",
   "execution_count": 18,
   "metadata": {
    "collapsed": false,
    "deletable": true,
    "editable": true
   },
   "outputs": [
    {
     "data": {
      "text/plain": [
       "<matplotlib.text.Text at 0x7fea38a4be90>"
      ]
     },
     "execution_count": 18,
     "metadata": {},
     "output_type": "execute_result"
    },
    {
     "data": {
      "image/png": "[encoded data removed]",
      "text/plain": [
       "<matplotlib.figure.Figure at 0x7fea38a81b50>"
      ]
     },
     "metadata": {},
     "output_type": "display_data"
    }
   ],
   "source": [
    "plt.errorbar((c[1:]+c[:-1])/2., rate, yerr=rate_err, fmt='x')\n",
    "plt.xscale('log')\n",
    "plt.xlabel('$c [\\mu M]$')\n",
    "plt.ylabel('$k_{on} [1/ \\mu M s]$')\n",
    "#plt.savefig('../Paper/figs/myoglobin/reactionRate.pdf', bbox_inches='tight')"
   ]
  },
  {
   "cell_type": "code",
   "execution_count": 19,
   "metadata": {
    "collapsed": false,
    "deletable": true,
    "editable": true
   },
   "outputs": [
    {
     "name": "stdout",
     "output_type": "stream",
     "text": [
      "58.8840629768 18.1810575695\n"
     ]
    }
   ],
   "source": [
    "print np.mean(rate), np.std(rate)\n",
    "#This is also in correspondence to what we find using the linear fit method"
   ]
  },
  {
   "cell_type": "markdown",
   "metadata": {
    "deletable": true,
    "editable": true
   },
   "source": [
    "# Use linear fit instead of finite differences (final version)"
   ]
  },
  {
   "cell_type": "code",
   "execution_count": 20,
   "metadata": {
    "collapsed": true,
    "deletable": true,
    "editable": true
   },
   "outputs": [],
   "source": [
    "from scipy import optimize"
   ]
  },
  {
   "cell_type": "code",
   "execution_count": 21,
   "metadata": {
    "collapsed": false,
    "deletable": true,
    "editable": true
   },
   "outputs": [],
   "source": [
    "fitfunc = lambda p, x: p[0] + p[1]*x\n",
    "# Scale point with 1/err to obtain an error estimate\n",
    "errfunc = lambda p, x, y, err: (y-fitfunc(p, x))/err\n",
    "out = optimize.leastsq(errfunc, [-2000, 200], args=(c, kon*1e12, 2*kon_err*1e12), full_output=1)"
   ]
  },
  {
   "cell_type": "code",
   "execution_count": 22,
   "metadata": {
    "collapsed": false,
    "deletable": true,
    "editable": true
   },
   "outputs": [
    {
     "name": "stdout",
     "output_type": "stream",
     "text": [
      "[-354.34702871   56.24332012]\n",
      "[[  4.40779107e+05  -1.08350408e+03]\n",
      " [ -1.08350408e+03   6.16886537e+00]]\n"
     ]
    }
   ],
   "source": [
    "covar = out[1]\n",
    "params = out[0]\n",
    "print out[0]\n",
    "print covar"
   ]
  },
  {
   "cell_type": "code",
   "execution_count": 25,
   "metadata": {
    "collapsed": false,
    "deletable": true,
    "editable": true
   },
   "outputs": [
    {
     "data": {
      "text/plain": [
       "<matplotlib.text.Text at 0x7fea38978790>"
      ]
     },
     "execution_count": 25,
     "metadata": {},
     "output_type": "execute_result"
    },
    {
     "data": {
      "image/png": "[encoded data removed]",
      "text/plain": [
       "<matplotlib.figure.Figure at 0x7fea38b91250>"
      ]
     },
     "metadata": {},
     "output_type": "display_data"
    }
   ],
   "source": [
    "#plt.plot(c, (slope[0]*c+slope[1]), label='linear fit')\n",
    "#plt.plot(c, (out[0][1]*c+out[0][0]), label='linear error fit')\n",
    "plt.plot(c, params[1]*c + params[0], label='linear fit')\n",
    "plt.fill_between(c, (params[1]+2*np.sqrt(covar[1][1]))*c + (params[0]-2*np.sqrt(covar[0][0])), (params[1]-2*np.sqrt(covar[1][1]))*c + (params[0]+2*np.sqrt(covar[0][0])), alpha=0.4)\n",
    "plt.errorbar(c, kon*1e12, yerr=2*kon_err*1e12, label='datapoints', fmt='.', markersize=1)\n",
    "plt.ylabel('$k^{*}_{on}~[1/s]$')\n",
    "plt.xlabel('$c~[\\mu M]$')\n",
    "plt.yscale('log')\n",
    "plt.xscale('log')\n",
    "plt.legend(loc=4)\n",
    "plt.text(200, 4*1e5, '$k_{on} = %0.0f \\pm %0.0f \\\\frac{1}{\\mu M s}$'%(params[1], 2*np.sqrt(covar[1][1])), fontsize=20)\n",
    "#plt.savefig('../Paper/figs/myoglobin/reactionRateFit_pbc.pdf', bbox_inches='tight')"
   ]
  },
  {
   "cell_type": "markdown",
   "metadata": {
    "deletable": true,
    "editable": true
   },
   "source": [
    "# off rate"
   ]
  },
  {
   "cell_type": "code",
   "execution_count": 34,
   "metadata": {
    "collapsed": false,
    "deletable": true,
    "editable": true
   },
   "outputs": [],
   "source": [
    "fpt_off = pickle.load(open(\"/group/ag_cmb/scratch/dibakma/MSMRD/myoglobin/rates/fpts_off10000_runs_lag150_eps0.33_240partitions_lcs_rad25_fixed.p\", 'r'))"
   ]
  },
  {
   "cell_type": "code",
   "execution_count": 39,
   "metadata": {
    "collapsed": false,
    "deletable": true,
    "editable": true
   },
   "outputs": [
    {
     "name": "stdout",
     "output_type": "stream",
     "text": [
      "52707.82125\n",
      "18.9725163417\n"
     ]
    }
   ],
   "source": [
    "print np.mean(fpt_off)\n",
    "print 1/np.mean(fpt_off)*1e6"
   ]
  },
  {
   "cell_type": "code",
   "execution_count": 50,
   "metadata": {
    "collapsed": false,
    "deletable": true,
    "editable": true
   },
   "outputs": [
    {
     "name": "stdout",
     "output_type": "stream",
     "text": [
      "0.157883894952\n"
     ]
    }
   ],
   "source": [
    "# use std error as confidence estimate\n",
    "# rounds up to 0.2\n",
    "print np.std(fpt_off)/(100*np.mean(fpt_off)**2)*1e6"
   ]
  },
  {
   "cell_type": "code",
   "execution_count": null,
   "metadata": {
    "collapsed": true,
    "deletable": true,
    "editable": true
   },
   "outputs": [],
   "source": []
  }
 ],
 "metadata": {
  "kernelspec": {
   "display_name": "Python 2",
   "language": "python",
   "name": "python2"
  },
  "language_info": {
   "codemirror_mode": {
    "name": "ipython",
    "version": 2
   },
   "file_extension": ".py",
   "mimetype": "text/x-python",
   "name": "python",
   "nbconvert_exporter": "python",
   "pygments_lexer": "ipython2",
   "version": "2.7.12"
  }
 },
 "nbformat": 4,
 "nbformat_minor": 1
}

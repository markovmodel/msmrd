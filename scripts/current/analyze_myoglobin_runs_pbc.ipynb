{
 "cells": [
  {
   "cell_type": "code",
   "execution_count": 1,
   "metadata": {
    "collapsed": true
   },
   "outputs": [],
   "source": [
    "import numpy as np\n",
    "import pickle\n",
    "import matplotlib.pyplot as plt\n",
    "import scipy.stats as st\n",
    "%matplotlib inline\n",
    "plt.style.use('paperPlot')"
   ]
  },
  {
   "cell_type": "code",
   "execution_count": 2,
   "metadata": {
    "collapsed": true
   },
   "outputs": [],
   "source": [
    "points = np.linspace(50, 158, num=5, endpoint=True)"
   ]
  },
  {
   "cell_type": "code",
   "execution_count": 8,
   "metadata": {},
   "outputs": [
    {
     "name": "stdout",
     "output_type": "stream",
     "text": [
      "[  50.   77.  104.  131.  158.]\n"
     ]
    }
   ],
   "source": [
    "print points"
   ]
  },
  {
   "cell_type": "code",
   "execution_count": 2,
   "metadata": {
    "collapsed": true
   },
   "outputs": [],
   "source": [
    "def bootstrapping_mean(sample, nsamples):\n",
    "    n = len(sample)\n",
    "    samples = []\n",
    "    for i in range(nsamples):\n",
    "        samples.append(np.random.choice(sample, n, replace=True))\n",
    "    sampleMeans = np.mean(samples, axis=0)\n",
    "    return np.std(sampleMeans)"
   ]
  },
  {
   "cell_type": "code",
   "execution_count": 3,
   "metadata": {},
   "outputs": [],
   "source": [
    "minBathRad1 = 31.0175245\n",
    "maxBathRad1 = 50.\n",
    "minBathRad2 = 50.\n",
    "maxBathRad2 = 75.\n",
    "minBathRad3 = 75.\n",
    "maxBathRad3 = 110.\n",
    "minBathRad4 = 110.\n",
    "maxBathRad4 = 158.266943\n",
    "radii1 = np.linspace(minBathRad1, maxBathRad1, 5, endpoint=True)\n",
    "radii2 = np.linspace(minBathRad2, maxBathRad2, 5, endpoint=True)\n",
    "radii3 = np.linspace(minBathRad3, maxBathRad3, 5, endpoint=True)\n",
    "radii4 = np.linspace(minBathRad4, maxBathRad4, 5, endpoint=True)"
   ]
  },
  {
   "cell_type": "code",
   "execution_count": 4,
   "metadata": {},
   "outputs": [],
   "source": [
    "path = '/group/ag_cmb/scratch/dibakma/MSMRD/myoglobin/rates/'\n",
    "mfpts = []\n",
    "fpts = []\n",
    "radii = np.append(radii1, radii2[1:])\n",
    "errs = []\n",
    "for rad in radii:\n",
    "    fpt = pickle.load(open(path+\"fpts_on_parallel_200runs_uniformStart_R%0.2f_eps0.33_lcs_lag150_240partitions_rad25_fixed.p\" % rad, 'r'))\n",
    "    fpts.append(np.array(fpt))\n",
    "    mfpts.append(np.mean(fpt))\n",
    "    errs.append(np.std(fpt)/np.sqrt(200))\n",
    "for rad in radii3[1:]:\n",
    "    fpt = pickle.load(open(path+\"fpts_on_parallel_100runs_uniformStart_R%0.2f_eps0.33_lcs_lag150_240partitions_rad25_fixed1.p\" % rad, 'r'))\n",
    "    fpt += pickle.load(open(path+\"fpts_on_parallel_100runs_uniformStart_R%0.2f_eps0.33_lcs_lag150_240partitions_rad25_fixed2.p\" % rad, 'r'))\n",
    "    fpts.append(np.array(fpt))\n",
    "    mfpts.append(np.mean(fpt))\n",
    "    errs.append(np.std(fpt)/np.sqrt(200))\n",
    "for rad in radii4[1:]:\n",
    "    fpt = pickle.load(open(path+\"fpts_on_parallel_50runs_uniformStart_R%0.2f_eps0.33_lcs_lag150_240partitions_rad25_fixed1.p\" % rad, 'r'))\n",
    "    fpt += pickle.load(open(path+\"fpts_on_parallel_50runs_uniformStart_R%0.2f_eps0.33_lcs_lag150_240partitions_rad25_fixed2.p\" % rad, 'r'))\n",
    "    fpt += pickle.load(open(path+\"fpts_on_parallel_50runs_uniformStart_R%0.2f_eps0.33_lcs_lag150_240partitions_rad25_fixed3.p\" % rad, 'r'))\n",
    "    fpt += pickle.load(open(path+\"fpts_on_parallel_25runs_uniformStart_R%0.2f_eps0.33_lcs_lag150_240partitions_rad25_fixed4.p\" % rad, 'r'))\n",
    "    fpt += pickle.load(open(path+\"fpts_on_parallel_25runs_uniformStart_R%0.2f_eps0.33_lcs_lag150_240partitions_rad25_fixed5.p\" % rad, 'r'))\n",
    "    fpts.append(np.array(fpt))\n",
    "    mfpts.append(np.mean(fpt))\n",
    "    errs.append(np.std(fpt)/np.sqrt(200))\n",
    "radii = np.append(radii, radii3[1:])\n",
    "radii = np.append(radii, radii4[1:])"
   ]
  },
  {
   "cell_type": "code",
   "execution_count": 5,
   "metadata": {},
   "outputs": [
    {
     "name": "stdout",
     "output_type": "stream",
     "text": [
      "[  31.0175245    35.76314337   40.50876225   45.25438113   50.           56.25\n",
      "   62.5          68.75         75.           83.75         92.5         101.25\n",
      "  110.          122.06673575  134.1334715   146.20020725  158.266943  ]\n"
     ]
    }
   ],
   "source": [
    "print radii"
   ]
  },
  {
   "cell_type": "code",
   "execution_count": 17,
   "metadata": {},
   "outputs": [],
   "source": [
    "fpt = pickle.load(open(path+\"fpts_on_parallel_200runs_uniformStart_R%0.2f_eps0.33_lcs_lag150_240partitions_rad25_fixed.p\" % radii[6], 'r'))"
   ]
  },
  {
   "cell_type": "code",
   "execution_count": 23,
   "metadata": {},
   "outputs": [
    {
     "name": "stdout",
     "output_type": "stream",
     "text": [
      "[32818347.5, 1722442.5, 784223.5, 26439275.0, 1216631.0, 2453041.5, 31585615.0, 269042.5, 1402511.0, 23149957.5, 1356710.0, 3338981.0, 1213157.0, 4083458.0, 3833270.0, 14245026.5, 2638647.0, 39768753.0, 1363520.0, 5150760.0, 1618326.0, 899758.5, 24741440.5, 7940534.0, 5468846.0, 19710088.5, 12115121.0, 1714742.5, 9581057.5, 161173.0, 1322389.0, 15628686.5, 1915912.0, 5360058.5, 528578.5, 12771221.0, 5258125.0, 14464135.0, 19655868.0, 339986.0, 8450862.0, 31310790.5, 4627141.0, 8566781.0, 1510188.5, 8892922.0, 7980448.0, 51268892.0, 19048481.5, 10441358.5, 10454075.0, 13288159.5, 10211771.0, 24217237.5, 1434601.0, 8401401.5, 6657597.5, 6509759.5, 10041888.5, 22448343.0, 8693636.5, 23358066.5, 642616.0, 13321752.5, 11254098.0, 5556013.0, 27750276.0, 5684944.5, 13576398.5, 13787867.0, 7659676.0, 2555801.5, 11527698.0, 9412380.5, 13219762.5, 9635338.0, 382589.5, 26650930.5, 15586418.0, 32384424.5, 1649198.5, 19164697.0, 8448639.5, 29299873.5, 1159699.0, 2915115.0, 13820471.0, 31864722.5, 13912036.0, 29575544.0, 22515779.0, 14622781.5, 3170496.5, 16634645.5, 6414776.0, 2072252.5, 21097029.5, 3803833.0, 16545149.0, 341211.5, 14899129.0, 15336682.5, 9317707.5, 896628.0, 28649656.0, 14496068.0, 12791253.0, 11222063.5, 28872376.5, 1822893.0, 5795875.0, 9523975.0, 7093778.5, 18371569.0, 44066055.0, 5787500.5, 337221.5, 7392489.0, 7763418.5, 9753762.0, 7144122.0, 4570214.0, 27693919.5, 3353598.5, 6683441.5, 5343944.5, 1775088.0, 19955572.0, 2561991.0, 2628649.5, 4383412.0, 112737.5, 4870377.5, 19689370.5, 1624230.0, 5196389.5, 1675994.5, 40176025.5, 35530513.5, 13516732.0, 61452.5, 6928222.5, 3196932.0, 24299647.0, 23126126.0, 13191125.5, 19372598.0, 2314840.5, 10918720.5, 23412306.0, 3870238.0, 22182101.0, 478472.5, 7368248.5, 13366106.5, 4781981.0, 4732905.5, 4666393.0, 15264446.5, 3552794.5, 35367230.5, 7714308.0, 20229066.0, 39500818.5, 5513523.5, 2850150.5, 5612653.0, 9731995.5, 21574448.0, 15342313.5, 895200.0, 25778035.5, 25157589.0, 541652.0, 625030.5, 20635624.5, 177254.5, 1405959.0, 5633316.0, 9803001.5, 26925309.5, 15936228.0, 7406477.0, 10610421.5, 16891221.5, 32232016.0, 34563770.5, 1373942.0, 18268965.0, 4360741.0, 11174626.5, 12070753.0, 35528797.0, 4317981.5, 4691545.0, 163823.5, 23139124.5, 23276778.0, 4002755.5, 29099501.0]\n"
     ]
    }
   ],
   "source": [
    "print fpt"
   ]
  },
  {
   "cell_type": "code",
   "execution_count": 29,
   "metadata": {},
   "outputs": [
    {
     "data": {
      "text/plain": [
       "11"
      ]
     },
     "execution_count": 29,
     "metadata": {},
     "output_type": "execute_result"
    }
   ],
   "source": [
    "len(np.where(np.array(fpt)<500000)[0])"
   ]
  },
  {
   "cell_type": "code",
   "execution_count": 6,
   "metadata": {},
   "outputs": [],
   "source": [
    "mfpts = np.array(mfpts)\n",
    "errors =  np.array(errs)\n",
    "kon = 1./mfpts\n",
    "vols = np.pi*np.power(radii,3)*4./3.-22000.\n",
    "Na = 6.022\n",
    "c = 1./(Na*vols) * 1e10"
   ]
  },
  {
   "cell_type": "code",
   "execution_count": 7,
   "metadata": {},
   "outputs": [
    {
     "data": {
      "text/plain": [
       "array([ 16122.11543561,   9791.13919518,   6475.43936433,   4534.45442355,\n",
       "         3310.570045  ,   2295.15442634,   1659.49280747,   1240.02169039,\n",
       "          951.54102124,    680.95219514,    504.23970621,    383.87395278,\n",
       "          299.02651264,    218.59214105,    164.62862042,    127.07414824,\n",
       "          100.13265929])"
      ]
     },
     "execution_count": 7,
     "metadata": {},
     "output_type": "execute_result"
    }
   ],
   "source": [
    "c"
   ]
  },
  {
   "cell_type": "code",
   "execution_count": 12,
   "metadata": {},
   "outputs": [
    {
     "name": "stdout",
     "output_type": "stream",
     "text": [
      "[  9.77649498e+05   1.77590463e+06   2.98060617e+06   4.06172029e+06\n",
      "   5.63030029e+06   8.21373235e+06   1.18867339e+07   1.57998839e+07\n",
      "   1.81989769e+07   3.10784872e+07   3.68654796e+07   4.74771214e+07\n",
      "   6.45097023e+07   8.30678199e+07   1.11158421e+08   1.44677847e+08\n",
      "   1.81937709e+08]\n"
     ]
    }
   ],
   "source": [
    "print mfpts"
   ]
  },
  {
   "cell_type": "code",
   "execution_count": 46,
   "metadata": {},
   "outputs": [
    {
     "data": {
      "text/plain": [
       "-0.00054368458222597837"
      ]
     },
     "execution_count": 46,
     "metadata": {},
     "output_type": "execute_result"
    }
   ],
   "source": [
    "radii[0]**3*4./3.*np.pi-50**3"
   ]
  },
  {
   "cell_type": "code",
   "execution_count": 10,
   "metadata": {},
   "outputs": [
    {
     "name": "stdout",
     "output_type": "stream",
     "text": [
      "[  1.02286147e-06   5.63093301e-07   3.35502225e-07   2.46201099e-07\n",
      "   1.77610420e-07   1.21747332e-07   8.41273985e-08   6.32916043e-08\n",
      "   5.49481438e-08   3.21765983e-08   2.71256473e-08   2.10627766e-08\n",
      "   1.55015442e-08   1.20383561e-08   8.99616950e-09   6.91190823e-09\n",
      "   5.49638667e-09] [    58776.00421713    121635.26293531    195409.00425289\n",
      "    316220.93108045    396827.97287419    528400.95379217\n",
      "    754631.50939168   1141247.77192339   1514777.57244474\n",
      "   2108495.58057191   2635433.15654458   3115835.64824513\n",
      "   4699776.39945876   6053275.59138228   7493541.1527109   10078281.12679117\n",
      "  13869871.03529875]\n"
     ]
    }
   ],
   "source": [
    "print kon, errors"
   ]
  },
  {
   "cell_type": "code",
   "execution_count": 8,
   "metadata": {},
   "outputs": [
    {
     "name": "stdout",
     "output_type": "stream",
     "text": [
      "[  6.34446188e-11   5.75104990e-11   5.18114997e-11   5.42956388e-11\n",
      "   5.36494977e-11   5.30453771e-11   5.06946448e-11   5.10407236e-11\n",
      "   5.77464792e-11   4.72523601e-11   5.37951435e-11   5.48689913e-11\n",
      "   5.18400327e-11   5.50722276e-11   5.46452341e-11   5.43927173e-11\n",
      "   5.48910487e-11]\n"
     ]
    }
   ],
   "source": [
    "print kon/c #approximately the rate"
   ]
  },
  {
   "cell_type": "code",
   "execution_count": 12,
   "metadata": {},
   "outputs": [],
   "source": [
    "kon_err = errors/(mfpts*mfpts)"
   ]
  },
  {
   "cell_type": "code",
   "execution_count": 13,
   "metadata": {},
   "outputs": [
    {
     "data": {
      "image/png": "[encoded data removed]",
      "text/plain": [
       "<matplotlib.figure.Figure at 0x7f4d03ebb0d0>"
      ]
     },
     "metadata": {},
     "output_type": "display_data"
    }
   ],
   "source": [
    "plt.errorbar(radii, mfpts, yerr=errors)\n",
    "plt.yscale('log')"
   ]
  },
  {
   "cell_type": "code",
   "execution_count": 12,
   "metadata": {},
   "outputs": [
    {
     "data": {
      "image/png": "[encoded data removed]",
      "text/plain": [
       "<matplotlib.figure.Figure at 0x7fea38f9af90>"
      ]
     },
     "metadata": {},
     "output_type": "display_data"
    }
   ],
   "source": [
    "plt.errorbar(radii, kon, yerr=kon_err)\n",
    "plt.yscale('log')"
   ]
  },
  {
   "cell_type": "code",
   "execution_count": 26,
   "metadata": {},
   "outputs": [
    {
     "data": {
      "image/png": "[encoded data removed]",
      "text/plain": [
       "<matplotlib.figure.Figure at 0x7fea389e9110>"
      ]
     },
     "metadata": {},
     "output_type": "display_data"
    }
   ],
   "source": [
    "# convert from 1/ps to 1/s\n",
    "plt.errorbar(c, kon*1e12, yerr=kon_err*1e12)\n",
    "plt.ylabel('$k^{*}_{on}~[1/s]$')\n",
    "plt.xlabel('$c~[\\mu M]$')\n",
    "plt.yscale('log')\n",
    "plt.xscale('log')\n",
    "#plt.savefig('../Paper/figs/myoglobin/onRateMyoglobin.pdf', bbox_inches='tight')"
   ]
  },
  {
   "cell_type": "markdown",
   "metadata": {},
   "source": [
    "# Check rate from finite differences"
   ]
  },
  {
   "cell_type": "code",
   "execution_count": 16,
   "metadata": {
    "collapsed": true
   },
   "outputs": [],
   "source": [
    "rate = np.diff(kon)/np.diff(c)*1e12 #1/(mu M s)\n",
    "rate_err = (kon_err[1:] + kon_err[:-1])/np.diff(c)*1e12"
   ]
  },
  {
   "cell_type": "code",
   "execution_count": 17,
   "metadata": {},
   "outputs": [
    {
     "name": "stdout",
     "output_type": "stream",
     "text": [
      "[-21.66899885 -22.40511014 -24.4101177  -28.64859843 -21.55648536\n",
      " -21.82292807 -24.54720283 -32.62828442 -25.51273323 -23.69455472\n",
      " -27.92038534 -29.87045622 -25.11839975 -27.63451025 -29.08184464\n",
      " -33.52486257] [ 99.56590379  84.19672134  52.9561716   62.01591536  59.17416078\n",
      "  62.322616    51.59760365  29.76781224  85.98520789  29.03340288\n",
      "  50.96477066  66.13822128  43.35182752  56.66144803  55.71436994\n",
      "  52.69885468]\n"
     ]
    }
   ],
   "source": [
    "print rate_err, rate"
   ]
  },
  {
   "cell_type": "code",
   "execution_count": 18,
   "metadata": {},
   "outputs": [
    {
     "data": {
      "text/plain": [
       "<matplotlib.text.Text at 0x7fea38a4be90>"
      ]
     },
     "execution_count": 18,
     "metadata": {},
     "output_type": "execute_result"
    },
    {
     "data": {
      "image/png": "[encoded data removed]",
      "text/plain": [
       "<matplotlib.figure.Figure at 0x7fea38a81b50>"
      ]
     },
     "metadata": {},
     "output_type": "display_data"
    }
   ],
   "source": [
    "plt.errorbar((c[1:]+c[:-1])/2., rate, yerr=rate_err, fmt='x')\n",
    "plt.xscale('log')\n",
    "plt.xlabel('$c [\\mu M]$')\n",
    "plt.ylabel('$k_{on} [1/ \\mu M s]$')\n",
    "#plt.savefig('../Paper/figs/myoglobin/reactionRate.pdf', bbox_inches='tight')"
   ]
  },
  {
   "cell_type": "code",
   "execution_count": 19,
   "metadata": {},
   "outputs": [
    {
     "name": "stdout",
     "output_type": "stream",
     "text": [
      "58.8840629768 18.1810575695\n"
     ]
    }
   ],
   "source": [
    "print np.mean(rate), np.std(rate)\n",
    "#This is also in correspondence to what we find using the linear fit method"
   ]
  },
  {
   "cell_type": "markdown",
   "metadata": {},
   "source": [
    "# Use linear fit instead of finite differences (final version)"
   ]
  },
  {
   "cell_type": "code",
   "execution_count": null,
   "metadata": {
    "collapsed": true
   },
   "outputs": [],
   "source": [
    "from scipy import optimize"
   ]
  },
  {
   "cell_type": "code",
   "execution_count": 15,
   "metadata": {},
   "outputs": [],
   "source": [
    "fitfunc = lambda p, x: p[0] + p[1]*x\n",
    "# Scale point with 1/err to obtain an error estimate\n",
    "errfunc = lambda p, x, y, err: (y-fitfunc(p, x))/err\n",
    "out = optimize.leastsq(errfunc, [-2000, 200], args=(c, kon*1e12, 2*kon_err*1e12), full_output=1)"
   ]
  },
  {
   "cell_type": "code",
   "execution_count": 49,
   "metadata": {},
   "outputs": [],
   "source": [
    "fitfunc2 = lambda p, x: p[0]*x\n",
    "# Scale point with 1/err to obtain an error estimate\n",
    "errfunc2 = lambda p, x, y, err: (y-fitfunc2(p, x))/err\n",
    "out2 = optimize.leastsq(errfunc2, [45], args=(c, kon*1e12, 2*kon_err*1e12), full_output=1)"
   ]
  },
  {
   "cell_type": "code",
   "execution_count": 44,
   "metadata": {},
   "outputs": [
    {
     "name": "stdout",
     "output_type": "stream",
     "text": [
      "[ 53.72015483] [[ 3.27942872]]\n"
     ]
    }
   ],
   "source": [
    "print out2[0], out2[1]"
   ]
  },
  {
   "cell_type": "code",
   "execution_count": 16,
   "metadata": {},
   "outputs": [
    {
     "name": "stdout",
     "output_type": "stream",
     "text": [
      "[ 1438.5928831     45.21741199]\n",
      "[[  3.77778158e+05  -7.11934339e+02]\n",
      " [ -7.11934339e+02   3.98133944e+00]]\n"
     ]
    }
   ],
   "source": [
    "covar = out[1]\n",
    "params = out[0]\n",
    "print out[0]\n",
    "print covar"
   ]
  },
  {
   "cell_type": "code",
   "execution_count": 17,
   "metadata": {},
   "outputs": [
    {
     "data": {
      "text/plain": [
       "<matplotlib.text.Text at 0x7f4d009e0310>"
      ]
     },
     "execution_count": 17,
     "metadata": {},
     "output_type": "execute_result"
    },
    {
     "data": {
      "image/png": "[encoded data removed]",
      "text/plain": [
       "<matplotlib.figure.Figure at 0x7f4d00a33ad0>"
      ]
     },
     "metadata": {},
     "output_type": "display_data"
    }
   ],
   "source": [
    "#plt.plot(c, (slope[0]*c+slope[1]), label='linear fit')\n",
    "#plt.plot(c, (out[0][1]*c+out[0][0]), label='linear error fit')\n",
    "plt.plot(c, params[1]*c + params[0], label='linear fit')\n",
    "plt.fill_between(c, (params[1]+2*np.sqrt(covar[1][1]))*c + (params[0]-2*np.sqrt(covar[0][0])), (params[1]-2*np.sqrt(covar[1][1]))*c + (params[0]+2*np.sqrt(covar[0][0])), alpha=0.4)\n",
    "plt.errorbar(c, kon*1e12, yerr=2*kon_err*1e12, label='datapoints', fmt='.', markersize=1)\n",
    "plt.ylabel('$k^{*}_{on}~[1/s]$')\n",
    "plt.xlabel('$c~[\\mu M]$')\n",
    "plt.yscale('log')\n",
    "plt.xscale('log')\n",
    "plt.legend(loc=4)\n",
    "plt.text(200, 4*1e5, '$k_{on} = %0.0f \\pm %0.0f \\\\frac{1}{\\mu M s}$'%(params[1], 2*np.sqrt(covar[1][1])), fontsize=20)\n",
    "#plt.savefig('../Paper/figs/myoglobin/reactionRateFit_pbc.pdf', bbox_inches='tight')"
   ]
  },
  {
   "cell_type": "code",
   "execution_count": 50,
   "metadata": {},
   "outputs": [
    {
     "data": {
      "text/plain": [
       "<matplotlib.text.Text at 0x7f4cfff76750>"
      ]
     },
     "execution_count": 50,
     "metadata": {},
     "output_type": "execute_result"
    },
    {
     "data": {
      "image/png": "[encoded data removed]",
      "text/plain": [
       "<matplotlib.figure.Figure at 0x7f4cff7f1690>"
      ]
     },
     "metadata": {},
     "output_type": "display_data"
    }
   ],
   "source": [
    "#plt.plot(c, (slope[0]*c+slope[1]), label='linear fit')\n",
    "#plt.plot(c, (out[0][1]*c+out[0][0]), label='linear error fit')\n",
    "plt.plot(c, out2[0]*c, label='linear fit')\n",
    "#plt.fill_between(c, (params[1]+2*np.sqrt(covar[1][1]))*c + (params[0]-2*np.sqrt(covar[0][0])), (params[1]-2*np.sqrt(covar[1][1]))*c + (params[0]+2*np.sqrt(covar[0][0])), alpha=0.4)\n",
    "plt.errorbar(c, kon*1e12, yerr=2*kon_err*1e12, label='datapoints', fmt='.', markersize=1)\n",
    "plt.ylabel('$k^{*}_{on}~[1/s]$')\n",
    "plt.xlabel('$c~[\\mu M]$')\n",
    "plt.yscale('log')\n",
    "plt.xscale('log')\n",
    "plt.legend(loc=4)\n",
    "plt.text(200, 4*1e5, '$k_{on} = %0.0f \\pm %0.0f \\\\frac{1}{\\mu M s}$'%(out2[0], 2*np.sqrt(covar[1][1])), fontsize=20)\n",
    "#plt.savefig('../Paper/figs/myoglobin/reactionRateFit_pbc.pdf', bbox_inches='tight')"
   ]
  },
  {
   "cell_type": "code",
   "execution_count": 53,
   "metadata": {},
   "outputs": [
    {
     "name": "stdout",
     "output_type": "stream",
     "text": [
      "63.4446187833\n"
     ]
    }
   ],
   "source": [
    "print kon[0]/c[0]*1e12"
   ]
  },
  {
   "cell_type": "markdown",
   "metadata": {},
   "source": [
    "# off rate"
   ]
  },
  {
   "cell_type": "code",
   "execution_count": 6,
   "metadata": {},
   "outputs": [],
   "source": [
    "fpt_off = pickle.load(open(\"/group/ag_cmb/scratch/dibakma/MSMRD/myoglobin/rates/fpts_off10000_runs_lag150_eps0.33_240partitions_lcs_rad25_fixed_rerun.p\", 'r'))"
   ]
  },
  {
   "cell_type": "code",
   "execution_count": 7,
   "metadata": {},
   "outputs": [
    {
     "name": "stdout",
     "output_type": "stream",
     "text": [
      "52094.927\n",
      "19.1957270619\n"
     ]
    }
   ],
   "source": [
    "print np.mean(fpt_off)\n",
    "print 1/np.mean(fpt_off)*1e6"
   ]
  },
  {
   "cell_type": "code",
   "execution_count": 8,
   "metadata": {},
   "outputs": [
    {
     "name": "stdout",
     "output_type": "stream",
     "text": [
      "0.157584242684\n"
     ]
    }
   ],
   "source": [
    "# use std error as confidence estimate\n",
    "# rounds up to 0.2\n",
    "print np.std(fpt_off)/(100*np.mean(fpt_off)**2)*1e6"
   ]
  },
  {
   "cell_type": "code",
   "execution_count": 41,
   "metadata": {},
   "outputs": [
    {
     "data": {
      "text/plain": [
       "6.689376153175658"
      ]
     },
     "execution_count": 41,
     "metadata": {},
     "output_type": "execute_result"
    }
   ],
   "source": [
    "22000.**(1/3.)*3./4./np.pi"
   ]
  },
  {
   "cell_type": "code",
   "execution_count": 6,
   "metadata": {
    "collapsed": true
   },
   "outputs": [],
   "source": [
    "class truncTrajsModelMyoglobin(object):    \n",
    "    def __init__(self, entryTrajsStart, entryTrajsEnd, entryTimes, exitTrajs, exitTimes, exitProbs, MSMtime, tmatrix, numPartitions, interactionRadius, TStimestep, description=None):\n",
    "        self.entryTrajsStart = entryTrajsStart\n",
    "        self.entryTrajsEnd = entryTrajsEnd\n",
    "        self.entryTimes = entryTimes\n",
    "        self.exitTrajs = exitTrajs\n",
    "        self.exitTimes = exitTimes\n",
    "        self.exitProbs = exitProbs\n",
    "        self.tmatrix = tmatrix\n",
    "        self.MSMtimestep = MSMtime\n",
    "        self.numPartitions = numPartitions\n",
    "        self.interactionRadius = interactionRadius\n",
    "        self.TStimestep = TStimestep\n",
    "        self.description = description"
   ]
  },
  {
   "cell_type": "code",
   "execution_count": 7,
   "metadata": {},
   "outputs": [],
   "source": [
    "truncTrajsModel = pickle.load(open('/group/ag_cmb/scratch/dibakma/MSMRD/models/myoglobin/myoglobin_lag150_240partitions_min200_eps0.33_lcs_rad25_fixed.p', 'r'))"
   ]
  },
  {
   "cell_type": "code",
   "execution_count": 11,
   "metadata": {},
   "outputs": [
    {
     "name": "stdout",
     "output_type": "stream",
     "text": [
      "10\n",
      "10\n",
      "10\n",
      "10\n",
      "10\n"
     ]
    }
   ],
   "source": [
    "for i in range(240):\n",
    "    for end in truncTrajsModel.entryTrajsEnd[i]:\n",
    "        if not isinstance(end, np.ndarray):\n",
    "           if end == 10:\n",
    "            print end"
   ]
  },
  {
   "cell_type": "code",
   "execution_count": null,
   "metadata": {
    "collapsed": true
   },
   "outputs": [],
   "source": []
  }
 ],
 "metadata": {
  "kernelspec": {
   "display_name": "Python 3",
   "language": "python",
   "name": "python3"
  },
  "language_info": {
   "codemirror_mode": {
    "name": "ipython",
    "version": 3
   },
   "file_extension": ".py",
   "mimetype": "text/x-python",
   "name": "python",
   "nbconvert_exporter": "python",
   "pygments_lexer": "ipython3",
   "version": "3.6.4"
  }
 },
 "nbformat": 4,
 "nbformat_minor": 1
}

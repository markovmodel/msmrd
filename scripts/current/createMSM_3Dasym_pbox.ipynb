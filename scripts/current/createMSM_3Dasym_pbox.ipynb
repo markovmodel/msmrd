{
 "cells": [
  {
   "cell_type": "code",
   "execution_count": 1,
   "metadata": {
    "collapsed": false,
    "deletable": true,
    "editable": true
   },
   "outputs": [],
   "source": [
    "import numpy as np\n",
    "import pyemma\n",
    "import msmtools.estimation as est\n",
    "import msmtools\n",
    "import matplotlib\n",
    "import matplotlib.pyplot as plt\n",
    "from mpl_toolkits.mplot3d import Axes3D\n",
    "import pyemma.plots as mplt\n",
    "import h5py\n",
    "import MSMRD.trajectories.trajectoryTools as trajectoryTools\n",
    "from MSMRD.discretization import partitionSphere, plotPartitionedSphere\n",
    "from MSMRD.visualization import createDensityData\n",
    "import pickle\n",
    "#%load_ext Cython\n",
    "plt.style.use('paperPlot')\n",
    "%matplotlib inline"
   ]
  },
  {
   "cell_type": "code",
   "execution_count": 2,
   "metadata": {
    "collapsed": true,
    "deletable": true,
    "editable": true
   },
   "outputs": [],
   "source": [
    "matplotlib.rcParams['figure.figsize'] = (4.0, 4.0)\n",
    "plt.rc('text', usetex='True')\n",
    "plt.rc('font', family='serif')"
   ]
  },
  {
   "cell_type": "code",
   "execution_count": null,
   "metadata": {
    "collapsed": false,
    "deletable": true,
    "editable": true
   },
   "outputs": [],
   "source": [
    "# Testing correct state output mini script (use along with testSpherePrtitionPlot NB)\n",
    "# Consistent with test\n",
    "numPartitions = 1\n",
    "boxSize = 6\n",
    "innerMSMrad = 2.5\n",
    "minima = np.array([[-0.9,0.7,0.3] , [-0.1,0.9,0.7],  [0.8,0.8,-0.8],  \\\n",
    "                  [-1.0,-0.3,-0.4], [0.0,0.0,0.0],   [0.9,-0.1,-0.9], \\\n",
    "                  [-0.7,-1.0,-0.3], [0.0,-0.9,0.1],  [0.8,-0.2,0.8]])\n",
    "regionsPerCollar, phis, thetas = partitionSphere(numPartitions)\n",
    "discretizer = trajectoryTools.trajDiscretization3DCython(minima, boxSize, innerMSMrad)\n",
    "discretizer.getSpherePartition(regionsPerCollar, phis, thetas)\n",
    "coord = np.array([3.4,-2,-2]) # norm larger than innerMSMrad (boxSize/2)\n",
    "sphereState = discretizer.getStatePy(coord,-1) - (len(minima) - 1)\n",
    "\n",
    "# Call function to plot state and coordinate in spherical partition\n",
    "print sphereState\n",
    "plotPartitionedSphere(numPartitions = numPartitions, plotState=sphereState, coord=coord)\n",
    "#plt.savefig('../Report/figs/3Dsphere_partition.pdf')"
   ]
  },
  {
   "cell_type": "code",
   "execution_count": 11,
   "metadata": {
    "collapsed": false,
    "deletable": true,
    "editable": true
   },
   "outputs": [
    {
     "name": "stdout",
     "output_type": "stream",
     "text": [
      "8.33333333333% done\n",
      "16.6666666667% done\n",
      "25.0% done\n",
      "33.3333333333% done\n",
      "41.6666666667% done\n",
      "50.0% done\n",
      "58.3333333333% done\n",
      "66.6666666667% done\n",
      "75.0% done\n",
      "83.3333333333% done\n",
      "91.6666666667% done\n",
      "100.0% done\n",
      "CPU times: user 26min 9s, sys: 6.36 s, total: 26min 15s\n",
      "Wall time: 26min 23s\n"
     ]
    }
   ],
   "source": [
    "%%time\n",
    "numfiles = 120\n",
    "# Load partitions, boxsize and minimas\n",
    "numPartitions = 100\n",
    "boxSize = 5.\n",
    "innerMSMrad = 2.5\n",
    "regionsPerCollar, phis, thetas = partitionSphere(numPartitions)\n",
    "minima = np.array([[-0.9,0.7,0.3] , [-0.1,0.9,0.7],  [0.8,0.8,-0.8],  \\\n",
    "                  [-1.0,-0.3,-0.4], [0.0,0.0,0.0],   [0.9,-0.1,-0.9], \\\n",
    "                  [-0.7,-1.0,-0.3], [0.0,-0.9,0.1],  [0.8,-0.2,0.8]])\n",
    "\n",
    "# Extract trajectories from file using asym2Dtraj class\n",
    "# fname = '../data/asym3D/3DasymTrajs_pBox5_sf2_R4_RT1e7_dt001_si10_' # old data with bug in potential\n",
    "# fname = '../data/asym3D/3DasymTrajs_pbox5_RT1e7_sf2.0_dt0.001_si10_run_'\n",
    "#fname = '../data/asym3D/box6/3DasymTrajs_pbox5_RT1e7_sf2.0_dt0.0001_si10_run_'\n",
    "fname = '/group/ag_cmb/scratch/dibakma/MSMRD/asym3D/box6/3DasymTrajs_pbox6_RT1e7_sf2.0_dt0.0001_si10_run_'\n",
    "dimension = 3\n",
    "discretizer = trajectoryTools.trajDiscretization3DCython(minima, boxSize, innerMSMrad)\n",
    "discretizer.getSpherePartition(regionsPerCollar, phis, thetas)\n",
    "trajs = []\n",
    "dTrajs = []\n",
    "#fullDTrajs = []\n",
    "truncTrajs = []\n",
    "dTruncTrajs = []\n",
    "truncatedTrajs = []\n",
    "dTruncatedTrajs = []\n",
    "i = 0\n",
    "samplingInterval = 10 # in the original computation\n",
    "for number in range(numfiles):\n",
    "    f = h5py.File(fname + str(number) + '.h5', 'r')\n",
    "    data = np.array(f['traj'], dtype=float)\n",
    "    f.close()\n",
    "    if not np.allclose(data[1:,0]-data[:-1,0], samplingInterval):\n",
    "        print 'timestep not constant'\n",
    "    traj = data[:,1:dimension+1]\n",
    "    #fullDTrajs.append(discretizer.getdTrajs([traj]))\n",
    "    dTrajs += discretizer.getdTrajs([traj])\n",
    "    lastTruncTrajs = discretizer.getTruncatedTraj(traj, prepend=True) # Use True for code, false for traj plotting?\n",
    "    truncatedTrajs.append(lastTruncTrajs)\n",
    "    truncTrajs += lastTruncTrajs\n",
    "    lastDTruncTrajs = discretizer.getdTrajs(lastTruncTrajs)\n",
    "    dTruncTrajs += lastDTruncTrajs\n",
    "    dTruncatedTrajs.append(lastDTruncTrajs)\n",
    "    i+=1\n",
    "    if i % 10 == 0:\n",
    "        print str(i/float(numfiles) * 100)+'% done'\n",
    "    # delete memory to avoid overhead\n",
    "    del data\n",
    "    del traj\n",
    "    #trajs.append(traj) # Need to pass to create density data for visit visualization"
   ]
  },
  {
   "cell_type": "code",
   "execution_count": null,
   "metadata": {
    "collapsed": false,
    "deletable": true,
    "editable": true
   },
   "outputs": [],
   "source": [
    "# visualize trunc trajs\n",
    "def plotTrajs(trajs,numTrajs):\n",
    "    fig = plt.figure(figsize=[10,10])\n",
    "    ax = fig.gca(projection='3d') \n",
    "    i=0\n",
    "    print(len(trajs))\n",
    "    for traj in trajs:\n",
    "        trajx = []\n",
    "        trajy = []\n",
    "        trajz = []\n",
    "        for i in range(len(traj)):\n",
    "            trajx.append(traj[i][0])\n",
    "            trajy.append(traj[i][1])\n",
    "            trajz.append(traj[i][2])\n",
    "        #ax.plot(trajx,trajy,trajz,'.')\n",
    "        ax.plot(trajx,trajy,trajz,'b-', lw=0.0002)\n",
    "        i += 1\n",
    "        if i > numTrajs:\n",
    "            break\n",
    "            \n",
    "plotTrajs(truncTrajs,100000)\n",
    "for i in range(len(minima)):\n",
    "    ax.text(minima[i,0], minima[i,1], minima[i,2], str(i), color='black', size=25)"
   ]
  },
  {
   "cell_type": "code",
   "execution_count": 12,
   "metadata": {
    "collapsed": false,
    "deletable": true,
    "editable": true
   },
   "outputs": [
    {
     "name": "stdout",
     "output_type": "stream",
     "text": [
      "CPU times: user 0 ns, sys: 0 ns, total: 0 ns\n",
      "Wall time: 3.1 µs\n"
     ]
    }
   ],
   "source": [
    "# Get exit/entry lookup tables\n",
    "%time\n",
    "# CALL WITH dTruncTrajs or dTrajs, see function in trajectoryTools.pyx\n",
    "entryTrajsStart, entryTrajsEnd, entryTimes = discretizer.getLookupTableEntry(dTruncTrajs, truncTrajs)\n",
    "exitPositions, exitTimes = discretizer.getLookupTableExit(dTruncTrajs, truncTrajs)\n",
    "transitionTrajs = discretizer.getTransitionTrajs(dTruncTrajs)"
   ]
  },
  {
   "cell_type": "code",
   "execution_count": 13,
   "metadata": {
    "collapsed": false,
    "deletable": true,
    "editable": true
   },
   "outputs": [
    {
     "name": "stdout",
     "output_type": "stream",
     "text": [
      "CPU times: user 0 ns, sys: 0 ns, total: 0 ns\n",
      "Wall time: 3.1 µs\n"
     ]
    }
   ],
   "source": [
    "#find exit trajectories\n",
    "%time\n",
    "exitTrajs = []\n",
    "for i in range(9):\n",
    "    exitTrajs += (transitionTrajs[i][9])"
   ]
  },
  {
   "cell_type": "code",
   "execution_count": 14,
   "metadata": {
    "collapsed": true,
    "deletable": true,
    "editable": true
   },
   "outputs": [],
   "source": [
    "def implied_timescales_resampling(lag, nsamples):\n",
    "    samples = []\n",
    "    trajectories = numfiles\n",
    "    impliedTimescales = []\n",
    "    for i in range(nsamples):\n",
    "        sampleIndices = np.random.choice(trajectories, size=trajectories, replace=True)\n",
    "        sample = [dTrajs[j] for j in sampleIndices]\n",
    "        sampleTrTrajs = []\n",
    "        for j in range(trajectories):\n",
    "            sampleTrTrajs += dTruncatedTrajs[sampleIndices[j]]\n",
    "        transitionTrajSample = discretizer.getTransitionTrajs(sampleTrTrajs)\n",
    "        exitTrajsSample = []\n",
    "        for j in range(9):\n",
    "            exitTrajsSample += transitionTrajSample[j][9]\n",
    "        fullCount = est.count_matrix(sample, lag, sliding=True, sparse_return=False)\n",
    "        exitCounts = est.count_matrix(exitTrajsSample, lag, sliding=True, sparse_return=False)\n",
    "        finalCountMatrix = 1. * np.asarray(fullCount)\n",
    "        for j in range(9):\n",
    "            finalCountMatrix[j,j] -= exitCounts[j,j]\n",
    "        if np.any(finalCountMatrix < 0):\n",
    "            print 'negative entry in final count Matrix'\n",
    "            return fullCount, exitCounts\n",
    "        if np.any(np.sum(finalCountMatrix[:9,:9], axis=1) == 0):\n",
    "            print 'skipped sample due to sum being zero before estimation'\n",
    "            continue\n",
    "        tmatrix = np.asarray(est.transition_matrix(finalCountMatrix[:9,:9], reversible=False))\n",
    "        if np.any(tmatrix < 0):\n",
    "            print 'negative entry in tmatrix'\n",
    "        internalTmatrix = np.copy(tmatrix).astype('float64')\n",
    "        if np.any(np.sum(internalTmatrix, axis=1) == 0):\n",
    "            print 'skipped sample due to sum being zero'\n",
    "            continue\n",
    "        if np.any(internalTmatrix < 0):\n",
    "            print 'negative entry in internal tmatrix'\n",
    "        #for j in range(len(internalTmatrix)):\n",
    "        #    internalTmatrix[j,:] /= np.sum(internalTmatrix[j,:])\n",
    "        try:\n",
    "            assert np.allclose(np.sum(internalTmatrix, axis=1), 1)\n",
    "        except:\n",
    "            print 'assertion failed' + str(i)\n",
    "            return internalTmatrix\n",
    "        if not est.is_connected(internalTmatrix):\n",
    "            print 'skipped sample as is not connected'\n",
    "            continue\n",
    "        try:\n",
    "            msm = pyemma.msm.markov_model(internalTmatrix, dt_model=str(lag) + ' step')\n",
    "        except:\n",
    "            print 'not a T matrix'\n",
    "            print np.any(internalTmatrix < 0)\n",
    "            return internalTmatrix\n",
    "        impliedTimescales.append(msm.timescales())\n",
    "    return np.array(impliedTimescales)"
   ]
  },
  {
   "cell_type": "code",
   "execution_count": 28,
   "metadata": {
    "collapsed": false,
    "deletable": true,
    "editable": true
   },
   "outputs": [
    {
     "name": "stdout",
     "output_type": "stream",
     "text": [
      "1\n",
      "11\n",
      "21\n",
      "31\n",
      "41\n",
      "51\n",
      "61\n",
      "71\n",
      "81\n",
      "91\n"
     ]
    }
   ],
   "source": [
    "#estimate error of implied timescales through resamlping\n",
    "lags = []\n",
    "timescales = []\n",
    "errors = []\n",
    "nsamples = []\n",
    "for lag in range(1, 100, 10):\n",
    "    print lag\n",
    "    its = implied_timescales_resampling(lag, 100)\n",
    "    timescales.append(np.mean(its, axis=0))\n",
    "    errors.append(np.std(its, axis=0))\n",
    "    lags.append(lag)\n",
    "    nsamples.append(len(its))"
   ]
  },
  {
   "cell_type": "code",
   "execution_count": 39,
   "metadata": {
    "collapsed": false,
    "deletable": true,
    "editable": true
   },
   "outputs": [],
   "source": [
    "itsArray = [np.array(lags), np.array(timescales), np.array(errors)]\n",
    "pickle.dump(itsArray, open('/group/ag_cmb/scratch/dibakma/MSMRD/models/asym3D/impliedTimescales.p', 'wa'))"
   ]
  },
  {
   "cell_type": "code",
   "execution_count": 5,
   "metadata": {
    "collapsed": false,
    "deletable": true,
    "editable": true
   },
   "outputs": [],
   "source": [
    "lags, timescales, errors = pickle.load(open('/group/ag_cmb/scratch/dibakma/MSMRD/models/asym3D/impliedTimescales.p', 'r'))"
   ]
  },
  {
   "cell_type": "code",
   "execution_count": 11,
   "metadata": {
    "collapsed": false,
    "deletable": true,
    "editable": true
   },
   "outputs": [
    {
     "data": {
      "image/png": "[encoded data removed]",
      "text/plain": [
       "<matplotlib.figure.Figure at 0x7f3aaf439ed0>"
      ]
     },
     "metadata": {},
     "output_type": "display_data"
    }
   ],
   "source": [
    "# Do the actual plot with proper timescaling\n",
    "plt.style.use('paperPlot')\n",
    "matplotlib.rcParams.update({'ytick.labelsize':24, 'xtick.labelsize':24, 'axes.labelsize':24, 'axes.titlesize':26})\n",
    "plt.rcParams['figure.figsize'] = (7, 5)\n",
    "scale = 0.001\n",
    "for i in range(8):\n",
    "    #plt.plot(np.array(lagtimes)*scale, scale*baysianTimescales[:,i], c='C'+str(i%9))\n",
    "    plt.plot(np.array(lags)*scale, scale*np.array(timescales)[:,i], 'x', c='C'+str(i%9))\n",
    "    plt.fill_between(np.array(lags)*scale, (np.array(timescales)[:,i]+np.array(errors)[:,i])*scale, (np.array(timescales)[:,i]-np.array(errors)[:,i])*scale, alpha=0.3, color='C'+str(i%9))\n",
    "plt.xlabel('$\\\\tau_{MSM}$ [ns]')\n",
    "plt.ylabel('timescale [ns]')\n",
    "plt.title('implied timescales')\n",
    "#plt.yscale('log')\n",
    "plt.savefig('../../Paper/figs/asym3D/impliedTimescales_resamplingError_units.pdf', bbox_inches='tight')"
   ]
  },
  {
   "cell_type": "code",
   "execution_count": null,
   "metadata": {
    "collapsed": true,
    "deletable": true,
    "editable": true
   },
   "outputs": [],
   "source": [
    "# compute count matrix for full trajectories and exit trajectories\n",
    "# timestep 50!\n",
    "fullCount = est.count_matrix(dTrajs, 50)\n",
    "exitCounts = est.count_matrix(exitTrajs, 50)"
   ]
  },
  {
   "cell_type": "code",
   "execution_count": null,
   "metadata": {
    "collapsed": true,
    "deletable": true,
    "editable": true
   },
   "outputs": [],
   "source": [
    "# subtract exit counts\n",
    "finalCountMatrix = 1. * fullCount[:9,:9]\n",
    "for i in range(9):\n",
    "    finalCountMatrix[i,i] -= exitCounts[i,i]"
   ]
  },
  {
   "cell_type": "code",
   "execution_count": null,
   "metadata": {
    "collapsed": false,
    "deletable": true,
    "editable": true
   },
   "outputs": [],
   "source": [
    "# extract inner transition matrix and renormalize\n",
    "tmatrix = est.transition_matrix(finalCountMatrix, reversible=False).todense()\n",
    "treduced = np.copy(tmatrix[:9,:9])\n",
    "for i in range(9):\n",
    "    treduced[i,:] /= np.sum(treduced[i,:])\n",
    "for i in range(9):\n",
    "    print (treduced[i,i])"
   ]
  },
  {
   "cell_type": "code",
   "execution_count": null,
   "metadata": {
    "collapsed": false,
    "deletable": true,
    "editable": true
   },
   "outputs": [],
   "source": [
    "# Calculate exit probabilities for each of the inner states\n",
    "exitProbs = np.zeros(len(minima))\n",
    "for i in range(len(minima)):\n",
    "    outgoingTrajs = 0\n",
    "    for j in range(10):\n",
    "        outgoingTrajs += len(transitionTrajs[i][j])   \n",
    "    exitProbs[i] = len(transitionTrajs[i][len(minima)])/float(outgoingTrajs)\n",
    "print exitProbs"
   ]
  },
  {
   "cell_type": "code",
   "execution_count": null,
   "metadata": {
    "collapsed": false,
    "deletable": true,
    "editable": true
   },
   "outputs": [],
   "source": [
    "# Plot exit positions\n",
    "for i in range(9):\n",
    "    plt.scatter(np.array(exitPositions[i])[:,0], np.array(exitPositions[i])[:,1])"
   ]
  },
  {
   "cell_type": "code",
   "execution_count": null,
   "metadata": {
    "collapsed": false,
    "deletable": true,
    "editable": true
   },
   "outputs": [],
   "source": [
    "# Partition MSM entry trajectories into discrete regions in the sphere \n",
    "numPartitions=240\n",
    "spherePartitionsForLookUp = 1*numPartitions\n",
    "regionsPerCollar2, phis2, thetas2 = partitionSphere(spherePartitionsForLookUp)\n",
    "thetas_coord = np.arctan2(entryTrajsStart[:,1], entryTrajsStart[:,0])\n",
    "thetas_coord[thetas_coord<0] = thetas_coord[thetas_coord<0] + 2*np.pi\n",
    "r = np.linalg.norm(entryTrajsStart[:], axis=1)\n",
    "phis_coords = np.arccos(entryTrajsStart[:,2]/r)\n",
    "sortedEntryTrajsStart = []\n",
    "sortedEntryTrajsEnd = []\n",
    "sortedEntryTimes = []\n",
    "for i in range(len(regionsPerCollar2)):\n",
    "    phiIncrement = np.pi/len(regionsPerCollar2)\n",
    "    idcs_phi = np.where(np.logical_and(phis_coords>i*phiIncrement, phis_coords<= (i+1)*phiIncrement))[0]\n",
    "    for j in range(regionsPerCollar2[i]):\n",
    "        thetaIncrement = 2*np.pi/regionsPerCollar2[i]\n",
    "        idcs_theta = np.where(np.logical_and(thetas_coord>j*thetaIncrement, thetas_coord<= (j+1)*thetaIncrement))[0]\n",
    "        idcs = np.intersect1d(idcs_phi,idcs_theta)\n",
    "        sortedEntryTrajsStart.append(entryTrajsStart[idcs])\n",
    "        sortedEntryTimes.append(entryTimes[idcs])\n",
    "        sortedEnds = []\n",
    "        for j in idcs:\n",
    "            sortedEnds.append(entryTrajsEnd[j])\n",
    "        sortedEntryTrajsEnd.append(sortedEnds)"
   ]
  },
  {
   "cell_type": "code",
   "execution_count": null,
   "metadata": {
    "collapsed": false,
    "deletable": true,
    "editable": true
   },
   "outputs": [],
   "source": [
    "#Prepare data to be extracted to file\n",
    "#For this we need the position of the cluster centers as well as the information about the angles of the exit states\n",
    "class truncTrajsModel3D(object):    \n",
    "    def __init__(self, entryTrajsStart, entryTrajsEnd, entryTimes, exitTrajs, exitTimes, exitProbs, MSMtime, tmatrix, numPartitions):\n",
    "        self.entryTrajsStart = entryTrajsStart\n",
    "        self.entryTrajsEnd = entryTrajsEnd\n",
    "        self.entryTimes = entryTimes\n",
    "        self.exitTrajs = exitTrajs\n",
    "        self.exitTimes = exitTimes\n",
    "        self.exitProbs = exitProbs\n",
    "        self.tmatrix = tmatrix\n",
    "        self.MSMtimestep = MSMtime\n",
    "        self.numPartitions = numPartitions"
   ]
  },
  {
   "cell_type": "code",
   "execution_count": null,
   "metadata": {
    "collapsed": false,
    "deletable": true,
    "editable": true
   },
   "outputs": [],
   "source": [
    "model = truncTrajsModel3D(sortedEntryTrajsStart, sortedEntryTrajsEnd, sortedEntryTimes, exitPositions, exitTimes, exitProbs, 0.05, treduced, numPartitions)"
   ]
  },
  {
   "cell_type": "code",
   "execution_count": null,
   "metadata": {
    "collapsed": true,
    "deletable": true,
    "editable": true
   },
   "outputs": [],
   "source": [
    "import pickle\n",
    "pickle.dump(model, open('/group/ag_cmb/scratch/dibakma/MSMRD/models/asym3D/periodicModel_lag0.05_R2.5_121files_240partitions.p', 'wa'))"
   ]
  }
 ],
 "metadata": {
  "kernelspec": {
   "display_name": "Python 2",
   "language": "python",
   "name": "python2"
  },
  "language_info": {
   "codemirror_mode": {
    "name": "ipython",
    "version": 2
   },
   "file_extension": ".py",
   "mimetype": "text/x-python",
   "name": "python",
   "nbconvert_exporter": "python",
   "pygments_lexer": "ipython2",
   "version": "2.7.12"
  }
 },
 "nbformat": 4,
 "nbformat_minor": 2
}

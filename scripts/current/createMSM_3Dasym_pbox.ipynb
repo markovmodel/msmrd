{
 "cells": [
  {
   "cell_type": "code",
   "execution_count": 1,
   "metadata": {
    "collapsed": false,
    "deletable": true,
    "editable": true
   },
   "outputs": [],
   "source": [
    "import numpy as np\n",
    "import pyemma\n",
    "import msmtools.estimation as est\n",
    "import msmtools\n",
    "import matplotlib\n",
    "import matplotlib.pyplot as plt\n",
    "from mpl_toolkits.mplot3d import Axes3D\n",
    "import pyemma.plots as mplt\n",
    "import h5py\n",
    "import MSMRD.trajectories.trajectoryTools as trajectoryTools\n",
    "from MSMRD.discretization import partitionSphere, plotPartitionedSphere\n",
    "from MSMRD.visualization import createDensityData\n",
    "import line_profiler\n",
    "#%load_ext Cython\n",
    "plt.style.use('paperPlot')\n",
    "%matplotlib inline"
   ]
  },
  {
   "cell_type": "code",
   "execution_count": 2,
   "metadata": {
    "collapsed": true,
    "deletable": true,
    "editable": true
   },
   "outputs": [],
   "source": [
    "%matplotlib inline\n",
    "#%matplotlib notebook\n",
    "matplotlib.rcParams['figure.figsize'] = (4.0, 4.0)\n",
    "plt.rc('text', usetex='True')\n",
    "plt.rc('font', family='serif')"
   ]
  },
  {
   "cell_type": "code",
   "execution_count": null,
   "metadata": {
    "collapsed": false,
    "deletable": true,
    "editable": true
   },
   "outputs": [],
   "source": [
    "# Testing correct state output mini script (use along with testSpherePrtitionPlot NB)\n",
    "# Consistent with test\n",
    "numPartitions = 1\n",
    "boxSize = 6\n",
    "innerMSMrad = 2.5\n",
    "minima = np.array([[-0.9,0.7,0.3] , [-0.1,0.9,0.7],  [0.8,0.8,-0.8],  \\\n",
    "                  [-1.0,-0.3,-0.4], [0.0,0.0,0.0],   [0.9,-0.1,-0.9], \\\n",
    "                  [-0.7,-1.0,-0.3], [0.0,-0.9,0.1],  [0.8,-0.2,0.8]])\n",
    "regionsPerCollar, phis, thetas = partitionSphere(numPartitions)\n",
    "discretizer = trajectoryTools.trajDiscretization3DCython(minima, boxSize, innerMSMrad)\n",
    "discretizer.getSpherePartition(regionsPerCollar, phis, thetas)\n",
    "coord = np.array([3.4,-2,-2]) # norm larger than innerMSMrad (boxSize/2)\n",
    "sphereState = discretizer.getStatePy(coord,-1) - (len(minima) - 1)\n",
    "\n",
    "# Call function to plot state and coordinate in spherical partition\n",
    "print sphereState\n",
    "plotPartitionedSphere(numPartitions = numPartitions, plotState=sphereState, coord=coord)\n",
    "#plt.savefig('../Report/figs/3Dsphere_partition.pdf')"
   ]
  },
  {
   "cell_type": "code",
   "execution_count": 11,
   "metadata": {
    "collapsed": false,
    "deletable": true,
    "editable": true
   },
   "outputs": [
    {
     "name": "stdout",
     "output_type": "stream",
     "text": [
      "8.33333333333% done\n",
      "16.6666666667% done\n",
      "25.0% done\n",
      "33.3333333333% done\n",
      "41.6666666667% done\n",
      "50.0% done\n",
      "58.3333333333% done\n",
      "66.6666666667% done\n",
      "75.0% done\n",
      "83.3333333333% done\n",
      "91.6666666667% done\n",
      "100.0% done\n",
      "CPU times: user 26min 9s, sys: 6.36 s, total: 26min 15s\n",
      "Wall time: 26min 23s\n"
     ]
    }
   ],
   "source": [
    "%%time\n",
    "numfiles = 120\n",
    "# Load partitions, boxsize and minimas\n",
    "numPartitions = 100\n",
    "boxSize = 5.\n",
    "innerMSMrad = 2.5\n",
    "regionsPerCollar, phis, thetas = partitionSphere(numPartitions)\n",
    "minima = np.array([[-0.9,0.7,0.3] , [-0.1,0.9,0.7],  [0.8,0.8,-0.8],  \\\n",
    "                  [-1.0,-0.3,-0.4], [0.0,0.0,0.0],   [0.9,-0.1,-0.9], \\\n",
    "                  [-0.7,-1.0,-0.3], [0.0,-0.9,0.1],  [0.8,-0.2,0.8]])\n",
    "\n",
    "# Extract trajectories from file using asym2Dtraj class\n",
    "# fname = '../data/asym3D/3DasymTrajs_pBox5_sf2_R4_RT1e7_dt001_si10_' # old data with bug in potential\n",
    "# fname = '../data/asym3D/3DasymTrajs_pbox5_RT1e7_sf2.0_dt0.001_si10_run_'\n",
    "#fname = '../data/asym3D/box6/3DasymTrajs_pbox5_RT1e7_sf2.0_dt0.0001_si10_run_'\n",
    "fname = '/group/ag_cmb/scratch/dibakma/MSMRD/asym3D/box6/3DasymTrajs_pbox6_RT1e7_sf2.0_dt0.0001_si10_run_'\n",
    "dimension = 3\n",
    "discretizer = trajectoryTools.trajDiscretization3DCython(minima, boxSize, innerMSMrad)\n",
    "discretizer.getSpherePartition(regionsPerCollar, phis, thetas)\n",
    "trajs = []\n",
    "dTrajs = []\n",
    "#fullDTrajs = []\n",
    "truncTrajs = []\n",
    "dTruncTrajs = []\n",
    "truncatedTrajs = []\n",
    "dTruncatedTrajs = []\n",
    "i = 0\n",
    "samplingInterval = 10 # in the original computation\n",
    "for number in range(numfiles):\n",
    "    f = h5py.File(fname + str(number) + '.h5', 'r')\n",
    "    data = np.array(f['traj'], dtype=float)\n",
    "    f.close()\n",
    "    if not np.allclose(data[1:,0]-data[:-1,0], samplingInterval):\n",
    "        print 'timestep not constant'\n",
    "    traj = data[:,1:dimension+1]\n",
    "    #fullDTrajs.append(discretizer.getdTrajs([traj]))\n",
    "    dTrajs += discretizer.getdTrajs([traj])\n",
    "    lastTruncTrajs = discretizer.getTruncatedTraj(traj, prepend=True) # Use True for code, false for traj plotting?\n",
    "    truncatedTrajs.append(lastTruncTrajs)\n",
    "    truncTrajs += lastTruncTrajs\n",
    "    lastDTruncTrajs = discretizer.getdTrajs(lastTruncTrajs)\n",
    "    dTruncTrajs += lastDTruncTrajs\n",
    "    dTruncatedTrajs.append(lastDTruncTrajs)\n",
    "    i+=1\n",
    "    if i % 10 == 0:\n",
    "        print str(i/float(numfiles) * 100)+'% done'\n",
    "    # delete memory to avoid overhead\n",
    "    del data\n",
    "    del traj\n",
    "    #trajs.append(traj) # Need to pass to create density data for visit visualization"
   ]
  },
  {
   "cell_type": "code",
   "execution_count": 3,
   "metadata": {
    "collapsed": false,
    "deletable": true,
    "editable": true
   },
   "outputs": [
    {
     "ename": "NameError",
     "evalue": "name 'dTrajs' is not defined",
     "output_type": "error",
     "traceback": [
      "\u001b[0;31m---------------------------------------------------------------------------\u001b[0m",
      "\u001b[0;31mNameError\u001b[0m                                 Traceback (most recent call last)",
      "\u001b[0;32m<ipython-input-3-76b13af6260d>\u001b[0m in \u001b[0;36m<module>\u001b[0;34m()\u001b[0m\n\u001b[0;32m----> 1\u001b[0;31m \u001b[0;32mprint\u001b[0m \u001b[0mdTrajs\u001b[0m\u001b[0;34m.\u001b[0m\u001b[0mshape\u001b[0m\u001b[0;34m\u001b[0m\u001b[0m\n\u001b[0m",
      "\u001b[0;31mNameError\u001b[0m: name 'dTrajs' is not defined"
     ]
    }
   ],
   "source": [
    "print dTrajs.shape"
   ]
  },
  {
   "cell_type": "code",
   "execution_count": null,
   "metadata": {
    "collapsed": false,
    "deletable": true,
    "editable": true
   },
   "outputs": [],
   "source": [
    "# visualize trunc trajs\n",
    "def plotTrajs(trajs,numTrajs):\n",
    "    fig = plt.figure(figsize=[10,10])\n",
    "    ax = fig.gca(projection='3d') \n",
    "    i=0\n",
    "    print(len(trajs))\n",
    "    for traj in trajs:\n",
    "        trajx = []\n",
    "        trajy = []\n",
    "        trajz = []\n",
    "        for i in range(len(traj)):\n",
    "            trajx.append(traj[i][0])\n",
    "            trajy.append(traj[i][1])\n",
    "            trajz.append(traj[i][2])\n",
    "        #ax.plot(trajx,trajy,trajz,'.')\n",
    "        ax.plot(trajx,trajy,trajz,'b-', lw=0.0002)\n",
    "        i += 1\n",
    "        if i > numTrajs:\n",
    "            break\n",
    "            \n",
    "plotTrajs(truncTrajs,100000)\n",
    "for i in range(len(minima)):\n",
    "    ax.text(minima[i,0], minima[i,1], minima[i,2], str(i), color='black', size=25)"
   ]
  },
  {
   "cell_type": "code",
   "execution_count": 12,
   "metadata": {
    "collapsed": false,
    "deletable": true,
    "editable": true
   },
   "outputs": [
    {
     "name": "stdout",
     "output_type": "stream",
     "text": [
      "CPU times: user 0 ns, sys: 0 ns, total: 0 ns\n",
      "Wall time: 3.1 µs\n"
     ]
    }
   ],
   "source": [
    "# Get exit/entry lookup tables\n",
    "%time\n",
    "# CALL WITH dTruncTrajs or dTrajs, see function in trajectoryTools.pyx\n",
    "entryTrajsStart, entryTrajsEnd, entryTimes = discretizer.getLookupTableEntry(dTruncTrajs, truncTrajs)\n",
    "exitPositions, exitTimes = discretizer.getLookupTableExit(dTruncTrajs, truncTrajs)\n",
    "transitionTrajs = discretizer.getTransitionTrajs(dTruncTrajs)"
   ]
  },
  {
   "cell_type": "code",
   "execution_count": 13,
   "metadata": {
    "collapsed": false,
    "deletable": true,
    "editable": true
   },
   "outputs": [
    {
     "name": "stdout",
     "output_type": "stream",
     "text": [
      "CPU times: user 0 ns, sys: 0 ns, total: 0 ns\n",
      "Wall time: 3.1 µs\n"
     ]
    }
   ],
   "source": [
    "#find exit trajectories\n",
    "%time\n",
    "exitTrajs = []\n",
    "for i in range(9):\n",
    "    exitTrajs += (transitionTrajs[i][9])"
   ]
  },
  {
   "cell_type": "code",
   "execution_count": 6,
   "metadata": {
    "collapsed": false,
    "deletable": true,
    "editable": true
   },
   "outputs": [
    {
     "ename": "NameError",
     "evalue": "name 'dataList' is not defined",
     "output_type": "error",
     "traceback": [
      "\u001b[0;31m---------------------------------------------------------------------------\u001b[0m",
      "\u001b[0;31mNameError\u001b[0m                                 Traceback (most recent call last)",
      "\u001b[0;32m<ipython-input-6-56ec4073d5b2>\u001b[0m in \u001b[0;36m<module>\u001b[0;34m()\u001b[0m\n\u001b[0;32m----> 1\u001b[0;31m \u001b[0mget_ipython\u001b[0m\u001b[0;34m(\u001b[0m\u001b[0;34m)\u001b[0m\u001b[0;34m.\u001b[0m\u001b[0mrun_cell_magic\u001b[0m\u001b[0;34m(\u001b[0m\u001b[0;34mu'time'\u001b[0m\u001b[0;34m,\u001b[0m \u001b[0;34mu''\u001b[0m\u001b[0;34m,\u001b[0m \u001b[0;34mu'truncatedTrajs = []\\ndTruncatedTrajs = []\\nfor traj in dataList:\\n    truncatedTrajs.append(lcsDiscretizer.getTruncatedTraj(traj, prepend=True))\\ndTruncatedTrajs = [lcsDiscretizer.getdTrajs(trTraj) for trTraj in truncatedTrajs]'\u001b[0m\u001b[0;34m)\u001b[0m\u001b[0;34m\u001b[0m\u001b[0m\n\u001b[0m",
      "\u001b[0;32m/home/mi/dibakma/miniconda2/lib/python2.7/site-packages/IPython/core/interactiveshell.pyc\u001b[0m in \u001b[0;36mrun_cell_magic\u001b[0;34m(self, magic_name, line, cell)\u001b[0m\n\u001b[1;32m   2113\u001b[0m             \u001b[0mmagic_arg_s\u001b[0m \u001b[0;34m=\u001b[0m \u001b[0mself\u001b[0m\u001b[0;34m.\u001b[0m\u001b[0mvar_expand\u001b[0m\u001b[0;34m(\u001b[0m\u001b[0mline\u001b[0m\u001b[0;34m,\u001b[0m \u001b[0mstack_depth\u001b[0m\u001b[0;34m)\u001b[0m\u001b[0;34m\u001b[0m\u001b[0m\n\u001b[1;32m   2114\u001b[0m             \u001b[0;32mwith\u001b[0m \u001b[0mself\u001b[0m\u001b[0;34m.\u001b[0m\u001b[0mbuiltin_trap\u001b[0m\u001b[0;34m:\u001b[0m\u001b[0;34m\u001b[0m\u001b[0m\n\u001b[0;32m-> 2115\u001b[0;31m                 \u001b[0mresult\u001b[0m \u001b[0;34m=\u001b[0m \u001b[0mfn\u001b[0m\u001b[0;34m(\u001b[0m\u001b[0mmagic_arg_s\u001b[0m\u001b[0;34m,\u001b[0m \u001b[0mcell\u001b[0m\u001b[0;34m)\u001b[0m\u001b[0;34m\u001b[0m\u001b[0m\n\u001b[0m\u001b[1;32m   2116\u001b[0m             \u001b[0;32mreturn\u001b[0m \u001b[0mresult\u001b[0m\u001b[0;34m\u001b[0m\u001b[0m\n\u001b[1;32m   2117\u001b[0m \u001b[0;34m\u001b[0m\u001b[0m\n",
      "\u001b[0;32m<decorator-gen-59>\u001b[0m in \u001b[0;36mtime\u001b[0;34m(self, line, cell, local_ns)\u001b[0m\n",
      "\u001b[0;32m/home/mi/dibakma/miniconda2/lib/python2.7/site-packages/IPython/core/magic.pyc\u001b[0m in \u001b[0;36m<lambda>\u001b[0;34m(f, *a, **k)\u001b[0m\n\u001b[1;32m    186\u001b[0m     \u001b[0;31m# but it's overkill for just that one bit of state.\u001b[0m\u001b[0;34m\u001b[0m\u001b[0;34m\u001b[0m\u001b[0m\n\u001b[1;32m    187\u001b[0m     \u001b[0;32mdef\u001b[0m \u001b[0mmagic_deco\u001b[0m\u001b[0;34m(\u001b[0m\u001b[0marg\u001b[0m\u001b[0;34m)\u001b[0m\u001b[0;34m:\u001b[0m\u001b[0;34m\u001b[0m\u001b[0m\n\u001b[0;32m--> 188\u001b[0;31m         \u001b[0mcall\u001b[0m \u001b[0;34m=\u001b[0m \u001b[0;32mlambda\u001b[0m \u001b[0mf\u001b[0m\u001b[0;34m,\u001b[0m \u001b[0;34m*\u001b[0m\u001b[0ma\u001b[0m\u001b[0;34m,\u001b[0m \u001b[0;34m**\u001b[0m\u001b[0mk\u001b[0m\u001b[0;34m:\u001b[0m \u001b[0mf\u001b[0m\u001b[0;34m(\u001b[0m\u001b[0;34m*\u001b[0m\u001b[0ma\u001b[0m\u001b[0;34m,\u001b[0m \u001b[0;34m**\u001b[0m\u001b[0mk\u001b[0m\u001b[0;34m)\u001b[0m\u001b[0;34m\u001b[0m\u001b[0m\n\u001b[0m\u001b[1;32m    189\u001b[0m \u001b[0;34m\u001b[0m\u001b[0m\n\u001b[1;32m    190\u001b[0m         \u001b[0;32mif\u001b[0m \u001b[0mcallable\u001b[0m\u001b[0;34m(\u001b[0m\u001b[0marg\u001b[0m\u001b[0;34m)\u001b[0m\u001b[0;34m:\u001b[0m\u001b[0;34m\u001b[0m\u001b[0m\n",
      "\u001b[0;32m/home/mi/dibakma/miniconda2/lib/python2.7/site-packages/IPython/core/magics/execution.pyc\u001b[0m in \u001b[0;36mtime\u001b[0;34m(self, line, cell, local_ns)\u001b[0m\n\u001b[1;32m   1183\u001b[0m         \u001b[0;32melse\u001b[0m\u001b[0;34m:\u001b[0m\u001b[0;34m\u001b[0m\u001b[0m\n\u001b[1;32m   1184\u001b[0m             \u001b[0mst\u001b[0m \u001b[0;34m=\u001b[0m \u001b[0mclock2\u001b[0m\u001b[0;34m(\u001b[0m\u001b[0;34m)\u001b[0m\u001b[0;34m\u001b[0m\u001b[0m\n\u001b[0;32m-> 1185\u001b[0;31m             \u001b[0;32mexec\u001b[0m\u001b[0;34m(\u001b[0m\u001b[0mcode\u001b[0m\u001b[0;34m,\u001b[0m \u001b[0mglob\u001b[0m\u001b[0;34m,\u001b[0m \u001b[0mlocal_ns\u001b[0m\u001b[0;34m)\u001b[0m\u001b[0;34m\u001b[0m\u001b[0m\n\u001b[0m\u001b[1;32m   1186\u001b[0m             \u001b[0mend\u001b[0m \u001b[0;34m=\u001b[0m \u001b[0mclock2\u001b[0m\u001b[0;34m(\u001b[0m\u001b[0;34m)\u001b[0m\u001b[0;34m\u001b[0m\u001b[0m\n\u001b[1;32m   1187\u001b[0m             \u001b[0mout\u001b[0m \u001b[0;34m=\u001b[0m \u001b[0mNone\u001b[0m\u001b[0;34m\u001b[0m\u001b[0m\n",
      "\u001b[0;32m<timed exec>\u001b[0m in \u001b[0;36m<module>\u001b[0;34m()\u001b[0m\n",
      "\u001b[0;31mNameError\u001b[0m: name 'dataList' is not defined"
     ]
    }
   ],
   "source": [
    "'''\n",
    "%%time\n",
    "truncatedTrajs = []\n",
    "dTruncatedTrajs = []\n",
    "for traj in dataList:\n",
    "    truncatedTrajs.append(lcsDiscretizer.getTruncatedTraj(traj, prepend=True))\n",
    "dTruncatedTrajs = [lcsDiscretizer.getdTrajs(trTraj) for trTraj in truncatedTrajs]\n",
    "'''"
   ]
  },
  {
   "cell_type": "code",
   "execution_count": 14,
   "metadata": {
    "collapsed": true,
    "deletable": true,
    "editable": true
   },
   "outputs": [],
   "source": [
    "def implied_timescales_resampling(lag, nsamples):\n",
    "    samples = []\n",
    "    trajectories = numfiles\n",
    "    impliedTimescales = []\n",
    "    for i in range(nsamples):\n",
    "        sampleIndices = np.random.choice(trajectories, size=trajectories, replace=True)\n",
    "        sample = [dTrajs[j] for j in sampleIndices]\n",
    "        sampleTrTrajs = []\n",
    "        for j in range(trajectories):\n",
    "            sampleTrTrajs += dTruncatedTrajs[sampleIndices[j]]\n",
    "        transitionTrajSample = discretizer.getTransitionTrajs(sampleTrTrajs)\n",
    "        exitTrajsSample = []\n",
    "        for j in range(9):\n",
    "            exitTrajsSample += transitionTrajSample[j][9]\n",
    "        fullCount = est.count_matrix(sample, lag, sliding=True, sparse_return=False)\n",
    "        exitCounts = est.count_matrix(exitTrajsSample, lag, sliding=True, sparse_return=False)\n",
    "        finalCountMatrix = 1. * np.asarray(fullCount)\n",
    "        for j in range(9):\n",
    "            finalCountMatrix[j,j] -= exitCounts[j,j]\n",
    "        if np.any(finalCountMatrix < 0):\n",
    "            print 'negative entry in final count Matrix'\n",
    "            return fullCount, exitCounts\n",
    "        if np.any(np.sum(finalCountMatrix[:9,:9], axis=1) == 0):\n",
    "            print 'skipped sample due to sum being zero before estimation'\n",
    "            continue\n",
    "        tmatrix = np.asarray(est.transition_matrix(finalCountMatrix[:9,:9], reversible=False))\n",
    "        if np.any(tmatrix < 0):\n",
    "            print 'negative entry in tmatrix'\n",
    "        internalTmatrix = np.copy(tmatrix).astype('float64')\n",
    "        if np.any(np.sum(internalTmatrix, axis=1) == 0):\n",
    "            print 'skipped sample due to sum being zero'\n",
    "            continue\n",
    "        if np.any(internalTmatrix < 0):\n",
    "            print 'negative entry in internal tmatrix'\n",
    "        #for j in range(len(internalTmatrix)):\n",
    "        #    internalTmatrix[j,:] /= np.sum(internalTmatrix[j,:])\n",
    "        try:\n",
    "            assert np.allclose(np.sum(internalTmatrix, axis=1), 1)\n",
    "        except:\n",
    "            print 'assertion failed' + str(i)\n",
    "            return internalTmatrix\n",
    "        if not est.is_connected(internalTmatrix):\n",
    "            print 'skipped sample as is not connected'\n",
    "            continue\n",
    "        try:\n",
    "            msm = pyemma.msm.markov_model(internalTmatrix, dt_model=str(lag) + ' step')\n",
    "        except:\n",
    "            print 'not a T matrix'\n",
    "            print np.any(internalTmatrix < 0)\n",
    "            return internalTmatrix\n",
    "        impliedTimescales.append(msm.timescales())\n",
    "    return np.array(impliedTimescales)"
   ]
  },
  {
   "cell_type": "code",
   "execution_count": 28,
   "metadata": {
    "collapsed": false,
    "deletable": true,
    "editable": true
   },
   "outputs": [
    {
     "name": "stdout",
     "output_type": "stream",
     "text": [
      "1\n",
      "11\n",
      "21\n",
      "31\n",
      "41\n",
      "51\n",
      "61\n",
      "71\n",
      "81\n",
      "91\n"
     ]
    }
   ],
   "source": [
    "lags = []\n",
    "timescales = []\n",
    "errors = []\n",
    "nsamples = []\n",
    "for lag in range(1, 100, 10):\n",
    "    print lag\n",
    "    its = implied_timescales_resampling(lag, 100)\n",
    "    timescales.append(np.mean(its, axis=0))\n",
    "    errors.append(np.std(its, axis=0))\n",
    "    lags.append(lag)\n",
    "    nsamples.append(len(its))"
   ]
  },
  {
   "cell_type": "code",
   "execution_count": 30,
   "metadata": {
    "collapsed": false,
    "deletable": true,
    "editable": true
   },
   "outputs": [
    {
     "data": {
      "text/plain": [
       "[1, 2, 3, 4, 5, 6]"
      ]
     },
     "execution_count": 30,
     "metadata": {},
     "output_type": "execute_result"
    }
   ],
   "source": [
    "[1, 2, 3]+[4,5,6]"
   ]
  },
  {
   "cell_type": "code",
   "execution_count": 3,
   "metadata": {
    "collapsed": true,
    "deletable": true,
    "editable": true
   },
   "outputs": [],
   "source": [
    "%matplotlib inline\n",
    "import pickle"
   ]
  },
  {
   "cell_type": "code",
   "execution_count": 39,
   "metadata": {
    "collapsed": false,
    "deletable": true,
    "editable": true
   },
   "outputs": [],
   "source": [
    "itsArray = [np.array(lags), np.array(timescales), np.array(errors)]\n",
    "pickle.dump(itsArray, open('/group/ag_cmb/scratch/dibakma/MSMRD/models/asym3D/impliedTimescales.p', 'wa'))"
   ]
  },
  {
   "cell_type": "code",
   "execution_count": 5,
   "metadata": {
    "collapsed": false
   },
   "outputs": [],
   "source": [
    "lags, timescales, errors = pickle.load(open('/group/ag_cmb/scratch/dibakma/MSMRD/models/asym3D/impliedTimescales.p', 'r'))"
   ]
  },
  {
   "cell_type": "code",
   "execution_count": 11,
   "metadata": {
    "collapsed": false,
    "deletable": true,
    "editable": true
   },
   "outputs": [
    {
     "data": {
      "image/png": "[encoded data removed]",
      "text/plain": [
       "<matplotlib.figure.Figure at 0x7f3aaf439ed0>"
      ]
     },
     "metadata": {},
     "output_type": "display_data"
    }
   ],
   "source": [
    "# Do the actual plot with proper timescaling\n",
    "plt.style.use('paperPlot')\n",
    "matplotlib.rcParams.update({'ytick.labelsize':24, 'xtick.labelsize':24, 'axes.labelsize':24, 'axes.titlesize':26})\n",
    "plt.rcParams['figure.figsize'] = (7, 5)\n",
    "scale = 0.001\n",
    "for i in range(8):\n",
    "    #plt.plot(np.array(lagtimes)*scale, scale*baysianTimescales[:,i], c='C'+str(i%9))\n",
    "    plt.plot(np.array(lags)*scale, scale*np.array(timescales)[:,i], 'x', c='C'+str(i%9))\n",
    "    plt.fill_between(np.array(lags)*scale, (np.array(timescales)[:,i]+np.array(errors)[:,i])*scale, (np.array(timescales)[:,i]-np.array(errors)[:,i])*scale, alpha=0.3, color='C'+str(i%9))\n",
    "plt.xlabel('$\\\\tau_{MSM}$ [ns]')\n",
    "plt.ylabel('timescale [ns]')\n",
    "plt.title('implied timescales')\n",
    "#plt.yscale('log')\n",
    "plt.savefig('../../Paper/figs/asym3D/impliedTimescales_resamplingError_units.pdf', bbox_inches='tight')"
   ]
  },
  {
   "cell_type": "code",
   "execution_count": 18,
   "metadata": {
    "collapsed": true,
    "deletable": true,
    "editable": true
   },
   "outputs": [],
   "source": [
    "#compute implied timescales from special count matrix\n",
    "def implied_timescales(lag):\n",
    "    fullCount = est.count_matrix(dTrajs, lag)\n",
    "    exitCounts = est.count_matrix(exitTrajs, lag)\n",
    "    finalCountMatrix = 1. * fullCount\n",
    "    for i in range(9):\n",
    "        finalCountMatrix[i,i] -= exitCounts[i,i]\n",
    "    tmatrixFull = est.transition_matrix(fullCount)\n",
    "    tmatrix = est.transition_matrix(finalCountMatrix).todense()\n",
    "    treduced = np.copy(tmatrix[:9,:9])\n",
    "    for i in range(9):\n",
    "        treduced[i,:] /= np.sum(treduced[i,:])\n",
    "    MSM = pyemma.msm.markov_model(treduced, dt_model=str(lag)+' step')\n",
    "    _msm = pyemma.msm.markov_model(treduced, dt_model=str(lag) + ' step')\n",
    "    sample_Ps, sample_mus = msmtools.estimation.sample_tmatrix(finalCountMatrix, nsample=10000, return_statdist=True)\n",
    "    _bmsm = pyemma.msm.BayesianMSM(lag=lag)\n",
    "    samples = []\n",
    "    for i in range(100):\n",
    "        samples.append(pyemma.msm.MSM(sample_Ps[i], pi=sample_mus[i], reversible=False, dt_model=str(lag) + ' step'))\n",
    "    _bmsm.update_model_params(samples=samples)\n",
    "    return MSM.timescales(), _bmsm.sample_std('timescales', k=8)"
   ]
  },
  {
   "cell_type": "code",
   "execution_count": 19,
   "metadata": {
    "collapsed": false,
    "deletable": true,
    "editable": true
   },
   "outputs": [
    {
     "name": "stderr",
     "output_type": "stream",
     "text": [
      "/home/mi/dibakma/miniconda2/lib/python2.7/site-packages/msmtools/estimation/api.py:1147: UserWarning: Converting input to dense, since method is currently only implemented for dense matrices.\n",
      "  'currently only implemented for dense matrices.', UserWarning)\n",
      "/home/mi/dibakma/miniconda2/lib/python2.7/site-packages/msmtools/analysis/dense/decomposition.py:540: ImaginaryEigenValueWarning: Using eigenvalues with non-zero imaginary part\n",
      "  warnings.warn('Using eigenvalues with non-zero imaginary part', ImaginaryEigenValueWarning)\n"
     ]
    },
    {
     "name": "stdout",
     "output_type": "stream",
     "text": [
      "[[ 1333.00497677  1050.87033288   620.53926961   358.86533092\n",
      "    324.22173069   296.31585518   280.96789998   193.79732779]\n",
      " [ 1327.98264852  1045.85242311   615.52033854   353.83791319\n",
      "    319.18630041   291.28043841   275.9303941    188.75056148]\n",
      " [ 1323.19452524  1040.86872523   610.54038264   348.95986941\n",
      "    314.23237356   286.24234338   270.97753779   183.89756184]\n",
      " [ 1318.36164961  1036.01445967   605.69700595   344.47913006\n",
      "    309.57361566   281.33859802   266.37144375   179.76089289]\n",
      " [ 1313.59716507  1031.38265652   601.02199688   340.35706973\n",
      "    305.12984712   276.90887643   262.21261397   176.34458438]\n",
      " [ 1308.90509912  1026.99154977   596.4923412    336.55581741\n",
      "    300.98171606   273.09029132   258.40679537   173.43374439]\n",
      " [ 1304.4096128   1022.8448117    592.10134491   333.05602329\n",
      "    297.16705585   269.6975045    255.04062879   170.9684622 ]\n",
      " [ 1300.11918709  1018.95159327   588.04798521   329.90689365\n",
      "    293.73113056   266.63589829   251.97853373   168.83883056]\n",
      " [ 1296.01150446  1015.03009227   584.27441715   327.05200904\n",
      "    290.64925409   263.78598879   249.18225542   166.98841408]\n",
      " [ 1292.13877101  1011.32225909   580.73610371   324.4502105    287.9319572\n",
      "    261.29142405   246.69780105   165.37655674]]\n"
     ]
    },
    {
     "data": {
      "image/png": "[encoded data removed]",
      "text/plain": [
       "<matplotlib.figure.Figure at 0x7f0a1a2d9dd0>"
      ]
     },
     "metadata": {},
     "output_type": "display_data"
    }
   ],
   "source": [
    "timescales = []\n",
    "errors = []\n",
    "lagtimes = range(1, 100, 10)\n",
    "for lag in lagtimes:\n",
    "    tsc, err = implied_timescales(lag)\n",
    "    timescales.append(tsc)\n",
    "    errors.append(err)\n",
    "timescales = np.array(timescales)\n",
    "errors = np.array(errors)\n",
    "for i in range(8):\n",
    "    plt.errorbar(lagtimes, timescales[:,i], yerr=errors[:,i])\n",
    "plt.xlabel('lag-time')\n",
    "plt.ylabel('timescale')\n",
    "plt.title('implied timescales')\n",
    "#plt.savefig('../Report/figs/periodicModel/impliedTimescales3D_dt0.001.pdf')\n",
    "print timescales"
   ]
  },
  {
   "cell_type": "code",
   "execution_count": 25,
   "metadata": {
    "collapsed": false,
    "deletable": true,
    "editable": true
   },
   "outputs": [
    {
     "name": "stdout",
     "output_type": "stream",
     "text": [
      "1\n",
      "11\n",
      "21\n",
      "31\n",
      "41\n",
      "51\n",
      "61\n",
      "71\n",
      "81\n",
      "91\n"
     ]
    },
    {
     "data": {
      "text/plain": [
       "\"\\nfor i in range(8):\\n    plt.errorbar(lagtimes, timescales[:,i], yerr=errors[:,i])\\nplt.xlabel('lag-time')\\nplt.ylabel('timescale')\\nplt.title('implied timescales')\\n#plt.savefig('../Report/figs/periodicModel/impliedTimescales3D_dt0.001.pdf')\\nprint timescales\\n\""
      ]
     },
     "execution_count": 25,
     "metadata": {},
     "output_type": "execute_result"
    }
   ],
   "source": [
    "baysianTimescales = []\n",
    "baysianErrors = []\n",
    "lagtimes = range(1, 100, 10)\n",
    "for lag in lagtimes:\n",
    "    tsc, err = implied_timescales(lag)\n",
    "    baysianTimescales.append(tsc)\n",
    "    baysianErrors.append(err)\n",
    "    print lag\n",
    "baysianTimescales = np.array(timescales)\n",
    "baysianErrors = np.array(errors)\n",
    "'''\n",
    "for i in range(8):\n",
    "    plt.errorbar(lagtimes, timescales[:,i], yerr=errors[:,i])\n",
    "plt.xlabel('lag-time')\n",
    "plt.ylabel('timescale')\n",
    "plt.title('implied timescales')\n",
    "#plt.savefig('../Report/figs/periodicModel/impliedTimescales3D_dt0.001.pdf')\n",
    "print timescales\n",
    "'''"
   ]
  },
  {
   "cell_type": "code",
   "execution_count": null,
   "metadata": {
    "collapsed": false,
    "deletable": true,
    "editable": true
   },
   "outputs": [],
   "source": [
    "for i in range(8):\n",
    "    plt.errorbar(lagtimes, timescales[:,i], yerr=2*errors[:,i])\n",
    "plt.xlabel('lag-time')\n",
    "plt.ylabel('timescale')\n",
    "plt.title('implied timescales')"
   ]
  },
  {
   "cell_type": "code",
   "execution_count": null,
   "metadata": {
    "collapsed": false,
    "deletable": true,
    "editable": true
   },
   "outputs": [],
   "source": [
    "for i in range(8):\n",
    "    plt.errorbar(lagtimes, timescales[:,i], yerr=2*errors[:,i])\n",
    "plt.xlabel('lag-time', y=10000)\n",
    "plt.ylabel('timescale')\n",
    "plt.title('implied timescales')\n",
    "plt.tight_layout()\n",
    "plt.savefig('../Paper/figs/asym3D/impliedTimescales3D_dt0.001.pdf')"
   ]
  },
  {
   "cell_type": "code",
   "execution_count": null,
   "metadata": {
    "collapsed": false,
    "deletable": true,
    "editable": true
   },
   "outputs": [],
   "source": [
    "dTrajs1partitions = []\n",
    "for dtraj in dTrajs:\n",
    "    cp = np.copy(dtraj)\n",
    "    indices = np.where(cp>9)[0]\n",
    "    cp[indices] = 9\n",
    "    dTrajs1partitions.append(cp)"
   ]
  },
  {
   "cell_type": "code",
   "execution_count": null,
   "metadata": {
    "collapsed": true,
    "deletable": true,
    "editable": true
   },
   "outputs": [],
   "source": [
    "fullCount = est.count_matrix(dTrajs, 50)\n",
    "exitCounts = est.count_matrix(exitTrajs, 50)"
   ]
  },
  {
   "cell_type": "code",
   "execution_count": null,
   "metadata": {
    "collapsed": true,
    "deletable": true,
    "editable": true
   },
   "outputs": [],
   "source": [
    "finalCountMatrix = 1. * fullCount[:9,:9]\n",
    "for i in range(9):\n",
    "    finalCountMatrix[i,i] -= exitCounts[i,i]"
   ]
  },
  {
   "cell_type": "code",
   "execution_count": null,
   "metadata": {
    "collapsed": false,
    "deletable": true,
    "editable": true
   },
   "outputs": [],
   "source": [
    "tmatrix = est.transition_matrix(finalCountMatrix, reversible=False).todense()\n",
    "treduced = np.copy(tmatrix[:9,:9])\n",
    "for i in range(9):\n",
    "    treduced[i,:] /= np.sum(treduced[i,:])\n",
    "for i in range(9):\n",
    "    print (treduced[i,i])"
   ]
  },
  {
   "cell_type": "code",
   "execution_count": null,
   "metadata": {
    "collapsed": false,
    "deletable": true,
    "editable": true
   },
   "outputs": [],
   "source": [
    "_msm = pyemma.msm.markov_model(treduced, dt_model=str(50) + ' step')\n",
    "sample_Ps, sample_mus = msmtools.estimation.sample_tmatrix(finalCountMatrix, nsample=10000, return_statdist=True)\n",
    "_bmsm = pyemma.msm.BayesianMSM(lag=50)\n",
    "samples = []\n",
    "for i in range(10000):\n",
    "    samples.append(pyemma.msm.MSM(sample_Ps[i], pi=sample_mus[i], reversible=False, dt_model=str(50) + ' step'))\n",
    "_bmsm.update_model_params(samples=samples)\n",
    "timescales = _msm.timescales(k=8)\n",
    "timescales_err = _bmsm.sample_f('timescales', k=8)\n",
    "_bmsm.sample_std('timescales', k=8)"
   ]
  },
  {
   "cell_type": "code",
   "execution_count": null,
   "metadata": {
    "collapsed": false,
    "deletable": true,
    "editable": true
   },
   "outputs": [],
   "source": [
    "np.std(np.array(timescales_err), axis=0)"
   ]
  },
  {
   "cell_type": "code",
   "execution_count": null,
   "metadata": {
    "collapsed": false,
    "deletable": true,
    "editable": true
   },
   "outputs": [],
   "source": [
    "np.std(np.array(timescales_err), axis=0)\n",
    "plt.errorbar(np.arange(8), timescales, yerr=2*np.std(np.array(timescales_err), axis=0))"
   ]
  },
  {
   "cell_type": "code",
   "execution_count": null,
   "metadata": {
    "collapsed": false,
    "deletable": true,
    "editable": true
   },
   "outputs": [],
   "source": [
    "tmatrixFull = est.transition_matrix(fullCount).todense()\n",
    "treducedFull = np.copy(tmatrixFull[:9,:9])\n",
    "for i in range(9):\n",
    "    treducedFull[i,:] /= np.sum(treducedFull[i,:])\n",
    "for i in range(9):\n",
    "    print (treducedFull[i,i])"
   ]
  },
  {
   "cell_type": "code",
   "execution_count": null,
   "metadata": {
    "collapsed": false,
    "deletable": true,
    "editable": true
   },
   "outputs": [],
   "source": [
    "plt.matshow(treducedFull - tmatrix)\n",
    "plt.colorbar()"
   ]
  },
  {
   "cell_type": "code",
   "execution_count": null,
   "metadata": {
    "collapsed": false,
    "deletable": true,
    "editable": true
   },
   "outputs": [],
   "source": [
    "# Calculate exit probabilities for each of the inner states\n",
    "exitProbs = np.zeros(len(minima))\n",
    "for i in range(len(minima)):\n",
    "    outgoingTrajs = 0\n",
    "    for j in range(10): ## WHY 10 and not 9 (len(minima))?\n",
    "        outgoingTrajs += len(transitionTrajs[i][j])   \n",
    "    exitProbs[i] = len(transitionTrajs[i][len(minima)])/float(outgoingTrajs)\n",
    "print exitProbs"
   ]
  },
  {
   "cell_type": "code",
   "execution_count": null,
   "metadata": {
    "collapsed": false,
    "deletable": true,
    "editable": true
   },
   "outputs": [],
   "source": [
    "for i in range(9):\n",
    "    plt.scatter(np.array(exitPositions[i])[:,0], np.array(exitPositions[i])[:,1])\n",
    "#for i in range(9):\n",
    "    #print np.sort(exitTimes[i])"
   ]
  },
  {
   "cell_type": "code",
   "execution_count": null,
   "metadata": {
    "collapsed": false,
    "deletable": true,
    "editable": true
   },
   "outputs": [],
   "source": [
    "# Partition MSM entry trajectories into discrete regions in the sphere \n",
    "numPartitions=240\n",
    "spherePartitionsForLookUp = 1*numPartitions\n",
    "regionsPerCollar2, phis2, thetas2 = partitionSphere(spherePartitionsForLookUp)\n",
    "thetas_coord = np.arctan2(entryTrajsStart[:,1], entryTrajsStart[:,0])\n",
    "thetas_coord[thetas_coord<0] = thetas_coord[thetas_coord<0] + 2*np.pi\n",
    "r = np.linalg.norm(entryTrajsStart[:], axis=1)\n",
    "phis_coords = np.arccos(entryTrajsStart[:,2]/r)\n",
    "sortedEntryTrajsStart = []\n",
    "sortedEntryTrajsEnd = []\n",
    "sortedEntryTimes = []\n",
    "for i in range(len(regionsPerCollar2)):\n",
    "    phiIncrement = np.pi/len(regionsPerCollar2)\n",
    "    idcs_phi = np.where(np.logical_and(phis_coords>i*phiIncrement, phis_coords<= (i+1)*phiIncrement))[0]\n",
    "    for j in range(regionsPerCollar2[i]):\n",
    "        thetaIncrement = 2*np.pi/regionsPerCollar2[i]\n",
    "        idcs_theta = np.where(np.logical_and(thetas_coord>j*thetaIncrement, thetas_coord<= (j+1)*thetaIncrement))[0]\n",
    "        idcs = np.intersect1d(idcs_phi,idcs_theta)\n",
    "        sortedEntryTrajsStart.append(entryTrajsStart[idcs])\n",
    "        sortedEntryTimes.append(entryTimes[idcs])\n",
    "        sortedEnds = []\n",
    "        for j in idcs:\n",
    "            sortedEnds.append(entryTrajsEnd[j])\n",
    "        sortedEntryTrajsEnd.append(sortedEnds)"
   ]
  },
  {
   "cell_type": "code",
   "execution_count": null,
   "metadata": {
    "collapsed": false,
    "deletable": true,
    "editable": true
   },
   "outputs": [],
   "source": [
    "#Prepare data to be extracted to file\n",
    "#For this we need the position of the cluster centers as well as the information about the angles of the exit states\n",
    "class truncTrajsModel3D(object):    \n",
    "    def __init__(self, entryTrajsStart, entryTrajsEnd, entryTimes, exitTrajs, exitTimes, exitProbs, MSMtime, tmatrix, numPartitions):\n",
    "        self.entryTrajsStart = entryTrajsStart\n",
    "        self.entryTrajsEnd = entryTrajsEnd\n",
    "        self.entryTimes = entryTimes\n",
    "        self.exitTrajs = exitTrajs\n",
    "        self.exitTimes = exitTimes\n",
    "        self.exitProbs = exitProbs\n",
    "        self.tmatrix = tmatrix\n",
    "        self.MSMtimestep = MSMtime\n",
    "        self.numPartitions = numPartitions"
   ]
  },
  {
   "cell_type": "code",
   "execution_count": null,
   "metadata": {
    "collapsed": false,
    "deletable": true,
    "editable": true
   },
   "outputs": [],
   "source": [
    "model = truncTrajsModel3D(sortedEntryTrajsStart, sortedEntryTrajsEnd, sortedEntryTimes, exitPositions, exitTimes, exitProbs, 0.05, treduced, numPartitions)"
   ]
  },
  {
   "cell_type": "code",
   "execution_count": null,
   "metadata": {
    "collapsed": true,
    "deletable": true,
    "editable": true
   },
   "outputs": [],
   "source": [
    "import pickle\n",
    "pickle.dump(model, open('/group/ag_cmb/scratch/dibakma/MSMRD/models/asym3D/periodicModel_lag0.05_R2.5_121files_240partitions.p', 'wa'))"
   ]
  },
  {
   "cell_type": "code",
   "execution_count": null,
   "metadata": {
    "collapsed": true,
    "deletable": true,
    "editable": true
   },
   "outputs": [],
   "source": []
  },
  {
   "cell_type": "code",
   "execution_count": null,
   "metadata": {
    "collapsed": false,
    "deletable": true,
    "editable": true
   },
   "outputs": [],
   "source": [
    "createDensityData(trajs,filename=\"test3DdensityData_Sf2_200files\")"
   ]
  },
  {
   "cell_type": "code",
   "execution_count": null,
   "metadata": {
    "collapsed": false,
    "deletable": true,
    "editable": true
   },
   "outputs": [],
   "source": [
    "MSMradius = 2.\n",
    "X = np.arange(-MSMradius, MSMradius, 0.05)\n",
    "Y = np.arange(-MSMradius, MSMradius, 0.05)\n",
    "Z = np.arange(-MSMradius, MSMradius, 0.05)\n",
    "Zfull = np.zeros([X.shape[0]-1, Y.shape[0]-1, Z.shape[0]-1])\n",
    "for trj in trajs:\n",
    "    hist = np.histogramdd(traj, bins = (X, Y, Z))\n",
    "    Zfull += hist[0]"
   ]
  },
  {
   "cell_type": "code",
   "execution_count": null,
   "metadata": {
    "collapsed": false,
    "deletable": true,
    "editable": true
   },
   "outputs": [],
   "source": [
    "import pickle\n",
    "model = pickle.load(open('../data/models/asym3D/periodicModel_lag0.01_125files_240partitions.p', 'r'))"
   ]
  },
  {
   "cell_type": "code",
   "execution_count": null,
   "metadata": {
    "collapsed": false,
    "deletable": true,
    "editable": true
   },
   "outputs": [],
   "source": [
    "t = model.tmatrix\n",
    "c = np.copy(t)\n",
    "model.tmatrix = c\n",
    "np.random.choice(9, p=model.tmatrix[2])"
   ]
  },
  {
   "cell_type": "code",
   "execution_count": null,
   "metadata": {
    "collapsed": false,
    "deletable": true,
    "editable": true
   },
   "outputs": [],
   "source": [
    "pickle.dump(model, open('../data/models/asym3D/periodicModel_lag0.01_125files_240partitions.p', 'wa'))"
   ]
  },
  {
   "cell_type": "code",
   "execution_count": null,
   "metadata": {
    "collapsed": false,
    "deletable": true,
    "editable": true
   },
   "outputs": [],
   "source": [
    "type(t)"
   ]
  },
  {
   "cell_type": "code",
   "execution_count": null,
   "metadata": {
    "collapsed": false,
    "deletable": true,
    "editable": true
   },
   "outputs": [],
   "source": [
    "c[2]"
   ]
  },
  {
   "cell_type": "code",
   "execution_count": null,
   "metadata": {
    "collapsed": true,
    "deletable": true,
    "editable": true
   },
   "outputs": [],
   "source": []
  }
 ],
 "metadata": {
  "kernelspec": {
   "display_name": "Python 2",
   "language": "python",
   "name": "python2"
  },
  "language_info": {
   "codemirror_mode": {
    "name": "ipython",
    "version": 2
   },
   "file_extension": ".py",
   "mimetype": "text/x-python",
   "name": "python",
   "nbconvert_exporter": "python",
   "pygments_lexer": "ipython2",
   "version": "2.7.12"
  }
 },
 "nbformat": 4,
 "nbformat_minor": 2
}

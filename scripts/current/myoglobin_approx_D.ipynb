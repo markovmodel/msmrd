{
 "cells": [
  {
   "cell_type": "code",
   "execution_count": 1,
   "metadata": {
    "collapsed": true,
    "deletable": true,
    "editable": true
   },
   "outputs": [],
   "source": [
    "import pyemma.coordinates as coords\n",
    "import pyemma.plots as mplt\n",
    "import pyemma\n",
    "import msmtools\n",
    "import h5py\n",
    "import mdtraj as md\n",
    "import msmtools.estimation as est\n",
    "import numpy as np\n",
    "import pickle\n",
    "import sklearn\n",
    "import pyclustering\n",
    "import matplotlib.pyplot as plt\n",
    "import sklearn.cluster as skc\n",
    "import MSMRD.trajectories.trajectoryTools as trajectoryTools\n",
    "%matplotlib inline\n",
    "plt.rcParams['figure.figsize'] = (10, 10)"
   ]
  },
  {
   "cell_type": "code",
   "execution_count": 2,
   "metadata": {
    "collapsed": false,
    "deletable": true,
    "editable": true
   },
   "outputs": [],
   "source": [
    "f = h5py.File('/srv/public/data/dibakma/MSMRD/myoglobin/tmp/CO_trajectories_aligned.h5')\n",
    "fCA = h5py.File('/srv/public/data/dibakma/MSMRD/myoglobin/tmp/CA_trajectories_aligned.h5')\n",
    "fHEM = h5py.File('/srv/public/data/dibakma/MSMRD/myoglobin/tmp/HEM_trajectories_aligned.h5')\n",
    "trajs = 10.*np.array(f['coordinates']) #factor of ten to convert from nm to angstroem\n",
    "trajsCA = 10.*np.array(fCA['coordinates'])\n",
    "trajsHEM = 10.*np.array(fHEM['coordinates'])\n",
    "f.close()\n",
    "fCA.close()\n",
    "fHEM.close()"
   ]
  },
  {
   "cell_type": "code",
   "execution_count": 3,
   "metadata": {
    "collapsed": false,
    "deletable": true,
    "editable": true
   },
   "outputs": [],
   "source": [
    "data = [trajs[:,i,:] for i in range(20)]"
   ]
  },
  {
   "cell_type": "code",
   "execution_count": 4,
   "metadata": {
    "collapsed": false,
    "deletable": true,
    "editable": true
   },
   "outputs": [
    {
     "name": "stdout",
     "output_type": "stream",
     "text": [
      "[ 24.95029831  24.45178986  25.39104462]\n"
     ]
    }
   ],
   "source": [
    "#determine center of mass of the myoglobin CA atoms\n",
    "com = np.mean(np.mean(trajsCA, axis=0), axis=0)\n",
    "print com"
   ]
  },
  {
   "cell_type": "code",
   "execution_count": 5,
   "metadata": {
    "collapsed": false,
    "deletable": true,
    "editable": true
   },
   "outputs": [],
   "source": [
    "#determine radius of myoglobine in order to estimate MSM radius\n",
    "CAradius = np.amax(np.linalg.norm(trajsCA-com, axis=2))"
   ]
  },
  {
   "cell_type": "code",
   "execution_count": 6,
   "metadata": {
    "collapsed": false,
    "deletable": true,
    "editable": true
   },
   "outputs": [],
   "source": [
    "outsideIndices = []\n",
    "for i in range(20):\n",
    "    outsideIndices.append(np.where(np.linalg.norm(trajs[:,i,:] - com, axis=1) > CAradius)[0])"
   ]
  },
  {
   "cell_type": "code",
   "execution_count": 7,
   "metadata": {
    "collapsed": false,
    "deletable": true,
    "editable": true
   },
   "outputs": [],
   "source": [
    "splitArrays = np.array_split(trajs[:,0,:], outsideIndices[0])"
   ]
  },
  {
   "cell_type": "code",
   "execution_count": 8,
   "metadata": {
    "collapsed": false,
    "deletable": true,
    "editable": true
   },
   "outputs": [],
   "source": [
    "outerTrajs = []\n",
    "trajActive = False\n",
    "innerTrajActive = False\n",
    "for traj in data:\n",
    "    norm = np.linalg.norm(traj - com, axis = 1)\n",
    "    trajActive = False\n",
    "    innerTrajActive = False\n",
    "    length = len(traj)\n",
    "    for i in range(0, length):\n",
    "        if not trajActive:\n",
    "            if norm[i]>CAradius:\n",
    "                #Start a new truncated trajectory. Maybe add previous state!\n",
    "                trajActive = True\n",
    "                if i > 0:\n",
    "                    currentTraj = [traj[i-1], traj[i]]\n",
    "                else:\n",
    "                    currentTraj = [traj[i]]\n",
    "        else:\n",
    "            if norm[i] < CAradius:\n",
    "                trajActive = False\n",
    "                currentTraj.append(traj[i])\n",
    "                outerTrajs.append(np.array(currentTraj))\n",
    "            else:\n",
    "                currentTraj.append(traj[i])"
   ]
  },
  {
   "cell_type": "code",
   "execution_count": 75,
   "metadata": {
    "collapsed": false,
    "deletable": true,
    "editable": true
   },
   "outputs": [],
   "source": [
    "times = range(1, 100 , 5)\n",
    "SDs = []\n",
    "for time in times:\n",
    "    SDs.append([])\n",
    "    for outerTraj in outerTrajs:\n",
    "        length = len(outerTraj)\n",
    "        squaredDisplacements = []\n",
    "        for i in range(length-time):\n",
    "            displacement = np.power(np.linalg.norm(outerTraj[i+time] - outerTraj[i]),2)\n",
    "            if displacement < 1000: # look at max displacement of half a box length\n",
    "                SDs[-1].append(np.power(np.linalg.norm(outerTraj[i+time] - outerTraj[i]),2))"
   ]
  },
  {
   "cell_type": "code",
   "execution_count": 76,
   "metadata": {
    "collapsed": false,
    "deletable": true,
    "editable": true
   },
   "outputs": [],
   "source": [
    "MSDs = np.array([np.mean(SD) for SD in SDs])\n",
    "STDs = np.array([np.std(SD)/np.sqrt(float(len(SD))) for SD in SDs])\n",
    "times = np.array(times)"
   ]
  },
  {
   "cell_type": "code",
   "execution_count": 78,
   "metadata": {
    "collapsed": false,
    "deletable": true,
    "editable": true
   },
   "outputs": [
    {
     "data": {
      "text/plain": [
       "<matplotlib.text.Text at 0x7f60bae42e90>"
      ]
     },
     "execution_count": 78,
     "metadata": {},
     "output_type": "execute_result"
    },
    {
     "data": {
      "image/png": "[encoded data removed]",
      "text/plain": [
       "<matplotlib.figure.Figure at 0x7f60bae9a910>"
      ]
     },
     "metadata": {},
     "output_type": "display_data"
    }
   ],
   "source": [
    "plt.style.use('paperPlot')\n",
    "plt.errorbar(times, MSDs/(times), yerr=2.*STDs/times)\n",
    "#approximately linear around 25-75 ps\n",
    "plt.plot(times, [3.09]*len(times))\n",
    "plt.xlabel('t [2ps]')\n",
    "plt.ylabel('MSD/t [A2 / 2ps]')\n",
    "#plt.ylim((0,30))"
   ]
  },
  {
   "cell_type": "code",
   "execution_count": 40,
   "metadata": {
    "collapsed": false,
    "deletable": true,
    "editable": true
   },
   "outputs": [
    {
     "name": "stdout",
     "output_type": "stream",
     "text": [
      "0.516666666667\n",
      "0.258333333333\n"
     ]
    }
   ],
   "source": [
    "D = 3.1/6\n",
    "# fits alright witht the experimental value of 0.203 A^2/ps\n",
    "print D # A^2/2ps\n",
    "print D/2 # A^2/ps"
   ]
  }
 ],
 "metadata": {
  "kernelspec": {
   "display_name": "Python 2",
   "language": "python",
   "name": "python2"
  },
  "language_info": {
   "codemirror_mode": {
    "name": "ipython",
    "version": 2
   },
   "file_extension": ".py",
   "mimetype": "text/x-python",
   "name": "python",
   "nbconvert_exporter": "python",
   "pygments_lexer": "ipython2",
   "version": "2.7.12"
  }
 },
 "nbformat": 4,
 "nbformat_minor": 2
}

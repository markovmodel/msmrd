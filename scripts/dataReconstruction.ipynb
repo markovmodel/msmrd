{
 "cells": [
  {
   "cell_type": "code",
   "execution_count": 1,
   "metadata": {
    "collapsed": false,
    "deletable": true,
    "editable": true
   },
   "outputs": [],
   "source": [
    "import numpy as np\n",
    "import pyemma\n",
    "import matplotlib\n",
    "import matplotlib.pyplot as plt\n",
    "import pyemma.plots as mplt\n",
    "import math\n",
    "import h5py\n",
    "%matplotlib inline\n",
    "matplotlib.rcParams['figure.figsize'] = (7.0, 7.0)\n",
    "plt.rc('text', usetex='True')\n",
    "plt.rc('font', family='serif')\n",
    "%load_ext cython"
   ]
  },
  {
   "cell_type": "code",
   "execution_count": 2,
   "metadata": {
    "collapsed": false,
    "deletable": true,
    "editable": true
   },
   "outputs": [],
   "source": [
    "%%cython\n",
    "import numpy as np\n",
    "cimport numpy as np\n",
    "from multiprocessing import Pool\n",
    "cdef extern from \"math.h\":\n",
    "    double atan2(double y, double x)\n",
    "    \n",
    "cdef double PI = np.pi\n",
    "\n",
    "cdef class trajDiscretizationCython:\n",
    "    cdef object centers\n",
    "    cdef public double innerMSMrad, bathRadOut, radialIncrementEntry, radialIncrementExit, radialIncrementBath\n",
    "    cdef public int angularPartitions, entryRings, exitRings, bathRings, radialPartitions, Ncenters, Nstates, bathIndex\n",
    "    def __init__(self, np.ndarray[double, ndim=2] centers):\n",
    "        self.centers = centers\n",
    "        self.innerMSMrad = 2.0\n",
    "        self.angularPartitions = 48\n",
    "        self.Ncenters = len(self.centers)\n",
    "        self.Nstates = self.Ncenters + self.angularPartitions + 1\n",
    "        \n",
    "    cpdef np.int32_t getAngularState(self, np.ndarray[double, ndim=1] coord):\n",
    "        cdef np.float64_t theta = atan2(coord[1], coord[0]) + PI\n",
    "        cdef np.int32_t angularState = int(theta*self.angularPartitions/(2*PI))\n",
    "        return angularState\n",
    "    \n",
    "    # Overwrite getState function in parent class\n",
    "    #discretize trajectory: use two additional rings of states for entry and exit states\n",
    "    #cluster volume should be on the same order of magnitute as for the internal states\n",
    "    \n",
    "    cdef np.int32_t getState(self, np.ndarray[np.float64_t, ndim=1] coord, np.int32_t prevst):\n",
    "        cdef np.float64_t radius = np.linalg.norm(coord)\n",
    "        cdef np.ndarray[np.float64_t, ndim=2] cen2coord\n",
    "        cdef np.ndarray[np.float64_t, ndim=1] norm\n",
    "        cdef np.int32_t index\n",
    "        # inner MSM\n",
    "        if radius < self.innerMSMrad:\n",
    "            for index in range(self.Ncenters):\n",
    "                if (self.centers[index][0] - coord[0])**2 + (self.centers[index][1] - coord[1])**2 < 0.04:\n",
    "                    return index\n",
    "            return prevst\n",
    "        else:\n",
    "        #    return prevst\n",
    "            angularState = self.getAngularState(coord)\n",
    "            return self.Ncenters + angularState\n",
    "        \n",
    "    # Compute the discrete trajectory from a trajectory\n",
    "    # given as np array\n",
    "\n",
    "    cpdef getdTraj(self, np.ndarray[np.float64_t, ndim=2] traj):\n",
    "        cdef np.int32_t k, checker, i \n",
    "        cdef np.ndarray[np.int32_t, ndim=1] dTraj\n",
    "        # Skip first elements, that might have udefined behavior.\n",
    "        k = 0\n",
    "        checker = self.getState(traj[0], -1)\n",
    "        while checker < 0 and k < len(traj)-2:\n",
    "            k += 1\n",
    "            checker = self.getState(traj[k], -1)\n",
    "        dTraj = np.empty(len(traj)-k, dtype=np.int32)\n",
    "        dTraj[0] = checker\n",
    "        # Get state for the remainder of the trajectory\n",
    "        for i in range(1, len(traj)-k):\n",
    "            dTraj[i] = self.getState(traj[i+k], dTraj[i-1])\n",
    "        return dTraj\n",
    "    \n",
    "    # Compute a list of discrete trajectories from a list of continuous trajectories\n",
    "    # This function calls the getdTraj for each element in the list\n",
    "    \n",
    "    cpdef getdTrajs(self, list trajs):\n",
    "        cdef np.ndarray[np.float64_t, ndim=2] traj\n",
    "        cdef np.ndarray[np.int32_t, ndim=1] dTraj, validIndices\n",
    "        cdef list dTrajs = []\n",
    "        cdef int k, checker,i \n",
    "        for traj in trajs:\n",
    "            dTrajs.append(self.getdTraj(traj))\n",
    "            '''\n",
    "            dTraj = self.getdTraj(traj)\n",
    "            validIndices = np.where(dTraj != -1)[0].astype(np.int32)\n",
    "            if validIndices.size > 0:\n",
    "                dTrajs.append(dTraj[validIndices])\n",
    "                '''\n",
    "        return dTrajs\n",
    "    \n",
    "    # Truncate trajectories at the radius give by self.innerMSMrad\n",
    "    # The first and last data points outside of the ring will be added to the trajectory \n",
    "    \n",
    "    cpdef getTruncatedTraj(self, np.ndarray[double, ndim=2] traj):\n",
    "        cdef list currentTraj\n",
    "        cdef list innerTrajs = []\n",
    "        cdef bint trajActive = False\n",
    "        cdef bint innerTrajActive = False\n",
    "        cdef np.ndarray[double, ndim=1] norm\n",
    "        cdef int length\n",
    "        norm = np.linalg.norm(traj, axis = 1)\n",
    "        trajActive = False\n",
    "        innerTrajActive = False\n",
    "        length = len(traj)\n",
    "        #Loop over trajectory\n",
    "        for i in range(0, length):\n",
    "            if not trajActive:\n",
    "                if norm[i]<self.innerMSMrad:\n",
    "                    #Start a new truncated trajectory. Maybe add previous state!\n",
    "                    trajActive = True\n",
    "                    if i > 0:\n",
    "                        currentTraj = [traj[i]] #[traj[i-1], traj[i]]\n",
    "                    else:\n",
    "                        currentTraj = [traj[i]]\n",
    "            else:\n",
    "                # There is already and active trajectory!\n",
    "                if norm[i] > self.innerMSMrad:\n",
    "                    # Trajectory exits domain. Finish it by appending the last data point\n",
    "                    # and adding it to the list of trajectories\n",
    "                    trajActive = False\n",
    "                    currentTraj.append(traj[i]) \n",
    "                    innerTrajs.append(np.array(currentTraj)) \n",
    "                else:\n",
    "                    # Data point is inside domain. Add it to the active trajectory\n",
    "                    currentTraj.append(traj[i])\n",
    "        return innerTrajs\n",
    "        \n",
    "    \n",
    "    cpdef getTruncatedTrajs(self, list trajs):\n",
    "        cdef list innerTrajs = []\n",
    "        for traj in trajs:\n",
    "            innerTrajs = innerTrajs + self.getTruncatedTraj(traj)\n",
    "        return innerTrajs\n",
    "    \n",
    "    # This function truncates the trajectories in the passed list when they enter a new state\n",
    "    # It returns a nested list of the format transitionTrajs[from state i][to state j][trajectory index]\n",
    "    \n",
    "    cpdef getTransitionTrajs(self, list dTruncTrajs):\n",
    "        cdef np.ndarray[np.int32_t, ndim=1] dTruncTraj\n",
    "        cdef list transitionTrajs = []\n",
    "        cdef list fromi = []\n",
    "        cdef list toj = []\n",
    "        #created nested list to store transition trajectories\n",
    "        for k in range(self.Ncenters+1):\n",
    "            fromi = []\n",
    "            for l in range(self.Ncenters+1):\n",
    "                toj = []\n",
    "                fromi.append(toj)\n",
    "            transitionTrajs.append(fromi)\n",
    "        cdef int i, initialState\n",
    "        for dTruncTraj in dTruncTrajs:\n",
    "            if np.any(dTruncTraj< 0):\n",
    "                #invalid trajectories are skipped\n",
    "                continue\n",
    "            initialState = dTruncTraj[0]\n",
    "            initialIndex = 0\n",
    "            #loop over trajectory\n",
    "            for i in range(1, len(dTruncTraj)):\n",
    "                #this indicates a transition. Trajectory leading to this transition is extracted and added to list.\n",
    "                if dTruncTraj[i] != initialState:\n",
    "                    finalState = min(dTruncTraj[i], self.Ncenters)\n",
    "                    initialState = min(initialState, self.Ncenters)\n",
    "                    transitionTrajs[initialState][finalState].append(initialState * np.ones(i-initialIndex, dtype=int))\n",
    "                    initialState = dTruncTraj[i]\n",
    "                    initialIndex = i\n",
    "        return transitionTrajs\n",
    "    \n",
    "    # This function generates a lookup table for trajectories which are entering the domain from the bath.\n",
    "    # It returns the starting coordinates, first state the respective trajectory hits as well as its length\n",
    "    \n",
    "    cpdef getLookupTableEntry(self, list dTrajs, list truncTrajs):\n",
    "        cdef np.ndarray[long, ndim=1] dTraj\n",
    "        cdef np.ndarray[double, ndim=1] entryCoord\n",
    "        cdef int j, i, currentState, entryState\n",
    "        cdef list entryCoords = []\n",
    "        cdef list firstStates = []\n",
    "        cdef list times = []\n",
    "        for i in range(len(truncTrajs)):\n",
    "            if np.any(dTrajs[i] < 0):\n",
    "                continue\n",
    "            if np.linalg.norm(truncTrajs[i][0]) < self.innerMSMrad:\n",
    "                continue\n",
    "            entryCoords.append(truncTrajs[i][1])\n",
    "            entryState = dTrajs[i][0]\n",
    "            j = 0\n",
    "            currentState = entryState\n",
    "            while currentState == entryState and j < len(dTrajs[i])-2:\n",
    "                j += 1\n",
    "                currentState = dTrajs[i][j]\n",
    "            times.append(j)\n",
    "            if currentState >= self.Ncenters:\n",
    "                firstStates.append(truncTrajs[i][-1])\n",
    "            else:\n",
    "                firstStates.append(currentState)\n",
    "        return np.array(entryCoords), firstStates, np.array(times)\n",
    "    \n",
    "    cpdef getLookupTableExit(self, list dTruncTrajs, list truncTrajs):\n",
    "        cdef int exitFrom, k, state, lastState\n",
    "        cdef np.ndarray[double, ndim=1] exitPosition\n",
    "        cdef list exitPositions = []\n",
    "        cdef list exitTimes = []\n",
    "        for i in range(self.Nstates):\n",
    "            exitFromi = []\n",
    "            timeFromi = []\n",
    "            exitPositions.append(exitFromi)\n",
    "            exitTimes.append(timeFromi)\n",
    "        for i in range(len(dTruncTrajs)):\n",
    "            if np.any(dTruncTrajs[i] < self.Ncenters):\n",
    "                if dTruncTrajs[i][-1] > self.Ncenters and len(dTruncTrajs[i]) > 2:\n",
    "                    lastState = dTruncTrajs[i][-2]\n",
    "                    exitPositions[lastState].append(truncTrajs[i][-1])\n",
    "                    exitTime = 0\n",
    "                    state = lastState\n",
    "                    while state == lastState:\n",
    "                        exitTime += 1\n",
    "                        state = dTruncTrajs[i][(-2-exitTime)]\n",
    "                    exitTimes[lastState].append(exitTime)\n",
    "        return exitPositions, exitTimes \n",
    "    \n",
    "    cpdef joinInnerTrajectories(self, transitionTrajs):\n",
    "        cdef np.ndarray[long, ndim=2] trajCount = np.zeros((self.Ncenters, self.Ncenters), dtype=int)\n",
    "        cdef int i,j\n",
    "        cdef np.ndarray[double, ndim=1] nextStepProbs\n",
    "        cdef int totalTrajs\n",
    "        cdef int nextState, trajNo, state\n",
    "        cdef list localTransitionTrajs = []\n",
    "        cdef list fromi = []\n",
    "        cdef list toj = []\n",
    "        for k in range(self.Ncenters):\n",
    "            fromi = []\n",
    "            for l in range(self.Ncenters):\n",
    "                toj = []\n",
    "                fromi.append(toj)\n",
    "            localTransitionTrajs.append(fromi)\n",
    "        for i in range(self.Ncenters):\n",
    "            for j in range(self.Ncenters):\n",
    "                trajCount[i,j] = len(transitionTrajs[i][j])\n",
    "                for k in range(trajCount[i,j]):\n",
    "                    localTransitionTrajs[i][j].append(np.copy(transitionTrajs[i][j][k]))\n",
    "        cdef list joinedTrajectory = []\n",
    "        cdef list joinedTrajs = []\n",
    "        while np.sum(trajCount) >= 100:\n",
    "            state = np.argmax(np.sum(trajCount, axis=1))\n",
    "            joinedTrajectory = []\n",
    "            totalTrajs = np.sum(trajCount)\n",
    "            while np.sum(trajCount[state,:]) != 0:\n",
    "                nextStepProbs = np.copy(trajCount[state,:]).astype(float)\n",
    "                nextStepProbs /= np.sum(nextStepProbs)\n",
    "                nextState = np.random.choice(self.Ncenters, p=nextStepProbs)\n",
    "                trajNo = np.random.choice(len(localTransitionTrajs[state][nextState]))\n",
    "                joinedTrajectory.append(localTransitionTrajs[state][nextState][trajNo])\n",
    "                localTransitionTrajs[state][nextState].pop(trajNo)\n",
    "                trajCount[state, nextState] -= 1\n",
    "                state = nextState\n",
    "            if len(joinedTrajectory) >= 2:\n",
    "                joinedTrajs.append(np.concatenate(joinedTrajectory))\n",
    "        return joinedTrajs\n",
    "    \n",
    "    def removeExternalTrajs(self, dTruncTrajs):\n",
    "        Ncenters = 9\n",
    "        cTrajs = []\n",
    "        for traj in dTruncTrajs:\n",
    "            innerIdcs = np.where(traj<Ncenters)[0]\n",
    "            if len(innerIdcs != 0):\n",
    "                innerTraj = traj[innerIdcs]\n",
    "                if np.any(innerTraj != innerTraj[0]):\n",
    "                    cTrajs.append(innerTraj)\n",
    "        return cTrajs"
   ]
  },
  {
   "cell_type": "code",
   "execution_count": 3,
   "metadata": {
    "collapsed": true
   },
   "outputs": [],
   "source": [
    "def getLookupTableExit(dTruncTrajs, truncTrajs):\n",
    "    exitPositions = []\n",
    "    exitTimes = []\n",
    "    Ncenters = 9\n",
    "    for i in range(Ncenters):\n",
    "        exitFromi = []\n",
    "        timeFromi = []\n",
    "        exitPositions.append(exitFromi)\n",
    "        exitTimes.append(timeFromi)\n",
    "    for i in range(len(dTruncTrajs)):\n",
    "        if np.any(dTruncTrajs[i] < Ncenters):\n",
    "            if dTruncTrajs[i][-1] >= Ncenters and len(dTruncTrajs[i]) > 2:\n",
    "                lastState = dTruncTrajs[i][-2]\n",
    "                exitPositions[lastState].append(truncTrajs[i][-1])\n",
    "                exitTime = 0\n",
    "                state = lastState\n",
    "                while state == lastState and exitTime < len(dTruncTrajs[i])-2:\n",
    "                    exitTime += 1\n",
    "                    state = dTruncTrajs[i][(-2-exitTime)]\n",
    "                exitTimes[lastState].append(exitTime)\n",
    "    return exitPositions, exitTimes "
   ]
  },
  {
   "cell_type": "code",
   "execution_count": 4,
   "metadata": {
    "collapsed": false
   },
   "outputs": [
    {
     "name": "stdout",
     "output_type": "stream",
     "text": [
      "CPU times: user 43.7 s, sys: 213 ms, total: 43.9 s\n",
      "Wall time: 43.9 s\n"
     ]
    }
   ],
   "source": [
    "%%time\n",
    "numfiles = 1\n",
    "# Extract trajectories from file using asym2Dtraj class\n",
    "fname = '../data/asym2D/2DasymTrajsLong_R4_RT1E7_dt001_SI1_'\n",
    "dimension = 2\n",
    "minima = np.array([[0.0,0.0], [1.0,0.0] , [1.1, 1.0], [-0.1,0.9], [-1.3,0.8], [-1.0,-0.2], [-0.6,-1.0], [0.9,-0.8], [0.2,-1.5]])\n",
    "discretizer = trajDiscretizationCython(minima)\n",
    "trajs = []\n",
    "truncTrajs = []\n",
    "dTruncTrajs = []\n",
    "i = 0\n",
    "for number in range(numfiles):\n",
    "    f = h5py.File(fname + str(number) + '.h5', 'r')\n",
    "    data = np.array(f['traj'], dtype=float)\n",
    "    f.close()\n",
    "    if not np.allclose(data[1:,0]-data[:-1,0], 1):\n",
    "        print 'timestep not constant'\n",
    "    traj = data[::1,1:dimension+1]\n",
    "    lastTruncTrajs = discretizer.getTruncatedTraj(traj)\n",
    "    truncTrajs += lastTruncTrajs\n",
    "    dTruncTrajs += discretizer.getdTrajs(lastTruncTrajs)\n",
    "    i+=1\n",
    "    if i % 10 == 0:\n",
    "        print str(i/float(numfiles) * 100)+'% done'\n",
    "    # delete memory to avoid overhead\n",
    "    del data\n",
    "    del traj"
   ]
  },
  {
   "cell_type": "code",
   "execution_count": null,
   "metadata": {
    "collapsed": false
   },
   "outputs": [],
   "source": [
    "print np.linalg.norm(truncTrajs[0],axis=1)"
   ]
  },
  {
   "cell_type": "code",
   "execution_count": 5,
   "metadata": {
    "collapsed": false,
    "deletable": true,
    "editable": true
   },
   "outputs": [],
   "source": [
    "%%cython\n",
    "import numpy as np\n",
    "cimport numpy as np\n",
    "\n",
    "cdef class trajReconstructor:\n",
    "    cdef public double innerRadius, outerRadius, timeStep, diff, sigma\n",
    "    cdef public int dim\n",
    "    def __init__(self, double innerRadius, double outerRadius, double timeStep, double diff, int dim):\n",
    "        self.innerRadius = innerRadius\n",
    "        self.outerRadius = outerRadius\n",
    "        self.timeStep = timeStep\n",
    "        self.diff = diff\n",
    "        self.sigma = np.sqrt(2*self.timeStep*self.diff)\n",
    "        self.dim = dim\n",
    "\n",
    "      \n",
    "    cpdef reconstructTraj(self, np.ndarray[np.float64_t, ndim=1] initialPosition):\n",
    "        cdef np.ndarray[np.float64_t, ndim=1] position = initialPosition\n",
    "        cdef list outerTraj = [position]\n",
    "        cdef int inBDRegion = 1 \n",
    "        cdef double rad\n",
    "        while (inBDRegion == 1):\n",
    "            position = self.integrate(position)\n",
    "            rad = np.linalg.norm(position)\n",
    "            outerTraj.append(position)\n",
    "            if (rad <= self.innerRadius):\n",
    "                inBDRegion = 0\n",
    "                return outerTraj\n",
    "            elif (rad >= self.outerRadius):\n",
    "                inBdRegion = 0\n",
    "                return outerTraj\n",
    "            else:\n",
    "                continue    \n",
    "        \n",
    "    cdef integrate(self, np.ndarray[np.float64_t, ndim=1] position):\n",
    "        cdef np.ndarray[np.float64_t, ndim=1] dr = np.random.normal(0., self.sigma, self.dim)\n",
    "        return position + dr\n",
    "        "
   ]
  },
  {
   "cell_type": "code",
   "execution_count": 6,
   "metadata": {
    "collapsed": false,
    "deletable": true,
    "editable": true
   },
   "outputs": [],
   "source": [
    "trajReconstruct = trajReconstructor(2.0,4,0.001,1.0,2)"
   ]
  },
  {
   "cell_type": "code",
   "execution_count": 7,
   "metadata": {
    "collapsed": false
   },
   "outputs": [],
   "source": [
    "# Initialize trajectory reconstruction\n",
    "reconstructedTrajs = truncTrajs[0]\n",
    "# Write first entry of truncTrajs into trajEntry\n",
    "trajEntry = []\n",
    "for traj in truncTrajs:\n",
    "    trajEntry.append(traj[0])"
   ]
  },
  {
   "cell_type": "code",
   "execution_count": 16,
   "metadata": {
    "collapsed": false
   },
   "outputs": [
    {
     "name": "stdout",
     "output_type": "stream",
     "text": [
      "Broken traj\n"
     ]
    }
   ],
   "source": [
    "# Loop to glue trajectories\n",
    "for i in range(10):\n",
    "    lastPosition = reconstructedTrajs[-1]\n",
    "    outerTraj = np.array(trajReconstruct.reconstructTraj(lastPosition))\n",
    "    # Dont use first point in outerTraj since it is already in reconstructedTraj\n",
    "    reconstructedTrajs = np.concatenate((reconstructedTrajs, outerTraj[1:]), axis=0)\n",
    "    # Find next trajIndex\n",
    "    entryPoint = reconstructedTrajs[-1]\n",
    "    entryNorm = np.linalg.norm(entryPoint)\n",
    "    if entryNorm < 4:\n",
    "        norms = np.linalg.norm(trajEntry - entryPoint, axis=1)\n",
    "        trajIndex = np.argmin(norms)\n",
    "        # Dont use last point of reconstructedTrajs since it is substituted by first one of truncTrajs\n",
    "        reconstructedTrajs = np.concatenate((reconstructedTrajs[:-1], truncTrajs[trajIndex]), axis=0)\n",
    "    else:\n",
    "        print \"Broken traj\"\n",
    "        break"
   ]
  },
  {
   "cell_type": "code",
   "execution_count": 17,
   "metadata": {
    "collapsed": false
   },
   "outputs": [
    {
     "name": "stdout",
     "output_type": "stream",
     "text": [
      "3333\n"
     ]
    },
    {
     "data": {
      "text/plain": [
       "[<matplotlib.lines.Line2D at 0x7fa75d66a910>]"
      ]
     },
     "execution_count": 17,
     "metadata": {},
     "output_type": "execute_result"
    },
    {
     "data": {
      "image/png": "[encoded data removed]",
      "text/plain": [
       "<matplotlib.figure.Figure at 0x7fa75d6db710>"
      ]
     },
     "metadata": {},
     "output_type": "display_data"
    }
   ],
   "source": [
    "xx = []\n",
    "yy = []\n",
    "th = np.linspace(0,2*np.pi,200)\n",
    "x=2*np.cos(th)\n",
    "y=2*np.sin(th)\n",
    "x2=4*np.cos(th)\n",
    "y2=4*np.sin(th)\n",
    "for pt in reconstructedTrajs:\n",
    "    xx.append(pt[0])\n",
    "    yy.append(pt[1])\n",
    "print(len(reconstructedTrajs))\n",
    "plt.plot(xx,yy,'-k')\n",
    "plt.plot(x,y,'-r')\n",
    "plt.plot(x2,y2,'-b')"
   ]
  },
  {
   "cell_type": "code",
   "execution_count": null,
   "metadata": {
    "collapsed": false
   },
   "outputs": [],
   "source": [
    "th = np.linspace(0,2*np.pi,200)\n",
    "th"
   ]
  },
  {
   "cell_type": "code",
   "execution_count": null,
   "metadata": {
    "collapsed": false
   },
   "outputs": [],
   "source": [
    "truncTrajs[1][0]"
   ]
  },
  {
   "cell_type": "code",
   "execution_count": null,
   "metadata": {
    "collapsed": false
   },
   "outputs": [],
   "source": [
    "outerTraj"
   ]
  },
  {
   "cell_type": "code",
   "execution_count": null,
   "metadata": {
    "collapsed": true
   },
   "outputs": [],
   "source": [
    "for i in range(len(outerTraj)):\n",
    "    print np.linalg.norm(outerTraj[i])"
   ]
  }
 ],
 "metadata": {
  "kernelspec": {
   "display_name": "Python 2",
   "language": "python",
   "name": "python2"
  },
  "language_info": {
   "codemirror_mode": {
    "name": "ipython",
    "version": 2
   },
   "file_extension": ".py",
   "mimetype": "text/x-python",
   "name": "python",
   "nbconvert_exporter": "python",
   "pygments_lexer": "ipython2",
   "version": "2.7.13"
  }
 },
 "nbformat": 4,
 "nbformat_minor": 2
}

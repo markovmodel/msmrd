{
 "cells": [
  {
   "cell_type": "markdown",
   "metadata": {},
   "source": [
    "## Inner MSM obtained with milestoning\n",
    "We obtain the inner MSM model to obtain the biggest possible lag time with a decent resolution of the intrinsic timescales."
   ]
  },
  {
   "cell_type": "code",
   "execution_count": 1,
   "metadata": {
    "collapsed": false
   },
   "outputs": [],
   "source": [
    "import numpy as np\n",
    "import pyemma\n",
    "import matplotlib.pyplot as plt\n",
    "import pyemma.plots as mplt\n",
    "import h5py\n",
    "from MSMRD.trajectories import allTrajs\n",
    "%matplotlib inline"
   ]
  },
  {
   "cell_type": "code",
   "execution_count": 2,
   "metadata": {
    "collapsed": false
   },
   "outputs": [],
   "source": [
    "# Create a child class from the main class in trajectories_class.py\n",
    "class asym2Dtraj(allTrajs):\n",
    "    def __init__(self, centers=None, Trajs=None):\n",
    "        super(asym2Dtraj, self).__init__(Trajs)\n",
    "        if centers == None:\n",
    "            centers = []\n",
    "        self.centers = centers\n",
    "        self.innerMSMrad = 2.0\n",
    "        self.Ncenters = len(self.centers)\n",
    "        \n",
    "    # Overwrite getState function in parent class\n",
    "    #discretize trajectory: use two additional rings of states for entry and exit states\n",
    "    #cluster volume should be on the same order of magnitute as for the internal states\n",
    "    def getState(self, coord, prevst):\n",
    "        cen2coord = self.centers - coord\n",
    "        norm = np.linalg.norm(cen2coord, axis = 1)\n",
    "        index = np.argmin(norm)\n",
    "        if (norm[index] <= 0.2 ):\n",
    "            return index\n",
    "        # if no new state found, return previous state\n",
    "        return prevst\n",
    "\n",
    "        \n",
    "    # Overwrite getMilestones function\n",
    "    def getMilestones(self):\n",
    "        # inner MSM\n",
    "        for i in range(self.Ncenters):\n",
    "            self.milestones[i] = self.centers[i]\n",
    "    \n",
    "    # Overwrite getRegionMap function\n",
    "    def getRegionMap(self):\n",
    "        for i in range(self.Ncenters):\n",
    "            statename = 'Inner state ' + str(i)\n",
    "            self.regionMap[i] = statename"
   ]
  },
  {
   "cell_type": "code",
   "execution_count": 8,
   "metadata": {
    "collapsed": false
   },
   "outputs": [],
   "source": [
    "numfiles = 16\n",
    "# Extract trajectories from file using asym2Dtraj class\n",
    "fname = '../data/asym2D/2DasymTrajsLong_smallR_'\n",
    "minima = [[0.0,0.0], [1.0,0.0] , [1.1, 1.0], [-0.1,0.9], [-1.3,0.8], \\\n",
    "                       [-1.0,-0.2], [-0.6,-1.0], [0.9,-0.8], [0.2,-1.5]]\n",
    "alltrajs = asym2Dtraj(minima, []) # define allTrajs object\n",
    "#alltrajs = allTrajs_inner([])\n",
    "dimension = 2\n",
    "for number in range(numfiles):\n",
    "    f = h5py.File(fname + str(number) + '.h5', 'r')\n",
    "    data = np.array(f['traj'], dtype=float)\n",
    "    f.close()\n",
    "    traj = data[:,1:dimension+1]\n",
    "    alltrajs.Trajs.append(traj)"
   ]
  },
  {
   "cell_type": "code",
   "execution_count": 9,
   "metadata": {
    "collapsed": false
   },
   "outputs": [],
   "source": [
    "# Calculate discrete trajectories and make sure it is clean (no \"None\" elements)\n",
    "dtrajs = alltrajs.getdTrajsclean()\n",
    "# Obtain centers of each state and save\n",
    "centersdict = alltrajs.getMilestones()\n",
    "centers = alltrajs.getMilestonesArray()"
   ]
  },
  {
   "cell_type": "code",
   "execution_count": 12,
   "metadata": {
    "collapsed": false
   },
   "outputs": [],
   "source": [
    "# Obtained implied time scales using pyemma\n",
    "its = pyemma.msm.its(dtrajs, lags = 1000)"
   ]
  },
  {
   "cell_type": "code",
   "execution_count": 45,
   "metadata": {
    "collapsed": false
   },
   "outputs": [
    {
     "data": {
      "text/plain": [
       "(array([  1.00000000e-02,   1.00000000e-01,   1.00000000e+00,\n",
       "          1.00000000e+01,   1.00000000e+02,   1.00000000e+03,\n",
       "          1.00000000e+04,   1.00000000e+05]),\n",
       " <a list of 8 Text yticklabel objects>)"
      ]
     },
     "execution_count": 45,
     "metadata": {},
     "output_type": "execute_result"
    },
    {
     "data": {
      "image/png": "[encoded data removed]",
      "text/plain": [
       "<matplotlib.figure.Figure at 0x7f3b56200210>"
      ]
     },
     "metadata": {},
     "output_type": "display_data"
    }
   ],
   "source": [
    "# Plot implied time scales\n",
    "mplt.plot_implied_timescales(its, ylog=True, units='steps', linewidth=2, dt=1)\n",
    "plt.ylabel(r\"timescale/steps\", fontsize = 24)\n",
    "plt.xlabel(r\"lag time/steps\", fontsize = 24)\n",
    "#plt.xlim(0,90)\n",
    "#plt.ylim(0,90)\n",
    "plt.xticks(fontsize=20)\n",
    "plt.yticks(fontsize=20)"
   ]
  },
  {
   "cell_type": "markdown",
   "metadata": {},
   "source": [
    "From this notebook, we can get an ideal lag time for the inner MSM, where the milestoning works well since it is only defined between metastable states. In this case, it is given by the intersection between the accepted lag times ($\\tau<t_{timescales}$) and the smallest timescale. In this case, this is given by $\\tau \\approx 10$. We will later use this lag time to obtain ideal parameters for the outer MSM."
   ]
  },
  {
   "cell_type": "code",
   "execution_count": 19,
   "metadata": {
    "collapsed": true
   },
   "outputs": [],
   "source": [
    "# Choose lag time and obtain MSM \"M\" for our milestones\n",
    "msm_lag = 200\n",
    "M = pyemma.msm.estimate_markov_model(dtrajs, msm_lag, reversible=True)"
   ]
  },
  {
   "cell_type": "code",
   "execution_count": 43,
   "metadata": {
    "collapsed": false
   },
   "outputs": [
    {
     "data": {
      "image/png": "[encoded data removed]",
      "text/plain": [
       "<matplotlib.figure.Figure at 0x7f3b55ecca10>"
      ]
     },
     "metadata": {},
     "output_type": "display_data"
    }
   ],
   "source": [
    "# Plot states and color them according to their weight in a given eigenmode\n",
    "eigenmode = 4 # 0 = stationary distribution\n",
    "vectors = M.eigenvectors_left()\n",
    "value = M.eigenvalues()\n",
    "#print M.timescales()[:10] \n",
    "#print -msm_lag/np.log(value[1])\n",
    "plt.xticks(fontsize=20)\n",
    "plt.yticks(fontsize=20)\n",
    "sc = plt.scatter(centers[:,0], centers[:,1], c=vectors[eigenmode][:], cmap=plt.cm.inferno, linewidths = 0, s=100)\n",
    "plt.colorbar()\n",
    "plt.clim(-0.3,0.3)"
   ]
  },
  {
   "cell_type": "code",
   "execution_count": null,
   "metadata": {
    "collapsed": true
   },
   "outputs": [],
   "source": []
  }
 ],
 "metadata": {
  "kernelspec": {
   "display_name": "Python 2",
   "language": "python",
   "name": "python2"
  },
  "language_info": {
   "codemirror_mode": {
    "name": "ipython",
    "version": 2
   },
   "file_extension": ".py",
   "mimetype": "text/x-python",
   "name": "python",
   "nbconvert_exporter": "python",
   "pygments_lexer": "ipython2",
   "version": "2.7.12"
  }
 },
 "nbformat": 4,
 "nbformat_minor": 2
}

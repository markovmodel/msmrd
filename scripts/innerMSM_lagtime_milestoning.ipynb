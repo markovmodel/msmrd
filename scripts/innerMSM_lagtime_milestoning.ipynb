{
 "cells": [
  {
   "cell_type": "markdown",
   "metadata": {},
   "source": [
    "## Inner MSM obtained with milestoning\n",
    "We obtain the inner MSM model to obtain the biggest possible lag time with a decent resolution of the intrinsic timescales."
   ]
  },
  {
   "cell_type": "code",
   "execution_count": 2,
   "metadata": {
    "collapsed": false
   },
   "outputs": [],
   "source": [
    "import numpy as np\n",
    "import pyemma\n",
    "import matplotlib.pyplot as plt\n",
    "import pyemma.plots as mplt\n",
    "import copy\n",
    "%matplotlib inline"
   ]
  },
  {
   "cell_type": "code",
   "execution_count": 3,
   "metadata": {
    "collapsed": true
   },
   "outputs": [],
   "source": [
    "# Define class to store trajectories and calculate discrete state trajectories for milestoning\n",
    "class allTrajs_inner(object):\n",
    "    \n",
    "    def __init__(self, Trajs=None):\n",
    "        if Trajs == None:\n",
    "            Trajs = []\n",
    "        # Main variables\n",
    "        self.Trajs = Trajs\n",
    "        self.dTrajs = []\n",
    "        self.dTrajsclean = []\n",
    "        self.milestones = {}\n",
    "        self.milestonesarray = []\n",
    "        self.regionMap = {}\n",
    "        # Milestone choice variables\n",
    "        self.entry_div = 8\n",
    "        # Number of rings in the exit states\n",
    "        self.rentry1 = 1.8\n",
    "        self.rentry2 = 2.0\n",
    "        # Calculated variables:\n",
    "        # Angular increments\n",
    "        self.angint_entry = 2*np.pi/self.entry_div\n",
    "    \n",
    "    # Get discretized trajectories (dTrajs) in chosen milestones \n",
    "    # from continue trajectories (Trajs)\n",
    "    def getdTrajs(self):\n",
    "        # Resize dTrajs array \n",
    "        self.dTrajs = [None] * len(self.Trajs)\n",
    "        # Loop over each trajectory\n",
    "        for i in range(len(self.Trajs)):\n",
    "            # Create empty list of consistent size for ith discrete trajectory\n",
    "            trajlen = len(self.Trajs[i])\n",
    "            self.dTrajs[i] = [None] * trajlen\n",
    "            # Loop over each time iteration to set corresponding discrete state\n",
    "            for j in range(trajlen):\n",
    "                if j > 0:\n",
    "                    prevstate = self.dTrajs[i][j-1]\n",
    "                else:\n",
    "                    prevstate = None\n",
    "                self.dTrajs[i][j] = self.getState(self.Trajs[i][j],prevstate)\n",
    "        return self.dTrajs\n",
    "    \n",
    "    # Same a getdTrajs but ensuring there are no \"None\" states,\n",
    "    # since they can appear if the initial condition is in a \"None\" state region\n",
    "    def getdTrajsclean(self):\n",
    "        # If dTrajs haven't been yet calculated, do so\n",
    "        if self.dTrajs == []:\n",
    "            self.getdTrajs()\n",
    "        self.dTrajsclean = copy.deepcopy(self.dTrajs)\n",
    "        # Eliminate \"None\" entries in reverse order to avoid misindexing\n",
    "        for i in reversed(range(len(self.dTrajs))):\n",
    "            if self.dTrajs[i] == None:\n",
    "                self.dTrajsclean.pop(i)\n",
    "            else:\n",
    "                for j in reversed(range(len(self.dTrajs[i]))):\n",
    "                    if self.dTrajs[i][j] == None:\n",
    "                        self.dTrajsclean[i].pop(j)\n",
    "            if self.dTrajsclean[i] == []:\n",
    "                self.dTrajsclean.pop(i)\n",
    "        return self.dTrajsclean\n",
    "                        \n",
    "    \n",
    "    # Given coordinates, assigns a state which corresponds to an area\n",
    "    # in space. The state is assigned with an integer value. The center of the\n",
    "    # state region is given by getMilestones() function\n",
    "    def getState(self, coord, prevst):\n",
    "        x = coord[0]\n",
    "        y = coord[1]\n",
    "        r = np.sqrt(x*x + y*y)\n",
    "        th = np.arctan2(y, x)\n",
    "        # Bound state\n",
    "        if r <= 1.:\n",
    "            state = 0\n",
    "            return state\n",
    "        # Entry states\n",
    "        elif (r >= self.rentry1 and r < self.rentry2):\n",
    "            for k in range(self.entry_div):\n",
    "                llim = -np.pi + k*self.angint_entry\n",
    "                rlim = -np.pi + (k+1)*self.angint_entry\n",
    "                if (th >= llim and th < rlim):\n",
    "                    state = k + 1\n",
    "                    return state\n",
    "        # Bath state\n",
    "        elif (r >= self.rentry2):\n",
    "            state = self.entry_div + 1\n",
    "            return state\n",
    "        # Didn't change state\n",
    "        else:\n",
    "            state = prevst\n",
    "            return state\n",
    "    \n",
    "    # Get x,y centers of milestones in a dictionary: milestones[state] = [x,y]    \n",
    "    def getMilestones(self):\n",
    "        # Bound state is 0 and assigned origin as center\n",
    "        self.milestones[0] = [0.0,0.0]\n",
    "        rentry = (self.rentry1 + self.rentry2)/2.0\n",
    "        # Loop over entry states\n",
    "        for k in range(self.entry_div):\n",
    "            llim = -np.pi + k*self.angint_entry\n",
    "            rlim = -np.pi + (k+1)*self.angint_entry\n",
    "            th = (rlim + llim)/2.0\n",
    "            x = rentry*np.cos(th)\n",
    "            y = rentry*np.sin(th)\n",
    "            self.milestones[k+1] = [x,y]\n",
    "        self.milestones[self.entry_div + 1] = [2.5,2.5] # Change if dim of system changes\n",
    "        return self.milestones\n",
    "    \n",
    "    # Get milestones centers in array for plotting\n",
    "    def getMilestonesArray(self):\n",
    "        if self.milestones == {}:\n",
    "            self.getMilestones()\n",
    "        self.milestonesarray = np.zeros((len(self.milestones),2))\n",
    "        for i in range(len(self.milestones)):\n",
    "            self.milestonesarray[i][0] = self.milestones[i][0]\n",
    "            self.milestonesarray[i][1] = self.milestones[i][1]\n",
    "        return self.milestonesarray\n",
    "    \n",
    "    # Calculate State discretization parameters into a dictionary to place  \n",
    "    # uniformly theparticle in the exit states in the hybrid model\n",
    "    def getRegionMap(self):\n",
    "        self.regionMap[0] = 'Bound'\n",
    "        # Add entry states to dictionary\n",
    "        for k in range(self.entry_div):\n",
    "            llim = -np.pi + k*self.angint_entry\n",
    "            rlim = -np.pi + (k+1)*self.angint_entry\n",
    "            self.regionMap[k+1] = [[llim,rlim],[self.rentry1, self.rentry2]]\n",
    "        # Add entry states radii interval\n",
    "        self.regionMap['rentry_int'] = [self.rentry1, self.rentry2]\n",
    "        return self.regionMap"
   ]
  },
  {
   "cell_type": "code",
   "execution_count": 4,
   "metadata": {
    "collapsed": false
   },
   "outputs": [],
   "source": [
    "# Define filter for trajectory extraction from file\n",
    "def filter(f, stride):\n",
    "    for i, line in enumerate(f):\n",
    "        if (not i%stride):\n",
    "            yield line\n",
    "# Extract trajectories from file using allTrajs class\n",
    "fname = '../data/2DmodifiedLJmultipleTrajsLongR4.txt'\n",
    "alltrajs = allTrajs_inner([]) # define allTrajs object\n",
    "dimension = 2\n",
    "with open(fname) as f:\n",
    "    data = np.genfromtxt(filter(f, 1))\n",
    "    ntrajs = data.shape[1]/dimension\n",
    "    for i in range(0, ntrajs):\n",
    "        traj = data[:,2*i:2*i+dimension]\n",
    "        alltrajs.Trajs.append(traj)"
   ]
  },
  {
   "cell_type": "code",
   "execution_count": 5,
   "metadata": {
    "collapsed": false
   },
   "outputs": [],
   "source": [
    "# Calculate discrete trajectories and make sure it is clean (no \"None\" elements)\n",
    "dtrajs = alltrajs.getdTrajsclean()\n",
    "# Obtain centers of each state and save\n",
    "centersdict = alltrajs.getMilestones()\n",
    "centers = alltrajs.getMilestonesArray()"
   ]
  },
  {
   "cell_type": "code",
   "execution_count": 6,
   "metadata": {
    "collapsed": false
   },
   "outputs": [
    {
     "name": "stdout",
     "output_type": "stream",
     "text": [
      "estimating MaximumLikelihoodMSM: 100% (11/11) [####################] eta 00:01 |"
     ]
    }
   ],
   "source": [
    "# Obtained implied time scales using pyemma\n",
    "its = pyemma.msm.its(dtrajs, lags = 100)"
   ]
  },
  {
   "cell_type": "code",
   "execution_count": 42,
   "metadata": {
    "collapsed": false
   },
   "outputs": [
    {
     "data": {
      "text/plain": [
       "(array([  0.,  10.,  20.,  30.,  40.,  50.,  60.,  70.,  80.]),\n",
       " <a list of 9 Text yticklabel objects>)"
      ]
     },
     "execution_count": 42,
     "metadata": {},
     "output_type": "execute_result"
    },
    {
     "data": {
      "image/png": "[encoded data removed]",
      "text/plain": [
       "<matplotlib.figure.Figure at 0x7f6e14f84fd0>"
      ]
     },
     "metadata": {},
     "output_type": "display_data"
    }
   ],
   "source": [
    "# Plot implied time scales\n",
    "mplt.plot_implied_timescales(its, ylog=False, units='steps', linewidth=2, dt=1)\n",
    "plt.ylabel(r\"timescale/steps\", fontsize = 24)\n",
    "plt.xlabel(r\"lag time/steps\", fontsize = 24)\n",
    "plt.xlim(0,80)\n",
    "plt.ylim(0,80)\n",
    "plt.xticks(fontsize=20)\n",
    "plt.yticks(fontsize=20)"
   ]
  },
  {
   "cell_type": "markdown",
   "metadata": {},
   "source": [
    "From this notebook, we can get an ideal lag time for the inner MSM, where the milestoning works well since it is only defined between metastable states. In this case, it is given by the intersection between the accepted lag times ($\\tau<t_{timescales}$) and the smallest timescale. In this case, this is given by $\\tau \\approx 10$. We will later use this lag time to obtain ideal parameters for the outer MSM."
   ]
  },
  {
   "cell_type": "code",
   "execution_count": 39,
   "metadata": {
    "collapsed": true
   },
   "outputs": [],
   "source": [
    "# Choose lag time and obtain MSM \"M\" for our milestones\n",
    "msm_lag = 10\n",
    "M = pyemma.msm.estimate_markov_model(dtrajs, msm_lag, reversible=True)"
   ]
  },
  {
   "cell_type": "code",
   "execution_count": 40,
   "metadata": {
    "collapsed": false
   },
   "outputs": [
    {
     "data": {
      "text/plain": [
       "<matplotlib.colorbar.Colorbar at 0x7f6e14fe8d90>"
      ]
     },
     "execution_count": 40,
     "metadata": {},
     "output_type": "execute_result"
    },
    {
     "data": {
      "image/png": "[encoded data removed]",
      "text/plain": [
       "<matplotlib.figure.Figure at 0x7f6e15097250>"
      ]
     },
     "metadata": {},
     "output_type": "display_data"
    }
   ],
   "source": [
    "# Plot states and color them according to their weight in a given eigenmode\n",
    "eigenmode = 1 # 0 = stationary distribution\n",
    "vectors = M.eigenvectors_left()\n",
    "value = M.eigenvalues()\n",
    "#print M.timescales()[:10] \n",
    "#print -msm_lag/np.log(value[1])\n",
    "plt.xticks(fontsize=20)\n",
    "plt.yticks(fontsize=20)\n",
    "sc = plt.scatter(centers[:,0], centers[:,1], c=vectors[eigenmode][:], cmap=plt.cm.inferno, linewidths = 0, s=100)\n",
    "plt.colorbar()"
   ]
  },
  {
   "cell_type": "code",
   "execution_count": null,
   "metadata": {
    "collapsed": true
   },
   "outputs": [],
   "source": []
  }
 ],
 "metadata": {
  "kernelspec": {
   "display_name": "Python 2",
   "language": "python",
   "name": "python2"
  },
  "language_info": {
   "codemirror_mode": {
    "name": "ipython",
    "version": 2
   },
   "file_extension": ".py",
   "mimetype": "text/x-python",
   "name": "python",
   "nbconvert_exporter": "python",
   "pygments_lexer": "ipython2",
   "version": "2.7.12"
  }
 },
 "nbformat": 4,
 "nbformat_minor": 2
}

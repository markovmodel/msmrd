{
 "cells": [
  {
   "cell_type": "code",
   "execution_count": 1,
   "metadata": {
    "collapsed": false
   },
   "outputs": [],
   "source": [
    "import numpy as np\n",
    "import matplotlib.pyplot as plt\n",
    "import MSMRD as mrd\n",
    "import pickle\n",
    "import cython\n",
    "%matplotlib inline"
   ]
  },
  {
   "cell_type": "code",
   "execution_count": 2,
   "metadata": {
    "collapsed": false
   },
   "outputs": [],
   "source": [
    "traj = np.loadtxt('../data/2DmodifiedLJmultipleTrajsLongR4.txt')"
   ]
  },
  {
   "cell_type": "code",
   "execution_count": 3,
   "metadata": {
    "collapsed": false
   },
   "outputs": [
    {
     "name": "stdout",
     "output_type": "stream",
     "text": [
      "(1000000, 20)\n"
     ]
    }
   ],
   "source": [
    "print traj.shape\n",
    "trajs = []\n",
    "for i in range(0, 10):\n",
    "    trajs.append(traj[:,2*i:2*i+2])"
   ]
  },
  {
   "cell_type": "code",
   "execution_count": 4,
   "metadata": {
    "collapsed": false
   },
   "outputs": [],
   "source": [
    "ratios = np.zeros(10)\n",
    "k=0\n",
    "radiusA = 1.0\n",
    "radiusB = 2.3\n",
    "bs=[]\n",
    "for t in trajs:\n",
    "    b = np.ones(len(t), dtype=float)\n",
    "    absTraj = np.linalg.norm(t, axis=1)\n",
    "    if absTraj[0] <= radiusA:\n",
    "        b[0] = 0\n",
    "    else:\n",
    "        b[0] = 1\n",
    "    for j in range(1, len(t)):\n",
    "        if b[j-1] == 1:\n",
    "            if absTraj[j] <= radiusA:\n",
    "                b[j] =  0\n",
    "            else:\n",
    "                b[j] = 1\n",
    "        elif b[j-1] == 0:\n",
    "            if absTraj[j] >= radiusB:\n",
    "                b[j] = 1\n",
    "            else:\n",
    "                b[j] = 0\n",
    "    bs.append(b)"
   ]
  },
  {
   "cell_type": "code",
   "execution_count": 5,
   "metadata": {
    "collapsed": true
   },
   "outputs": [],
   "source": [
    "AtoBs = []\n",
    "BtoAs = []\n",
    "for b in bs:\n",
    "    transitions = b[1:]-b[:-1]\n",
    "    AtoB = np.where(transitions == 1)[0]\n",
    "    BtoA = np.where(transitions == -1)[0]\n",
    "    AtoBs.append(AtoB)\n",
    "    BtoAs.append(BtoA)"
   ]
  },
  {
   "cell_type": "code",
   "execution_count": 6,
   "metadata": {
    "collapsed": false
   },
   "outputs": [],
   "source": [
    "def transitionTimes(AtoB, BtoA):\n",
    "    if len(AtoB) == len(BtoA):\n",
    "        if AtoB[0] < BtoA[0]:\n",
    "            print \"case1\"\n",
    "            tauBtoA = BtoA - AtoB\n",
    "            tauAtoB = AtoB[1:] - BtoA[:-1]\n",
    "        else:\n",
    "            print \"case2\"\n",
    "            tauAtoB = AtoB - BtoA\n",
    "            tauBtoA = BtoA[1:] - AtoB[:-1]\n",
    "    elif len(AtoB)+1 == len(BtoA):\n",
    "        if AtoB[0] < BtoA[0]:\n",
    "            print \"case3\"\n",
    "            tauBtoA = BtoA[:-1] - AtoB\n",
    "            tauAtoB = AtoB[1:] - BtoA[:-2]\n",
    "        else:\n",
    "            print \"case4\"\n",
    "            tauAtoB = AtoB - BtoA[:-1]\n",
    "            tauBtoA = BtoA[1:] - AtoB\n",
    "    elif len(AtoB)-1 == len(BtoA):\n",
    "        if AtoB[0] < BtoA[0]:\n",
    "            print \"case5\"\n",
    "            tauBtoA = BtoA - AtoB[:-1]\n",
    "            tauAtoB = AtoB[1:] - BtoA\n",
    "        else:\n",
    "            print \"case6\"\n",
    "            tauAtoB = AtoB[:-1] - BtoA\n",
    "            tauBtoA = BtoA[1:-1] - AtoB[:-2]\n",
    "    else:\n",
    "        return None\n",
    "    return tauAtoB, tauBtoA"
   ]
  },
  {
   "cell_type": "code",
   "execution_count": 7,
   "metadata": {
    "collapsed": false
   },
   "outputs": [
    {
     "name": "stdout",
     "output_type": "stream",
     "text": [
      "case4\n",
      "case2\n",
      "case2\n",
      "case2\n",
      "case2\n",
      "case2\n",
      "case2\n",
      "case2\n",
      "case2\n",
      "case2\n"
     ]
    }
   ],
   "source": [
    "tauAtoBs = []\n",
    "tauBtoAs = []\n",
    "for i in range(0, len(AtoBs)):\n",
    "    tauAtoB, tauBtoA = transitionTimes(AtoBs[i], BtoAs[i])\n",
    "    tauAtoBs.append(tauAtoB)\n",
    "    tauBtoAs.append(tauBtoA)"
   ]
  },
  {
   "cell_type": "code",
   "execution_count": 8,
   "metadata": {
    "collapsed": false
   },
   "outputs": [],
   "source": [
    "timestep = 0.01\n",
    "meanTauAtoB = [np.mean(tauAtoB*timestep) for tauAtoB in tauAtoBs]\n",
    "meanTauBtoA = [np.mean(tauBtoA*timestep) for tauBtoA in tauBtoAs]\n",
    "stdTauAtoB = [np.std(tauAtoB*timestep) for tauAtoB in tauAtoBs]\n",
    "stdTauBtoA = [np.std(tauBtoA*timestep) for tauBtoA in tauBtoAs]\n",
    "statDistrs = [np.sum(b)/float(len(b)) for b in bs]"
   ]
  },
  {
   "cell_type": "code",
   "execution_count": 9,
   "metadata": {
    "collapsed": false
   },
   "outputs": [
    {
     "name": "stdout",
     "output_type": "stream",
     "text": [
      "Mean BtoA:  7.29575442754\n",
      "Mean AtoB:  1.10257840476\n",
      "Std BtoA:  7.76817940468\n",
      "Std BtoA:  0.864093863211\n",
      "Ratio:  6.61699376303\n",
      "Ratio:  8.98997173271\n",
      "Stat Distr:  0.8686724\n"
     ]
    }
   ],
   "source": [
    "timestep = 0.01\n",
    "print 'Mean BtoA: ',np.mean(meanTauBtoA) \n",
    "print 'Mean AtoB: ',np.mean(meanTauAtoB) \n",
    "print 'Std BtoA: ',np.mean(stdTauBtoA)\n",
    "print 'Std BtoA: ',np.mean(stdTauAtoB)\n",
    "print 'Ratio: ',np.mean(meanTauBtoA)/np.mean(meanTauAtoB)\n",
    "print 'Ratio: ',np.mean(stdTauBtoA)/np.mean(stdTauAtoB)\n",
    "print 'Stat Distr: ' ,np.mean(statDistrs)"
   ]
  },
  {
   "cell_type": "code",
   "execution_count": null,
   "metadata": {
    "collapsed": true
   },
   "outputs": [],
   "source": []
  }
 ],
 "metadata": {
  "kernelspec": {
   "display_name": "Python 2",
   "language": "python",
   "name": "python2"
  },
  "language_info": {
   "codemirror_mode": {
    "name": "ipython",
    "version": 2
   },
   "file_extension": ".py",
   "mimetype": "text/x-python",
   "name": "python",
   "nbconvert_exporter": "python",
   "pygments_lexer": "ipython2",
   "version": "2.7.12"
  }
 },
 "nbformat": 4,
 "nbformat_minor": 0
}

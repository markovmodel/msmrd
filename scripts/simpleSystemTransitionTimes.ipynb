{
 "cells": [
  {
   "cell_type": "code",
   "execution_count": 1,
   "metadata": {
    "collapsed": true
   },
   "outputs": [],
   "source": [
    "import numpy as np\n",
    "import pyemma\n",
    "import matplotlib.pyplot as plt\n",
    "import pyemma.plots as mplt\n",
    "%matplotlib inline"
   ]
  },
  {
   "cell_type": "code",
   "execution_count": 4,
   "metadata": {
    "collapsed": false
   },
   "outputs": [],
   "source": [
    "T = np.array([[0.2, 0.4, 0.4], [0.3, 0.4, 0.3], [0.5, 0.5, 0.0]])"
   ]
  },
  {
   "cell_type": "code",
   "execution_count": 5,
   "metadata": {
    "collapsed": false
   },
   "outputs": [],
   "source": [
    "MSM = pyemma.msm.markov_model(T)"
   ]
  },
  {
   "cell_type": "code",
   "execution_count": 6,
   "metadata": {
    "collapsed": true
   },
   "outputs": [],
   "source": [
    "pyemmaMTT = np.zeros((3,3))\n",
    "for i in range(3):\n",
    "    for j in range(3):\n",
    "        pyemmaMTT[i,j] = MSM.mfpt(i,j)"
   ]
  },
  {
   "cell_type": "code",
   "execution_count": 7,
   "metadata": {
    "collapsed": true
   },
   "outputs": [],
   "source": [
    "length = 10000000"
   ]
  },
  {
   "cell_type": "code",
   "execution_count": 8,
   "metadata": {
    "collapsed": false
   },
   "outputs": [],
   "source": [
    "traj = np.zeros(length, dtype = int)\n",
    "for i in range(1, length):\n",
    "    traj[i] = np.random.choice(np.arange(3), p=T[traj[i-1], :])"
   ]
  },
  {
   "cell_type": "code",
   "execution_count": 9,
   "metadata": {
    "collapsed": true
   },
   "outputs": [],
   "source": [
    "def computeMeanTransitionTimes(dTrajs, timestep, Nstates):\n",
    "    sumTau = np.zeros((Nstates, Nstates))\n",
    "    counts = np.zeros((Nstates, Nstates))\n",
    "    for dTraj in dTrajs:\n",
    "        i = 0\n",
    "        tau = 0\n",
    "        statesVisited = [dTraj[0]]\n",
    "        transitionFrom = dTraj[0]\n",
    "        nextTransitionIndex = -1\n",
    "        while i<len(dTraj)-1:\n",
    "            i += 1\n",
    "            tau += 1\n",
    "            if dTraj[i] != dTraj[i-1]:\n",
    "                if len(statesVisited) == Nstates:\n",
    "                    transitionFrom = dTraj[nextTransitionIndex]\n",
    "                    statesVisited = [transitionFrom]\n",
    "                    i = nextTransitionIndex\n",
    "                    nextTransitionIndex = -1\n",
    "                    tau = 0\n",
    "                elif not np.in1d(dTraj[i], statesVisited):\n",
    "                    sumTau[transitionFrom, dTraj[i]] += tau\n",
    "                    counts[transitionFrom, dTraj[i]] += 1\n",
    "                    if nextTransitionIndex < 0:\n",
    "                        nextTransitionIndex = i\n",
    "                    statesVisited.append(dTraj[i])\n",
    "    meanTransitionTimes = np.zeros((Nstates, Nstates))\n",
    "    for i in range(0, Nstates):\n",
    "        for j in range(0, Nstates):\n",
    "            if counts[i,j] != 0:\n",
    "                meanTransitionTimes[i,j] = sumTau[i,j] / counts[i,j] * timestep\n",
    "    return meanTransitionTimes"
   ]
  },
  {
   "cell_type": "code",
   "execution_count": 20,
   "metadata": {
    "collapsed": false
   },
   "outputs": [],
   "source": [
    "MTT = computeMeanTransitionTimes([traj], 1., 3)"
   ]
  },
  {
   "cell_type": "code",
   "execution_count": 11,
   "metadata": {
    "collapsed": false
   },
   "outputs": [
    {
     "name": "stdout",
     "output_type": "stream",
     "text": [
      "[[ 0.          0.0009023  -0.0031473 ]\n",
      " [-0.00170312  0.         -0.00211872]\n",
      " [-0.00222391  0.00112339  0.        ]]\n"
     ]
    }
   ],
   "source": [
    "print MTT-pyemmaMTT"
   ]
  },
  {
   "cell_type": "code",
   "execution_count": 12,
   "metadata": {
    "collapsed": false
   },
   "outputs": [
    {
     "name": "stdout",
     "output_type": "stream",
     "text": [
      "estimating MaximumLikelihoodMSM: 100% (9/9) [######################] eta 00:00 -"
     ]
    }
   ],
   "source": [
    "its = pyemma.msm.its(traj, lags = 50)"
   ]
  },
  {
   "cell_type": "code",
   "execution_count": 14,
   "metadata": {
    "collapsed": false
   },
   "outputs": [
    {
     "data": {
      "text/plain": [
       "<matplotlib.axes._subplots.AxesSubplot at 0x7f3e57099ad0>"
      ]
     },
     "execution_count": 14,
     "metadata": {},
     "output_type": "execute_result"
    },
    {
     "data": {
      "image/png": "[encoded data removed]",
      "text/plain": [
       "<matplotlib.figure.Figure at 0x7f3e57068510>"
      ]
     },
     "metadata": {},
     "output_type": "display_data"
    }
   ],
   "source": [
    "mplt.plot_implied_timescales(its, ylog=False, units='steps', linewidth=2, dt=1)\n"
   ]
  },
  {
   "cell_type": "code",
   "execution_count": 13,
   "metadata": {
    "collapsed": false
   },
   "outputs": [],
   "source": [
    "M = pyemma.msm.estimate_markov_model(traj, 2, reversible=True)"
   ]
  },
  {
   "cell_type": "code",
   "execution_count": 14,
   "metadata": {
    "collapsed": false
   },
   "outputs": [],
   "source": [
    "estimatedMTT = np.zeros((3,3))\n",
    "for i in range(3):\n",
    "    for j in range(3):\n",
    "        estimatedMTT[i,j] = M.mfpt(i,j)"
   ]
  },
  {
   "cell_type": "code",
   "execution_count": 21,
   "metadata": {
    "collapsed": true
   },
   "outputs": [],
   "source": [
    "MTTstride = computeMeanTransitionTimes([traj[::2]], 2., 3)"
   ]
  },
  {
   "cell_type": "code",
   "execution_count": 26,
   "metadata": {
    "collapsed": false
   },
   "outputs": [
    {
     "name": "stdout",
     "output_type": "stream",
     "text": [
      "[[ 0.          2.31637103  6.42018996]\n",
      " [ 3.60114258  0.          5.7771839 ]\n",
      " [ 4.62779513  2.70030423  0.        ]]\n",
      "[[ 0.          0.00274594 -0.00451689]\n",
      " [ 0.01201939  0.         -0.00287622]\n",
      " [ 0.02621661  0.00409542  0.        ]]\n"
     ]
    }
   ],
   "source": [
    "print estimatedMTT - MTT #error HUGE\n",
    "print estimatedMTT - MTTstride #error small"
   ]
  },
  {
   "cell_type": "code",
   "execution_count": 27,
   "metadata": {
    "collapsed": true
   },
   "outputs": [],
   "source": [
    "import pyemma.datasets"
   ]
  },
  {
   "cell_type": "code",
   "execution_count": 39,
   "metadata": {
    "collapsed": true
   },
   "outputs": [],
   "source": [
    "double_well_data = pyemma.datasets.load_2well_discrete()\n",
    "dTrajs = double_well_data.generate_trajs(10, 1000000)"
   ]
  },
  {
   "cell_type": "code",
   "execution_count": 69,
   "metadata": {
    "collapsed": true
   },
   "outputs": [],
   "source": [
    "def milestoningDoubleWell(trajs):\n",
    "    dTrajs = []\n",
    "    for traj in trajs:\n",
    "        dTraj = np.zeros(len(traj), dtype=int)\n",
    "        for i in range(len(traj)):\n",
    "            if traj[i]<50:\n",
    "                dTraj[i] = 0\n",
    "            else:\n",
    "                dTraj[i] = 1\n",
    "        dTrajs.append(dTraj)\n",
    "    return dTrajs"
   ]
  },
  {
   "cell_type": "markdown",
   "metadata": {},
   "source": [
    "# Let's use the double well model implemented in pyEmma to have a better data set"
   ]
  },
  {
   "cell_type": "code",
   "execution_count": 72,
   "metadata": {
    "collapsed": false
   },
   "outputs": [],
   "source": [
    "discreteTrajs = milestoningDoubleWell(dTrajs)"
   ]
  },
  {
   "cell_type": "code",
   "execution_count": 77,
   "metadata": {
    "collapsed": false
   },
   "outputs": [
    {
     "name": "stdout",
     "output_type": "stream",
     "text": [
      "estimating MaximumLikelihoodMSM: 100% (16/16) [####################] eta 00:01 |"
     ]
    }
   ],
   "source": [
    "its = pyemma.msm.its(discreteTrajs, lags = 1000)"
   ]
  },
  {
   "cell_type": "code",
   "execution_count": 78,
   "metadata": {
    "collapsed": false
   },
   "outputs": [
    {
     "data": {
      "text/plain": [
       "<matplotlib.axes._subplots.AxesSubplot at 0x7f3e55447b10>"
      ]
     },
     "execution_count": 78,
     "metadata": {},
     "output_type": "execute_result"
    },
    {
     "data": {
      "image/png": "[encoded data removed]",
      "text/plain": [
       "<matplotlib.figure.Figure at 0x7f3e55467c50>"
      ]
     },
     "metadata": {},
     "output_type": "display_data"
    }
   ],
   "source": [
    "mplt.plot_implied_timescales(its, ylog=False, units='steps', linewidth=2, dt=1)"
   ]
  },
  {
   "cell_type": "markdown",
   "metadata": {},
   "source": [
    "Lagtime of 500 seems to be alright"
   ]
  },
  {
   "cell_type": "code",
   "execution_count": 81,
   "metadata": {
    "collapsed": true
   },
   "outputs": [],
   "source": [
    "MSM = pyemma.msm.estimate_markov_model(discreteTrajs, 500, reversible=True)"
   ]
  },
  {
   "cell_type": "markdown",
   "metadata": {},
   "source": [
    "Compute mean transition times straight from markov model using pyemma"
   ]
  },
  {
   "cell_type": "code",
   "execution_count": 82,
   "metadata": {
    "collapsed": true
   },
   "outputs": [],
   "source": [
    "doubleWellMFPT = np.zeros((2,2))\n",
    "for i in range(2):\n",
    "    for j in range(2):\n",
    "        doubleWellMFPT[i,j] = MSM.mfpt(i,j)"
   ]
  },
  {
   "cell_type": "markdown",
   "metadata": {},
   "source": [
    "Do a CK test, because we can. Results seems to be alright."
   ]
  },
  {
   "cell_type": "code",
   "execution_count": 84,
   "metadata": {
    "collapsed": false
   },
   "outputs": [
    {
     "name": "stdout",
     "output_type": "stream",
     "text": [
      "estimating MaximumLikelihoodMSM: 100% (9/9) [######################] eta 00:00 |"
     ]
    }
   ],
   "source": [
    "doubleWellCKTest = MSM.cktest(2)"
   ]
  },
  {
   "cell_type": "code",
   "execution_count": 86,
   "metadata": {
    "collapsed": false
   },
   "outputs": [
    {
     "data": {
      "text/plain": [
       "(<matplotlib.figure.Figure at 0x7f3e5710d590>,\n",
       " array([[<matplotlib.axes._subplots.AxesSubplot object at 0x7f3e570c5550>,\n",
       "         <matplotlib.axes._subplots.AxesSubplot object at 0x7f3e55303990>],\n",
       "        [<matplotlib.axes._subplots.AxesSubplot object at 0x7f3e5526fed0>,\n",
       "         <matplotlib.axes._subplots.AxesSubplot object at 0x7f3e551fc050>]], dtype=object))"
      ]
     },
     "execution_count": 86,
     "metadata": {},
     "output_type": "execute_result"
    },
    {
     "data": {
      "image/png": "[encoded data removed]",
      "text/plain": [
       "<matplotlib.figure.Figure at 0x7f3e5710d590>"
      ]
     },
     "metadata": {},
     "output_type": "display_data"
    }
   ],
   "source": [
    "mplt.plot_cktest(doubleWellCKTest)"
   ]
  },
  {
   "cell_type": "markdown",
   "metadata": {},
   "source": [
    "Compute mean transition times directly from the trajectory.\n",
    "Here we see, that we are only able to reproduce the MTT of the markov model if we use a stride corresoponding to the lag time of the MSM. "
   ]
  },
  {
   "cell_type": "code",
   "execution_count": 93,
   "metadata": {
    "collapsed": false
   },
   "outputs": [],
   "source": [
    "stridedDTrajs = []\n",
    "stride = 500\n",
    "for traj in discreteTrajs:\n",
    "    stridedDTraj = traj[::500]\n",
    "    stridedDTrajs.append(stridedDTraj)"
   ]
  },
  {
   "cell_type": "code",
   "execution_count": 101,
   "metadata": {
    "collapsed": false
   },
   "outputs": [],
   "source": [
    "doubleWellMFPTstrided = computeMeanTransitionTimes(stridedDTrajs, 500, 2)\n",
    "doubleWellMFPTdirect = computeMeanTransitionTimes(discreteTrajs, 1, 2)"
   ]
  },
  {
   "cell_type": "markdown",
   "metadata": {},
   "source": [
    "In this case there is one order of magnitute between the strieded and non-strided version of the mean first passage times."
   ]
  },
  {
   "cell_type": "code",
   "execution_count": 102,
   "metadata": {
    "collapsed": false
   },
   "outputs": [
    {
     "name": "stdout",
     "output_type": "stream",
     "text": [
      "[[   0.          444.68678673]\n",
      " [ 444.01087441    0.        ]]\n"
     ]
    }
   ],
   "source": [
    "print doubleWellMFPTdirect"
   ]
  },
  {
   "cell_type": "code",
   "execution_count": 103,
   "metadata": {
    "collapsed": false
   },
   "outputs": [
    {
     "name": "stdout",
     "output_type": "stream",
     "text": [
      "[[    0.          5645.59274387]\n",
      " [ 5621.92639314     0.        ]]\n"
     ]
    }
   ],
   "source": [
    "print doubleWellMFPT"
   ]
  },
  {
   "cell_type": "markdown",
   "metadata": {},
   "source": [
    "If we take the same lagtime between data points as in the markov model, both computational approaches seem to match neatly"
   ]
  },
  {
   "cell_type": "code",
   "execution_count": 99,
   "metadata": {
    "collapsed": false
   },
   "outputs": [
    {
     "name": "stdout",
     "output_type": "stream",
     "text": [
      "[[        nan -0.0044214 ]\n",
      " [-0.00388015         nan]]\n"
     ]
    },
    {
     "name": "stderr",
     "output_type": "stream",
     "text": [
      "/srv/public/dibakma/miniconda2/lib/python2.7/site-packages/ipykernel/__main__.py:1: RuntimeWarning: invalid value encountered in divide\n",
      "  if __name__ == '__main__':\n"
     ]
    }
   ],
   "source": [
    "print (doubleWellMFPTdirect - doubleWellMFPT)/doubleWellMFPT"
   ]
  },
  {
   "cell_type": "markdown",
   "metadata": {},
   "source": [
    "Let's have a look, how the MFPTs behave with increasing lagtime. This looks awefully alot like the implied timescale plot. In this case, the timescales seem to coincide."
   ]
  },
  {
   "cell_type": "code",
   "execution_count": 110,
   "metadata": {
    "collapsed": false
   },
   "outputs": [],
   "source": [
    "MTTs = []\n",
    "for stride in range(1, 1001, 50):\n",
    "    stridedDTrajs = []\n",
    "    for traj in discreteTrajs:\n",
    "        stridedDTraj = traj[::stride]\n",
    "        stridedDTrajs.append(stridedDTraj)\n",
    "    MTTs.append(computeMeanTransitionTimes(stridedDTrajs, stride, 2))"
   ]
  },
  {
   "cell_type": "code",
   "execution_count": 111,
   "metadata": {
    "collapsed": false
   },
   "outputs": [
    {
     "data": {
      "image/png": "[encoded data removed]",
      "text/plain": [
       "<matplotlib.figure.Figure at 0x7f3e54bb2150>"
      ]
     },
     "metadata": {},
     "output_type": "display_data"
    }
   ],
   "source": [
    "for i in range(len(MTTs)):\n",
    "    plt.scatter(i*50+1, MTTs[i][0,1])\n",
    "    plt.scatter(i*50+1, MTTs[i][1,0])"
   ]
  },
  {
   "cell_type": "markdown",
   "metadata": {},
   "source": [
    "This means that in order to compare results between the two approaches, we have to stride the data according to the lagtime of the markov state model."
   ]
  },
  {
   "cell_type": "markdown",
   "metadata": {},
   "source": [
    "In this computation we count our mean transition times from the point in time at which we enter a state i until we reach a state  j. This might introduce a bias.\n",
    "When thinking in terms of the original data, entereing state i from another state k has an influence on the probability of the next step, as at the original timestep, the data is not markovian.\n",
    "In the simple double well potential, entering one state happens at the boundary. From this boundary, there is a higher probability of going back to the original state, than from anywhere else in this state, especially, there might occcur multiple recrossings, before the particle relaxes into one potential well.\n",
    "When using a higher timestep, these recrossings are lost in the higher resolution. Thus resolving in a higher MFPT."
   ]
  },
  {
   "cell_type": "markdown",
   "metadata": {},
   "source": [
    "In order to compute the correct MFPT on the original data, we have to count all transitions from i to j, even if the particle stays in i for a while before going anywhere else. This ensures, that we sample from the correct distribution in state and not restrict ourselves to picking trajectories only from the boundary."
   ]
  },
  {
   "cell_type": "code",
   "execution_count": null,
   "metadata": {
    "collapsed": true
   },
   "outputs": [],
   "source": []
  }
 ],
 "metadata": {
  "kernelspec": {
   "display_name": "Python 2",
   "language": "python",
   "name": "python2"
  },
  "language_info": {
   "codemirror_mode": {
    "name": "ipython",
    "version": 2
   },
   "file_extension": ".py",
   "mimetype": "text/x-python",
   "name": "python",
   "nbconvert_exporter": "python",
   "pygments_lexer": "ipython2",
   "version": "2.7.12"
  }
 },
 "nbformat": 4,
 "nbformat_minor": 0
}

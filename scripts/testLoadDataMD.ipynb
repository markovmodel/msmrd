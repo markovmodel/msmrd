{
 "cells": [
  {
   "cell_type": "code",
   "execution_count": 1,
   "metadata": {
    "collapsed": false,
    "deletable": true,
    "editable": true
   },
   "outputs": [],
   "source": [
    "%matplotlib inline\n",
    "import numpy as np\n",
    "import pyemma\n",
    "import pyemma.plots as mplt\n",
    "import matplotlib.pyplot as plt\n",
    "from mpl_toolkits.mplot3d import Axes3D\n",
    "from ipywidgets import interact\n",
    "import ipywidgets as widgets"
   ]
  },
  {
   "cell_type": "code",
   "execution_count": 2,
   "metadata": {
    "collapsed": false,
    "deletable": true,
    "editable": true
   },
   "outputs": [
    {
     "name": "stderr",
     "output_type": "stream",
     "text": [
      "/home/maojrs/miniconda2/lib/python2.7/site-packages/pyemma/__init__.py:91: UserWarning: You are not using the latest release of PyEMMA. Latest is 2.4, you have 2.3.2.\n",
      "  .format(latest=latest, current=current), category=UserWarning)\n"
     ]
    },
    {
     "data": {
      "application/vnd.jupyter.widget-view+json": {
       "model_id": "91d1fe40b53646c7b5aba3e6ec28d8f6"
      }
     },
     "metadata": {},
     "output_type": "display_data"
    }
   ],
   "source": [
    "files = ['../data/mddata/myoWT-co_amber03_tip3p_npt465.xtc'] \n",
    "output = pyemma.coordinates.load(files, stride=1, chunk_size=100, top='../data/mddata/myoWT-co_amber03_tip3p.pdb') "
   ]
  },
  {
   "cell_type": "code",
   "execution_count": 3,
   "metadata": {
    "collapsed": false,
    "deletable": true,
    "editable": true
   },
   "outputs": [],
   "source": [
    "numAtoms = len(output[0])/3\n",
    "numMGAtoms = 2463\n",
    "numHEMAtoms = 2537 - numMGAtoms\n",
    "numCOAtoms = numAtoms - 2537\n",
    "#t=np.random.rand(numMGAtoms)\n",
    "t=np.ones(numMGAtoms)\n",
    "t=np.append(t,0.5*np.ones(numHEMAtoms))\n",
    "t=np.append(t,np.zeros(numCOAtoms))\n",
    "def plotAtoms(frame):\n",
    "    fig = plt.figure(figsize=[9,9])\n",
    "    ax = fig.gca(projection='3d')\n",
    "    xx=[]; yy=[]; zz=[]\n",
    "    for i in range(numAtoms):\n",
    "        xx.append(output[frame][i*3])\n",
    "        yy.append(output[frame][i*3+1])\n",
    "        zz.append(output[frame][i*3+2])\n",
    "    ax.scatter(xx,yy,zz,'.',c=t, cmap='jet')\n",
    "    ax.set_xlim3d([0,5])\n",
    "    ax.set_ylim3d([0,5])\n",
    "    ax.set_zlim3d([0,5])\n",
    "    plt.show()"
   ]
  },
  {
   "cell_type": "code",
   "execution_count": 4,
   "metadata": {
    "collapsed": false,
    "deletable": true,
    "editable": true
   },
   "outputs": [
    {
     "data": {
      "application/vnd.jupyter.widget-view+json": {
       "model_id": "7ed6a334d12f431281e4ad0f371dd434"
      }
     },
     "metadata": {},
     "output_type": "display_data"
    }
   ],
   "source": [
    "maxFrame = len(output)-1\n",
    "interact(plotAtoms, frame=widgets.IntSlider(min=0,max=maxFrame,step=1,value=0));"
   ]
  },
  {
   "cell_type": "code",
   "execution_count": null,
   "metadata": {
    "collapsed": true,
    "deletable": true,
    "editable": true
   },
   "outputs": [],
   "source": []
  }
 ],
 "metadata": {
  "kernelspec": {
   "display_name": "Python 2",
   "language": "python",
   "name": "python2"
  },
  "language_info": {
   "codemirror_mode": {
    "name": "ipython",
    "version": 2
   },
   "file_extension": ".py",
   "mimetype": "text/x-python",
   "name": "python",
   "nbconvert_exporter": "python",
   "pygments_lexer": "ipython2",
   "version": "2.7.12"
  }
 },
 "nbformat": 4,
 "nbformat_minor": 2
}

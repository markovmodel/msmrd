{
 "cells": [
  {
   "cell_type": "code",
   "execution_count": 1,
   "metadata": {
    "collapsed": false,
    "deletable": true,
    "editable": true
   },
   "outputs": [],
   "source": [
    "%matplotlib inline\n",
    "import numpy as np\n",
    "import pyemma\n",
    "import pyemma.plots as mplt\n",
    "import matplotlib.pyplot as plt\n",
    "from mpl_toolkits.mplot3d import Axes3D\n",
    "from ipywidgets import interact\n",
    "import ipywidgets as widgets"
   ]
  },
  {
   "cell_type": "code",
   "execution_count": 2,
   "metadata": {
    "collapsed": false,
    "deletable": true,
    "editable": true
   },
   "outputs": [
    {
     "name": "stderr",
     "output_type": "stream",
     "text": [
      "/home/maojrs/miniconda2/lib/python2.7/site-packages/pyemma/__init__.py:91: UserWarning: You are not using the latest release of PyEMMA. Latest is 2.4, you have 2.3.2.\n",
      "  .format(latest=latest, current=current), category=UserWarning)\n"
     ]
    },
    {
     "data": {
      "application/vnd.jupyter.widget-view+json": {
       "model_id": "c4f27aa451144d7c8bdfe7d499d9ff1c"
      }
     },
     "metadata": {},
     "output_type": "display_data"
    }
   ],
   "source": [
    "files = ['/srv/public/data/dibakma/MSMRD/myoglobine/myoWT-co_amber03_tip3p_npt465.xtc']#['../data/mddata/myoWT-co_amber03_tip3p_npt465.xtc'] \n",
    "output = pyemma.coordinates.load(files, stride=10, chunk_size=1000, top='/srv/public/data/dibakma/MSMRD/myoglobine/myoWT-co_amber03_tip3p.pdb') #'../data/mddata/myoWT-co_amber03_tip3p.pdb') "
   ]
  },
  {
   "cell_type": "code",
   "execution_count": 3,
   "metadata": {
    "collapsed": false,
    "deletable": true,
    "editable": true
   },
   "outputs": [],
   "source": [
    "numAtoms = len(output[0])/3\n",
    "numMGAtoms = 2463\n",
    "numHEMAtoms = 2537 - numMGAtoms\n",
    "numCOAtoms = numAtoms - 2537\n",
    "#t=np.random.rand(numMGAtoms)\n",
    "t=np.ones(numMGAtoms)\n",
    "t=np.append(t,0.5*np.ones(numHEMAtoms))\n",
    "t=np.append(t,np.zeros(numCOAtoms))\n",
    "def plotAtoms(frame):\n",
    "    fig = plt.figure(figsize=[9,9])\n",
    "    ax = fig.gca(projection='3d')\n",
    "    xx=[]; yy=[]; zz=[]\n",
    "    for i in range(numAtoms):\n",
    "        xx.append(output[frame][i*3])\n",
    "        yy.append(output[frame][i*3+1])\n",
    "        zz.append(output[frame][i*3+2])\n",
    "    ax.scatter(xx,yy,zz,'.',c=t, cmap='jet')\n",
    "    ax.set_xlim3d([0,5])\n",
    "    ax.set_ylim3d([0,5])\n",
    "    ax.set_zlim3d([0,5])\n",
    "    plt.show()"
   ]
  },
  {
   "cell_type": "code",
   "execution_count": 4,
   "metadata": {
    "collapsed": false,
    "deletable": true,
    "editable": true
   },
   "outputs": [
    {
     "data": {
      "application/vnd.jupyter.widget-view+json": {
       "model_id": "7a9222ee8f014848a2fd318b6dc557a5"
      }
     },
     "metadata": {},
     "output_type": "display_data"
    }
   ],
   "source": [
    "maxFrame = len(output)-1\n",
    "interact(plotAtoms, frame=widgets.IntSlider(min=0,max=maxFrame,step=1,value=0));"
   ]
  },
  {
   "cell_type": "code",
   "execution_count": null,
   "metadata": {
    "collapsed": true,
    "deletable": true,
    "editable": true
   },
   "outputs": [],
   "source": [
    "import mdtraj as md"
   ]
  },
  {
   "cell_type": "code",
   "execution_count": 18,
   "metadata": {
    "collapsed": false
   },
   "outputs": [],
   "source": [
    "filefolder = '../data/mddata/'\n",
    "mdtraj = md.load(filefolder + 'myoWT-co_amber03_tip3p.pdb')\n",
    "#fullmdtraj = md.load_xtc(filefolder + 'myoWT-co_amber03_tip3p_npt465.xtc', top=filefolder + 'myoWT-co_amber03_tip3p.pdb', stride = 250000)"
   ]
  },
  {
   "cell_type": "code",
   "execution_count": 28,
   "metadata": {
    "collapsed": false
   },
   "outputs": [
    {
     "data": {
      "text/plain": [
       "array([[ 2.52557871,  2.48938278,  2.48597516]])"
      ]
     },
     "execution_count": 28,
     "metadata": {},
     "output_type": "execute_result"
    }
   ],
   "source": [
    "protTopo = mdtraj.topology.select(\"backbone\")\n",
    "md.compute_center_of_mass(mdtraj)"
   ]
  },
  {
   "cell_type": "code",
   "execution_count": 30,
   "metadata": {
    "collapsed": false
   },
   "outputs": [
    {
     "name": "stdout",
     "output_type": "stream",
     "text": [
      "2596 174\n"
     ]
    }
   ],
   "source": [
    "print mdtraj.n_atoms, mdtraj.n_residues"
   ]
  },
  {
   "cell_type": "code",
   "execution_count": null,
   "metadata": {
    "collapsed": true
   },
   "outputs": [],
   "source": []
  }
 ],
 "metadata": {
  "kernelspec": {
   "display_name": "Python 2",
   "language": "python",
   "name": "python2"
  },
  "language_info": {
   "codemirror_mode": {
    "name": "ipython",
    "version": 2
   },
   "file_extension": ".py",
   "mimetype": "text/x-python",
   "name": "python",
   "nbconvert_exporter": "python",
   "pygments_lexer": "ipython2",
   "version": "2.7.12"
  }
 },
 "nbformat": 4,
 "nbformat_minor": 2
}
